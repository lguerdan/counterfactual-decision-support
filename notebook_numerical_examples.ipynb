{
 "cells": [
  {
   "cell_type": "code",
   "execution_count": 1,
   "id": "9de254e3",
   "metadata": {},
   "outputs": [],
   "source": [
    "import numpy as np"
   ]
  },
  {
   "cell_type": "code",
   "execution_count": 7,
   "id": "7e61a0c0",
   "metadata": {},
   "outputs": [],
   "source": [
    "def get_obs_rates(pi, alpha_0, alpha_1, beta_0, beta_1, rho_0, rho_1):\n",
    "\n",
    "    alpha = ((1-pi)*alpha_0*(1-rho_0) + pi*alpha_1*(1-rho_1))/((1-pi)*(1-rho_0) + pi*(1-rho_1))\n",
    "    beta = ((1-pi)*beta_0*rho_0+pi*beta_1*rho_1)/((1-pi)*rho_0 + pi*rho_1)\n",
    "    \n",
    "    return alpha, beta"
   ]
  },
  {
   "cell_type": "code",
   "execution_count": 22,
   "id": "0a110638",
   "metadata": {},
   "outputs": [
    {
     "name": "stdout",
     "output_type": "stream",
     "text": [
      "Group A: 0.07857142857142858, 0.2333333333333333\n",
      "Group B: 0.07647058823529411, 0.08333333333333334\n"
     ]
    }
   ],
   "source": []
  },
  {
   "cell_type": "code",
   "execution_count": null,
   "id": "41ed9a01",
   "metadata": {},
   "outputs": [],
   "source": []
  },
  {
   "cell_type": "markdown",
   "id": "d2a914ed",
   "metadata": {},
   "source": [
    "### Figure out way of returning the same observational error rate dispite:  \n",
    "- Measurement error, same selection rate and outcome ratio\n",
    "- No measurement error, different selection rate, same outcome ratio\n",
    "- No measurement error, same selection rate, different outcome ratio"
   ]
  },
  {
   "cell_type": "code",
   "execution_count": null,
   "id": "07936a30",
   "metadata": {},
   "outputs": [],
   "source": []
  },
  {
   "cell_type": "markdown",
   "id": "56a558c3",
   "metadata": {},
   "source": [
    "## Yes measurment error, no selection rates, no treatment effect ratio"
   ]
  },
  {
   "cell_type": "code",
   "execution_count": 72,
   "id": "3ec3cc46",
   "metadata": {},
   "outputs": [
    {
     "name": "stdout",
     "output_type": "stream",
     "text": [
      "White: alpha-0.07647058823529411, beta-0.08333333333333334\n",
      "Black: alpha-0.07857142857142858, beta-0.2333333333333333\n"
     ]
    },
    {
     "data": {
      "text/plain": [
       "0.14999999999999997"
      ]
     },
     "execution_count": 72,
     "metadata": {},
     "output_type": "execute_result"
    }
   ],
   "source": [
    "alpha_white, beta_b = get_obs_rates(pi=.5, alpha_0=.05, alpha_1=.1, beta_0=.1, beta_1=.05, rho_0=.2, rho_1=.1)\n",
    "alpha_a, beta_a = get_obs_rates(pi=.5, alpha_0=.05, alpha_1=.1, beta_0=.3, beta_1=.1, rho_0=.4, rho_1=.2)\n",
    "\n",
    "print(f'White: alpha-{alpha_b}, beta-{beta_b}')\n",
    "print(f'Black: alpha-{alpha_a}, beta-{beta_a}')\n",
    "\n",
    "# Observed disproportionality\n",
    "beta_a-beta_b"
   ]
  },
  {
   "cell_type": "markdown",
   "id": "67cdd8e2",
   "metadata": {},
   "source": [
    "### No measurment error, yes selection rates, no treatment effect ratio"
   ]
  },
  {
   "cell_type": "code",
   "execution_count": 74,
   "id": "1f38fef8",
   "metadata": {},
   "outputs": [
    {
     "name": "stdout",
     "output_type": "stream",
     "text": [
      "White: alpha=0.09500000000000001, beta=0.42000000000000004\n",
      "Black: alpha=0.0575, beta=0.5700000000000001\n"
     ]
    },
    {
     "data": {
      "text/plain": [
       "0.15000000000000002"
      ]
     },
     "execution_count": 74,
     "metadata": {},
     "output_type": "execute_result"
    }
   ],
   "source": [
    "alpha_white, beta_white = get_obs_rates(pi=.9, alpha_0=.05, alpha_1=.1, beta_0=.6, beta_1=.4, rho_0=.5, rho_1=.5)\n",
    "alpha_black, beta_black = get_obs_rates(pi=.15, alpha_0=.05, alpha_1=.1, beta_0=.6, beta_1=.4, rho_0=.5, rho_1=.5)\n",
    "\n",
    "print(f'White: alpha={alpha_white}, beta={beta_white}')\n",
    "print(f'Black: alpha={alpha_black}, beta={beta_black}')\n",
    "\n",
    "beta_black-beta_white"
   ]
  },
  {
   "cell_type": "markdown",
   "id": "b668a359",
   "metadata": {},
   "source": [
    "### No measurment error, no selection rates, yes treatment effect ratio"
   ]
  },
  {
   "cell_type": "code",
   "execution_count": 79,
   "id": "966bbcb2",
   "metadata": {},
   "outputs": [
    {
     "name": "stdout",
     "output_type": "stream",
     "text": [
      "White: alpha=0.07647058823529411, beta=0.6333333333333333\n",
      "Black: alpha=0.07938144329896907, beta=0.6871559633027523\n"
     ]
    },
    {
     "data": {
      "text/plain": [
       "0.053822629969419"
      ]
     },
     "execution_count": 79,
     "metadata": {},
     "output_type": "execute_result"
    }
   ],
   "source": [
    "alpha_white, beta_white = get_obs_rates(pi=.5, alpha_0=.05, alpha_1=.1, beta_0=.9, beta_1=.1, rho_0=.2, rho_1=.1)\n",
    "alpha_black, beta_black = get_obs_rates(pi=.5, alpha_0=.05, alpha_1=.1, beta_0=.9, beta_1=.1, rho_0=.4, rho_1=.145)\n",
    "\n",
    "print(f'White: alpha={alpha_white}, beta={beta_white}')\n",
    "print(f'Black: alpha={alpha_black}, beta={beta_black}')\n",
    "beta_black-beta_white"
   ]
  },
  {
   "cell_type": "code",
   "execution_count": null,
   "id": "6af9bcf7",
   "metadata": {},
   "outputs": [],
   "source": []
  }
 ],
 "metadata": {
  "kernelspec": {
   "display_name": "10701-Project",
   "language": "python",
   "name": "10701-project"
  },
  "language_info": {
   "codemirror_mode": {
    "name": "ipython",
    "version": 3
   },
   "file_extension": ".py",
   "mimetype": "text/x-python",
   "name": "python",
   "nbconvert_exporter": "python",
   "pygments_lexer": "ipython3",
   "version": "3.9.8"
  }
 },
 "nbformat": 4,
 "nbformat_minor": 5
}
