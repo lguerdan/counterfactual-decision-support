{
 "cells": [
  {
   "cell_type": "code",
   "execution_count": 1,
   "id": "d325d1cf",
   "metadata": {},
   "outputs": [],
   "source": [
    "import numpy as np\n",
    "import pandas as pd\n",
    "\n",
    "from benchmarks.synthetic import *"
   ]
  },
  {
   "cell_type": "code",
   "execution_count": 2,
   "id": "ec7cfae5",
   "metadata": {},
   "outputs": [
    {
     "data": {
      "text/plain": [
       "(5000,)"
      ]
     },
     "execution_count": 2,
     "metadata": {},
     "output_type": "execute_result"
    }
   ],
   "source": [
    "x = np.random.uniform(low=-1, high=1, size=(5000, 2))\n",
    "\n",
    "eta(x, environment='2D_linsep_baseline').shape\n",
    "\n",
    "pi(x, func='6cov_linear').shape\n",
    "    "
   ]
  },
  {
   "cell_type": "code",
   "execution_count": 3,
   "id": "7db8c770",
   "metadata": {},
   "outputs": [],
   "source": [
    "x = np.random.uniform(low=-1, high=1, size=(5000, 3))\n",
    "error_params = {\n",
    "    'alpha_0': 0.4,\n",
    "    'alpha_1': 0.1,\n",
    "    'beta_0': 0.05,\n",
    "    'beta_1': 0.3 \n",
    "}\n",
    "\n",
    "syn_sinusoidal = {\n",
    "    'name': 'synthetic',\n",
    "    'NS': 5000,\n",
    "    'config': {\n",
    "        'function_class': '1D_sinusoidal',\n",
    "        'Y0_PDF': 'piecewise_sinusoid',\n",
    "        'Y1_PDF': 'low_base_rate_sinusoid',\n",
    "        'PI_PDF': 'linear'\n",
    "    }\n",
    "}\n",
    "\n",
    "syn_linsep = {\n",
    "    'name': 'synthetic',\n",
    "    'NS': 5000,\n",
    "    'config': {\n",
    "        'function_class': '2D_linsep',\n",
    "        'Y0_PDF': '2D_linsep_baseline',\n",
    "        'Y1_PDF': '2D_linsep_intervention',\n",
    "        'PI_PDF': '6cov_linear'\n",
    "    }\n",
    "}\n",
    "\n",
    "syn_shalt = {\n",
    "    'name': 'synthetic',\n",
    "    'NS': 5000,\n",
    "    'config': {\n",
    "        'function_class': '6D_shalt',\n",
    "        'Y0_PDF': 'shalt_6cov_baseline',\n",
    "        'Y1_PDF': 'shalt_6cov_intervention',\n",
    "        'PI_PDF': '6cov_linear'\n",
    "    }\n",
    "}"
   ]
  },
  {
   "cell_type": "code",
   "execution_count": 6,
   "id": "866404a6",
   "metadata": {},
   "outputs": [],
   "source": [
    "X, Y = generate_syn_data(syn_shalt, error_params)\n",
    "\n",
    "X, Y = generate_syn_data(syn_linsep, error_params)\n",
    "\n",
    "X, Y = generate_syn_data(syn_sinusoidal, error_params)\n"
   ]
  },
  {
   "cell_type": "code",
   "execution_count": 6,
   "id": "7ff6c973",
   "metadata": {},
   "outputs": [],
   "source": [
    "def generate_syn_data(env, NS, error_params, shuffle=True):  \n",
    "\n",
    "    # Define class probability functions\n",
    "\n",
    "    if env == '1D_sinusoidal':\n",
    "        x = np.random.uniform(low=-1, high=1, size=(NS, 1))\n",
    "    \n",
    "    elif env == '2D_linsep':\n",
    "        x = np.random.uniform(low=0, high=1, size=(NS, 2))\n",
    "\n",
    "    elif env == '6D_shalt':\n",
    "        x = np.random.uniform(low=0, high=1, size=(NS, 6))\n",
    "        \n",
    "    eta_star_0 = eta(x, environment=env['Y0_PDF'])\n",
    "    eta_star_1 = eta(x, environment=env['Y1_PDF'])\n",
    "\n",
    "    # Sample from target potential outcome class probability distributions\n",
    "    YS_0 = np.random.binomial(1, eta_star_0, size=NS)\n",
    "    YS_1 = np.random.binomial(1, eta_star_1, size=NS)\n",
    "    \n",
    "    Y_0 = np.zeros_like(YS_0)\n",
    "    Y_1 = np.zeros_like(YS_0)\n",
    "\n",
    "    alpha_0_errors = np.random.binomial(1, error_params['alpha_0'], size=NS)\n",
    "    alpha_1_errors = np.random.binomial(1, error_params['alpha_1'], size=NS)\n",
    "    beta_0_errors = np.random.binomial(1, error_params['beta_0'], size=NS)\n",
    "    beta_1_errors = np.random.binomial(1, error_params['beta_1'], size=NS)\n",
    "\n",
    "    Y_0[alpha_0_errors == 1] = 1\n",
    "    Y_0[beta_0_errors == 1] = 0\n",
    "    Y_1[alpha_1_errors == 1] = 1\n",
    "    Y_1[beta_1_errors == 1] = 0\n",
    "\n",
    "    # Apply consistency assumption to observe potential outcomes\n",
    "    YS = np.zeros(NS, dtype=np.int64)\n",
    "    Y = np.zeros_like(Y_0)\n",
    "\n",
    "    pD = pi(x, func=env['PI_PDF'])\n",
    "    D = np.random.binomial(1, pD, size=NS)\n",
    "    YS[D==0] = YS_0[D==0]\n",
    "    YS[D==1] = YS_1[D==1]\n",
    "\n",
    "    Y[D==0] = Y_0[D==0]\n",
    "    Y[D==1] = Y_1[D==1]\n",
    "        \n",
    "    dataset_y = {\n",
    "        'pYS_0': eta_star_0,\n",
    "        'pYS_1': eta_star_1,\n",
    "        'YS_0': YS_0,\n",
    "        'YS_1': YS_1,\n",
    "        'Y_0': Y_0,\n",
    "        'Y_1': Y_1,\n",
    "        'Y': Y,\n",
    "        'pD': pD,\n",
    "        'D': D,\n",
    "        'YS': YS\n",
    "    }\n",
    "\n",
    "    X, Y = pd.DataFrame(x), pd.DataFrame(dataset_y)\n",
    "   \n",
    "    if shuffle: \n",
    "        suffle_ix = permutation(X.index)\n",
    "        X = X.iloc[suffle_ix]\n",
    "        Y = Y.iloc[suffle_ix]\n",
    "\n",
    "    return X, Y"
   ]
  },
  {
   "cell_type": "code",
   "execution_count": 39,
   "id": "50765531",
   "metadata": {},
   "outputs": [],
   "source": [
    "alpha = .5\n",
    "beta = .2\n",
    "\n",
    "X, Y, error_params = generate_syn_data(\n",
    "    NS=30000,\n",
    "    K=1,\n",
    "    y0_pdf='piecewise_sinusoid',\n",
    "    y1_pdf='sinusoid',\n",
    "    pi_pdf='linear',\n",
    "    alpha_0=alpha,\n",
    "    alpha_1=alpha,\n",
    "    beta_0=beta,\n",
    "    beta_1=beta,\n",
    "    shuffle=True)\n",
    "\n",
    "def loss(y_hat, y):\n",
    "    return -(y*np.log(y_hat))\n",
    "\n",
    "def surrogate_loss(py_hat, y):\n",
    "\n",
    "    phat_y0 = py_hat[y==0]\n",
    "    phat_y1 = py_hat[y==1]\n",
    "\n",
    "    y1_losses = ((1-alpha)*loss(phat_y1, np.ones_like(phat_y1)) - beta*loss(phat_y1, np.zeros_like(phat_y1))) / (1-beta-alpha)\n",
    "    y0_losses = ((1-beta)*loss(phat_y0, np.zeros_like(phat_y0)) - alpha*loss(phat_y0, np.ones_like(phat_y0))) / (1-beta-alpha)\n",
    "    \n",
    "    return np.concatenate([y1_losses, y0_losses])\n",
    "\n"
   ]
  },
  {
   "cell_type": "code",
   "execution_count": 40,
   "id": "0eb22155",
   "metadata": {},
   "outputs": [],
   "source": [
    "data = {\n",
    "    'X': X.squeeze(),\n",
    "    'Ys': Y['YS_0'],\n",
    "    'Y': Y['Y0_0'],\n",
    "    'Y_hat': (1-alpha-beta)*Y['pYS_0'] + alpha\n",
    "}\n",
    "syndata = pd.DataFrame(data)\n",
    "\n",
    "syndata['Ys_loss'] = loss(syndata['Y_hat'], syndata['Ys'])\n",
    "syndata['Ysur_loss'] = surrogate_loss(syndata['Y_hat'], syndata['Y'])\n"
   ]
  },
  {
   "cell_type": "code",
   "execution_count": 41,
   "id": "04529e37",
   "metadata": {},
   "outputs": [
    {
     "data": {
      "text/plain": [
       "0.1766150795689253"
      ]
     },
     "execution_count": 41,
     "metadata": {},
     "output_type": "execute_result"
    }
   ],
   "source": [
    "syndata['Ys_loss'].mean()"
   ]
  },
  {
   "cell_type": "code",
   "execution_count": 42,
   "id": "f788f7bc",
   "metadata": {},
   "outputs": [
    {
     "data": {
      "text/plain": [
       "0.08166220625639595"
      ]
     },
     "execution_count": 42,
     "metadata": {},
     "output_type": "execute_result"
    }
   ],
   "source": [
    "syndata['Ysur_loss'].mean()"
   ]
  },
  {
   "cell_type": "code",
   "execution_count": 11,
   "id": "1371cff8",
   "metadata": {},
   "outputs": [],
   "source": [
    "ones = np.ones_like(syndata['Y_hat'])\n",
    "zeros = np.zeros_like(syndata['Y_hat'])\n"
   ]
  },
  {
   "cell_type": "code",
   "execution_count": 23,
   "id": "dd688c50",
   "metadata": {},
   "outputs": [
    {
     "data": {
      "text/plain": [
       "(1, 30000)"
      ]
     },
     "execution_count": 23,
     "metadata": {},
     "output_type": "execute_result"
    }
   ],
   "source": [
    "\n",
    "\n",
    "\n",
    "# .expand_dims()"
   ]
  },
  {
   "cell_type": "code",
   "execution_count": 33,
   "id": "8fc5445f",
   "metadata": {},
   "outputs": [
    {
     "data": {
      "text/plain": [
       "array([0., 0., 0., ..., 0., 0., 0.])"
      ]
     },
     "execution_count": 33,
     "metadata": {},
     "output_type": "execute_result"
    }
   ],
   "source": [
    "\n",
    "np.concatenate([np.expand_dims(surrogate_loss(syndata['Y_hat'], zeros), axis=1),\n",
    "                np.expand_dims(surrogate_loss(syndata['Y_hat'], ones), axis=1)], axis=1).mean(axis=1)\n",
    "\n",
    "\n",
    "\n"
   ]
  },
  {
   "cell_type": "code",
   "execution_count": 34,
   "id": "30e202f4",
   "metadata": {},
   "outputs": [
    {
     "data": {
      "text/plain": [
       "array([[-2.68239652]])"
      ]
     },
     "execution_count": 34,
     "metadata": {},
     "output_type": "execute_result"
    }
   ],
   "source": [
    "surrogate_loss(np.array([.2]), 0)"
   ]
  },
  {
   "cell_type": "code",
   "execution_count": 35,
   "id": "e34727fb",
   "metadata": {},
   "outputs": [
    {
     "data": {
      "text/plain": [
       "array([[2.68239652]])"
      ]
     },
     "execution_count": 35,
     "metadata": {},
     "output_type": "execute_result"
    }
   ],
   "source": [
    "surrogate_loss(np.array([.2]), 1)"
   ]
  },
  {
   "cell_type": "code",
   "execution_count": 12,
   "id": "65aad7e3",
   "metadata": {},
   "outputs": [
    {
     "data": {
      "text/plain": [
       "array([-0.49777417, -1.06144296, -0.68372321, ..., -0.79064118,\n",
       "       -0.50783722, -0.58929075])"
      ]
     },
     "execution_count": 12,
     "metadata": {},
     "output_type": "execute_result"
    }
   ],
   "source": [
    "surrogate_loss(syndata['Y_hat'], zeros)"
   ]
  },
  {
   "cell_type": "code",
   "execution_count": 5,
   "id": "95570b0b",
   "metadata": {},
   "outputs": [
    {
     "data": {
      "text/plain": [
       "0.17914392484114144"
      ]
     },
     "execution_count": 5,
     "metadata": {},
     "output_type": "execute_result"
    }
   ],
   "source": [
    "syndata['Ys_loss'].mean()"
   ]
  },
  {
   "cell_type": "code",
   "execution_count": 6,
   "id": "4a347787",
   "metadata": {},
   "outputs": [
    {
     "data": {
      "text/plain": [
       "0.09916401772262792"
      ]
     },
     "execution_count": 6,
     "metadata": {},
     "output_type": "execute_result"
    }
   ],
   "source": [
    "syndata['Ysur_loss'].mean()"
   ]
  },
  {
   "cell_type": "code",
   "execution_count": null,
   "id": "49d95e28",
   "metadata": {},
   "outputs": [],
   "source": [
    "print(syndata['Ys_loss'][syndata['Ys'] == 1].mean())\n",
    "print(y1s.mean())\n",
    "\n",
    "print(syndata['Ys_loss'][syndata['Ys'] == 0].mean())\n",
    "print(y0s.mean())\n",
    "\n"
   ]
  },
  {
   "cell_type": "code",
   "execution_count": 29,
   "id": "b584ee54",
   "metadata": {},
   "outputs": [
    {
     "name": "stdout",
     "output_type": "stream",
     "text": [
      "0.17664500345546946\n",
      "0.08965007656122444\n",
      "0.2366096586599707\n",
      "0.09416733227880483\n"
     ]
    }
   ],
   "source": [
    "print(syndata['Ys_loss'].mean())\n",
    "print(syndata['Ysur_loss'].mean())\n",
    "\n",
    "\n",
    "\n",
    "print(syndata['Ysur_loss'][syndata['Y'] == 1].mean())\n",
    "\n",
    "\n"
   ]
  },
  {
   "cell_type": "code",
   "execution_count": 17,
   "id": "2d57a5a7",
   "metadata": {},
   "outputs": [
    {
     "data": {
      "text/plain": [
       "0.08693264342603393"
      ]
     },
     "execution_count": 17,
     "metadata": {},
     "output_type": "execute_result"
    }
   ],
   "source": [
    "surrogate_loss(syndata['Y_hat'], syndata['Y']).mean()"
   ]
  },
  {
   "cell_type": "code",
   "execution_count": 7,
   "id": "fbcfe70c",
   "metadata": {},
   "outputs": [
    {
     "name": "stdout",
     "output_type": "stream",
     "text": [
      "0.08785599832626462\n",
      "0.17667244402293678\n"
     ]
    }
   ],
   "source": [
    "\n",
    "print(syndata['Ysur_loss'].mean())\n",
    "\n",
    "print(syndata['Ys_loss'].mean())\n"
   ]
  },
  {
   "cell_type": "code",
   "execution_count": 104,
   "id": "14edd6ac",
   "metadata": {},
   "outputs": [
    {
     "data": {
      "text/plain": [
       "836    0.956231\n",
       "558    0.220192\n",
       "585    0.225161\n",
       "980    0.227003\n",
       "71     0.386832\n",
       "         ...   \n",
       "607    0.198884\n",
       "853    0.048323\n",
       "594    0.371156\n",
       "969    1.848414\n",
       "909    0.148952\n",
       "Name: Y_hat, Length: 589, dtype: float64"
      ]
     },
     "execution_count": 104,
     "metadata": {},
     "output_type": "execute_result"
    }
   ],
   "source": [
    "loss(phat_y1, np.ones_like(phat_y1))\n"
   ]
  },
  {
   "cell_type": "code",
   "execution_count": 105,
   "id": "2309a450",
   "metadata": {},
   "outputs": [
    {
     "data": {
      "text/plain": [
       "642    1.306313\n",
       "568    2.336598\n",
       "815    0.226574\n",
       "884    0.074747\n",
       "447    2.325891\n",
       "         ...   \n",
       "677    2.750130\n",
       "933    1.134441\n",
       "393    2.282744\n",
       "17     0.891121\n",
       "674    0.708880\n",
       "Name: Y_hat, Length: 411, dtype: float64"
      ]
     },
     "execution_count": 105,
     "metadata": {},
     "output_type": "execute_result"
    }
   ],
   "source": [
    "loss(phat_y0, np.ones_like(phat_y0))"
   ]
  },
  {
   "cell_type": "code",
   "execution_count": 78,
   "id": "0db924db",
   "metadata": {},
   "outputs": [
    {
     "data": {
      "text/plain": [
       "281    1.073466\n",
       "534    0.000000\n",
       "835    0.000000\n",
       "819    0.000000\n",
       "921    1.153383\n",
       "         ...   \n",
       "677    2.542613\n",
       "112    0.000000\n",
       "883    0.111959\n",
       "111    0.000000\n",
       "272    0.000000\n",
       "Length: 1000, dtype: float64"
      ]
     },
     "execution_count": 78,
     "metadata": {},
     "output_type": "execute_result"
    }
   ],
   "source": [
    "\n",
    "\n",
    "\n",
    "cross_entropy(synthdata['Ys'], synthdata['Y_hat'])\n",
    "\n"
   ]
  },
  {
   "cell_type": "code",
   "execution_count": 51,
   "id": "4c7cf834",
   "metadata": {},
   "outputs": [
    {
     "data": {
      "text/plain": [
       "361.2209508827656"
      ]
     },
     "execution_count": 51,
     "metadata": {},
     "output_type": "execute_result"
    }
   ],
   "source": []
  },
  {
   "cell_type": "code",
   "execution_count": 17,
   "id": "4770dd71",
   "metadata": {},
   "outputs": [
    {
     "data": {
      "text/html": [
       "<div>\n",
       "<style scoped>\n",
       "    .dataframe tbody tr th:only-of-type {\n",
       "        vertical-align: middle;\n",
       "    }\n",
       "\n",
       "    .dataframe tbody tr th {\n",
       "        vertical-align: top;\n",
       "    }\n",
       "\n",
       "    .dataframe thead th {\n",
       "        text-align: right;\n",
       "    }\n",
       "</style>\n",
       "<table border=\"1\" class=\"dataframe\">\n",
       "  <thead>\n",
       "    <tr style=\"text-align: right;\">\n",
       "      <th></th>\n",
       "      <th>0</th>\n",
       "      <th>YS_0</th>\n",
       "      <th>Y0</th>\n",
       "    </tr>\n",
       "  </thead>\n",
       "  <tbody>\n",
       "    <tr>\n",
       "      <th>0</th>\n",
       "      <td>0.319736</td>\n",
       "      <td>NaN</td>\n",
       "      <td>NaN</td>\n",
       "    </tr>\n",
       "    <tr>\n",
       "      <th>1</th>\n",
       "      <td>0.804279</td>\n",
       "      <td>NaN</td>\n",
       "      <td>NaN</td>\n",
       "    </tr>\n",
       "    <tr>\n",
       "      <th>2</th>\n",
       "      <td>0.766431</td>\n",
       "      <td>NaN</td>\n",
       "      <td>NaN</td>\n",
       "    </tr>\n",
       "    <tr>\n",
       "      <th>3</th>\n",
       "      <td>-0.527925</td>\n",
       "      <td>NaN</td>\n",
       "      <td>NaN</td>\n",
       "    </tr>\n",
       "    <tr>\n",
       "      <th>4</th>\n",
       "      <td>0.679959</td>\n",
       "      <td>NaN</td>\n",
       "      <td>NaN</td>\n",
       "    </tr>\n",
       "    <tr>\n",
       "      <th>...</th>\n",
       "      <td>...</td>\n",
       "      <td>...</td>\n",
       "      <td>...</td>\n",
       "    </tr>\n",
       "    <tr>\n",
       "      <th>1995</th>\n",
       "      <td>NaN</td>\n",
       "      <td>0.0</td>\n",
       "      <td>0.0</td>\n",
       "    </tr>\n",
       "    <tr>\n",
       "      <th>1996</th>\n",
       "      <td>NaN</td>\n",
       "      <td>0.0</td>\n",
       "      <td>0.0</td>\n",
       "    </tr>\n",
       "    <tr>\n",
       "      <th>1997</th>\n",
       "      <td>NaN</td>\n",
       "      <td>1.0</td>\n",
       "      <td>1.0</td>\n",
       "    </tr>\n",
       "    <tr>\n",
       "      <th>1998</th>\n",
       "      <td>NaN</td>\n",
       "      <td>0.0</td>\n",
       "      <td>0.0</td>\n",
       "    </tr>\n",
       "    <tr>\n",
       "      <th>1999</th>\n",
       "      <td>NaN</td>\n",
       "      <td>1.0</td>\n",
       "      <td>0.0</td>\n",
       "    </tr>\n",
       "  </tbody>\n",
       "</table>\n",
       "<p>2000 rows × 3 columns</p>\n",
       "</div>"
      ],
      "text/plain": [
       "             0  YS_0   Y0\n",
       "0     0.319736   NaN  NaN\n",
       "1     0.804279   NaN  NaN\n",
       "2     0.766431   NaN  NaN\n",
       "3    -0.527925   NaN  NaN\n",
       "4     0.679959   NaN  NaN\n",
       "...        ...   ...  ...\n",
       "1995       NaN   0.0  0.0\n",
       "1996       NaN   0.0  0.0\n",
       "1997       NaN   1.0  1.0\n",
       "1998       NaN   0.0  0.0\n",
       "1999       NaN   1.0  0.0\n",
       "\n",
       "[2000 rows x 3 columns]"
      ]
     },
     "execution_count": 17,
     "metadata": {},
     "output_type": "execute_result"
    }
   ],
   "source": [
    "pd.concat([X, ], ignore_index=True)\n",
    "\n"
   ]
  },
  {
   "cell_type": "code",
   "execution_count": 15,
   "id": "53ffdf24",
   "metadata": {},
   "outputs": [
    {
     "data": {
      "text/html": [
       "<div>\n",
       "<style scoped>\n",
       "    .dataframe tbody tr th:only-of-type {\n",
       "        vertical-align: middle;\n",
       "    }\n",
       "\n",
       "    .dataframe tbody tr th {\n",
       "        vertical-align: top;\n",
       "    }\n",
       "\n",
       "    .dataframe thead th {\n",
       "        text-align: right;\n",
       "    }\n",
       "</style>\n",
       "<table border=\"1\" class=\"dataframe\">\n",
       "  <thead>\n",
       "    <tr style=\"text-align: right;\">\n",
       "      <th></th>\n",
       "      <th>0</th>\n",
       "    </tr>\n",
       "  </thead>\n",
       "  <tbody>\n",
       "    <tr>\n",
       "      <th>618</th>\n",
       "      <td>0.319736</td>\n",
       "    </tr>\n",
       "    <tr>\n",
       "      <th>601</th>\n",
       "      <td>0.804279</td>\n",
       "    </tr>\n",
       "    <tr>\n",
       "      <th>513</th>\n",
       "      <td>0.766431</td>\n",
       "    </tr>\n",
       "    <tr>\n",
       "      <th>470</th>\n",
       "      <td>-0.527925</td>\n",
       "    </tr>\n",
       "    <tr>\n",
       "      <th>297</th>\n",
       "      <td>0.679959</td>\n",
       "    </tr>\n",
       "    <tr>\n",
       "      <th>...</th>\n",
       "      <td>...</td>\n",
       "    </tr>\n",
       "    <tr>\n",
       "      <th>463</th>\n",
       "      <td>-0.843725</td>\n",
       "    </tr>\n",
       "    <tr>\n",
       "      <th>508</th>\n",
       "      <td>-0.396933</td>\n",
       "    </tr>\n",
       "    <tr>\n",
       "      <th>781</th>\n",
       "      <td>-0.529049</td>\n",
       "    </tr>\n",
       "    <tr>\n",
       "      <th>140</th>\n",
       "      <td>-0.341898</td>\n",
       "    </tr>\n",
       "    <tr>\n",
       "      <th>69</th>\n",
       "      <td>-0.401376</td>\n",
       "    </tr>\n",
       "  </tbody>\n",
       "</table>\n",
       "<p>1000 rows × 1 columns</p>\n",
       "</div>"
      ],
      "text/plain": [
       "            0\n",
       "618  0.319736\n",
       "601  0.804279\n",
       "513  0.766431\n",
       "470 -0.527925\n",
       "297  0.679959\n",
       "..        ...\n",
       "463 -0.843725\n",
       "508 -0.396933\n",
       "781 -0.529049\n",
       "140 -0.341898\n",
       "69  -0.401376\n",
       "\n",
       "[1000 rows x 1 columns]"
      ]
     },
     "execution_count": 15,
     "metadata": {},
     "output_type": "execute_result"
    }
   ],
   "source": [
    "X"
   ]
  },
  {
   "cell_type": "code",
   "execution_count": 13,
   "id": "1f66c858",
   "metadata": {},
   "outputs": [
    {
     "ename": "AttributeError",
     "evalue": "module 'pandas' has no attribute 'horzcat'",
     "output_type": "error",
     "traceback": [
      "\u001b[0;31m---------------------------------------------------------------------------\u001b[0m",
      "\u001b[0;31mAttributeError\u001b[0m                            Traceback (most recent call last)",
      "Input \u001b[0;32mIn [13]\u001b[0m, in \u001b[0;36m<cell line: 1>\u001b[0;34m()\u001b[0m\n\u001b[0;32m----> 1\u001b[0m \u001b[43mpd\u001b[49m\u001b[38;5;241;43m.\u001b[39;49m\u001b[43mhorzcat\u001b[49m(X, Y[[\u001b[38;5;124m'\u001b[39m\u001b[38;5;124mYS_0\u001b[39m\u001b[38;5;124m'\u001b[39m, \u001b[38;5;124m'\u001b[39m\u001b[38;5;124mY0\u001b[39m\u001b[38;5;124m'\u001b[39m]])\n",
      "File \u001b[0;32m~/.virtualenvs/10701-Project/lib/python3.9/site-packages/pandas/__init__.py:261\u001b[0m, in \u001b[0;36m__getattr__\u001b[0;34m(name)\u001b[0m\n\u001b[1;32m    257\u001b[0m     \u001b[38;5;28;01mfrom\u001b[39;00m \u001b[38;5;21;01mpandas\u001b[39;00m\u001b[38;5;21;01m.\u001b[39;00m\u001b[38;5;21;01mcore\u001b[39;00m\u001b[38;5;21;01m.\u001b[39;00m\u001b[38;5;21;01marrays\u001b[39;00m\u001b[38;5;21;01m.\u001b[39;00m\u001b[38;5;21;01msparse\u001b[39;00m \u001b[38;5;28;01mimport\u001b[39;00m SparseArray \u001b[38;5;28;01mas\u001b[39;00m _SparseArray\n\u001b[1;32m    259\u001b[0m     \u001b[38;5;28;01mreturn\u001b[39;00m _SparseArray\n\u001b[0;32m--> 261\u001b[0m \u001b[38;5;28;01mraise\u001b[39;00m \u001b[38;5;167;01mAttributeError\u001b[39;00m(\u001b[38;5;124mf\u001b[39m\u001b[38;5;124m\"\u001b[39m\u001b[38;5;124mmodule \u001b[39m\u001b[38;5;124m'\u001b[39m\u001b[38;5;124mpandas\u001b[39m\u001b[38;5;124m'\u001b[39m\u001b[38;5;124m has no attribute \u001b[39m\u001b[38;5;124m'\u001b[39m\u001b[38;5;132;01m{\u001b[39;00mname\u001b[38;5;132;01m}\u001b[39;00m\u001b[38;5;124m'\u001b[39m\u001b[38;5;124m\"\u001b[39m)\n",
      "\u001b[0;31mAttributeError\u001b[0m: module 'pandas' has no attribute 'horzcat'"
     ]
    }
   ],
   "source": [
    "\n",
    "pd.horzcat(X, )"
   ]
  },
  {
   "cell_type": "code",
   "execution_count": 7,
   "id": "0ca19dc7",
   "metadata": {},
   "outputs": [
    {
     "data": {
      "text/html": [
       "<div>\n",
       "<style scoped>\n",
       "    .dataframe tbody tr th:only-of-type {\n",
       "        vertical-align: middle;\n",
       "    }\n",
       "\n",
       "    .dataframe tbody tr th {\n",
       "        vertical-align: top;\n",
       "    }\n",
       "\n",
       "    .dataframe thead th {\n",
       "        text-align: right;\n",
       "    }\n",
       "</style>\n",
       "<table border=\"1\" class=\"dataframe\">\n",
       "  <thead>\n",
       "    <tr style=\"text-align: right;\">\n",
       "      <th></th>\n",
       "      <th>0</th>\n",
       "    </tr>\n",
       "  </thead>\n",
       "  <tbody>\n",
       "    <tr>\n",
       "      <th>618</th>\n",
       "      <td>0.319736</td>\n",
       "    </tr>\n",
       "    <tr>\n",
       "      <th>601</th>\n",
       "      <td>0.804279</td>\n",
       "    </tr>\n",
       "    <tr>\n",
       "      <th>513</th>\n",
       "      <td>0.766431</td>\n",
       "    </tr>\n",
       "    <tr>\n",
       "      <th>470</th>\n",
       "      <td>-0.527925</td>\n",
       "    </tr>\n",
       "    <tr>\n",
       "      <th>297</th>\n",
       "      <td>0.679959</td>\n",
       "    </tr>\n",
       "    <tr>\n",
       "      <th>...</th>\n",
       "      <td>...</td>\n",
       "    </tr>\n",
       "    <tr>\n",
       "      <th>463</th>\n",
       "      <td>-0.843725</td>\n",
       "    </tr>\n",
       "    <tr>\n",
       "      <th>508</th>\n",
       "      <td>-0.396933</td>\n",
       "    </tr>\n",
       "    <tr>\n",
       "      <th>781</th>\n",
       "      <td>-0.529049</td>\n",
       "    </tr>\n",
       "    <tr>\n",
       "      <th>140</th>\n",
       "      <td>-0.341898</td>\n",
       "    </tr>\n",
       "    <tr>\n",
       "      <th>69</th>\n",
       "      <td>-0.401376</td>\n",
       "    </tr>\n",
       "  </tbody>\n",
       "</table>\n",
       "<p>1000 rows × 1 columns</p>\n",
       "</div>"
      ],
      "text/plain": [
       "            0\n",
       "618  0.319736\n",
       "601  0.804279\n",
       "513  0.766431\n",
       "470 -0.527925\n",
       "297  0.679959\n",
       "..        ...\n",
       "463 -0.843725\n",
       "508 -0.396933\n",
       "781 -0.529049\n",
       "140 -0.341898\n",
       "69  -0.401376\n",
       "\n",
       "[1000 rows x 1 columns]"
      ]
     },
     "execution_count": 7,
     "metadata": {},
     "output_type": "execute_result"
    }
   ],
   "source": [
    "X"
   ]
  },
  {
   "cell_type": "code",
   "execution_count": null,
   "id": "cbea5e96",
   "metadata": {},
   "outputs": [],
   "source": []
  }
 ],
 "metadata": {
  "kernelspec": {
   "display_name": "10701-Project",
   "language": "python",
   "name": "10701-project"
  },
  "language_info": {
   "codemirror_mode": {
    "name": "ipython",
    "version": 3
   },
   "file_extension": ".py",
   "mimetype": "text/x-python",
   "name": "python",
   "nbconvert_exporter": "python",
   "pygments_lexer": "ipython3",
   "version": "3.9.8"
  }
 },
 "nbformat": 4,
 "nbformat_minor": 5
}
