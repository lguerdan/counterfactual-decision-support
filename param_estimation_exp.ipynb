{
 "cells": [
  {
   "cell_type": "code",
   "execution_count": 1,
   "id": "69335c38",
   "metadata": {},
   "outputs": [
    {
     "name": "stderr",
     "output_type": "stream",
     "text": [
      "/Users/lguerdan/.virtualenvs/10701-Project/lib/python3.9/site-packages/tqdm/auto.py:22: TqdmWarning: IProgress not found. Please update jupyter and ipywidgets. See https://ipywidgets.readthedocs.io/en/stable/user_install.html\n",
      "  from .autonotebook import tqdm as notebook_tqdm\n"
     ]
    }
   ],
   "source": [
    "import seaborn as sns\n",
    "import pandas as pd\n",
    "import matplotlib.pyplot as plt\n",
    "\n",
    "from drivers import *\n"
   ]
  },
  {
   "cell_type": "code",
   "execution_count": 5,
   "id": "c098afff",
   "metadata": {},
   "outputs": [
    {
     "name": "stderr",
     "output_type": "stream",
     "text": [
      "Target: Y: 100%|████████████████████████████████| 20/20 [00:14<00:00,  1.36it/s]\n",
      "Target: Y: 100%|████████████████████████████████| 20/20 [00:13<00:00,  1.45it/s]\n",
      "Target: Y: 100%|████████████████████████████████| 20/20 [00:15<00:00,  1.32it/s]\n",
      "Target: Y: 100%|████████████████████████████████| 20/20 [00:14<00:00,  1.36it/s]\n",
      "Target: Y: 100%|████████████████████████████████| 20/20 [00:17<00:00,  1.12it/s]\n",
      "Target: Y: 100%|████████████████████████████████| 20/20 [00:16<00:00,  1.19it/s]\n"
     ]
    }
   ],
   "source": [
    "error_param_configs = [{\n",
    "    'alpha_0': 0.1,\n",
    "    'beta_0': 0.2,\n",
    "    'alpha_1': 0.05,\n",
    "    'beta_1': 0.4 \n",
    "}]\n",
    "\n",
    "sample_sizes = [5000, 10000, 20000]\n",
    "\n",
    "N_RUNS = 2\n",
    "\n",
    "exp_config = {\n",
    "    'benchmark': {\n",
    "        'name': 'synthetic_1D_sinusoidal',\n",
    "        'NS': 10000,\n",
    "        'config': {\n",
    "            'Y0_PDF': 'piecewise_sinusoid',\n",
    "            'Y1_PDF': 'low_base_rate_sinusoid',\n",
    "            'PI_PDF': 'linear'\n",
    "        }\n",
    "    }\n",
    "}\n",
    "\n",
    "\n",
    "ccpe_results = run_ccpe_exp(exp_config, error_param_configs, sample_sizes, N_RUNS, do=0, n_epochs=20, train_ratio=.7)\n",
    "\n"
   ]
  },
  {
   "cell_type": "code",
   "execution_count": 6,
   "id": "ae11653e",
   "metadata": {},
   "outputs": [
    {
     "data": {
      "text/html": [
       "<div>\n",
       "<style scoped>\n",
       "    .dataframe tbody tr th:only-of-type {\n",
       "        vertical-align: middle;\n",
       "    }\n",
       "\n",
       "    .dataframe tbody tr th {\n",
       "        vertical-align: top;\n",
       "    }\n",
       "\n",
       "    .dataframe thead th {\n",
       "        text-align: right;\n",
       "    }\n",
       "</style>\n",
       "<table border=\"1\" class=\"dataframe\">\n",
       "  <thead>\n",
       "    <tr style=\"text-align: right;\">\n",
       "      <th></th>\n",
       "      <th>alpha</th>\n",
       "      <th>beta</th>\n",
       "      <th>alpha_hat</th>\n",
       "      <th>beta_hat</th>\n",
       "      <th>alpha_error</th>\n",
       "      <th>beta_error</th>\n",
       "    </tr>\n",
       "    <tr>\n",
       "      <th>NS</th>\n",
       "      <th></th>\n",
       "      <th></th>\n",
       "      <th></th>\n",
       "      <th></th>\n",
       "      <th></th>\n",
       "      <th></th>\n",
       "    </tr>\n",
       "  </thead>\n",
       "  <tbody>\n",
       "    <tr>\n",
       "      <th>5000</th>\n",
       "      <td>0.1</td>\n",
       "      <td>0.2</td>\n",
       "      <td>0.201658</td>\n",
       "      <td>0.233361</td>\n",
       "      <td>-0.101658</td>\n",
       "      <td>-0.033361</td>\n",
       "    </tr>\n",
       "    <tr>\n",
       "      <th>10000</th>\n",
       "      <td>0.1</td>\n",
       "      <td>0.2</td>\n",
       "      <td>0.110198</td>\n",
       "      <td>0.175226</td>\n",
       "      <td>-0.010198</td>\n",
       "      <td>0.024774</td>\n",
       "    </tr>\n",
       "    <tr>\n",
       "      <th>20000</th>\n",
       "      <td>0.1</td>\n",
       "      <td>0.2</td>\n",
       "      <td>0.082784</td>\n",
       "      <td>0.309034</td>\n",
       "      <td>0.017216</td>\n",
       "      <td>-0.109034</td>\n",
       "    </tr>\n",
       "  </tbody>\n",
       "</table>\n",
       "</div>"
      ],
      "text/plain": [
       "       alpha  beta  alpha_hat  beta_hat  alpha_error  beta_error\n",
       "NS                                                              \n",
       "5000     0.1   0.2   0.201658  0.233361    -0.101658   -0.033361\n",
       "10000    0.1   0.2   0.110198  0.175226    -0.010198    0.024774\n",
       "20000    0.1   0.2   0.082784  0.309034     0.017216   -0.109034"
      ]
     },
     "execution_count": 6,
     "metadata": {},
     "output_type": "execute_result"
    }
   ],
   "source": [
    "ccpe_results.groupby('NS').mean()"
   ]
  },
  {
   "cell_type": "code",
   "execution_count": null,
   "id": "4e60b5f8",
   "metadata": {},
   "outputs": [],
   "source": []
  }
 ],
 "metadata": {
  "kernelspec": {
   "display_name": "10701-Project",
   "language": "python",
   "name": "10701-project"
  },
  "language_info": {
   "codemirror_mode": {
    "name": "ipython",
    "version": 3
   },
   "file_extension": ".py",
   "mimetype": "text/x-python",
   "name": "python",
   "nbconvert_exporter": "python",
   "pygments_lexer": "ipython3",
   "version": "3.9.8"
  }
 },
 "nbformat": 4,
 "nbformat_minor": 5
}
