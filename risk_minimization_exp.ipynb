{
 "cells": [
  {
   "cell_type": "code",
   "execution_count": 1,
   "id": "4d466369",
   "metadata": {},
   "outputs": [
    {
     "name": "stderr",
     "output_type": "stream",
     "text": [
      "/Users/lguerdan/.virtualenvs/10701-Project/lib/python3.9/site-packages/tqdm/auto.py:22: TqdmWarning: IProgress not found. Please update jupyter and ipywidgets. See https://ipywidgets.readthedocs.io/en/stable/user_install.html\n",
      "  from .autonotebook import tqdm as notebook_tqdm\n"
     ]
    }
   ],
   "source": [
    "import seaborn as sns\n",
    "import pandas as pd\n",
    "\n",
    "import matplotlib.pyplot as plt\n",
    "import matplotlib.patches as mpatches\n",
    "sns.set_style(\"whitegrid\")\n",
    "\n",
    "from drivers import *\n",
    "from benchmarks import jobs\n"
   ]
  },
  {
   "cell_type": "markdown",
   "id": "904bdfd4",
   "metadata": {},
   "source": [
    "## OHIE benchmark results"
   ]
  },
  {
   "cell_type": "code",
   "execution_count": 2,
   "id": "c59a1c73",
   "metadata": {},
   "outputs": [],
   "source": [
    "benchmarks = [{\n",
    "        'name': 'ohie',\n",
    "        'path': 'data/OHIE/ohie_data.csv'\n",
    "    },{\n",
    "        'name': 'synthetic_1D_sinusoidal',\n",
    "        'NS': 5000,\n",
    "        'config': {\n",
    "            'Y0_PDF': 'piecewise_sinusoid',\n",
    "            'Y1_PDF': 'low_base_rate_sinusoid',\n",
    "            'PI_PDF': 'linear'\n",
    "            }\n",
    "    },{\n",
    "        'name': 'synthetic_2D_linsep',\n",
    "        'NS': 5000,\n",
    "        'config': {\n",
    "            'Y0_PDF': '2D_linsep_baseline',\n",
    "            'Y1_PDF': '2D_linsep_intervention',\n",
    "            'PI_PDF': '6cov_linear'\n",
    "        }\n",
    "    },{\n",
    "        'name': 'synthetic_6D_shalt',\n",
    "        'NS': 5000,\n",
    "        'config': {\n",
    "            'Y0_PDF': 'shalt_6cov_baseline',\n",
    "            'Y1_PDF': 'shalt_6cov_intervention',\n",
    "            'PI_PDF': '6cov_linear'}\n",
    "}]\n",
    "\n",
    "\n"
   ]
  },
  {
   "cell_type": "code",
   "execution_count": 3,
   "id": "91301193",
   "metadata": {
    "scrolled": true
   },
   "outputs": [
    {
     "name": "stdout",
     "output_type": "stream",
     "text": [
      "===============================================================================================================\n",
      "RUN: 0, model: OBS, alpha_0: 0.1, alpha_1: 0.05, beta_0: 0.2, beta_1: 0.4\n",
      "=============================================================================================================== \n",
      "\n"
     ]
    },
    {
     "name": "stderr",
     "output_type": "stream",
     "text": [
      "Target: Y: 100%|████████████████████████████████| 20/20 [00:13<00:00,  1.44it/s]\n",
      "Target: Y: 100%|████████████████████████████████| 20/20 [00:13<00:00,  1.52it/s]\n"
     ]
    },
    {
     "name": "stdout",
     "output_type": "stream",
     "text": [
      "===============================================================================================================\n",
      "RUN: 0, model: COM, alpha_0: 0.1, alpha_1: 0.05, beta_0: 0.2, beta_1: 0.4\n",
      "=============================================================================================================== \n",
      "\n"
     ]
    },
    {
     "name": "stderr",
     "output_type": "stream",
     "text": [
      "Target: Y: 100%|████████████████████████████████| 20/20 [00:12<00:00,  1.54it/s]\n",
      "Target: Y: 100%|████████████████████████████████| 20/20 [00:11<00:00,  1.75it/s]\n"
     ]
    },
    {
     "name": "stdout",
     "output_type": "stream",
     "text": [
      "===============================================================================================================\n",
      "RUN: 0, model: COM-SL, alpha_0: 0.1, alpha_1: 0.05, beta_0: 0.2, beta_1: 0.4\n",
      "=============================================================================================================== \n",
      "\n"
     ]
    },
    {
     "name": "stderr",
     "output_type": "stream",
     "text": [
      "Target: Y: 100%|████████████████████████████████| 20/20 [00:13<00:00,  1.52it/s]\n",
      "Target: Y: 100%|████████████████████████████████| 20/20 [00:11<00:00,  1.68it/s]\n"
     ]
    },
    {
     "name": "stdout",
     "output_type": "stream",
     "text": [
      "===============================================================================================================\n",
      "RUN: 0, model: RW, alpha_0: 0.1, alpha_1: 0.05, beta_0: 0.2, beta_1: 0.4\n",
      "=============================================================================================================== \n",
      "\n"
     ]
    },
    {
     "name": "stderr",
     "output_type": "stream",
     "text": [
      "Target: Y: 100%|████████████████████████████████| 20/20 [00:13<00:00,  1.48it/s]\n",
      "Target: Y: 100%|████████████████████████████████| 20/20 [00:11<00:00,  1.71it/s]\n"
     ]
    },
    {
     "name": "stdout",
     "output_type": "stream",
     "text": [
      "===============================================================================================================\n",
      "RUN: 0, model: RW-SL, alpha_0: 0.1, alpha_1: 0.05, beta_0: 0.2, beta_1: 0.4\n",
      "=============================================================================================================== \n",
      "\n"
     ]
    },
    {
     "name": "stderr",
     "output_type": "stream",
     "text": [
      "Target: Y: 100%|████████████████████████████████| 20/20 [00:13<00:00,  1.48it/s]\n",
      "Target: Y: 100%|████████████████████████████████| 20/20 [00:11<00:00,  1.72it/s]\n"
     ]
    },
    {
     "name": "stdout",
     "output_type": "stream",
     "text": [
      "===============================================================================================================\n",
      "RUN: 0, model: Proxy Oracle, alpha_0: 0.1, alpha_1: 0.05, beta_0: 0.2, beta_1: 0.4\n",
      "=============================================================================================================== \n",
      "\n"
     ]
    },
    {
     "name": "stderr",
     "output_type": "stream",
     "text": [
      "Target: Y_0: 100%|██████████████████████████████| 20/20 [00:13<00:00,  1.50it/s]\n",
      "Target: Y_1: 100%|██████████████████████████████| 20/20 [00:11<00:00,  1.73it/s]\n"
     ]
    },
    {
     "name": "stdout",
     "output_type": "stream",
     "text": [
      "===============================================================================================================\n",
      "RUN: 0, model: Target Oracle, alpha_0: 0.1, alpha_1: 0.05, beta_0: 0.2, beta_1: 0.4\n",
      "=============================================================================================================== \n",
      "\n"
     ]
    },
    {
     "name": "stderr",
     "output_type": "stream",
     "text": [
      "Target: YS_0: 100%|█████████████████████████████| 20/20 [00:14<00:00,  1.37it/s]\n",
      "Target: YS_1: 100%|█████████████████████████████| 20/20 [00:12<00:00,  1.59it/s]\n"
     ]
    }
   ],
   "source": [
    "param_configs = [{\n",
    "    'alpha_0': 0.1,\n",
    "    'alpha_1': 0.05,\n",
    "    'beta_0': 0.2,\n",
    "    'beta_1': 0.4 \n",
    "}]\n",
    "\n",
    "\n",
    "baselines = [{\n",
    "    'model': 'OBS',\n",
    "    'target': 'Y'\n",
    "},{\n",
    "    'model': 'COM',\n",
    "    'target': 'Y'\n",
    "},{\n",
    "    'model': 'COM-SL',\n",
    "    'target': 'Y'\n",
    "},{\n",
    "    'model': 'RW',\n",
    "    'target': 'Y'\n",
    "},{\n",
    "    'model': 'RW-SL',\n",
    "    'target': 'Y'\n",
    "},{\n",
    "    'model': 'Proxy Oracle',\n",
    "    'target': f'Y'\n",
    "},{\n",
    "    'model': 'Target Oracle',\n",
    "    'target': f'YS'\n",
    "}]\n",
    "\n",
    "syn1d = {\n",
    "        'name': 'synthetic_1D_sinusoidal',\n",
    "        'NS': 10000,\n",
    "        'config': {\n",
    "            'Y0_PDF': 'piecewise_sinusoid',\n",
    "            'Y1_PDF': 'low_base_rate_sinusoid',\n",
    "            'PI_PDF': 'linear'\n",
    "        }\n",
    "    }\n",
    "\n",
    "ohie = {\n",
    "    'name': 'ohie',\n",
    "    'path': 'data/OHIE/ohie_data.csv'\n",
    "}\n",
    "\n",
    "jobs = {\n",
    "    'name': 'jobs',\n",
    "    'train_path': 'data/JOBS/jobs_DW_bin.new.10.train.npz',\n",
    "    'test_path': 'data/JOBS/jobs_DW_bin.new.10.test.npz',\n",
    "}\n",
    "\n",
    "exp_config = {\n",
    "    'benchmark': jobs,\n",
    "    'policy_gamma': 0\n",
    "}\n",
    "\n",
    "# We need a high-level experimental configuration paramter that manipulates: \n",
    "# - Selection bias (either statically or dynamically).\n",
    "# - Data partitioning scheme\n",
    "# - Policy risk parameter\n",
    "\n",
    "po_benchmark, te_benchmark = run_risk_minimization_exp(exp_config, baselines,\n",
    "                                              param_configs, N_RUNS=1, n_epochs=20)"
   ]
  },
  {
   "cell_type": "code",
   "execution_count": 4,
   "id": "d39c0ce9",
   "metadata": {},
   "outputs": [
    {
     "data": {
      "text/html": [
       "<div>\n",
       "<style scoped>\n",
       "    .dataframe tbody tr th:only-of-type {\n",
       "        vertical-align: middle;\n",
       "    }\n",
       "\n",
       "    .dataframe tbody tr th {\n",
       "        vertical-align: top;\n",
       "    }\n",
       "\n",
       "    .dataframe thead th {\n",
       "        text-align: right;\n",
       "    }\n",
       "</style>\n",
       "<table border=\"1\" class=\"dataframe\">\n",
       "  <thead>\n",
       "    <tr style=\"text-align: right;\">\n",
       "      <th></th>\n",
       "      <th>alpha_0</th>\n",
       "      <th>alpha_1</th>\n",
       "      <th>beta_0</th>\n",
       "      <th>beta_1</th>\n",
       "      <th>model</th>\n",
       "      <th>ate</th>\n",
       "      <th>ate_hat</th>\n",
       "      <th>ate_error</th>\n",
       "      <th>policy_risk</th>\n",
       "    </tr>\n",
       "  </thead>\n",
       "  <tbody>\n",
       "    <tr>\n",
       "      <th>0</th>\n",
       "      <td>0.1</td>\n",
       "      <td>0.05</td>\n",
       "      <td>0.2</td>\n",
       "      <td>0.4</td>\n",
       "      <td>OBS</td>\n",
       "      <td>0.07794</td>\n",
       "      <td>0.039637</td>\n",
       "      <td>0.038303</td>\n",
       "      <td>0.062842</td>\n",
       "    </tr>\n",
       "    <tr>\n",
       "      <th>1</th>\n",
       "      <td>0.1</td>\n",
       "      <td>0.05</td>\n",
       "      <td>0.2</td>\n",
       "      <td>0.4</td>\n",
       "      <td>COM</td>\n",
       "      <td>0.07794</td>\n",
       "      <td>-0.137037</td>\n",
       "      <td>0.214977</td>\n",
       "      <td>0.048044</td>\n",
       "    </tr>\n",
       "    <tr>\n",
       "      <th>2</th>\n",
       "      <td>0.1</td>\n",
       "      <td>0.05</td>\n",
       "      <td>0.2</td>\n",
       "      <td>0.4</td>\n",
       "      <td>COM-SL</td>\n",
       "      <td>0.07794</td>\n",
       "      <td>0.007882</td>\n",
       "      <td>0.070058</td>\n",
       "      <td>0.067077</td>\n",
       "    </tr>\n",
       "    <tr>\n",
       "      <th>3</th>\n",
       "      <td>0.1</td>\n",
       "      <td>0.05</td>\n",
       "      <td>0.2</td>\n",
       "      <td>0.4</td>\n",
       "      <td>RW</td>\n",
       "      <td>0.07794</td>\n",
       "      <td>-0.139750</td>\n",
       "      <td>0.217690</td>\n",
       "      <td>0.050666</td>\n",
       "    </tr>\n",
       "    <tr>\n",
       "      <th>4</th>\n",
       "      <td>0.1</td>\n",
       "      <td>0.05</td>\n",
       "      <td>0.2</td>\n",
       "      <td>0.4</td>\n",
       "      <td>RW-SL</td>\n",
       "      <td>0.07794</td>\n",
       "      <td>-0.055239</td>\n",
       "      <td>0.133179</td>\n",
       "      <td>0.065085</td>\n",
       "    </tr>\n",
       "    <tr>\n",
       "      <th>5</th>\n",
       "      <td>0.1</td>\n",
       "      <td>0.05</td>\n",
       "      <td>0.2</td>\n",
       "      <td>0.4</td>\n",
       "      <td>Proxy Oracle</td>\n",
       "      <td>0.07794</td>\n",
       "      <td>-0.103979</td>\n",
       "      <td>0.181919</td>\n",
       "      <td>0.052633</td>\n",
       "    </tr>\n",
       "    <tr>\n",
       "      <th>6</th>\n",
       "      <td>0.1</td>\n",
       "      <td>0.05</td>\n",
       "      <td>0.2</td>\n",
       "      <td>0.4</td>\n",
       "      <td>Target Oracle</td>\n",
       "      <td>0.07794</td>\n",
       "      <td>-0.108497</td>\n",
       "      <td>0.186437</td>\n",
       "      <td>0.057849</td>\n",
       "    </tr>\n",
       "  </tbody>\n",
       "</table>\n",
       "</div>"
      ],
      "text/plain": [
       "   alpha_0  alpha_1  beta_0  beta_1          model      ate   ate_hat  \\\n",
       "0      0.1     0.05     0.2     0.4            OBS  0.07794  0.039637   \n",
       "1      0.1     0.05     0.2     0.4            COM  0.07794 -0.137037   \n",
       "2      0.1     0.05     0.2     0.4         COM-SL  0.07794  0.007882   \n",
       "3      0.1     0.05     0.2     0.4             RW  0.07794 -0.139750   \n",
       "4      0.1     0.05     0.2     0.4          RW-SL  0.07794 -0.055239   \n",
       "5      0.1     0.05     0.2     0.4   Proxy Oracle  0.07794 -0.103979   \n",
       "6      0.1     0.05     0.2     0.4  Target Oracle  0.07794 -0.108497   \n",
       "\n",
       "   ate_error  policy_risk  \n",
       "0   0.038303     0.062842  \n",
       "1   0.214977     0.048044  \n",
       "2   0.070058     0.067077  \n",
       "3   0.217690     0.050666  \n",
       "4   0.133179     0.065085  \n",
       "5   0.181919     0.052633  \n",
       "6   0.186437     0.057849  "
      ]
     },
     "execution_count": 4,
     "metadata": {},
     "output_type": "execute_result"
    }
   ],
   "source": [
    "te_benchmark"
   ]
  },
  {
   "cell_type": "code",
   "execution_count": 3,
   "id": "0fae516e",
   "metadata": {},
   "outputs": [],
   "source": [
    "\n",
    "param_configs = [{\n",
    "    'alpha_0': 0,\n",
    "    'alpha_1': 0,\n",
    "    'beta_0': 0,\n",
    "    'beta_1': 0\n",
    "}]\n",
    "jobs_config = {\n",
    "    'name': 'jobs',\n",
    "    'train_path': 'data/JOBS/jobs_DW_bin.new.10.train.npz',\n",
    "    'test_path': 'data/JOBS/jobs_DW_bin.new.10.test.npz',\n",
    "}\n",
    "\n",
    "X, Y = jobs.generate_jobs_data(jobs_config, param_configs[0], shuffle=True)\n",
    "    \n",
    "    \n",
    "    "
   ]
  },
  {
   "cell_type": "code",
   "execution_count": 6,
   "id": "d09ef1c8",
   "metadata": {},
   "outputs": [
    {
     "data": {
      "text/plain": [
       "0.8576329331046312"
      ]
     },
     "execution_count": 6,
     "metadata": {},
     "output_type": "execute_result"
    }
   ],
   "source": [
    "# Y['Y_1'][Y['D'] == 1].mean() \n",
    "\n",
    "Y['Y_0'][Y['D'] == 0].mean()"
   ]
  },
  {
   "cell_type": "code",
   "execution_count": 8,
   "id": "3ca98c85",
   "metadata": {},
   "outputs": [
    {
     "data": {
      "text/plain": [
       "67.0"
      ]
     },
     "execution_count": 8,
     "metadata": {},
     "output_type": "execute_result"
    }
   ],
   "source": [
    "Y['Y_1'][Y['D'] == 1].sum()"
   ]
  },
  {
   "cell_type": "code",
   "execution_count": 10,
   "id": "c06d224f",
   "metadata": {},
   "outputs": [
    {
     "data": {
      "text/plain": [
       "415.0"
      ]
     },
     "execution_count": 10,
     "metadata": {},
     "output_type": "execute_result"
    }
   ],
   "source": [
    "Y['Y_0'][Y['D'] == 0].sum()"
   ]
  },
  {
   "cell_type": "code",
   "execution_count": 19,
   "id": "2ec46e00",
   "metadata": {},
   "outputs": [
    {
     "data": {
      "text/plain": [
       "0.8576329331046312"
      ]
     },
     "execution_count": 19,
     "metadata": {},
     "output_type": "execute_result"
    }
   ],
   "source": [
    "Y['Y_0'][Y['D'] == 0].mean()"
   ]
  },
  {
   "cell_type": "code",
   "execution_count": 14,
   "id": "80346bcb",
   "metadata": {},
   "outputs": [
    {
     "data": {
      "text/plain": [
       "0.7744107744107744"
      ]
     },
     "execution_count": 14,
     "metadata": {},
     "output_type": "execute_result"
    }
   ],
   "source": [
    "Y['YS_1'][Y['D'] == 1].mean()"
   ]
  },
  {
   "cell_type": "code",
   "execution_count": 15,
   "id": "f433f871",
   "metadata": {},
   "outputs": [
    {
     "data": {
      "text/plain": [
       "0.8576329331046312"
      ]
     },
     "execution_count": 15,
     "metadata": {},
     "output_type": "execute_result"
    }
   ],
   "source": [
    "Y['YS_0'][Y['D'] == 0].mean()"
   ]
  },
  {
   "cell_type": "code",
   "execution_count": 20,
   "id": "ffd2727c",
   "metadata": {},
   "outputs": [
    {
     "name": "stdout",
     "output_type": "stream",
     "text": [
      "-0.08322215869385674\n",
      "-0.08322215869385674\n"
     ]
    }
   ],
   "source": [
    "Y.mean()\n",
    "\n",
    "print(Y['YS_1'][Y['D'] == 1].mean() - Y['YS_0'][Y['D'] == 0].mean())\n",
    "print(Y['Y_1'][Y['D'] == 1].mean() - Y['Y_0'][Y['D'] == 0].mean())\n",
    "\n"
   ]
  },
  {
   "cell_type": "code",
   "execution_count": 30,
   "id": "592c1b4c",
   "metadata": {},
   "outputs": [
    {
     "name": "stdout",
     "output_type": "stream",
     "text": [
      "0.0\n"
     ]
    }
   ],
   "source": [
    "print(Y['Y_0'][Y['D'] == 0 ].mean())"
   ]
  },
  {
   "cell_type": "code",
   "execution_count": 11,
   "id": "cd184679",
   "metadata": {},
   "outputs": [
    {
     "data": {
      "text/html": [
       "<div>\n",
       "<style scoped>\n",
       "    .dataframe tbody tr th:only-of-type {\n",
       "        vertical-align: middle;\n",
       "    }\n",
       "\n",
       "    .dataframe tbody tr th {\n",
       "        vertical-align: top;\n",
       "    }\n",
       "\n",
       "    .dataframe thead th {\n",
       "        text-align: right;\n",
       "    }\n",
       "</style>\n",
       "<table border=\"1\" class=\"dataframe\">\n",
       "  <thead>\n",
       "    <tr style=\"text-align: right;\">\n",
       "      <th></th>\n",
       "      <th>do</th>\n",
       "      <th>model</th>\n",
       "      <th>alpha_0</th>\n",
       "      <th>alpha_1</th>\n",
       "      <th>beta_0</th>\n",
       "      <th>beta_1</th>\n",
       "      <th>AU-ROC</th>\n",
       "      <th>ACC</th>\n",
       "      <th>sample</th>\n",
       "    </tr>\n",
       "  </thead>\n",
       "  <tbody>\n",
       "    <tr>\n",
       "      <th>0</th>\n",
       "      <td>0</td>\n",
       "      <td>OBS</td>\n",
       "      <td>0.1</td>\n",
       "      <td>0.05</td>\n",
       "      <td>0.2</td>\n",
       "      <td>0.4</td>\n",
       "      <td>0.679203</td>\n",
       "      <td>0.682571</td>\n",
       "      <td>in-sample</td>\n",
       "    </tr>\n",
       "    <tr>\n",
       "      <th>4</th>\n",
       "      <td>0</td>\n",
       "      <td>COM</td>\n",
       "      <td>0.1</td>\n",
       "      <td>0.05</td>\n",
       "      <td>0.2</td>\n",
       "      <td>0.4</td>\n",
       "      <td>0.645239</td>\n",
       "      <td>0.659347</td>\n",
       "      <td>in-sample</td>\n",
       "    </tr>\n",
       "    <tr>\n",
       "      <th>8</th>\n",
       "      <td>0</td>\n",
       "      <td>COM-SL</td>\n",
       "      <td>0.1</td>\n",
       "      <td>0.05</td>\n",
       "      <td>0.2</td>\n",
       "      <td>0.4</td>\n",
       "      <td>0.678811</td>\n",
       "      <td>0.645833</td>\n",
       "      <td>in-sample</td>\n",
       "    </tr>\n",
       "    <tr>\n",
       "      <th>12</th>\n",
       "      <td>0</td>\n",
       "      <td>RW</td>\n",
       "      <td>0.1</td>\n",
       "      <td>0.05</td>\n",
       "      <td>0.2</td>\n",
       "      <td>0.4</td>\n",
       "      <td>0.638949</td>\n",
       "      <td>0.599662</td>\n",
       "      <td>in-sample</td>\n",
       "    </tr>\n",
       "    <tr>\n",
       "      <th>16</th>\n",
       "      <td>0</td>\n",
       "      <td>RW-SL</td>\n",
       "      <td>0.1</td>\n",
       "      <td>0.05</td>\n",
       "      <td>0.2</td>\n",
       "      <td>0.4</td>\n",
       "      <td>0.660581</td>\n",
       "      <td>0.557995</td>\n",
       "      <td>in-sample</td>\n",
       "    </tr>\n",
       "    <tr>\n",
       "      <th>20</th>\n",
       "      <td>0</td>\n",
       "      <td>Proxy Oracle</td>\n",
       "      <td>0.1</td>\n",
       "      <td>0.05</td>\n",
       "      <td>0.2</td>\n",
       "      <td>0.4</td>\n",
       "      <td>0.715481</td>\n",
       "      <td>0.644144</td>\n",
       "      <td>in-sample</td>\n",
       "    </tr>\n",
       "    <tr>\n",
       "      <th>24</th>\n",
       "      <td>0</td>\n",
       "      <td>Target Oracle</td>\n",
       "      <td>0.1</td>\n",
       "      <td>0.05</td>\n",
       "      <td>0.2</td>\n",
       "      <td>0.4</td>\n",
       "      <td>0.842527</td>\n",
       "      <td>0.774775</td>\n",
       "      <td>in-sample</td>\n",
       "    </tr>\n",
       "  </tbody>\n",
       "</table>\n",
       "</div>"
      ],
      "text/plain": [
       "    do          model  alpha_0  alpha_1  beta_0  beta_1    AU-ROC       ACC  \\\n",
       "0    0            OBS      0.1     0.05     0.2     0.4  0.679203  0.682571   \n",
       "4    0            COM      0.1     0.05     0.2     0.4  0.645239  0.659347   \n",
       "8    0         COM-SL      0.1     0.05     0.2     0.4  0.678811  0.645833   \n",
       "12   0             RW      0.1     0.05     0.2     0.4  0.638949  0.599662   \n",
       "16   0          RW-SL      0.1     0.05     0.2     0.4  0.660581  0.557995   \n",
       "20   0   Proxy Oracle      0.1     0.05     0.2     0.4  0.715481  0.644144   \n",
       "24   0  Target Oracle      0.1     0.05     0.2     0.4  0.842527  0.774775   \n",
       "\n",
       "       sample  \n",
       "0   in-sample  \n",
       "4   in-sample  \n",
       "8   in-sample  \n",
       "12  in-sample  \n",
       "16  in-sample  \n",
       "20  in-sample  \n",
       "24  in-sample  "
      ]
     },
     "execution_count": 11,
     "metadata": {},
     "output_type": "execute_result"
    }
   ],
   "source": [
    "po_benchmark[(po_benchmark['do'] == 0) & (po_benchmark['sample'] == 'in-sample')]"
   ]
  },
  {
   "cell_type": "code",
   "execution_count": 13,
   "id": "298e7f7b",
   "metadata": {},
   "outputs": [
    {
     "data": {
      "text/html": [
       "<div>\n",
       "<style scoped>\n",
       "    .dataframe tbody tr th:only-of-type {\n",
       "        vertical-align: middle;\n",
       "    }\n",
       "\n",
       "    .dataframe tbody tr th {\n",
       "        vertical-align: top;\n",
       "    }\n",
       "\n",
       "    .dataframe thead th {\n",
       "        text-align: right;\n",
       "    }\n",
       "</style>\n",
       "<table border=\"1\" class=\"dataframe\">\n",
       "  <thead>\n",
       "    <tr style=\"text-align: right;\">\n",
       "      <th></th>\n",
       "      <th>do</th>\n",
       "      <th>model</th>\n",
       "      <th>alpha_0</th>\n",
       "      <th>alpha_1</th>\n",
       "      <th>beta_0</th>\n",
       "      <th>beta_1</th>\n",
       "      <th>AU-ROC</th>\n",
       "      <th>ACC</th>\n",
       "      <th>sample</th>\n",
       "    </tr>\n",
       "  </thead>\n",
       "  <tbody>\n",
       "    <tr>\n",
       "      <th>1</th>\n",
       "      <td>0</td>\n",
       "      <td>OBS</td>\n",
       "      <td>0.3</td>\n",
       "      <td>0.1</td>\n",
       "      <td>0.1</td>\n",
       "      <td>0.3</td>\n",
       "      <td>0.414866</td>\n",
       "      <td>0.935261</td>\n",
       "      <td>out-sample</td>\n",
       "    </tr>\n",
       "    <tr>\n",
       "      <th>5</th>\n",
       "      <td>0</td>\n",
       "      <td>COM</td>\n",
       "      <td>0.3</td>\n",
       "      <td>0.1</td>\n",
       "      <td>0.1</td>\n",
       "      <td>0.3</td>\n",
       "      <td>0.496931</td>\n",
       "      <td>0.909366</td>\n",
       "      <td>out-sample</td>\n",
       "    </tr>\n",
       "    <tr>\n",
       "      <th>9</th>\n",
       "      <td>0</td>\n",
       "      <td>COM-SL</td>\n",
       "      <td>0.3</td>\n",
       "      <td>0.1</td>\n",
       "      <td>0.1</td>\n",
       "      <td>0.3</td>\n",
       "      <td>0.706481</td>\n",
       "      <td>0.930945</td>\n",
       "      <td>out-sample</td>\n",
       "    </tr>\n",
       "    <tr>\n",
       "      <th>13</th>\n",
       "      <td>0</td>\n",
       "      <td>RW</td>\n",
       "      <td>0.3</td>\n",
       "      <td>0.1</td>\n",
       "      <td>0.1</td>\n",
       "      <td>0.3</td>\n",
       "      <td>0.502712</td>\n",
       "      <td>0.936556</td>\n",
       "      <td>out-sample</td>\n",
       "    </tr>\n",
       "    <tr>\n",
       "      <th>17</th>\n",
       "      <td>0</td>\n",
       "      <td>RW-SL</td>\n",
       "      <td>0.3</td>\n",
       "      <td>0.1</td>\n",
       "      <td>0.1</td>\n",
       "      <td>0.3</td>\n",
       "      <td>0.701279</td>\n",
       "      <td>0.930082</td>\n",
       "      <td>out-sample</td>\n",
       "    </tr>\n",
       "    <tr>\n",
       "      <th>21</th>\n",
       "      <td>0</td>\n",
       "      <td>Proxy Oracle</td>\n",
       "      <td>0.3</td>\n",
       "      <td>0.1</td>\n",
       "      <td>0.1</td>\n",
       "      <td>0.3</td>\n",
       "      <td>0.528180</td>\n",
       "      <td>0.914113</td>\n",
       "      <td>out-sample</td>\n",
       "    </tr>\n",
       "    <tr>\n",
       "      <th>25</th>\n",
       "      <td>0</td>\n",
       "      <td>Target Oracle</td>\n",
       "      <td>0.3</td>\n",
       "      <td>0.1</td>\n",
       "      <td>0.1</td>\n",
       "      <td>0.3</td>\n",
       "      <td>0.969201</td>\n",
       "      <td>0.940872</td>\n",
       "      <td>out-sample</td>\n",
       "    </tr>\n",
       "  </tbody>\n",
       "</table>\n",
       "</div>"
      ],
      "text/plain": [
       "    do          model  alpha_0  alpha_1  beta_0  beta_1    AU-ROC       ACC  \\\n",
       "1    0            OBS      0.3      0.1     0.1     0.3  0.414866  0.935261   \n",
       "5    0            COM      0.3      0.1     0.1     0.3  0.496931  0.909366   \n",
       "9    0         COM-SL      0.3      0.1     0.1     0.3  0.706481  0.930945   \n",
       "13   0             RW      0.3      0.1     0.1     0.3  0.502712  0.936556   \n",
       "17   0          RW-SL      0.3      0.1     0.1     0.3  0.701279  0.930082   \n",
       "21   0   Proxy Oracle      0.3      0.1     0.1     0.3  0.528180  0.914113   \n",
       "25   0  Target Oracle      0.3      0.1     0.1     0.3  0.969201  0.940872   \n",
       "\n",
       "        sample  \n",
       "1   out-sample  \n",
       "5   out-sample  \n",
       "9   out-sample  \n",
       "13  out-sample  \n",
       "17  out-sample  \n",
       "21  out-sample  \n",
       "25  out-sample  "
      ]
     },
     "execution_count": 13,
     "metadata": {},
     "output_type": "execute_result"
    }
   ],
   "source": [
    "# This is for accuracy of models predicting potential outcomes on held-out data\n",
    "po_benchmark[(po_benchmark['do'] == 0) & (po_benchmark['sample'] == 'out-sample')]"
   ]
  },
  {
   "cell_type": "code",
   "execution_count": 6,
   "id": "ef71131f",
   "metadata": {},
   "outputs": [],
   "source": [
    "syn1d = {\n",
    "    'name': 'synthetic_1D_sinusoidal',\n",
    "    'NS': 10000,\n",
    "    'config': {\n",
    "        'Y0_PDF': 'piecewise_sinusoid',\n",
    "        'Y1_PDF': 'low_base_rate_sinusoid',\n",
    "        'PI_PDF': 'linear'\n",
    "        }\n",
    "}\n",
    "ohie = {\n",
    "    'name': 'ohie',\n",
    "    'path': 'data/OHIE/ohie_data.csv'\n",
    "}\n",
    "\n",
    "param_configs = [{\n",
    "    'alpha_0': 0,\n",
    "    'alpha_1': 0,\n",
    "    'beta_0': 0,\n",
    "    'beta_1': 0 \n",
    "}]\n",
    "\n",
    "\n",
    "X, Y = load_dataset(ohie, param_configs[0])\n",
    "\n",
    "\n",
    "data = Y"
   ]
  },
  {
   "cell_type": "code",
   "execution_count": 8,
   "id": "b38c4a6d",
   "metadata": {},
   "outputs": [
    {
     "data": {
      "text/plain": [
       "(7723, 58)"
      ]
     },
     "execution_count": 8,
     "metadata": {},
     "output_type": "execute_result"
    }
   ],
   "source": [
    "X.shape"
   ]
  },
  {
   "cell_type": "code",
   "execution_count": 35,
   "id": "6b3334f0",
   "metadata": {},
   "outputs": [
    {
     "data": {
      "text/plain": [
       "0.010904044409199048"
      ]
     },
     "execution_count": 35,
     "metadata": {},
     "output_type": "execute_result"
    }
   ],
   "source": [
    "Y_0[D==1].mean()"
   ]
  },
  {
   "cell_type": "code",
   "execution_count": 34,
   "id": "74e11d74",
   "metadata": {},
   "outputs": [
    {
     "data": {
      "text/plain": [
       "0.010895883777239709"
      ]
     },
     "execution_count": 34,
     "metadata": {},
     "output_type": "execute_result"
    }
   ],
   "source": [
    "Y_0[D==0].mean()"
   ]
  },
  {
   "cell_type": "code",
   "execution_count": 5,
   "id": "f5cea5b4",
   "metadata": {},
   "outputs": [
    {
     "data": {
      "text/html": [
       "<div>\n",
       "<style scoped>\n",
       "    .dataframe tbody tr th:only-of-type {\n",
       "        vertical-align: middle;\n",
       "    }\n",
       "\n",
       "    .dataframe tbody tr th {\n",
       "        vertical-align: top;\n",
       "    }\n",
       "\n",
       "    .dataframe thead th {\n",
       "        text-align: right;\n",
       "    }\n",
       "</style>\n",
       "<table border=\"1\" class=\"dataframe\">\n",
       "  <thead>\n",
       "    <tr style=\"text-align: right;\">\n",
       "      <th></th>\n",
       "      <th>do</th>\n",
       "      <th>model</th>\n",
       "      <th>alpha_0</th>\n",
       "      <th>alpha_1</th>\n",
       "      <th>beta_0</th>\n",
       "      <th>beta_1</th>\n",
       "      <th>AU-ROC</th>\n",
       "      <th>ACC</th>\n",
       "      <th>sample</th>\n",
       "    </tr>\n",
       "  </thead>\n",
       "  <tbody>\n",
       "    <tr>\n",
       "      <th>1</th>\n",
       "      <td>0</td>\n",
       "      <td>OBS</td>\n",
       "      <td>0.3</td>\n",
       "      <td>0.1</td>\n",
       "      <td>0.1</td>\n",
       "      <td>0.3</td>\n",
       "      <td>0.500000</td>\n",
       "      <td>0.502667</td>\n",
       "      <td>out-sample</td>\n",
       "    </tr>\n",
       "    <tr>\n",
       "      <th>5</th>\n",
       "      <td>0</td>\n",
       "      <td>COM</td>\n",
       "      <td>0.3</td>\n",
       "      <td>0.1</td>\n",
       "      <td>0.1</td>\n",
       "      <td>0.3</td>\n",
       "      <td>0.381048</td>\n",
       "      <td>0.502667</td>\n",
       "      <td>out-sample</td>\n",
       "    </tr>\n",
       "    <tr>\n",
       "      <th>9</th>\n",
       "      <td>0</td>\n",
       "      <td>COM-SL</td>\n",
       "      <td>0.3</td>\n",
       "      <td>0.1</td>\n",
       "      <td>0.1</td>\n",
       "      <td>0.3</td>\n",
       "      <td>0.430173</td>\n",
       "      <td>0.502667</td>\n",
       "      <td>out-sample</td>\n",
       "    </tr>\n",
       "    <tr>\n",
       "      <th>13</th>\n",
       "      <td>0</td>\n",
       "      <td>RW</td>\n",
       "      <td>0.3</td>\n",
       "      <td>0.1</td>\n",
       "      <td>0.1</td>\n",
       "      <td>0.3</td>\n",
       "      <td>0.381048</td>\n",
       "      <td>0.502667</td>\n",
       "      <td>out-sample</td>\n",
       "    </tr>\n",
       "    <tr>\n",
       "      <th>17</th>\n",
       "      <td>0</td>\n",
       "      <td>RW-SL</td>\n",
       "      <td>0.3</td>\n",
       "      <td>0.1</td>\n",
       "      <td>0.1</td>\n",
       "      <td>0.3</td>\n",
       "      <td>0.395314</td>\n",
       "      <td>0.502667</td>\n",
       "      <td>out-sample</td>\n",
       "    </tr>\n",
       "    <tr>\n",
       "      <th>21</th>\n",
       "      <td>0</td>\n",
       "      <td>Proxy Oracle</td>\n",
       "      <td>0.3</td>\n",
       "      <td>0.1</td>\n",
       "      <td>0.1</td>\n",
       "      <td>0.3</td>\n",
       "      <td>0.382958</td>\n",
       "      <td>0.502667</td>\n",
       "      <td>out-sample</td>\n",
       "    </tr>\n",
       "    <tr>\n",
       "      <th>25</th>\n",
       "      <td>0</td>\n",
       "      <td>Target Oracle</td>\n",
       "      <td>0.3</td>\n",
       "      <td>0.1</td>\n",
       "      <td>0.1</td>\n",
       "      <td>0.3</td>\n",
       "      <td>0.840992</td>\n",
       "      <td>0.770667</td>\n",
       "      <td>out-sample</td>\n",
       "    </tr>\n",
       "  </tbody>\n",
       "</table>\n",
       "</div>"
      ],
      "text/plain": [
       "    do          model  alpha_0  alpha_1  beta_0  beta_1    AU-ROC       ACC  \\\n",
       "1    0            OBS      0.3      0.1     0.1     0.3  0.500000  0.502667   \n",
       "5    0            COM      0.3      0.1     0.1     0.3  0.381048  0.502667   \n",
       "9    0         COM-SL      0.3      0.1     0.1     0.3  0.430173  0.502667   \n",
       "13   0             RW      0.3      0.1     0.1     0.3  0.381048  0.502667   \n",
       "17   0          RW-SL      0.3      0.1     0.1     0.3  0.395314  0.502667   \n",
       "21   0   Proxy Oracle      0.3      0.1     0.1     0.3  0.382958  0.502667   \n",
       "25   0  Target Oracle      0.3      0.1     0.1     0.3  0.840992  0.770667   \n",
       "\n",
       "        sample  \n",
       "1   out-sample  \n",
       "5   out-sample  \n",
       "9   out-sample  \n",
       "13  out-sample  \n",
       "17  out-sample  \n",
       "21  out-sample  \n",
       "25  out-sample  "
      ]
     },
     "execution_count": 5,
     "metadata": {},
     "output_type": "execute_result"
    }
   ],
   "source": [
    "po_benchmark[(po_benchmark['do'] == 0) & (po_benchmark['sample'] == 'out-sample') ]"
   ]
  },
  {
   "cell_type": "code",
   "execution_count": 3,
   "id": "a446f24c",
   "metadata": {
    "scrolled": true
   },
   "outputs": [
    {
     "name": "stdout",
     "output_type": "stream",
     "text": [
      "======================================================================\n",
      "RUN: 0, model: OBS, alpha: 0.4, beta: 0.05\n",
      "====================================================================== \n",
      "\n"
     ]
    },
    {
     "name": "stderr",
     "output_type": "stream",
     "text": [
      "Target: Y: 100%|██████████████████████████████████| 2/2 [00:01<00:00,  1.14it/s]\n"
     ]
    },
    {
     "name": "stdout",
     "output_type": "stream",
     "text": [
      "======================================================================\n",
      "RUN: 0, model: OBS, alpha: 0.1, beta: 0.3\n",
      "====================================================================== \n",
      "\n"
     ]
    },
    {
     "name": "stderr",
     "output_type": "stream",
     "text": [
      "Target: Y: 100%|██████████████████████████████████| 2/2 [00:01<00:00,  1.33it/s]\n"
     ]
    },
    {
     "name": "stdout",
     "output_type": "stream",
     "text": [
      "======================================================================\n",
      "RUN: 0, model: COM, alpha: 0.4, beta: 0.05\n",
      "====================================================================== \n",
      "\n"
     ]
    },
    {
     "name": "stderr",
     "output_type": "stream",
     "text": [
      "Target: Y: 100%|██████████████████████████████████| 2/2 [00:01<00:00,  1.52it/s]\n"
     ]
    },
    {
     "name": "stdout",
     "output_type": "stream",
     "text": [
      "======================================================================\n",
      "RUN: 0, model: COM, alpha: 0.1, beta: 0.3\n",
      "====================================================================== \n",
      "\n"
     ]
    },
    {
     "name": "stderr",
     "output_type": "stream",
     "text": [
      "Target: Y: 100%|██████████████████████████████████| 2/2 [00:01<00:00,  1.50it/s]\n"
     ]
    },
    {
     "name": "stdout",
     "output_type": "stream",
     "text": [
      "======================================================================\n",
      "RUN: 0, model: COM-SL, alpha: 0.4, beta: 0.05\n",
      "====================================================================== \n",
      "\n"
     ]
    },
    {
     "name": "stderr",
     "output_type": "stream",
     "text": [
      "Target: Y: 100%|██████████████████████████████████| 2/2 [00:01<00:00,  1.46it/s]\n"
     ]
    },
    {
     "name": "stdout",
     "output_type": "stream",
     "text": [
      "======================================================================\n",
      "RUN: 0, model: COM-SL, alpha: 0.1, beta: 0.3\n",
      "====================================================================== \n",
      "\n"
     ]
    },
    {
     "name": "stderr",
     "output_type": "stream",
     "text": [
      "Target: Y: 100%|██████████████████████████████████| 2/2 [00:01<00:00,  1.47it/s]\n"
     ]
    },
    {
     "name": "stdout",
     "output_type": "stream",
     "text": [
      "======================================================================\n",
      "RUN: 0, model: RW, alpha: 0.4, beta: 0.05\n",
      "====================================================================== \n",
      "\n"
     ]
    },
    {
     "name": "stderr",
     "output_type": "stream",
     "text": [
      "Target: Y: 100%|██████████████████████████████████| 2/2 [00:01<00:00,  1.46it/s]\n"
     ]
    },
    {
     "name": "stdout",
     "output_type": "stream",
     "text": [
      "======================================================================\n",
      "RUN: 0, model: RW, alpha: 0.1, beta: 0.3\n",
      "====================================================================== \n",
      "\n"
     ]
    },
    {
     "name": "stderr",
     "output_type": "stream",
     "text": [
      "Target: Y: 100%|██████████████████████████████████| 2/2 [00:01<00:00,  1.50it/s]\n"
     ]
    },
    {
     "name": "stdout",
     "output_type": "stream",
     "text": [
      "======================================================================\n",
      "RUN: 0, model: RW-SL, alpha: 0.4, beta: 0.05\n",
      "====================================================================== \n",
      "\n"
     ]
    },
    {
     "name": "stderr",
     "output_type": "stream",
     "text": [
      "Target: Y: 100%|██████████████████████████████████| 2/2 [00:01<00:00,  1.46it/s]\n"
     ]
    },
    {
     "name": "stdout",
     "output_type": "stream",
     "text": [
      "======================================================================\n",
      "RUN: 0, model: RW-SL, alpha: 0.1, beta: 0.3\n",
      "====================================================================== \n",
      "\n"
     ]
    },
    {
     "name": "stderr",
     "output_type": "stream",
     "text": [
      "Target: Y: 100%|██████████████████████████████████| 2/2 [00:01<00:00,  1.44it/s]\n"
     ]
    },
    {
     "name": "stdout",
     "output_type": "stream",
     "text": [
      "======================================================================\n",
      "RUN: 0, model: Proxy Oracle, alpha: 0.4, beta: 0.05\n",
      "====================================================================== \n",
      "\n"
     ]
    },
    {
     "name": "stderr",
     "output_type": "stream",
     "text": [
      "Target: Y_0: 100%|████████████████████████████████| 2/2 [00:01<00:00,  1.53it/s]\n"
     ]
    },
    {
     "name": "stdout",
     "output_type": "stream",
     "text": [
      "======================================================================\n",
      "RUN: 0, model: Proxy Oracle, alpha: 0.1, beta: 0.3\n",
      "====================================================================== \n",
      "\n"
     ]
    },
    {
     "name": "stderr",
     "output_type": "stream",
     "text": [
      "Target: Y_1: 100%|████████████████████████████████| 2/2 [00:01<00:00,  1.50it/s]\n"
     ]
    },
    {
     "name": "stdout",
     "output_type": "stream",
     "text": [
      "======================================================================\n",
      "RUN: 0, model: Target Oracle, alpha: 0.4, beta: 0.05\n",
      "====================================================================== \n",
      "\n"
     ]
    },
    {
     "name": "stderr",
     "output_type": "stream",
     "text": [
      "Target: YS_0: 100%|███████████████████████████████| 2/2 [00:01<00:00,  1.51it/s]\n"
     ]
    },
    {
     "name": "stdout",
     "output_type": "stream",
     "text": [
      "======================================================================\n",
      "RUN: 0, model: Target Oracle, alpha: 0.1, beta: 0.3\n",
      "====================================================================== \n",
      "\n"
     ]
    },
    {
     "name": "stderr",
     "output_type": "stream",
     "text": [
      "Target: YS_1: 100%|███████████████████████████████| 2/2 [00:01<00:00,  1.53it/s]\n",
      "/var/folders/w_/rwxvw5hn1ng2qvm6353gkvqw0000gr/T/ipykernel_12495/575684727.py:13: FutureWarning: The frame.append method is deprecated and will be removed from pandas in a future version. Use pandas.concat instead.\n",
      "  te_benchmark.append(te_benchmark)\n"
     ]
    },
    {
     "name": "stdout",
     "output_type": "stream",
     "text": [
      "======================================================================\n",
      "RUN: 0, model: OBS, alpha: 0.4, beta: 0.05\n",
      "====================================================================== \n",
      "\n"
     ]
    },
    {
     "name": "stderr",
     "output_type": "stream",
     "text": [
      "Target: Y: 100%|██████████████████████████████████| 2/2 [00:01<00:00,  1.47it/s]\n"
     ]
    },
    {
     "name": "stdout",
     "output_type": "stream",
     "text": [
      "======================================================================\n",
      "RUN: 0, model: OBS, alpha: 0.1, beta: 0.3\n",
      "====================================================================== \n",
      "\n"
     ]
    },
    {
     "name": "stderr",
     "output_type": "stream",
     "text": [
      "Target: Y: 100%|██████████████████████████████████| 2/2 [00:01<00:00,  1.46it/s]\n"
     ]
    },
    {
     "name": "stdout",
     "output_type": "stream",
     "text": [
      "======================================================================\n",
      "RUN: 0, model: COM, alpha: 0.4, beta: 0.05\n",
      "====================================================================== \n",
      "\n"
     ]
    },
    {
     "name": "stderr",
     "output_type": "stream",
     "text": [
      "Target: Y: 100%|██████████████████████████████████| 2/2 [00:01<00:00,  1.61it/s]\n"
     ]
    },
    {
     "name": "stdout",
     "output_type": "stream",
     "text": [
      "======================================================================\n",
      "RUN: 0, model: COM, alpha: 0.1, beta: 0.3\n",
      "====================================================================== \n",
      "\n"
     ]
    },
    {
     "name": "stderr",
     "output_type": "stream",
     "text": [
      "Target: Y: 100%|██████████████████████████████████| 2/2 [00:01<00:00,  1.63it/s]\n"
     ]
    },
    {
     "name": "stdout",
     "output_type": "stream",
     "text": [
      "======================================================================\n",
      "RUN: 0, model: COM-SL, alpha: 0.4, beta: 0.05\n",
      "====================================================================== \n",
      "\n"
     ]
    },
    {
     "name": "stderr",
     "output_type": "stream",
     "text": [
      "Target: Y: 100%|██████████████████████████████████| 2/2 [00:01<00:00,  1.61it/s]\n"
     ]
    },
    {
     "name": "stdout",
     "output_type": "stream",
     "text": [
      "======================================================================\n",
      "RUN: 0, model: COM-SL, alpha: 0.1, beta: 0.3\n",
      "====================================================================== \n",
      "\n"
     ]
    },
    {
     "name": "stderr",
     "output_type": "stream",
     "text": [
      "Target: Y: 100%|██████████████████████████████████| 2/2 [00:01<00:00,  1.59it/s]\n"
     ]
    },
    {
     "name": "stdout",
     "output_type": "stream",
     "text": [
      "======================================================================\n",
      "RUN: 0, model: RW, alpha: 0.4, beta: 0.05\n",
      "====================================================================== \n",
      "\n"
     ]
    },
    {
     "name": "stderr",
     "output_type": "stream",
     "text": [
      "Target: Y: 100%|██████████████████████████████████| 2/2 [00:01<00:00,  1.60it/s]\n"
     ]
    },
    {
     "name": "stdout",
     "output_type": "stream",
     "text": [
      "======================================================================\n",
      "RUN: 0, model: RW, alpha: 0.1, beta: 0.3\n",
      "====================================================================== \n",
      "\n"
     ]
    },
    {
     "name": "stderr",
     "output_type": "stream",
     "text": [
      "Target: Y: 100%|██████████████████████████████████| 2/2 [00:01<00:00,  1.59it/s]\n"
     ]
    },
    {
     "name": "stdout",
     "output_type": "stream",
     "text": [
      "======================================================================\n",
      "RUN: 0, model: RW-SL, alpha: 0.4, beta: 0.05\n",
      "====================================================================== \n",
      "\n"
     ]
    },
    {
     "name": "stderr",
     "output_type": "stream",
     "text": [
      "Target: Y: 100%|██████████████████████████████████| 2/2 [00:01<00:00,  1.58it/s]\n"
     ]
    },
    {
     "name": "stdout",
     "output_type": "stream",
     "text": [
      "======================================================================\n",
      "RUN: 0, model: RW-SL, alpha: 0.1, beta: 0.3\n",
      "====================================================================== \n",
      "\n"
     ]
    },
    {
     "name": "stderr",
     "output_type": "stream",
     "text": [
      "Target: Y: 100%|██████████████████████████████████| 2/2 [00:01<00:00,  1.55it/s]\n"
     ]
    },
    {
     "name": "stdout",
     "output_type": "stream",
     "text": [
      "======================================================================\n",
      "RUN: 0, model: Proxy Oracle, alpha: 0.4, beta: 0.05\n",
      "====================================================================== \n",
      "\n"
     ]
    },
    {
     "name": "stderr",
     "output_type": "stream",
     "text": [
      "Target: Y_0: 100%|████████████████████████████████| 2/2 [00:01<00:00,  1.62it/s]\n"
     ]
    },
    {
     "name": "stdout",
     "output_type": "stream",
     "text": [
      "======================================================================\n",
      "RUN: 0, model: Proxy Oracle, alpha: 0.1, beta: 0.3\n",
      "====================================================================== \n",
      "\n"
     ]
    },
    {
     "name": "stderr",
     "output_type": "stream",
     "text": [
      "Target: Y_1: 100%|████████████████████████████████| 2/2 [00:01<00:00,  1.44it/s]\n"
     ]
    },
    {
     "name": "stdout",
     "output_type": "stream",
     "text": [
      "======================================================================\n",
      "RUN: 0, model: Target Oracle, alpha: 0.4, beta: 0.05\n",
      "====================================================================== \n",
      "\n"
     ]
    },
    {
     "name": "stderr",
     "output_type": "stream",
     "text": [
      "Target: YS_0: 100%|███████████████████████████████| 2/2 [00:01<00:00,  1.46it/s]\n"
     ]
    },
    {
     "name": "stdout",
     "output_type": "stream",
     "text": [
      "======================================================================\n",
      "RUN: 0, model: Target Oracle, alpha: 0.1, beta: 0.3\n",
      "====================================================================== \n",
      "\n"
     ]
    },
    {
     "name": "stderr",
     "output_type": "stream",
     "text": [
      "Target: YS_1: 100%|███████████████████████████████| 2/2 [00:01<00:00,  1.45it/s]\n",
      "/var/folders/w_/rwxvw5hn1ng2qvm6353gkvqw0000gr/T/ipykernel_12495/575684727.py:13: FutureWarning: The frame.append method is deprecated and will be removed from pandas in a future version. Use pandas.concat instead.\n",
      "  te_benchmark.append(te_benchmark)\n"
     ]
    },
    {
     "name": "stdout",
     "output_type": "stream",
     "text": [
      "======================================================================\n",
      "RUN: 0, model: OBS, alpha: 0.4, beta: 0.05\n",
      "====================================================================== \n",
      "\n"
     ]
    },
    {
     "name": "stderr",
     "output_type": "stream",
     "text": [
      "Target: Y: 100%|██████████████████████████████████| 2/2 [00:01<00:00,  1.13it/s]\n"
     ]
    },
    {
     "name": "stdout",
     "output_type": "stream",
     "text": [
      "======================================================================\n",
      "RUN: 0, model: OBS, alpha: 0.1, beta: 0.3\n",
      "====================================================================== \n",
      "\n"
     ]
    },
    {
     "name": "stderr",
     "output_type": "stream",
     "text": [
      "Target: Y: 100%|██████████████████████████████████| 2/2 [00:01<00:00,  1.33it/s]\n"
     ]
    },
    {
     "name": "stdout",
     "output_type": "stream",
     "text": [
      "======================================================================\n",
      "RUN: 0, model: COM, alpha: 0.4, beta: 0.05\n",
      "====================================================================== \n",
      "\n"
     ]
    },
    {
     "name": "stderr",
     "output_type": "stream",
     "text": [
      "Target: Y: 100%|██████████████████████████████████| 2/2 [00:01<00:00,  1.19it/s]\n"
     ]
    },
    {
     "name": "stdout",
     "output_type": "stream",
     "text": [
      "======================================================================\n",
      "RUN: 0, model: COM, alpha: 0.1, beta: 0.3\n",
      "====================================================================== \n",
      "\n"
     ]
    },
    {
     "name": "stderr",
     "output_type": "stream",
     "text": [
      "Target: Y: 100%|██████████████████████████████████| 2/2 [00:01<00:00,  1.41it/s]\n"
     ]
    },
    {
     "name": "stdout",
     "output_type": "stream",
     "text": [
      "======================================================================\n",
      "RUN: 0, model: COM-SL, alpha: 0.4, beta: 0.05\n",
      "====================================================================== \n",
      "\n"
     ]
    },
    {
     "name": "stderr",
     "output_type": "stream",
     "text": [
      "Target: Y: 100%|██████████████████████████████████| 2/2 [00:01<00:00,  1.11it/s]\n"
     ]
    },
    {
     "name": "stdout",
     "output_type": "stream",
     "text": [
      "======================================================================\n",
      "RUN: 0, model: COM-SL, alpha: 0.1, beta: 0.3\n",
      "====================================================================== \n",
      "\n"
     ]
    },
    {
     "name": "stderr",
     "output_type": "stream",
     "text": [
      "Target: Y: 100%|██████████████████████████████████| 2/2 [00:01<00:00,  1.40it/s]\n"
     ]
    },
    {
     "name": "stdout",
     "output_type": "stream",
     "text": [
      "======================================================================\n",
      "RUN: 0, model: RW, alpha: 0.4, beta: 0.05\n",
      "====================================================================== \n",
      "\n"
     ]
    },
    {
     "name": "stderr",
     "output_type": "stream",
     "text": [
      "Target: Y: 100%|██████████████████████████████████| 2/2 [00:01<00:00,  1.41it/s]\n"
     ]
    },
    {
     "name": "stdout",
     "output_type": "stream",
     "text": [
      "======================================================================\n",
      "RUN: 0, model: RW, alpha: 0.1, beta: 0.3\n",
      "====================================================================== \n",
      "\n"
     ]
    },
    {
     "name": "stderr",
     "output_type": "stream",
     "text": [
      "Target: Y: 100%|██████████████████████████████████| 2/2 [00:01<00:00,  1.57it/s]\n"
     ]
    },
    {
     "name": "stdout",
     "output_type": "stream",
     "text": [
      "======================================================================\n",
      "RUN: 0, model: RW-SL, alpha: 0.4, beta: 0.05\n",
      "====================================================================== \n",
      "\n"
     ]
    },
    {
     "name": "stderr",
     "output_type": "stream",
     "text": [
      "Target: Y: 100%|██████████████████████████████████| 2/2 [00:01<00:00,  1.42it/s]\n"
     ]
    },
    {
     "name": "stdout",
     "output_type": "stream",
     "text": [
      "======================================================================\n",
      "RUN: 0, model: RW-SL, alpha: 0.1, beta: 0.3\n",
      "====================================================================== \n",
      "\n"
     ]
    },
    {
     "name": "stderr",
     "output_type": "stream",
     "text": [
      "Target: Y: 100%|██████████████████████████████████| 2/2 [00:01<00:00,  1.58it/s]\n"
     ]
    },
    {
     "name": "stdout",
     "output_type": "stream",
     "text": [
      "======================================================================\n",
      "RUN: 0, model: Proxy Oracle, alpha: 0.4, beta: 0.05\n",
      "====================================================================== \n",
      "\n"
     ]
    },
    {
     "name": "stderr",
     "output_type": "stream",
     "text": [
      "Target: Y_0: 100%|████████████████████████████████| 2/2 [00:01<00:00,  1.44it/s]\n"
     ]
    },
    {
     "name": "stdout",
     "output_type": "stream",
     "text": [
      "======================================================================\n",
      "RUN: 0, model: Proxy Oracle, alpha: 0.1, beta: 0.3\n",
      "====================================================================== \n",
      "\n"
     ]
    },
    {
     "name": "stderr",
     "output_type": "stream",
     "text": [
      "Target: Y_1: 100%|████████████████████████████████| 2/2 [00:01<00:00,  1.53it/s]\n"
     ]
    },
    {
     "name": "stdout",
     "output_type": "stream",
     "text": [
      "======================================================================\n",
      "RUN: 0, model: Target Oracle, alpha: 0.4, beta: 0.05\n",
      "====================================================================== \n",
      "\n"
     ]
    },
    {
     "name": "stderr",
     "output_type": "stream",
     "text": [
      "Target: YS_0: 100%|███████████████████████████████| 2/2 [00:01<00:00,  1.51it/s]\n"
     ]
    },
    {
     "name": "stdout",
     "output_type": "stream",
     "text": [
      "======================================================================\n",
      "RUN: 0, model: Target Oracle, alpha: 0.1, beta: 0.3\n",
      "====================================================================== \n",
      "\n"
     ]
    },
    {
     "name": "stderr",
     "output_type": "stream",
     "text": [
      "Target: YS_1: 100%|███████████████████████████████| 2/2 [00:01<00:00,  1.59it/s]\n",
      "/var/folders/w_/rwxvw5hn1ng2qvm6353gkvqw0000gr/T/ipykernel_12495/575684727.py:13: FutureWarning: The frame.append method is deprecated and will be removed from pandas in a future version. Use pandas.concat instead.\n",
      "  te_benchmark.append(te_benchmark)\n"
     ]
    },
    {
     "name": "stdout",
     "output_type": "stream",
     "text": [
      "======================================================================\n",
      "RUN: 0, model: OBS, alpha: 0.4, beta: 0.05\n",
      "====================================================================== \n",
      "\n"
     ]
    },
    {
     "name": "stderr",
     "output_type": "stream",
     "text": [
      "Target: Y: 100%|██████████████████████████████████| 2/2 [00:01<00:00,  1.42it/s]\n"
     ]
    },
    {
     "name": "stdout",
     "output_type": "stream",
     "text": [
      "======================================================================\n",
      "RUN: 0, model: OBS, alpha: 0.1, beta: 0.3\n",
      "====================================================================== \n",
      "\n"
     ]
    },
    {
     "name": "stderr",
     "output_type": "stream",
     "text": [
      "Target: Y: 100%|██████████████████████████████████| 2/2 [00:01<00:00,  1.39it/s]\n"
     ]
    },
    {
     "name": "stdout",
     "output_type": "stream",
     "text": [
      "======================================================================\n",
      "RUN: 0, model: COM, alpha: 0.4, beta: 0.05\n",
      "====================================================================== \n",
      "\n"
     ]
    },
    {
     "name": "stderr",
     "output_type": "stream",
     "text": [
      "Target: Y: 100%|██████████████████████████████████| 2/2 [00:01<00:00,  1.52it/s]\n"
     ]
    },
    {
     "name": "stdout",
     "output_type": "stream",
     "text": [
      "======================================================================\n",
      "RUN: 0, model: COM, alpha: 0.1, beta: 0.3\n",
      "====================================================================== \n",
      "\n"
     ]
    },
    {
     "name": "stderr",
     "output_type": "stream",
     "text": [
      "Target: Y: 100%|██████████████████████████████████| 2/2 [00:01<00:00,  1.52it/s]\n"
     ]
    },
    {
     "name": "stdout",
     "output_type": "stream",
     "text": [
      "======================================================================\n",
      "RUN: 0, model: COM-SL, alpha: 0.4, beta: 0.05\n",
      "====================================================================== \n",
      "\n"
     ]
    },
    {
     "name": "stderr",
     "output_type": "stream",
     "text": [
      "Target: Y: 100%|██████████████████████████████████| 2/2 [00:01<00:00,  1.46it/s]\n"
     ]
    },
    {
     "name": "stdout",
     "output_type": "stream",
     "text": [
      "======================================================================\n",
      "RUN: 0, model: COM-SL, alpha: 0.1, beta: 0.3\n",
      "====================================================================== \n",
      "\n"
     ]
    },
    {
     "name": "stderr",
     "output_type": "stream",
     "text": [
      "Target: Y: 100%|██████████████████████████████████| 2/2 [00:01<00:00,  1.60it/s]\n"
     ]
    },
    {
     "name": "stdout",
     "output_type": "stream",
     "text": [
      "======================================================================\n",
      "RUN: 0, model: RW, alpha: 0.4, beta: 0.05\n",
      "====================================================================== \n",
      "\n"
     ]
    },
    {
     "name": "stderr",
     "output_type": "stream",
     "text": [
      "Target: Y: 100%|██████████████████████████████████| 2/2 [00:01<00:00,  1.53it/s]\n"
     ]
    },
    {
     "name": "stdout",
     "output_type": "stream",
     "text": [
      "======================================================================\n",
      "RUN: 0, model: RW, alpha: 0.1, beta: 0.3\n",
      "====================================================================== \n",
      "\n"
     ]
    },
    {
     "name": "stderr",
     "output_type": "stream",
     "text": [
      "Target: Y: 100%|██████████████████████████████████| 2/2 [00:01<00:00,  1.55it/s]\n"
     ]
    },
    {
     "name": "stdout",
     "output_type": "stream",
     "text": [
      "======================================================================\n",
      "RUN: 0, model: RW-SL, alpha: 0.4, beta: 0.05\n",
      "====================================================================== \n",
      "\n"
     ]
    },
    {
     "name": "stderr",
     "output_type": "stream",
     "text": [
      "Target: Y: 100%|██████████████████████████████████| 2/2 [00:01<00:00,  1.50it/s]\n"
     ]
    },
    {
     "name": "stdout",
     "output_type": "stream",
     "text": [
      "======================================================================\n",
      "RUN: 0, model: RW-SL, alpha: 0.1, beta: 0.3\n",
      "====================================================================== \n",
      "\n"
     ]
    },
    {
     "name": "stderr",
     "output_type": "stream",
     "text": [
      "Target: Y: 100%|██████████████████████████████████| 2/2 [00:01<00:00,  1.58it/s]\n"
     ]
    },
    {
     "name": "stdout",
     "output_type": "stream",
     "text": [
      "======================================================================\n",
      "RUN: 0, model: Proxy Oracle, alpha: 0.4, beta: 0.05\n",
      "====================================================================== \n",
      "\n"
     ]
    },
    {
     "name": "stderr",
     "output_type": "stream",
     "text": [
      "Target: Y_0: 100%|████████████████████████████████| 2/2 [00:01<00:00,  1.55it/s]\n"
     ]
    },
    {
     "name": "stdout",
     "output_type": "stream",
     "text": [
      "======================================================================\n",
      "RUN: 0, model: Proxy Oracle, alpha: 0.1, beta: 0.3\n",
      "====================================================================== \n",
      "\n"
     ]
    },
    {
     "name": "stderr",
     "output_type": "stream",
     "text": [
      "Target: Y_1: 100%|████████████████████████████████| 2/2 [00:01<00:00,  1.64it/s]\n"
     ]
    },
    {
     "name": "stdout",
     "output_type": "stream",
     "text": [
      "======================================================================\n",
      "RUN: 0, model: Target Oracle, alpha: 0.4, beta: 0.05\n",
      "====================================================================== \n",
      "\n"
     ]
    },
    {
     "name": "stderr",
     "output_type": "stream",
     "text": [
      "Target: YS_0: 100%|███████████████████████████████| 2/2 [00:01<00:00,  1.48it/s]\n"
     ]
    },
    {
     "name": "stdout",
     "output_type": "stream",
     "text": [
      "======================================================================\n",
      "RUN: 0, model: Target Oracle, alpha: 0.1, beta: 0.3\n",
      "====================================================================== \n",
      "\n"
     ]
    },
    {
     "name": "stderr",
     "output_type": "stream",
     "text": [
      "Target: YS_1: 100%|███████████████████████████████| 2/2 [00:01<00:00,  1.61it/s]\n",
      "/var/folders/w_/rwxvw5hn1ng2qvm6353gkvqw0000gr/T/ipykernel_12495/575684727.py:13: FutureWarning: The frame.append method is deprecated and will be removed from pandas in a future version. Use pandas.concat instead.\n",
      "  te_benchmark.append(te_benchmark)\n"
     ]
    }
   ],
   "source": [
    "po_results = []\n",
    "te_results = []\n",
    "\n",
    "for benchmark in benchmarks:\n",
    "\n",
    "    po_benchmark, te_benchmark = run_baseline_comparison_exp(benchmark, baselines,\n",
    "                                              param_configs, N_RUNS=1, n_epochs=2)\n",
    "    po_benchmark['benchmark'] = benchmark['name']\n",
    "    te_benchmark['benchmark'] = benchmark['name']\n",
    "    \n",
    "    po_results.append(po_benchmark)\n",
    "    te_results.append(te_benchmark)"
   ]
  },
  {
   "cell_type": "code",
   "execution_count": 7,
   "id": "9eea802a",
   "metadata": {},
   "outputs": [
    {
     "data": {
      "text/html": [
       "<div>\n",
       "<style scoped>\n",
       "    .dataframe tbody tr th:only-of-type {\n",
       "        vertical-align: middle;\n",
       "    }\n",
       "\n",
       "    .dataframe tbody tr th {\n",
       "        vertical-align: top;\n",
       "    }\n",
       "\n",
       "    .dataframe thead th {\n",
       "        text-align: right;\n",
       "    }\n",
       "</style>\n",
       "<table border=\"1\" class=\"dataframe\">\n",
       "  <thead>\n",
       "    <tr style=\"text-align: right;\">\n",
       "      <th></th>\n",
       "      <th>AU-ROC</th>\n",
       "      <th>ACC</th>\n",
       "      <th>alpha</th>\n",
       "      <th>beta</th>\n",
       "    </tr>\n",
       "    <tr>\n",
       "      <th>model</th>\n",
       "      <th></th>\n",
       "      <th></th>\n",
       "      <th></th>\n",
       "      <th></th>\n",
       "    </tr>\n",
       "  </thead>\n",
       "  <tbody>\n",
       "    <tr>\n",
       "      <th>COM</th>\n",
       "      <td>0.430305</td>\n",
       "      <td>0.844368</td>\n",
       "      <td>0.4</td>\n",
       "      <td>0.05</td>\n",
       "    </tr>\n",
       "    <tr>\n",
       "      <th>COM-SL</th>\n",
       "      <td>0.577458</td>\n",
       "      <td>0.920328</td>\n",
       "      <td>0.4</td>\n",
       "      <td>0.05</td>\n",
       "    </tr>\n",
       "    <tr>\n",
       "      <th>OBS</th>\n",
       "      <td>0.464579</td>\n",
       "      <td>0.910229</td>\n",
       "      <td>0.4</td>\n",
       "      <td>0.05</td>\n",
       "    </tr>\n",
       "    <tr>\n",
       "      <th>Proxy Oracle</th>\n",
       "      <td>0.449358</td>\n",
       "      <td>0.815969</td>\n",
       "      <td>0.4</td>\n",
       "      <td>0.05</td>\n",
       "    </tr>\n",
       "    <tr>\n",
       "      <th>RW</th>\n",
       "      <td>0.464566</td>\n",
       "      <td>0.834182</td>\n",
       "      <td>0.4</td>\n",
       "      <td>0.05</td>\n",
       "    </tr>\n",
       "    <tr>\n",
       "      <th>RW-SL</th>\n",
       "      <td>0.599224</td>\n",
       "      <td>0.923435</td>\n",
       "      <td>0.4</td>\n",
       "      <td>0.05</td>\n",
       "    </tr>\n",
       "    <tr>\n",
       "      <th>Target Oracle</th>\n",
       "      <td>0.963082</td>\n",
       "      <td>0.931463</td>\n",
       "      <td>0.4</td>\n",
       "      <td>0.05</td>\n",
       "    </tr>\n",
       "  </tbody>\n",
       "</table>\n",
       "</div>"
      ],
      "text/plain": [
       "                 AU-ROC       ACC  alpha  beta\n",
       "model                                         \n",
       "COM            0.430305  0.844368    0.4  0.05\n",
       "COM-SL         0.577458  0.920328    0.4  0.05\n",
       "OBS            0.464579  0.910229    0.4  0.05\n",
       "Proxy Oracle   0.449358  0.815969    0.4  0.05\n",
       "RW             0.464566  0.834182    0.4  0.05\n",
       "RW-SL          0.599224  0.923435    0.4  0.05\n",
       "Target Oracle  0.963082  0.931463    0.4  0.05"
      ]
     },
     "execution_count": 7,
     "metadata": {},
     "output_type": "execute_result"
    }
   ],
   "source": [
    "exp_results.groupby('model').mean()"
   ]
  },
  {
   "cell_type": "code",
   "execution_count": 4,
   "id": "d6c99743",
   "metadata": {},
   "outputs": [
    {
     "ename": "NameError",
     "evalue": "name 'generate_syn_data' is not defined",
     "output_type": "error",
     "traceback": [
      "\u001b[0;31m---------------------------------------------------------------------------\u001b[0m",
      "\u001b[0;31mNameError\u001b[0m                                 Traceback (most recent call last)",
      "Input \u001b[0;32mIn [4]\u001b[0m, in \u001b[0;36m<cell line: 1>\u001b[0;34m()\u001b[0m\n\u001b[0;32m----> 1\u001b[0m X_syn, Y_syn \u001b[38;5;241m=\u001b[39m \u001b[43mgenerate_syn_data\u001b[49m(env, error_params, NS\u001b[38;5;241m=\u001b[39m\u001b[38;5;241m5000\u001b[39m, shuffle\u001b[38;5;241m=\u001b[39m\u001b[38;5;28;01mTrue\u001b[39;00m)\n\u001b[1;32m      2\u001b[0m X_ohie, Y_ohie \u001b[38;5;241m=\u001b[39m generate_ohie_data(OHIE_PATH, error_params, shuffle\u001b[38;5;241m=\u001b[39m\u001b[38;5;28;01mTrue\u001b[39;00m)\n\u001b[1;32m      4\u001b[0m syn_train_loader, syn_val_loader \u001b[38;5;241m=\u001b[39m get_loaders(X_syn, Y_syn, target\u001b[38;5;241m=\u001b[39m\u001b[38;5;124m'\u001b[39m\u001b[38;5;124mY\u001b[39m\u001b[38;5;124m'\u001b[39m, do\u001b[38;5;241m=\u001b[39m\u001b[38;5;241m0\u001b[39m, conditional\u001b[38;5;241m=\u001b[39m\u001b[38;5;28;01mTrue\u001b[39;00m)\n",
      "\u001b[0;31mNameError\u001b[0m: name 'generate_syn_data' is not defined"
     ]
    }
   ],
   "source": [
    "X_syn, Y_syn = generate_syn_data(env, error_params, NS=5000, shuffle=True)\n",
    "X_ohie, Y_ohie = generate_ohie_data(OHIE_PATH, error_params, shuffle=True)\n",
    "\n",
    "syn_train_loader, syn_val_loader = get_loaders(X_syn, Y_syn, target='Y', do=0, conditional=True)\n",
    "ohie_train_loader, ohie_val_loader = get_loaders(X_ohie, Y_ohie, target='Y', do=0, conditional=True)\n",
    "\n",
    "loss_config = {\n",
    "    'alpha': None,\n",
    "    'beta':  None,\n",
    "    'prop_func': pi,\n",
    "    'pi_pdf': env['PI_PDF'],\n",
    "    'do': 0,\n",
    "    'reweight': False\n",
    "}\n",
    "\n",
    "\n",
    "\n",
    "model = MLP(n_feats=X_ohie.shape[1])\n",
    "losses = train(model, 'Y', ohie_train_loader, loss_config=loss_config, n_epochs=10)\n"
   ]
  },
  {
   "cell_type": "markdown",
   "id": "e9b27560",
   "metadata": {},
   "source": [
    "## Experiment: comparison among baselines"
   ]
  },
  {
   "cell_type": "code",
   "execution_count": 3,
   "id": "bd6aeea8",
   "metadata": {
    "scrolled": true
   },
   "outputs": [
    {
     "name": "stdout",
     "output_type": "stream",
     "text": [
      "======================================================================\n",
      "RUN: 0, model: OBS, alpha: 0.1, beta: 0.3\n",
      "====================================================================== \n",
      "\n"
     ]
    },
    {
     "name": "stderr",
     "output_type": "stream",
     "text": [
      "Target: Y0: 100%|███████████████████████████████| 20/20 [00:19<00:00,  1.04it/s]\n"
     ]
    },
    {
     "name": "stdout",
     "output_type": "stream",
     "text": [
      "======================================================================\n",
      "RUN: 0, model: COM, alpha: 0.1, beta: 0.3\n",
      "====================================================================== \n",
      "\n"
     ]
    },
    {
     "name": "stderr",
     "output_type": "stream",
     "text": [
      "Target: Y0: 100%|███████████████████████████████| 20/20 [00:16<00:00,  1.21it/s]\n"
     ]
    },
    {
     "name": "stdout",
     "output_type": "stream",
     "text": [
      "======================================================================\n",
      "RUN: 0, model: COM-SL, alpha: 0.1, beta: 0.3\n",
      "====================================================================== \n",
      "\n"
     ]
    },
    {
     "name": "stderr",
     "output_type": "stream",
     "text": [
      "Target: Y0: 100%|███████████████████████████████| 20/20 [00:17<00:00,  1.15it/s]\n"
     ]
    },
    {
     "name": "stdout",
     "output_type": "stream",
     "text": [
      "======================================================================\n",
      "RUN: 0, model: RW, alpha: 0.1, beta: 0.3\n",
      "====================================================================== \n",
      "\n"
     ]
    },
    {
     "name": "stderr",
     "output_type": "stream",
     "text": [
      "Target: Y0: 100%|███████████████████████████████| 20/20 [00:16<00:00,  1.24it/s]\n"
     ]
    },
    {
     "name": "stdout",
     "output_type": "stream",
     "text": [
      "======================================================================\n",
      "RUN: 0, model: RW-SL, alpha: 0.1, beta: 0.3\n",
      "====================================================================== \n",
      "\n"
     ]
    },
    {
     "name": "stderr",
     "output_type": "stream",
     "text": [
      "Target: Y0: 100%|███████████████████████████████| 20/20 [00:18<00:00,  1.09it/s]\n"
     ]
    },
    {
     "name": "stdout",
     "output_type": "stream",
     "text": [
      "======================================================================\n",
      "RUN: 0, model: Proxy Oracle, alpha: 0.1, beta: 0.3\n",
      "====================================================================== \n",
      "\n"
     ]
    },
    {
     "name": "stderr",
     "output_type": "stream",
     "text": [
      "Target: Y0_0: 100%|█████████████████████████████| 20/20 [00:17<00:00,  1.11it/s]\n"
     ]
    },
    {
     "name": "stdout",
     "output_type": "stream",
     "text": [
      "======================================================================\n",
      "RUN: 0, model: Target Oracle, alpha: 0.1, beta: 0.3\n",
      "====================================================================== \n",
      "\n"
     ]
    },
    {
     "name": "stderr",
     "output_type": "stream",
     "text": [
      "Target: YS_0: 100%|█████████████████████████████| 20/20 [00:17<00:00,  1.14it/s]\n"
     ]
    },
    {
     "name": "stdout",
     "output_type": "stream",
     "text": [
      "======================================================================\n",
      "RUN: 1, model: OBS, alpha: 0.1, beta: 0.3\n",
      "====================================================================== \n",
      "\n"
     ]
    },
    {
     "name": "stderr",
     "output_type": "stream",
     "text": [
      "Target: Y0: 100%|███████████████████████████████| 20/20 [00:20<00:00,  1.00s/it]\n"
     ]
    },
    {
     "name": "stdout",
     "output_type": "stream",
     "text": [
      "======================================================================\n",
      "RUN: 1, model: COM, alpha: 0.1, beta: 0.3\n",
      "====================================================================== \n",
      "\n"
     ]
    },
    {
     "name": "stderr",
     "output_type": "stream",
     "text": [
      "Target: Y0: 100%|███████████████████████████████| 20/20 [00:17<00:00,  1.17it/s]\n"
     ]
    },
    {
     "name": "stdout",
     "output_type": "stream",
     "text": [
      "======================================================================\n",
      "RUN: 1, model: COM-SL, alpha: 0.1, beta: 0.3\n",
      "====================================================================== \n",
      "\n"
     ]
    },
    {
     "name": "stderr",
     "output_type": "stream",
     "text": [
      "Target: Y0: 100%|███████████████████████████████| 20/20 [00:17<00:00,  1.13it/s]\n"
     ]
    },
    {
     "name": "stdout",
     "output_type": "stream",
     "text": [
      "======================================================================\n",
      "RUN: 1, model: RW, alpha: 0.1, beta: 0.3\n",
      "====================================================================== \n",
      "\n"
     ]
    },
    {
     "name": "stderr",
     "output_type": "stream",
     "text": [
      "Target: Y0: 100%|███████████████████████████████| 20/20 [00:17<00:00,  1.15it/s]\n"
     ]
    },
    {
     "name": "stdout",
     "output_type": "stream",
     "text": [
      "======================================================================\n",
      "RUN: 1, model: RW-SL, alpha: 0.1, beta: 0.3\n",
      "====================================================================== \n",
      "\n"
     ]
    },
    {
     "name": "stderr",
     "output_type": "stream",
     "text": [
      "Target: Y0: 100%|███████████████████████████████| 20/20 [00:18<00:00,  1.07it/s]\n"
     ]
    },
    {
     "name": "stdout",
     "output_type": "stream",
     "text": [
      "======================================================================\n",
      "RUN: 1, model: Proxy Oracle, alpha: 0.1, beta: 0.3\n",
      "====================================================================== \n",
      "\n"
     ]
    },
    {
     "name": "stderr",
     "output_type": "stream",
     "text": [
      "Target: Y0_0: 100%|█████████████████████████████| 20/20 [00:17<00:00,  1.17it/s]\n"
     ]
    },
    {
     "name": "stdout",
     "output_type": "stream",
     "text": [
      "======================================================================\n",
      "RUN: 1, model: Target Oracle, alpha: 0.1, beta: 0.3\n",
      "====================================================================== \n",
      "\n"
     ]
    },
    {
     "name": "stderr",
     "output_type": "stream",
     "text": [
      "Target: YS_0: 100%|█████████████████████████████| 20/20 [00:17<00:00,  1.18it/s]\n"
     ]
    },
    {
     "name": "stdout",
     "output_type": "stream",
     "text": [
      "======================================================================\n",
      "RUN: 2, model: OBS, alpha: 0.1, beta: 0.3\n",
      "====================================================================== \n",
      "\n"
     ]
    },
    {
     "name": "stderr",
     "output_type": "stream",
     "text": [
      "Target: Y0: 100%|███████████████████████████████| 20/20 [00:20<00:00,  1.02s/it]\n"
     ]
    },
    {
     "name": "stdout",
     "output_type": "stream",
     "text": [
      "======================================================================\n",
      "RUN: 2, model: COM, alpha: 0.1, beta: 0.3\n",
      "====================================================================== \n",
      "\n"
     ]
    },
    {
     "name": "stderr",
     "output_type": "stream",
     "text": [
      "Target: Y0: 100%|███████████████████████████████| 20/20 [00:18<00:00,  1.08it/s]\n"
     ]
    },
    {
     "name": "stdout",
     "output_type": "stream",
     "text": [
      "======================================================================\n",
      "RUN: 2, model: COM-SL, alpha: 0.1, beta: 0.3\n",
      "====================================================================== \n",
      "\n"
     ]
    },
    {
     "name": "stderr",
     "output_type": "stream",
     "text": [
      "Target: Y0: 100%|███████████████████████████████| 20/20 [00:19<00:00,  1.02it/s]\n"
     ]
    },
    {
     "name": "stdout",
     "output_type": "stream",
     "text": [
      "======================================================================\n",
      "RUN: 2, model: RW, alpha: 0.1, beta: 0.3\n",
      "====================================================================== \n",
      "\n"
     ]
    },
    {
     "name": "stderr",
     "output_type": "stream",
     "text": [
      "Target: Y0: 100%|███████████████████████████████| 20/20 [00:18<00:00,  1.06it/s]\n"
     ]
    },
    {
     "name": "stdout",
     "output_type": "stream",
     "text": [
      "======================================================================\n",
      "RUN: 2, model: RW-SL, alpha: 0.1, beta: 0.3\n",
      "====================================================================== \n",
      "\n"
     ]
    },
    {
     "name": "stderr",
     "output_type": "stream",
     "text": [
      "Target: Y0: 100%|███████████████████████████████| 20/20 [00:19<00:00,  1.01it/s]\n"
     ]
    },
    {
     "name": "stdout",
     "output_type": "stream",
     "text": [
      "======================================================================\n",
      "RUN: 2, model: Proxy Oracle, alpha: 0.1, beta: 0.3\n",
      "====================================================================== \n",
      "\n"
     ]
    },
    {
     "name": "stderr",
     "output_type": "stream",
     "text": [
      "Target: Y0_0: 100%|█████████████████████████████| 20/20 [00:17<00:00,  1.14it/s]\n"
     ]
    },
    {
     "name": "stdout",
     "output_type": "stream",
     "text": [
      "======================================================================\n",
      "RUN: 2, model: Target Oracle, alpha: 0.1, beta: 0.3\n",
      "====================================================================== \n",
      "\n"
     ]
    },
    {
     "name": "stderr",
     "output_type": "stream",
     "text": [
      "Target: YS_0: 100%|█████████████████████████████| 20/20 [00:17<00:00,  1.14it/s]\n"
     ]
    },
    {
     "name": "stdout",
     "output_type": "stream",
     "text": [
      "======================================================================\n",
      "RUN: 3, model: OBS, alpha: 0.1, beta: 0.3\n",
      "====================================================================== \n",
      "\n"
     ]
    },
    {
     "name": "stderr",
     "output_type": "stream",
     "text": [
      "Target: Y0: 100%|███████████████████████████████| 20/20 [00:23<00:00,  1.17s/it]\n"
     ]
    },
    {
     "name": "stdout",
     "output_type": "stream",
     "text": [
      "======================================================================\n",
      "RUN: 3, model: COM, alpha: 0.1, beta: 0.3\n",
      "====================================================================== \n",
      "\n"
     ]
    },
    {
     "name": "stderr",
     "output_type": "stream",
     "text": [
      "Target: Y0: 100%|███████████████████████████████| 20/20 [00:19<00:00,  1.03it/s]\n"
     ]
    },
    {
     "name": "stdout",
     "output_type": "stream",
     "text": [
      "======================================================================\n",
      "RUN: 3, model: COM-SL, alpha: 0.1, beta: 0.3\n",
      "====================================================================== \n",
      "\n"
     ]
    },
    {
     "name": "stderr",
     "output_type": "stream",
     "text": [
      "Target: Y0: 100%|███████████████████████████████| 20/20 [00:20<00:00,  1.01s/it]\n"
     ]
    },
    {
     "name": "stdout",
     "output_type": "stream",
     "text": [
      "======================================================================\n",
      "RUN: 3, model: RW, alpha: 0.1, beta: 0.3\n",
      "====================================================================== \n",
      "\n"
     ]
    },
    {
     "name": "stderr",
     "output_type": "stream",
     "text": [
      "Target: Y0: 100%|███████████████████████████████| 20/20 [00:18<00:00,  1.11it/s]\n"
     ]
    },
    {
     "name": "stdout",
     "output_type": "stream",
     "text": [
      "======================================================================\n",
      "RUN: 3, model: RW-SL, alpha: 0.1, beta: 0.3\n",
      "====================================================================== \n",
      "\n"
     ]
    },
    {
     "name": "stderr",
     "output_type": "stream",
     "text": [
      "Target: Y0: 100%|███████████████████████████████| 20/20 [00:19<00:00,  1.02it/s]\n"
     ]
    },
    {
     "name": "stdout",
     "output_type": "stream",
     "text": [
      "======================================================================\n",
      "RUN: 3, model: Proxy Oracle, alpha: 0.1, beta: 0.3\n",
      "====================================================================== \n",
      "\n"
     ]
    },
    {
     "name": "stderr",
     "output_type": "stream",
     "text": [
      "Target: Y0_0: 100%|█████████████████████████████| 20/20 [00:19<00:00,  1.03it/s]\n"
     ]
    },
    {
     "name": "stdout",
     "output_type": "stream",
     "text": [
      "======================================================================\n",
      "RUN: 3, model: Target Oracle, alpha: 0.1, beta: 0.3\n",
      "====================================================================== \n",
      "\n"
     ]
    },
    {
     "name": "stderr",
     "output_type": "stream",
     "text": [
      "Target: YS_0: 100%|█████████████████████████████| 20/20 [00:19<00:00,  1.02it/s]\n"
     ]
    },
    {
     "name": "stdout",
     "output_type": "stream",
     "text": [
      "======================================================================\n",
      "RUN: 0, model: OBS, alpha: 0.2, beta: 0.2\n",
      "====================================================================== \n",
      "\n"
     ]
    },
    {
     "name": "stderr",
     "output_type": "stream",
     "text": [
      "Target: Y0: 100%|███████████████████████████████| 20/20 [00:21<00:00,  1.09s/it]\n"
     ]
    },
    {
     "name": "stdout",
     "output_type": "stream",
     "text": [
      "======================================================================\n",
      "RUN: 0, model: COM, alpha: 0.2, beta: 0.2\n",
      "====================================================================== \n",
      "\n"
     ]
    },
    {
     "name": "stderr",
     "output_type": "stream",
     "text": [
      "Target: Y0: 100%|███████████████████████████████| 20/20 [00:19<00:00,  1.03it/s]\n"
     ]
    },
    {
     "name": "stdout",
     "output_type": "stream",
     "text": [
      "======================================================================\n",
      "RUN: 0, model: COM-SL, alpha: 0.2, beta: 0.2\n",
      "====================================================================== \n",
      "\n"
     ]
    },
    {
     "name": "stderr",
     "output_type": "stream",
     "text": [
      "Target: Y0: 100%|███████████████████████████████| 20/20 [00:19<00:00,  1.01it/s]\n"
     ]
    },
    {
     "name": "stdout",
     "output_type": "stream",
     "text": [
      "======================================================================\n",
      "RUN: 0, model: RW, alpha: 0.2, beta: 0.2\n",
      "====================================================================== \n",
      "\n"
     ]
    },
    {
     "name": "stderr",
     "output_type": "stream",
     "text": [
      "Target: Y0: 100%|███████████████████████████████| 20/20 [00:19<00:00,  1.01it/s]\n"
     ]
    },
    {
     "name": "stdout",
     "output_type": "stream",
     "text": [
      "======================================================================\n",
      "RUN: 0, model: RW-SL, alpha: 0.2, beta: 0.2\n",
      "====================================================================== \n",
      "\n"
     ]
    },
    {
     "name": "stderr",
     "output_type": "stream",
     "text": [
      "Target: Y0: 100%|███████████████████████████████| 20/20 [00:20<00:00,  1.03s/it]\n"
     ]
    },
    {
     "name": "stdout",
     "output_type": "stream",
     "text": [
      "======================================================================\n",
      "RUN: 0, model: Proxy Oracle, alpha: 0.2, beta: 0.2\n",
      "====================================================================== \n",
      "\n"
     ]
    },
    {
     "name": "stderr",
     "output_type": "stream",
     "text": [
      "Target: Y0_0: 100%|█████████████████████████████| 20/20 [00:19<00:00,  1.04it/s]\n"
     ]
    },
    {
     "name": "stdout",
     "output_type": "stream",
     "text": [
      "======================================================================\n",
      "RUN: 0, model: Target Oracle, alpha: 0.2, beta: 0.2\n",
      "====================================================================== \n",
      "\n"
     ]
    },
    {
     "name": "stderr",
     "output_type": "stream",
     "text": [
      "Target: YS_0: 100%|█████████████████████████████| 20/20 [00:21<00:00,  1.05s/it]\n"
     ]
    },
    {
     "name": "stdout",
     "output_type": "stream",
     "text": [
      "======================================================================\n",
      "RUN: 1, model: OBS, alpha: 0.2, beta: 0.2\n",
      "====================================================================== \n",
      "\n"
     ]
    },
    {
     "name": "stderr",
     "output_type": "stream",
     "text": [
      "Target: Y0: 100%|███████████████████████████████| 20/20 [00:24<00:00,  1.20s/it]\n"
     ]
    },
    {
     "name": "stdout",
     "output_type": "stream",
     "text": [
      "======================================================================\n",
      "RUN: 1, model: COM, alpha: 0.2, beta: 0.2\n",
      "====================================================================== \n",
      "\n"
     ]
    },
    {
     "name": "stderr",
     "output_type": "stream",
     "text": [
      "Target: Y0: 100%|███████████████████████████████| 20/20 [00:21<00:00,  1.06s/it]\n"
     ]
    },
    {
     "name": "stdout",
     "output_type": "stream",
     "text": [
      "======================================================================\n",
      "RUN: 1, model: COM-SL, alpha: 0.2, beta: 0.2\n",
      "====================================================================== \n",
      "\n"
     ]
    },
    {
     "name": "stderr",
     "output_type": "stream",
     "text": [
      "Target: Y0: 100%|███████████████████████████████| 20/20 [00:20<00:00,  1.03s/it]\n"
     ]
    },
    {
     "name": "stdout",
     "output_type": "stream",
     "text": [
      "======================================================================\n",
      "RUN: 1, model: RW, alpha: 0.2, beta: 0.2\n",
      "====================================================================== \n",
      "\n"
     ]
    },
    {
     "name": "stderr",
     "output_type": "stream",
     "text": [
      "Target: Y0: 100%|███████████████████████████████| 20/20 [00:20<00:00,  1.01s/it]\n"
     ]
    },
    {
     "name": "stdout",
     "output_type": "stream",
     "text": [
      "======================================================================\n",
      "RUN: 1, model: RW-SL, alpha: 0.2, beta: 0.2\n",
      "====================================================================== \n",
      "\n"
     ]
    },
    {
     "name": "stderr",
     "output_type": "stream",
     "text": [
      "Target: Y0: 100%|███████████████████████████████| 20/20 [00:21<00:00,  1.08s/it]\n"
     ]
    },
    {
     "name": "stdout",
     "output_type": "stream",
     "text": [
      "======================================================================\n",
      "RUN: 1, model: Proxy Oracle, alpha: 0.2, beta: 0.2\n",
      "====================================================================== \n",
      "\n"
     ]
    },
    {
     "name": "stderr",
     "output_type": "stream",
     "text": [
      "Target: Y0_0: 100%|█████████████████████████████| 20/20 [00:19<00:00,  1.02it/s]\n"
     ]
    },
    {
     "name": "stdout",
     "output_type": "stream",
     "text": [
      "======================================================================\n",
      "RUN: 1, model: Target Oracle, alpha: 0.2, beta: 0.2\n",
      "====================================================================== \n",
      "\n"
     ]
    },
    {
     "name": "stderr",
     "output_type": "stream",
     "text": [
      "Target: YS_0: 100%|█████████████████████████████| 20/20 [00:18<00:00,  1.08it/s]\n"
     ]
    },
    {
     "name": "stdout",
     "output_type": "stream",
     "text": [
      "======================================================================\n",
      "RUN: 2, model: OBS, alpha: 0.2, beta: 0.2\n",
      "====================================================================== \n",
      "\n"
     ]
    },
    {
     "name": "stderr",
     "output_type": "stream",
     "text": [
      "Target: Y0: 100%|███████████████████████████████| 20/20 [00:20<00:00,  1.00s/it]\n"
     ]
    },
    {
     "name": "stdout",
     "output_type": "stream",
     "text": [
      "======================================================================\n",
      "RUN: 2, model: COM, alpha: 0.2, beta: 0.2\n",
      "====================================================================== \n",
      "\n"
     ]
    },
    {
     "name": "stderr",
     "output_type": "stream",
     "text": [
      "Target: Y0: 100%|███████████████████████████████| 20/20 [00:18<00:00,  1.08it/s]\n"
     ]
    },
    {
     "name": "stdout",
     "output_type": "stream",
     "text": [
      "======================================================================\n",
      "RUN: 2, model: COM-SL, alpha: 0.2, beta: 0.2\n",
      "====================================================================== \n",
      "\n"
     ]
    },
    {
     "name": "stderr",
     "output_type": "stream",
     "text": [
      "Target: Y0: 100%|███████████████████████████████| 20/20 [00:19<00:00,  1.03it/s]\n"
     ]
    },
    {
     "name": "stdout",
     "output_type": "stream",
     "text": [
      "======================================================================\n",
      "RUN: 2, model: RW, alpha: 0.2, beta: 0.2\n",
      "====================================================================== \n",
      "\n"
     ]
    },
    {
     "name": "stderr",
     "output_type": "stream",
     "text": [
      "Target: Y0: 100%|███████████████████████████████| 20/20 [00:19<00:00,  1.01it/s]\n"
     ]
    },
    {
     "name": "stdout",
     "output_type": "stream",
     "text": [
      "======================================================================\n",
      "RUN: 2, model: RW-SL, alpha: 0.2, beta: 0.2\n",
      "====================================================================== \n",
      "\n"
     ]
    },
    {
     "name": "stderr",
     "output_type": "stream",
     "text": [
      "Target: Y0: 100%|███████████████████████████████| 20/20 [00:22<00:00,  1.10s/it]\n"
     ]
    },
    {
     "name": "stdout",
     "output_type": "stream",
     "text": [
      "======================================================================\n",
      "RUN: 2, model: Proxy Oracle, alpha: 0.2, beta: 0.2\n",
      "====================================================================== \n",
      "\n"
     ]
    },
    {
     "name": "stderr",
     "output_type": "stream",
     "text": [
      "Target: Y0_0: 100%|█████████████████████████████| 20/20 [00:24<00:00,  1.24s/it]\n"
     ]
    },
    {
     "name": "stdout",
     "output_type": "stream",
     "text": [
      "======================================================================\n",
      "RUN: 2, model: Target Oracle, alpha: 0.2, beta: 0.2\n",
      "====================================================================== \n",
      "\n"
     ]
    },
    {
     "name": "stderr",
     "output_type": "stream",
     "text": [
      "Target: YS_0: 100%|█████████████████████████████| 20/20 [00:26<00:00,  1.31s/it]\n"
     ]
    },
    {
     "name": "stdout",
     "output_type": "stream",
     "text": [
      "======================================================================\n",
      "RUN: 3, model: OBS, alpha: 0.2, beta: 0.2\n",
      "====================================================================== \n",
      "\n"
     ]
    },
    {
     "name": "stderr",
     "output_type": "stream",
     "text": [
      "Target: Y0: 100%|███████████████████████████████| 20/20 [00:35<00:00,  1.80s/it]\n"
     ]
    },
    {
     "name": "stdout",
     "output_type": "stream",
     "text": [
      "======================================================================\n",
      "RUN: 3, model: COM, alpha: 0.2, beta: 0.2\n",
      "====================================================================== \n",
      "\n"
     ]
    },
    {
     "name": "stderr",
     "output_type": "stream",
     "text": [
      "Target: Y0: 100%|███████████████████████████████| 20/20 [00:36<00:00,  1.81s/it]\n"
     ]
    },
    {
     "name": "stdout",
     "output_type": "stream",
     "text": [
      "======================================================================\n",
      "RUN: 3, model: COM-SL, alpha: 0.2, beta: 0.2\n",
      "====================================================================== \n",
      "\n"
     ]
    },
    {
     "name": "stderr",
     "output_type": "stream",
     "text": [
      "Target: Y0: 100%|███████████████████████████████| 20/20 [00:32<00:00,  1.62s/it]\n"
     ]
    },
    {
     "name": "stdout",
     "output_type": "stream",
     "text": [
      "======================================================================\n",
      "RUN: 3, model: RW, alpha: 0.2, beta: 0.2\n",
      "====================================================================== \n",
      "\n"
     ]
    },
    {
     "name": "stderr",
     "output_type": "stream",
     "text": [
      "Target: Y0: 100%|███████████████████████████████| 20/20 [00:22<00:00,  1.11s/it]\n"
     ]
    },
    {
     "name": "stdout",
     "output_type": "stream",
     "text": [
      "======================================================================\n",
      "RUN: 3, model: RW-SL, alpha: 0.2, beta: 0.2\n",
      "====================================================================== \n",
      "\n"
     ]
    },
    {
     "name": "stderr",
     "output_type": "stream",
     "text": [
      "Target: Y0: 100%|███████████████████████████████| 20/20 [00:22<00:00,  1.14s/it]\n"
     ]
    },
    {
     "name": "stdout",
     "output_type": "stream",
     "text": [
      "======================================================================\n",
      "RUN: 3, model: Proxy Oracle, alpha: 0.2, beta: 0.2\n",
      "====================================================================== \n",
      "\n"
     ]
    },
    {
     "name": "stderr",
     "output_type": "stream",
     "text": [
      "Target: Y0_0: 100%|█████████████████████████████| 20/20 [00:20<00:00,  1.01s/it]\n"
     ]
    },
    {
     "name": "stdout",
     "output_type": "stream",
     "text": [
      "======================================================================\n",
      "RUN: 3, model: Target Oracle, alpha: 0.2, beta: 0.2\n",
      "====================================================================== \n",
      "\n"
     ]
    },
    {
     "name": "stderr",
     "output_type": "stream",
     "text": [
      "Target: YS_0: 100%|█████████████████████████████| 20/20 [00:20<00:00,  1.03s/it]\n"
     ]
    },
    {
     "name": "stdout",
     "output_type": "stream",
     "text": [
      "======================================================================\n",
      "RUN: 0, model: OBS, alpha: 0.3, beta: 0.1\n",
      "====================================================================== \n",
      "\n"
     ]
    },
    {
     "name": "stderr",
     "output_type": "stream",
     "text": [
      "Target: Y0: 100%|███████████████████████████████| 20/20 [00:24<00:00,  1.21s/it]\n"
     ]
    },
    {
     "name": "stdout",
     "output_type": "stream",
     "text": [
      "======================================================================\n",
      "RUN: 0, model: COM, alpha: 0.3, beta: 0.1\n",
      "====================================================================== \n",
      "\n"
     ]
    },
    {
     "name": "stderr",
     "output_type": "stream",
     "text": [
      "Target: Y0: 100%|███████████████████████████████| 20/20 [00:21<00:00,  1.07s/it]\n"
     ]
    },
    {
     "name": "stdout",
     "output_type": "stream",
     "text": [
      "======================================================================\n",
      "RUN: 0, model: COM-SL, alpha: 0.3, beta: 0.1\n",
      "====================================================================== \n",
      "\n"
     ]
    },
    {
     "name": "stderr",
     "output_type": "stream",
     "text": [
      "Target: Y0: 100%|███████████████████████████████| 20/20 [00:23<00:00,  1.15s/it]\n"
     ]
    },
    {
     "name": "stdout",
     "output_type": "stream",
     "text": [
      "======================================================================\n",
      "RUN: 0, model: RW, alpha: 0.3, beta: 0.1\n",
      "====================================================================== \n",
      "\n"
     ]
    },
    {
     "name": "stderr",
     "output_type": "stream",
     "text": [
      "Target: Y0: 100%|███████████████████████████████| 20/20 [00:21<00:00,  1.09s/it]\n"
     ]
    },
    {
     "name": "stdout",
     "output_type": "stream",
     "text": [
      "======================================================================\n",
      "RUN: 0, model: RW-SL, alpha: 0.3, beta: 0.1\n",
      "====================================================================== \n",
      "\n"
     ]
    },
    {
     "name": "stderr",
     "output_type": "stream",
     "text": [
      "Target: Y0: 100%|███████████████████████████████| 20/20 [00:23<00:00,  1.16s/it]\n"
     ]
    },
    {
     "name": "stdout",
     "output_type": "stream",
     "text": [
      "======================================================================\n",
      "RUN: 0, model: Proxy Oracle, alpha: 0.3, beta: 0.1\n",
      "====================================================================== \n",
      "\n"
     ]
    },
    {
     "name": "stderr",
     "output_type": "stream",
     "text": [
      "Target: Y0_0: 100%|█████████████████████████████| 20/20 [00:20<00:00,  1.03s/it]\n"
     ]
    },
    {
     "name": "stdout",
     "output_type": "stream",
     "text": [
      "======================================================================\n",
      "RUN: 0, model: Target Oracle, alpha: 0.3, beta: 0.1\n",
      "====================================================================== \n",
      "\n"
     ]
    },
    {
     "name": "stderr",
     "output_type": "stream",
     "text": [
      "Target: YS_0: 100%|█████████████████████████████| 20/20 [00:19<00:00,  1.00it/s]\n"
     ]
    },
    {
     "name": "stdout",
     "output_type": "stream",
     "text": [
      "======================================================================\n",
      "RUN: 1, model: OBS, alpha: 0.3, beta: 0.1\n",
      "====================================================================== \n",
      "\n"
     ]
    },
    {
     "name": "stderr",
     "output_type": "stream",
     "text": [
      "Target: Y0: 100%|███████████████████████████████| 20/20 [00:23<00:00,  1.17s/it]\n"
     ]
    },
    {
     "name": "stdout",
     "output_type": "stream",
     "text": [
      "======================================================================\n",
      "RUN: 1, model: COM, alpha: 0.3, beta: 0.1\n",
      "====================================================================== \n",
      "\n"
     ]
    },
    {
     "name": "stderr",
     "output_type": "stream",
     "text": [
      "Target: Y0: 100%|███████████████████████████████| 20/20 [00:21<00:00,  1.09s/it]\n"
     ]
    },
    {
     "name": "stdout",
     "output_type": "stream",
     "text": [
      "======================================================================\n",
      "RUN: 1, model: COM-SL, alpha: 0.3, beta: 0.1\n",
      "====================================================================== \n",
      "\n"
     ]
    },
    {
     "name": "stderr",
     "output_type": "stream",
     "text": [
      "Target: Y0: 100%|███████████████████████████████| 20/20 [00:20<00:00,  1.05s/it]\n"
     ]
    },
    {
     "name": "stdout",
     "output_type": "stream",
     "text": [
      "======================================================================\n",
      "RUN: 1, model: RW, alpha: 0.3, beta: 0.1\n",
      "====================================================================== \n",
      "\n"
     ]
    },
    {
     "name": "stderr",
     "output_type": "stream",
     "text": [
      "Target: Y0: 100%|███████████████████████████████| 20/20 [00:19<00:00,  1.01it/s]\n"
     ]
    },
    {
     "name": "stdout",
     "output_type": "stream",
     "text": [
      "======================================================================\n",
      "RUN: 1, model: RW-SL, alpha: 0.3, beta: 0.1\n",
      "====================================================================== \n",
      "\n"
     ]
    },
    {
     "name": "stderr",
     "output_type": "stream",
     "text": [
      "Target: Y0: 100%|███████████████████████████████| 20/20 [00:20<00:00,  1.03s/it]\n"
     ]
    },
    {
     "name": "stdout",
     "output_type": "stream",
     "text": [
      "======================================================================\n",
      "RUN: 1, model: Proxy Oracle, alpha: 0.3, beta: 0.1\n",
      "====================================================================== \n",
      "\n"
     ]
    },
    {
     "name": "stderr",
     "output_type": "stream",
     "text": [
      "Target: Y0_0: 100%|█████████████████████████████| 20/20 [00:20<00:00,  1.05s/it]\n"
     ]
    },
    {
     "name": "stdout",
     "output_type": "stream",
     "text": [
      "======================================================================\n",
      "RUN: 1, model: Target Oracle, alpha: 0.3, beta: 0.1\n",
      "====================================================================== \n",
      "\n"
     ]
    },
    {
     "name": "stderr",
     "output_type": "stream",
     "text": [
      "Target: YS_0: 100%|█████████████████████████████| 20/20 [00:22<00:00,  1.10s/it]\n"
     ]
    },
    {
     "name": "stdout",
     "output_type": "stream",
     "text": [
      "======================================================================\n",
      "RUN: 2, model: OBS, alpha: 0.3, beta: 0.1\n",
      "====================================================================== \n",
      "\n"
     ]
    },
    {
     "name": "stderr",
     "output_type": "stream",
     "text": [
      "Target: Y0: 100%|███████████████████████████████| 20/20 [00:25<00:00,  1.26s/it]\n"
     ]
    },
    {
     "name": "stdout",
     "output_type": "stream",
     "text": [
      "======================================================================\n",
      "RUN: 2, model: COM, alpha: 0.3, beta: 0.1\n",
      "====================================================================== \n",
      "\n"
     ]
    },
    {
     "name": "stderr",
     "output_type": "stream",
     "text": [
      "Target: Y0: 100%|███████████████████████████████| 20/20 [00:19<00:00,  1.03it/s]\n"
     ]
    },
    {
     "name": "stdout",
     "output_type": "stream",
     "text": [
      "======================================================================\n",
      "RUN: 2, model: COM-SL, alpha: 0.3, beta: 0.1\n",
      "====================================================================== \n",
      "\n"
     ]
    },
    {
     "name": "stderr",
     "output_type": "stream",
     "text": [
      "Target: Y0: 100%|███████████████████████████████| 20/20 [00:20<00:00,  1.01s/it]\n"
     ]
    },
    {
     "name": "stdout",
     "output_type": "stream",
     "text": [
      "======================================================================\n",
      "RUN: 2, model: RW, alpha: 0.3, beta: 0.1\n",
      "====================================================================== \n",
      "\n"
     ]
    },
    {
     "name": "stderr",
     "output_type": "stream",
     "text": [
      "Target: Y0: 100%|███████████████████████████████| 20/20 [00:21<00:00,  1.08s/it]\n"
     ]
    },
    {
     "name": "stdout",
     "output_type": "stream",
     "text": [
      "======================================================================\n",
      "RUN: 2, model: RW-SL, alpha: 0.3, beta: 0.1\n",
      "====================================================================== \n",
      "\n"
     ]
    },
    {
     "name": "stderr",
     "output_type": "stream",
     "text": [
      "Target: Y0: 100%|███████████████████████████████| 20/20 [00:21<00:00,  1.06s/it]\n"
     ]
    },
    {
     "name": "stdout",
     "output_type": "stream",
     "text": [
      "======================================================================\n",
      "RUN: 2, model: Proxy Oracle, alpha: 0.3, beta: 0.1\n",
      "====================================================================== \n",
      "\n"
     ]
    },
    {
     "name": "stderr",
     "output_type": "stream",
     "text": [
      "Target: Y0_0: 100%|█████████████████████████████| 20/20 [00:20<00:00,  1.00s/it]\n"
     ]
    },
    {
     "name": "stdout",
     "output_type": "stream",
     "text": [
      "======================================================================\n",
      "RUN: 2, model: Target Oracle, alpha: 0.3, beta: 0.1\n",
      "====================================================================== \n",
      "\n"
     ]
    },
    {
     "name": "stderr",
     "output_type": "stream",
     "text": [
      "Target: YS_0: 100%|█████████████████████████████| 20/20 [00:19<00:00,  1.04it/s]\n"
     ]
    },
    {
     "name": "stdout",
     "output_type": "stream",
     "text": [
      "======================================================================\n",
      "RUN: 3, model: OBS, alpha: 0.3, beta: 0.1\n",
      "====================================================================== \n",
      "\n"
     ]
    },
    {
     "name": "stderr",
     "output_type": "stream",
     "text": [
      "Target: Y0: 100%|███████████████████████████████| 20/20 [00:22<00:00,  1.15s/it]\n"
     ]
    },
    {
     "name": "stdout",
     "output_type": "stream",
     "text": [
      "======================================================================\n",
      "RUN: 3, model: COM, alpha: 0.3, beta: 0.1\n",
      "====================================================================== \n",
      "\n"
     ]
    },
    {
     "name": "stderr",
     "output_type": "stream",
     "text": [
      "Target: Y0: 100%|███████████████████████████████| 20/20 [00:20<00:00,  1.02s/it]\n"
     ]
    },
    {
     "name": "stdout",
     "output_type": "stream",
     "text": [
      "======================================================================\n",
      "RUN: 3, model: COM-SL, alpha: 0.3, beta: 0.1\n",
      "====================================================================== \n",
      "\n"
     ]
    },
    {
     "name": "stderr",
     "output_type": "stream",
     "text": [
      "Target: Y0: 100%|███████████████████████████████| 20/20 [00:22<00:00,  1.13s/it]\n"
     ]
    },
    {
     "name": "stdout",
     "output_type": "stream",
     "text": [
      "======================================================================\n",
      "RUN: 3, model: RW, alpha: 0.3, beta: 0.1\n",
      "====================================================================== \n",
      "\n"
     ]
    },
    {
     "name": "stderr",
     "output_type": "stream",
     "text": [
      "Target: Y0: 100%|███████████████████████████████| 20/20 [00:20<00:00,  1.04s/it]\n"
     ]
    },
    {
     "name": "stdout",
     "output_type": "stream",
     "text": [
      "======================================================================\n",
      "RUN: 3, model: RW-SL, alpha: 0.3, beta: 0.1\n",
      "====================================================================== \n",
      "\n"
     ]
    },
    {
     "name": "stderr",
     "output_type": "stream",
     "text": [
      "Target: Y0: 100%|███████████████████████████████| 20/20 [00:19<00:00,  1.02it/s]\n"
     ]
    },
    {
     "name": "stdout",
     "output_type": "stream",
     "text": [
      "======================================================================\n",
      "RUN: 3, model: Proxy Oracle, alpha: 0.3, beta: 0.1\n",
      "====================================================================== \n",
      "\n"
     ]
    },
    {
     "name": "stderr",
     "output_type": "stream",
     "text": [
      "Target: Y0_0: 100%|█████████████████████████████| 20/20 [00:17<00:00,  1.11it/s]\n"
     ]
    },
    {
     "name": "stdout",
     "output_type": "stream",
     "text": [
      "======================================================================\n",
      "RUN: 3, model: Target Oracle, alpha: 0.3, beta: 0.1\n",
      "====================================================================== \n",
      "\n"
     ]
    },
    {
     "name": "stderr",
     "output_type": "stream",
     "text": [
      "Target: YS_0: 100%|█████████████████████████████| 20/20 [00:17<00:00,  1.13it/s]\n"
     ]
    }
   ],
   "source": [
    "####################\n",
    "## Experiment setup \n",
    "####################\n",
    "\n",
    "do=0\n",
    "N_RUNS=4\n",
    "NS=10000\n",
    "n_epochs=20\n",
    "baselines = [{\n",
    "    'model': 'OBS',\n",
    "    'target': 'Y'\n",
    "},{\n",
    "    'model': 'COM',\n",
    "    'target': 'Y'\n",
    "},{\n",
    "    'model': 'COM-SL',\n",
    "    'target': 'Y'\n",
    "},{\n",
    "    'model': 'RW',\n",
    "    'target': 'Y'\n",
    "},{\n",
    "    'model': 'RW-SL',\n",
    "    'target': 'Y'\n",
    "},{\n",
    "    'model': 'Proxy Oracle',\n",
    "    'target': f'Y0_{do}'\n",
    "},{\n",
    "    'model': 'Target Oracle',\n",
    "    'target': f'YS_{do}'\n",
    "}]\n",
    "\n",
    "# param_configs = []\n",
    "# for alpha in [0, .1, .2, .3]:\n",
    "#     for beta in [0, .1, .2, .3]:\n",
    "#         param_configs.append({\n",
    "#             'alpha': alpha,\n",
    "#             'beta': beta\n",
    "#         })\n",
    "\n",
    "param_configs = [{\n",
    "    'alpha': .1,\n",
    "    'beta': .3\n",
    "},{\n",
    "    'alpha': .2,\n",
    "    'beta': .2\n",
    "},{\n",
    "    'alpha': .3,\n",
    "    'beta': .1\n",
    "}]\n",
    "\n",
    "benchmark_config = {\n",
    "    'NS': 5000,\n",
    "    'Y0_PDF': 'piecewise_sinusoid',\n",
    "    'Y1_PDF': 'low_base_rate_sinusoid',\n",
    "    'PI_PDF': 'linear'\n",
    "}\n",
    "\n",
    "linsep_results = run_baseline_comparison_exp_grid(\n",
    "    linsep,\n",
    "    baselines,\n",
    "    param_configs,\n",
    "    do=do,\n",
    "    N_RUNS=N_RUNS,\n",
    "    NS=NS,\n",
    "    K=1,\n",
    "    n_epochs=n_epochs\n",
    ")"
   ]
  },
  {
   "cell_type": "code",
   "execution_count": 6,
   "id": "04783e10",
   "metadata": {},
   "outputs": [],
   "source": [
    "pd.DataFrame(linsep_results).to_csv('1D_eval_reweight_N_10000_RUNS_4.csv', index=False)"
   ]
  },
  {
   "cell_type": "code",
   "execution_count": 5,
   "id": "986fff12",
   "metadata": {},
   "outputs": [
    {
     "data": {
      "text/html": [
       "<div>\n",
       "<style scoped>\n",
       "    .dataframe tbody tr th:only-of-type {\n",
       "        vertical-align: middle;\n",
       "    }\n",
       "\n",
       "    .dataframe tbody tr th {\n",
       "        vertical-align: top;\n",
       "    }\n",
       "\n",
       "    .dataframe thead th {\n",
       "        text-align: right;\n",
       "    }\n",
       "</style>\n",
       "<table border=\"1\" class=\"dataframe\">\n",
       "  <thead>\n",
       "    <tr style=\"text-align: right;\">\n",
       "      <th></th>\n",
       "      <th>AU-ROC</th>\n",
       "      <th>ACC</th>\n",
       "      <th>alpha</th>\n",
       "      <th>beta</th>\n",
       "    </tr>\n",
       "    <tr>\n",
       "      <th>model</th>\n",
       "      <th></th>\n",
       "      <th></th>\n",
       "      <th></th>\n",
       "      <th></th>\n",
       "    </tr>\n",
       "  </thead>\n",
       "  <tbody>\n",
       "    <tr>\n",
       "      <th>COM</th>\n",
       "      <td>0.654449</td>\n",
       "      <td>0.552000</td>\n",
       "      <td>0.1</td>\n",
       "      <td>0.3</td>\n",
       "    </tr>\n",
       "    <tr>\n",
       "      <th>COM-SL</th>\n",
       "      <td>0.829310</td>\n",
       "      <td>0.756833</td>\n",
       "      <td>0.1</td>\n",
       "      <td>0.3</td>\n",
       "    </tr>\n",
       "    <tr>\n",
       "      <th>OBS</th>\n",
       "      <td>0.574068</td>\n",
       "      <td>0.537083</td>\n",
       "      <td>0.1</td>\n",
       "      <td>0.3</td>\n",
       "    </tr>\n",
       "    <tr>\n",
       "      <th>Proxy Oracle</th>\n",
       "      <td>0.716077</td>\n",
       "      <td>0.600167</td>\n",
       "      <td>0.1</td>\n",
       "      <td>0.3</td>\n",
       "    </tr>\n",
       "    <tr>\n",
       "      <th>RW</th>\n",
       "      <td>0.805002</td>\n",
       "      <td>0.604667</td>\n",
       "      <td>0.1</td>\n",
       "      <td>0.3</td>\n",
       "    </tr>\n",
       "    <tr>\n",
       "      <th>RW-SL</th>\n",
       "      <td>0.762899</td>\n",
       "      <td>0.692000</td>\n",
       "      <td>0.1</td>\n",
       "      <td>0.3</td>\n",
       "    </tr>\n",
       "    <tr>\n",
       "      <th>Target Oracle</th>\n",
       "      <td>0.835340</td>\n",
       "      <td>0.760750</td>\n",
       "      <td>0.1</td>\n",
       "      <td>0.3</td>\n",
       "    </tr>\n",
       "  </tbody>\n",
       "</table>\n",
       "</div>"
      ],
      "text/plain": [
       "                 AU-ROC       ACC  alpha  beta\n",
       "model                                         \n",
       "COM            0.654449  0.552000    0.1   0.3\n",
       "COM-SL         0.829310  0.756833    0.1   0.3\n",
       "OBS            0.574068  0.537083    0.1   0.3\n",
       "Proxy Oracle   0.716077  0.600167    0.1   0.3\n",
       "RW             0.805002  0.604667    0.1   0.3\n",
       "RW-SL          0.762899  0.692000    0.1   0.3\n",
       "Target Oracle  0.835340  0.760750    0.1   0.3"
      ]
     },
     "metadata": {},
     "output_type": "display_data"
    },
    {
     "data": {
      "text/html": [
       "<div>\n",
       "<style scoped>\n",
       "    .dataframe tbody tr th:only-of-type {\n",
       "        vertical-align: middle;\n",
       "    }\n",
       "\n",
       "    .dataframe tbody tr th {\n",
       "        vertical-align: top;\n",
       "    }\n",
       "\n",
       "    .dataframe thead th {\n",
       "        text-align: right;\n",
       "    }\n",
       "</style>\n",
       "<table border=\"1\" class=\"dataframe\">\n",
       "  <thead>\n",
       "    <tr style=\"text-align: right;\">\n",
       "      <th></th>\n",
       "      <th>AU-ROC</th>\n",
       "      <th>ACC</th>\n",
       "      <th>alpha</th>\n",
       "      <th>beta</th>\n",
       "    </tr>\n",
       "    <tr>\n",
       "      <th>model</th>\n",
       "      <th></th>\n",
       "      <th></th>\n",
       "      <th></th>\n",
       "      <th></th>\n",
       "    </tr>\n",
       "  </thead>\n",
       "  <tbody>\n",
       "    <tr>\n",
       "      <th>COM</th>\n",
       "      <td>0.052535</td>\n",
       "      <td>0.032006</td>\n",
       "      <td>0.0</td>\n",
       "      <td>0.0</td>\n",
       "    </tr>\n",
       "    <tr>\n",
       "      <th>COM-SL</th>\n",
       "      <td>0.004954</td>\n",
       "      <td>0.007235</td>\n",
       "      <td>0.0</td>\n",
       "      <td>0.0</td>\n",
       "    </tr>\n",
       "    <tr>\n",
       "      <th>OBS</th>\n",
       "      <td>0.024095</td>\n",
       "      <td>0.016541</td>\n",
       "      <td>0.0</td>\n",
       "      <td>0.0</td>\n",
       "    </tr>\n",
       "    <tr>\n",
       "      <th>Proxy Oracle</th>\n",
       "      <td>0.078047</td>\n",
       "      <td>0.045540</td>\n",
       "      <td>0.0</td>\n",
       "      <td>0.0</td>\n",
       "    </tr>\n",
       "    <tr>\n",
       "      <th>RW</th>\n",
       "      <td>0.017606</td>\n",
       "      <td>0.043022</td>\n",
       "      <td>0.0</td>\n",
       "      <td>0.0</td>\n",
       "    </tr>\n",
       "    <tr>\n",
       "      <th>RW-SL</th>\n",
       "      <td>0.024605</td>\n",
       "      <td>0.034890</td>\n",
       "      <td>0.0</td>\n",
       "      <td>0.0</td>\n",
       "    </tr>\n",
       "    <tr>\n",
       "      <th>Target Oracle</th>\n",
       "      <td>0.007809</td>\n",
       "      <td>0.007253</td>\n",
       "      <td>0.0</td>\n",
       "      <td>0.0</td>\n",
       "    </tr>\n",
       "  </tbody>\n",
       "</table>\n",
       "</div>"
      ],
      "text/plain": [
       "                 AU-ROC       ACC  alpha  beta\n",
       "model                                         \n",
       "COM            0.052535  0.032006    0.0   0.0\n",
       "COM-SL         0.004954  0.007235    0.0   0.0\n",
       "OBS            0.024095  0.016541    0.0   0.0\n",
       "Proxy Oracle   0.078047  0.045540    0.0   0.0\n",
       "RW             0.017606  0.043022    0.0   0.0\n",
       "RW-SL          0.024605  0.034890    0.0   0.0\n",
       "Target Oracle  0.007809  0.007253    0.0   0.0"
      ]
     },
     "metadata": {},
     "output_type": "display_data"
    },
    {
     "data": {
      "text/html": [
       "<div>\n",
       "<style scoped>\n",
       "    .dataframe tbody tr th:only-of-type {\n",
       "        vertical-align: middle;\n",
       "    }\n",
       "\n",
       "    .dataframe tbody tr th {\n",
       "        vertical-align: top;\n",
       "    }\n",
       "\n",
       "    .dataframe thead th {\n",
       "        text-align: right;\n",
       "    }\n",
       "</style>\n",
       "<table border=\"1\" class=\"dataframe\">\n",
       "  <thead>\n",
       "    <tr style=\"text-align: right;\">\n",
       "      <th></th>\n",
       "      <th>AU-ROC</th>\n",
       "      <th>ACC</th>\n",
       "      <th>alpha</th>\n",
       "      <th>beta</th>\n",
       "    </tr>\n",
       "    <tr>\n",
       "      <th>model</th>\n",
       "      <th></th>\n",
       "      <th></th>\n",
       "      <th></th>\n",
       "      <th></th>\n",
       "    </tr>\n",
       "  </thead>\n",
       "  <tbody>\n",
       "    <tr>\n",
       "      <th>COM</th>\n",
       "      <td>0.674729</td>\n",
       "      <td>0.624750</td>\n",
       "      <td>0.2</td>\n",
       "      <td>0.2</td>\n",
       "    </tr>\n",
       "    <tr>\n",
       "      <th>COM-SL</th>\n",
       "      <td>0.771032</td>\n",
       "      <td>0.670167</td>\n",
       "      <td>0.2</td>\n",
       "      <td>0.2</td>\n",
       "    </tr>\n",
       "    <tr>\n",
       "      <th>OBS</th>\n",
       "      <td>0.597326</td>\n",
       "      <td>0.512500</td>\n",
       "      <td>0.2</td>\n",
       "      <td>0.2</td>\n",
       "    </tr>\n",
       "    <tr>\n",
       "      <th>Proxy Oracle</th>\n",
       "      <td>0.809837</td>\n",
       "      <td>0.715500</td>\n",
       "      <td>0.2</td>\n",
       "      <td>0.2</td>\n",
       "    </tr>\n",
       "    <tr>\n",
       "      <th>RW</th>\n",
       "      <td>0.726281</td>\n",
       "      <td>0.684333</td>\n",
       "      <td>0.2</td>\n",
       "      <td>0.2</td>\n",
       "    </tr>\n",
       "    <tr>\n",
       "      <th>RW-SL</th>\n",
       "      <td>0.736895</td>\n",
       "      <td>0.665583</td>\n",
       "      <td>0.2</td>\n",
       "      <td>0.2</td>\n",
       "    </tr>\n",
       "    <tr>\n",
       "      <th>Target Oracle</th>\n",
       "      <td>0.776499</td>\n",
       "      <td>0.724583</td>\n",
       "      <td>0.2</td>\n",
       "      <td>0.2</td>\n",
       "    </tr>\n",
       "  </tbody>\n",
       "</table>\n",
       "</div>"
      ],
      "text/plain": [
       "                 AU-ROC       ACC  alpha  beta\n",
       "model                                         \n",
       "COM            0.674729  0.624750    0.2   0.2\n",
       "COM-SL         0.771032  0.670167    0.2   0.2\n",
       "OBS            0.597326  0.512500    0.2   0.2\n",
       "Proxy Oracle   0.809837  0.715500    0.2   0.2\n",
       "RW             0.726281  0.684333    0.2   0.2\n",
       "RW-SL          0.736895  0.665583    0.2   0.2\n",
       "Target Oracle  0.776499  0.724583    0.2   0.2"
      ]
     },
     "metadata": {},
     "output_type": "display_data"
    },
    {
     "data": {
      "text/html": [
       "<div>\n",
       "<style scoped>\n",
       "    .dataframe tbody tr th:only-of-type {\n",
       "        vertical-align: middle;\n",
       "    }\n",
       "\n",
       "    .dataframe tbody tr th {\n",
       "        vertical-align: top;\n",
       "    }\n",
       "\n",
       "    .dataframe thead th {\n",
       "        text-align: right;\n",
       "    }\n",
       "</style>\n",
       "<table border=\"1\" class=\"dataframe\">\n",
       "  <thead>\n",
       "    <tr style=\"text-align: right;\">\n",
       "      <th></th>\n",
       "      <th>AU-ROC</th>\n",
       "      <th>ACC</th>\n",
       "      <th>alpha</th>\n",
       "      <th>beta</th>\n",
       "    </tr>\n",
       "    <tr>\n",
       "      <th>model</th>\n",
       "      <th></th>\n",
       "      <th></th>\n",
       "      <th></th>\n",
       "      <th></th>\n",
       "    </tr>\n",
       "  </thead>\n",
       "  <tbody>\n",
       "    <tr>\n",
       "      <th>COM</th>\n",
       "      <td>0.060948</td>\n",
       "      <td>0.045975</td>\n",
       "      <td>0.0</td>\n",
       "      <td>0.0</td>\n",
       "    </tr>\n",
       "    <tr>\n",
       "      <th>COM-SL</th>\n",
       "      <td>0.010034</td>\n",
       "      <td>0.027710</td>\n",
       "      <td>0.0</td>\n",
       "      <td>0.0</td>\n",
       "    </tr>\n",
       "    <tr>\n",
       "      <th>OBS</th>\n",
       "      <td>0.009775</td>\n",
       "      <td>0.024327</td>\n",
       "      <td>0.0</td>\n",
       "      <td>0.0</td>\n",
       "    </tr>\n",
       "    <tr>\n",
       "      <th>Proxy Oracle</th>\n",
       "      <td>0.024903</td>\n",
       "      <td>0.022518</td>\n",
       "      <td>0.0</td>\n",
       "      <td>0.0</td>\n",
       "    </tr>\n",
       "    <tr>\n",
       "      <th>RW</th>\n",
       "      <td>0.043003</td>\n",
       "      <td>0.030583</td>\n",
       "      <td>0.0</td>\n",
       "      <td>0.0</td>\n",
       "    </tr>\n",
       "    <tr>\n",
       "      <th>RW-SL</th>\n",
       "      <td>0.017346</td>\n",
       "      <td>0.017390</td>\n",
       "      <td>0.0</td>\n",
       "      <td>0.0</td>\n",
       "    </tr>\n",
       "    <tr>\n",
       "      <th>Target Oracle</th>\n",
       "      <td>0.040197</td>\n",
       "      <td>0.023865</td>\n",
       "      <td>0.0</td>\n",
       "      <td>0.0</td>\n",
       "    </tr>\n",
       "  </tbody>\n",
       "</table>\n",
       "</div>"
      ],
      "text/plain": [
       "                 AU-ROC       ACC  alpha  beta\n",
       "model                                         \n",
       "COM            0.060948  0.045975    0.0   0.0\n",
       "COM-SL         0.010034  0.027710    0.0   0.0\n",
       "OBS            0.009775  0.024327    0.0   0.0\n",
       "Proxy Oracle   0.024903  0.022518    0.0   0.0\n",
       "RW             0.043003  0.030583    0.0   0.0\n",
       "RW-SL          0.017346  0.017390    0.0   0.0\n",
       "Target Oracle  0.040197  0.023865    0.0   0.0"
      ]
     },
     "metadata": {},
     "output_type": "display_data"
    },
    {
     "data": {
      "text/html": [
       "<div>\n",
       "<style scoped>\n",
       "    .dataframe tbody tr th:only-of-type {\n",
       "        vertical-align: middle;\n",
       "    }\n",
       "\n",
       "    .dataframe tbody tr th {\n",
       "        vertical-align: top;\n",
       "    }\n",
       "\n",
       "    .dataframe thead th {\n",
       "        text-align: right;\n",
       "    }\n",
       "</style>\n",
       "<table border=\"1\" class=\"dataframe\">\n",
       "  <thead>\n",
       "    <tr style=\"text-align: right;\">\n",
       "      <th></th>\n",
       "      <th>AU-ROC</th>\n",
       "      <th>ACC</th>\n",
       "      <th>alpha</th>\n",
       "      <th>beta</th>\n",
       "    </tr>\n",
       "    <tr>\n",
       "      <th>model</th>\n",
       "      <th></th>\n",
       "      <th></th>\n",
       "      <th></th>\n",
       "      <th></th>\n",
       "    </tr>\n",
       "  </thead>\n",
       "  <tbody>\n",
       "    <tr>\n",
       "      <th>COM</th>\n",
       "      <td>0.794853</td>\n",
       "      <td>0.621417</td>\n",
       "      <td>0.3</td>\n",
       "      <td>0.1</td>\n",
       "    </tr>\n",
       "    <tr>\n",
       "      <th>COM-SL</th>\n",
       "      <td>0.679347</td>\n",
       "      <td>0.630250</td>\n",
       "      <td>0.3</td>\n",
       "      <td>0.1</td>\n",
       "    </tr>\n",
       "    <tr>\n",
       "      <th>OBS</th>\n",
       "      <td>0.575016</td>\n",
       "      <td>0.571583</td>\n",
       "      <td>0.3</td>\n",
       "      <td>0.1</td>\n",
       "    </tr>\n",
       "    <tr>\n",
       "      <th>Proxy Oracle</th>\n",
       "      <td>0.773523</td>\n",
       "      <td>0.634583</td>\n",
       "      <td>0.3</td>\n",
       "      <td>0.1</td>\n",
       "    </tr>\n",
       "    <tr>\n",
       "      <th>RW</th>\n",
       "      <td>0.800117</td>\n",
       "      <td>0.613667</td>\n",
       "      <td>0.3</td>\n",
       "      <td>0.1</td>\n",
       "    </tr>\n",
       "    <tr>\n",
       "      <th>RW-SL</th>\n",
       "      <td>0.794232</td>\n",
       "      <td>0.717000</td>\n",
       "      <td>0.3</td>\n",
       "      <td>0.1</td>\n",
       "    </tr>\n",
       "    <tr>\n",
       "      <th>Target Oracle</th>\n",
       "      <td>0.820204</td>\n",
       "      <td>0.758250</td>\n",
       "      <td>0.3</td>\n",
       "      <td>0.1</td>\n",
       "    </tr>\n",
       "  </tbody>\n",
       "</table>\n",
       "</div>"
      ],
      "text/plain": [
       "                 AU-ROC       ACC  alpha  beta\n",
       "model                                         \n",
       "COM            0.794853  0.621417    0.3   0.1\n",
       "COM-SL         0.679347  0.630250    0.3   0.1\n",
       "OBS            0.575016  0.571583    0.3   0.1\n",
       "Proxy Oracle   0.773523  0.634583    0.3   0.1\n",
       "RW             0.800117  0.613667    0.3   0.1\n",
       "RW-SL          0.794232  0.717000    0.3   0.1\n",
       "Target Oracle  0.820204  0.758250    0.3   0.1"
      ]
     },
     "metadata": {},
     "output_type": "display_data"
    },
    {
     "data": {
      "text/html": [
       "<div>\n",
       "<style scoped>\n",
       "    .dataframe tbody tr th:only-of-type {\n",
       "        vertical-align: middle;\n",
       "    }\n",
       "\n",
       "    .dataframe tbody tr th {\n",
       "        vertical-align: top;\n",
       "    }\n",
       "\n",
       "    .dataframe thead th {\n",
       "        text-align: right;\n",
       "    }\n",
       "</style>\n",
       "<table border=\"1\" class=\"dataframe\">\n",
       "  <thead>\n",
       "    <tr style=\"text-align: right;\">\n",
       "      <th></th>\n",
       "      <th>AU-ROC</th>\n",
       "      <th>ACC</th>\n",
       "      <th>alpha</th>\n",
       "      <th>beta</th>\n",
       "    </tr>\n",
       "    <tr>\n",
       "      <th>model</th>\n",
       "      <th></th>\n",
       "      <th></th>\n",
       "      <th></th>\n",
       "      <th></th>\n",
       "    </tr>\n",
       "  </thead>\n",
       "  <tbody>\n",
       "    <tr>\n",
       "      <th>COM</th>\n",
       "      <td>0.022388</td>\n",
       "      <td>0.018404</td>\n",
       "      <td>0.0</td>\n",
       "      <td>0.0</td>\n",
       "    </tr>\n",
       "    <tr>\n",
       "      <th>COM-SL</th>\n",
       "      <td>0.068663</td>\n",
       "      <td>0.053915</td>\n",
       "      <td>0.0</td>\n",
       "      <td>0.0</td>\n",
       "    </tr>\n",
       "    <tr>\n",
       "      <th>OBS</th>\n",
       "      <td>0.020128</td>\n",
       "      <td>0.025528</td>\n",
       "      <td>0.0</td>\n",
       "      <td>0.0</td>\n",
       "    </tr>\n",
       "    <tr>\n",
       "      <th>Proxy Oracle</th>\n",
       "      <td>0.036878</td>\n",
       "      <td>0.028821</td>\n",
       "      <td>0.0</td>\n",
       "      <td>0.0</td>\n",
       "    </tr>\n",
       "    <tr>\n",
       "      <th>RW</th>\n",
       "      <td>0.022207</td>\n",
       "      <td>0.044873</td>\n",
       "      <td>0.0</td>\n",
       "      <td>0.0</td>\n",
       "    </tr>\n",
       "    <tr>\n",
       "      <th>RW-SL</th>\n",
       "      <td>0.032729</td>\n",
       "      <td>0.021936</td>\n",
       "      <td>0.0</td>\n",
       "      <td>0.0</td>\n",
       "    </tr>\n",
       "    <tr>\n",
       "      <th>Target Oracle</th>\n",
       "      <td>0.024866</td>\n",
       "      <td>0.009960</td>\n",
       "      <td>0.0</td>\n",
       "      <td>0.0</td>\n",
       "    </tr>\n",
       "  </tbody>\n",
       "</table>\n",
       "</div>"
      ],
      "text/plain": [
       "                 AU-ROC       ACC  alpha  beta\n",
       "model                                         \n",
       "COM            0.022388  0.018404    0.0   0.0\n",
       "COM-SL         0.068663  0.053915    0.0   0.0\n",
       "OBS            0.020128  0.025528    0.0   0.0\n",
       "Proxy Oracle   0.036878  0.028821    0.0   0.0\n",
       "RW             0.022207  0.044873    0.0   0.0\n",
       "RW-SL          0.032729  0.021936    0.0   0.0\n",
       "Target Oracle  0.024866  0.009960    0.0   0.0"
      ]
     },
     "metadata": {},
     "output_type": "display_data"
    }
   ],
   "source": [
    "results = pd.DataFrame(linsep_results)\n",
    "for config in param_configs:\n",
    "    res = results[(results['alpha'] == config['alpha']) & (results['beta'] == config['beta'])].groupby('model').mean()\n",
    "    display(res)\n",
    "    sem = results[(results['alpha'] == config['alpha']) & (results['beta'] == config['beta'])].groupby('model').sem()\n",
    "    display(sem)\n",
    "        "
   ]
  },
  {
   "cell_type": "markdown",
   "id": "8a7df82f",
   "metadata": {},
   "source": [
    "## Fixing a single alpha, beta"
   ]
  },
  {
   "cell_type": "code",
   "execution_count": 15,
   "id": "663adc3b",
   "metadata": {
    "scrolled": true
   },
   "outputs": [
    {
     "name": "stdout",
     "output_type": "stream",
     "text": [
      "=============== RUN: 0 ===============\n"
     ]
    },
    {
     "name": "stderr",
     "output_type": "stream",
     "text": [
      "Target: Y0: 100%|███████████████████████████████| 10/10 [00:06<00:00,  1.53it/s]\n",
      "Target: Y0: 100%|███████████████████████████████| 10/10 [00:06<00:00,  1.56it/s]\n",
      "Target: Y0: 100%|███████████████████████████████| 10/10 [00:06<00:00,  1.53it/s]\n",
      "Target: Y0_0: 100%|█████████████████████████████| 10/10 [00:06<00:00,  1.64it/s]\n",
      "Target: YS_0: 100%|█████████████████████████████| 10/10 [00:06<00:00,  1.52it/s]\n",
      "Target: Y0: 100%|███████████████████████████████| 10/10 [00:06<00:00,  1.62it/s]\n",
      "Target: Y0: 100%|███████████████████████████████| 10/10 [00:06<00:00,  1.56it/s]\n"
     ]
    },
    {
     "name": "stdout",
     "output_type": "stream",
     "text": [
      "=============== RUN: 1 ===============\n"
     ]
    },
    {
     "name": "stderr",
     "output_type": "stream",
     "text": [
      "Target: Y0: 100%|███████████████████████████████| 10/10 [00:06<00:00,  1.60it/s]\n",
      "Target: Y0: 100%|███████████████████████████████| 10/10 [00:06<00:00,  1.54it/s]\n",
      "Target: Y0: 100%|███████████████████████████████| 10/10 [00:06<00:00,  1.44it/s]\n",
      "Target: Y0_0: 100%|█████████████████████████████| 10/10 [00:06<00:00,  1.60it/s]\n",
      "Target: YS_0: 100%|█████████████████████████████| 10/10 [00:06<00:00,  1.51it/s]\n",
      "Target: Y0: 100%|███████████████████████████████| 10/10 [00:07<00:00,  1.36it/s]\n",
      "Target: Y0: 100%|███████████████████████████████| 10/10 [00:06<00:00,  1.49it/s]\n"
     ]
    },
    {
     "name": "stdout",
     "output_type": "stream",
     "text": [
      "=============== RUN: 2 ===============\n"
     ]
    },
    {
     "name": "stderr",
     "output_type": "stream",
     "text": [
      "Target: Y0: 100%|███████████████████████████████| 10/10 [00:06<00:00,  1.46it/s]\n",
      "Target: Y0: 100%|███████████████████████████████| 10/10 [00:07<00:00,  1.42it/s]\n",
      "Target: Y0: 100%|███████████████████████████████| 10/10 [00:07<00:00,  1.39it/s]\n",
      "Target: Y0_0: 100%|█████████████████████████████| 10/10 [00:06<00:00,  1.49it/s]\n",
      "Target: YS_0: 100%|█████████████████████████████| 10/10 [00:06<00:00,  1.56it/s]\n",
      "Target: Y0: 100%|███████████████████████████████| 10/10 [00:06<00:00,  1.54it/s]\n",
      "Target: Y0: 100%|███████████████████████████████| 10/10 [00:07<00:00,  1.34it/s]\n"
     ]
    },
    {
     "name": "stdout",
     "output_type": "stream",
     "text": [
      "=============== RUN: 3 ===============\n"
     ]
    },
    {
     "name": "stderr",
     "output_type": "stream",
     "text": [
      "Target: Y0: 100%|███████████████████████████████| 10/10 [00:06<00:00,  1.45it/s]\n",
      "Target: Y0: 100%|███████████████████████████████| 10/10 [00:07<00:00,  1.41it/s]\n",
      "Target: Y0: 100%|███████████████████████████████| 10/10 [00:07<00:00,  1.39it/s]\n",
      "Target: Y0_0: 100%|█████████████████████████████| 10/10 [00:06<00:00,  1.50it/s]\n",
      "Target: YS_0: 100%|█████████████████████████████| 10/10 [00:06<00:00,  1.51it/s]\n",
      "Target: Y0: 100%|███████████████████████████████| 10/10 [00:06<00:00,  1.49it/s]\n",
      "Target: Y0: 100%|███████████████████████████████| 10/10 [00:06<00:00,  1.46it/s]\n"
     ]
    },
    {
     "name": "stdout",
     "output_type": "stream",
     "text": [
      "=============== RUN: 4 ===============\n"
     ]
    },
    {
     "name": "stderr",
     "output_type": "stream",
     "text": [
      "Target: Y0: 100%|███████████████████████████████| 10/10 [00:06<00:00,  1.48it/s]\n",
      "Target: Y0: 100%|███████████████████████████████| 10/10 [00:06<00:00,  1.48it/s]\n",
      "Target: Y0: 100%|███████████████████████████████| 10/10 [00:07<00:00,  1.40it/s]\n",
      "Target: Y0_0: 100%|█████████████████████████████| 10/10 [00:06<00:00,  1.52it/s]\n",
      "Target: YS_0: 100%|█████████████████████████████| 10/10 [00:06<00:00,  1.50it/s]\n",
      "Target: Y0: 100%|███████████████████████████████| 10/10 [00:06<00:00,  1.49it/s]\n",
      "Target: Y0: 100%|███████████████████████████████| 10/10 [00:06<00:00,  1.44it/s]\n"
     ]
    }
   ],
   "source": [
    "do=0\n",
    "\n",
    "env = {\n",
    "    'Y0_PDF': '2D_linsep_intervention',\n",
    "    'Y1_PDF': '2D_linsep_baseline',\n",
    "    'PI_PDF': '6cov_linear'\n",
    "}\n",
    "\n",
    "baselines = [{\n",
    "         'model': 'RW',\n",
    "         'target': 'Y0'\n",
    "    },{\n",
    "        'model': 'RW-SL',\n",
    "        'target': 'Y0'\n",
    "    },{\n",
    "         'model': 'OBS',\n",
    "         'target': f'Y0'\n",
    "    },{\n",
    "         'model': 'Proxy Oracle',\n",
    "         'target': f'Y0_0'\n",
    "    },{\n",
    "         'model': 'Target Oracle',\n",
    "         'target': f'YS_0'\n",
    "    },{\n",
    "        'model': 'COM',\n",
    "        'target': 'Y0'\n",
    "    },{\n",
    "        'model': 'COM-SL',\n",
    "        'target': 'Y0'\n",
    "}]\n",
    "\n",
    "# baselines = [{\n",
    "#          'model': 'OBS',\n",
    "#          'target': f'Y0'\n",
    "#     },{\n",
    "#          'model': 'Proxy Oracle',\n",
    "#          'target': f'Y0_0'\n",
    "#     },{\n",
    "#          'model': 'Target Oracle',\n",
    "#          'target': f'YS_0'\n",
    "#     }]\n",
    "exp_results = run_baseline_comparison_exp(env, baselines, do=0, N_RUNS=5, NS=4000,\n",
    "                                          K=1, n_epochs=10, alpha=.3, beta=.1)\n",
    "    "
   ]
  },
  {
   "cell_type": "code",
   "execution_count": 12,
   "id": "4b3549be",
   "metadata": {
    "scrolled": true
   },
   "outputs": [
    {
     "ename": "NameError",
     "evalue": "name 'exp_results' is not defined",
     "output_type": "error",
     "traceback": [
      "\u001b[0;31m---------------------------------------------------------------------------\u001b[0m",
      "\u001b[0;31mNameError\u001b[0m                                 Traceback (most recent call last)",
      "Input \u001b[0;32mIn [12]\u001b[0m, in \u001b[0;36m<cell line: 1>\u001b[0;34m()\u001b[0m\n\u001b[0;32m----> 1\u001b[0m pd\u001b[38;5;241m.\u001b[39mDataFrame(\u001b[43mexp_results\u001b[49m)\u001b[38;5;241m.\u001b[39mgroupby(\u001b[38;5;124m'\u001b[39m\u001b[38;5;124mmodel\u001b[39m\u001b[38;5;124m'\u001b[39m)\u001b[38;5;241m.\u001b[39mmean()\n",
      "\u001b[0;31mNameError\u001b[0m: name 'exp_results' is not defined"
     ]
    }
   ],
   "source": [
    "pd.DataFrame(exp_results).groupby('model').mean()"
   ]
  },
  {
   "cell_type": "markdown",
   "id": "128f2a44",
   "metadata": {},
   "source": [
    "# Main Experiment: parameter estimation via "
   ]
  },
  {
   "cell_type": "code",
   "execution_count": 3,
   "id": "d806e065",
   "metadata": {
    "scrolled": true
   },
   "outputs": [
    {
     "name": "stdout",
     "output_type": "stream",
     "text": [
      "======================================================================\n",
      "NS: [2000, 4000, 6000, 8000, 10000], alpha: 0.1, beta: 0.3\n",
      "====================================================================== \n",
      "\n"
     ]
    },
    {
     "name": "stderr",
     "output_type": "stream",
     "text": [
      "Target: Y|D: 100%|██████████████████████████████| 20/20 [00:13<00:00,  1.46it/s]\n",
      "Target: Y|D: 100%|██████████████████████████████| 20/20 [00:13<00:00,  1.49it/s]\n",
      "Target: Y|D: 100%|██████████████████████████████| 20/20 [00:13<00:00,  1.48it/s]\n",
      "Target: Y|D: 100%|██████████████████████████████| 20/20 [00:13<00:00,  1.48it/s]\n",
      "Target: Y|D: 100%|██████████████████████████████| 20/20 [00:14<00:00,  1.41it/s]\n",
      "Target: Y|D: 100%|██████████████████████████████| 20/20 [00:14<00:00,  1.42it/s]\n",
      "Target: Y|D: 100%|██████████████████████████████| 20/20 [00:13<00:00,  1.44it/s]\n",
      "Target: Y|D: 100%|██████████████████████████████| 20/20 [00:13<00:00,  1.51it/s]\n",
      "Target: Y|D: 100%|██████████████████████████████| 20/20 [00:13<00:00,  1.51it/s]\n",
      "Target: Y|D: 100%|██████████████████████████████| 20/20 [00:14<00:00,  1.36it/s]\n",
      "Target: Y|D: 100%|██████████████████████████████| 20/20 [00:13<00:00,  1.44it/s]\n",
      "Target: Y|D: 100%|██████████████████████████████| 20/20 [00:13<00:00,  1.50it/s]\n",
      "Target: Y|D: 100%|██████████████████████████████| 20/20 [00:12<00:00,  1.55it/s]\n",
      "Target: Y|D: 100%|██████████████████████████████| 20/20 [00:13<00:00,  1.47it/s]\n",
      "Target: Y|D: 100%|██████████████████████████████| 20/20 [00:13<00:00,  1.53it/s]\n"
     ]
    },
    {
     "name": "stdout",
     "output_type": "stream",
     "text": [
      "======================================================================\n",
      "NS: [2000, 4000, 6000, 8000, 10000], alpha: 0.1, beta: 0.3\n",
      "====================================================================== \n",
      "\n"
     ]
    },
    {
     "name": "stderr",
     "output_type": "stream",
     "text": [
      "Target: Y|D: 100%|██████████████████████████████| 20/20 [00:14<00:00,  1.42it/s]\n",
      "Target: Y|D: 100%|██████████████████████████████| 20/20 [00:13<00:00,  1.48it/s]\n",
      "Target: Y|D: 100%|██████████████████████████████| 20/20 [00:14<00:00,  1.38it/s]\n",
      "Target: Y|D: 100%|██████████████████████████████| 20/20 [00:14<00:00,  1.43it/s]\n",
      "Target: Y|D: 100%|██████████████████████████████| 20/20 [00:13<00:00,  1.43it/s]\n",
      "Target: Y|D: 100%|██████████████████████████████| 20/20 [00:13<00:00,  1.44it/s]\n",
      "Target: Y|D: 100%|██████████████████████████████| 20/20 [00:13<00:00,  1.45it/s]\n",
      "Target: Y|D: 100%|██████████████████████████████| 20/20 [00:13<00:00,  1.46it/s]\n",
      "Target: Y|D: 100%|██████████████████████████████| 20/20 [00:13<00:00,  1.44it/s]\n",
      "Target: Y|D: 100%|██████████████████████████████| 20/20 [00:13<00:00,  1.50it/s]\n",
      "Target: Y|D: 100%|██████████████████████████████| 20/20 [00:14<00:00,  1.42it/s]\n",
      "Target: Y|D: 100%|██████████████████████████████| 20/20 [00:13<00:00,  1.45it/s]\n",
      "Target: Y|D: 100%|██████████████████████████████| 20/20 [00:14<00:00,  1.40it/s]\n",
      "Target: Y|D: 100%|██████████████████████████████| 20/20 [00:14<00:00,  1.40it/s]\n",
      "Target: Y|D: 100%|██████████████████████████████| 20/20 [00:14<00:00,  1.43it/s]\n"
     ]
    },
    {
     "name": "stdout",
     "output_type": "stream",
     "text": [
      "======================================================================\n",
      "NS: [2000, 4000, 6000, 8000, 10000], alpha: 0.1, beta: 0.3\n",
      "====================================================================== \n",
      "\n"
     ]
    },
    {
     "name": "stderr",
     "output_type": "stream",
     "text": [
      "Target: Y|D: 100%|██████████████████████████████| 20/20 [00:14<00:00,  1.39it/s]\n",
      "Target: Y|D: 100%|██████████████████████████████| 20/20 [00:14<00:00,  1.39it/s]\n",
      "Target: Y|D: 100%|██████████████████████████████| 20/20 [00:14<00:00,  1.36it/s]\n",
      "Target: Y|D: 100%|██████████████████████████████| 20/20 [00:14<00:00,  1.39it/s]\n",
      "Target: Y|D: 100%|██████████████████████████████| 20/20 [00:14<00:00,  1.39it/s]\n",
      "Target: Y|D: 100%|██████████████████████████████| 20/20 [00:14<00:00,  1.40it/s]\n",
      "Target: Y|D: 100%|██████████████████████████████| 20/20 [00:14<00:00,  1.40it/s]\n",
      "Target: Y|D: 100%|██████████████████████████████| 20/20 [00:14<00:00,  1.40it/s]\n",
      "Target: Y|D: 100%|██████████████████████████████| 20/20 [00:14<00:00,  1.38it/s]\n",
      "Target: Y|D: 100%|██████████████████████████████| 20/20 [00:14<00:00,  1.39it/s]\n",
      "Target: Y|D: 100%|██████████████████████████████| 20/20 [00:14<00:00,  1.38it/s]\n",
      "Target: Y|D: 100%|██████████████████████████████| 20/20 [00:14<00:00,  1.36it/s]\n",
      "Target: Y|D: 100%|██████████████████████████████| 20/20 [00:15<00:00,  1.33it/s]\n",
      "Target: Y|D: 100%|██████████████████████████████| 20/20 [00:14<00:00,  1.34it/s]\n",
      "Target: Y|D: 100%|██████████████████████████████| 20/20 [00:14<00:00,  1.36it/s]\n"
     ]
    },
    {
     "name": "stdout",
     "output_type": "stream",
     "text": [
      "======================================================================\n",
      "NS: [2000, 4000, 6000, 8000, 10000], alpha: 0.1, beta: 0.3\n",
      "====================================================================== \n",
      "\n"
     ]
    },
    {
     "name": "stderr",
     "output_type": "stream",
     "text": [
      "Target: Y|D: 100%|██████████████████████████████| 20/20 [00:15<00:00,  1.31it/s]\n",
      "Target: Y|D: 100%|██████████████████████████████| 20/20 [00:15<00:00,  1.33it/s]\n",
      "Target: Y|D: 100%|██████████████████████████████| 20/20 [00:15<00:00,  1.33it/s]\n",
      "Target: Y|D: 100%|██████████████████████████████| 20/20 [00:14<00:00,  1.39it/s]\n",
      "Target: Y|D: 100%|██████████████████████████████| 20/20 [00:14<00:00,  1.42it/s]\n",
      "Target: Y|D: 100%|██████████████████████████████| 20/20 [00:14<00:00,  1.40it/s]\n",
      "Target: Y|D: 100%|██████████████████████████████| 20/20 [00:15<00:00,  1.28it/s]\n",
      "Target: Y|D: 100%|██████████████████████████████| 20/20 [00:14<00:00,  1.34it/s]\n",
      "Target: Y|D: 100%|██████████████████████████████| 20/20 [00:14<00:00,  1.37it/s]\n",
      "Target: Y|D: 100%|██████████████████████████████| 20/20 [00:14<00:00,  1.40it/s]\n",
      "Target: Y|D: 100%|██████████████████████████████| 20/20 [00:14<00:00,  1.41it/s]\n",
      "Target: Y|D: 100%|██████████████████████████████| 20/20 [00:13<00:00,  1.44it/s]\n",
      "Target: Y|D: 100%|██████████████████████████████| 20/20 [00:14<00:00,  1.42it/s]\n",
      "Target: Y|D: 100%|██████████████████████████████| 20/20 [00:14<00:00,  1.34it/s]\n",
      "Target: Y|D: 100%|██████████████████████████████| 20/20 [00:14<00:00,  1.40it/s]\n"
     ]
    },
    {
     "name": "stdout",
     "output_type": "stream",
     "text": [
      "======================================================================\n",
      "NS: [2000, 4000, 6000, 8000, 10000], alpha: 0.1, beta: 0.3\n",
      "====================================================================== \n",
      "\n"
     ]
    },
    {
     "name": "stderr",
     "output_type": "stream",
     "text": [
      "Target: Y|D: 100%|██████████████████████████████| 20/20 [00:16<00:00,  1.18it/s]\n",
      "Target: Y|D: 100%|██████████████████████████████| 20/20 [00:17<00:00,  1.13it/s]\n",
      "Target: Y|D: 100%|██████████████████████████████| 20/20 [00:15<00:00,  1.27it/s]\n",
      "Target: Y|D: 100%|██████████████████████████████| 20/20 [00:15<00:00,  1.26it/s]\n",
      "Target: Y|D: 100%|██████████████████████████████| 20/20 [00:15<00:00,  1.25it/s]\n",
      "Target: Y|D: 100%|██████████████████████████████| 20/20 [00:15<00:00,  1.28it/s]\n",
      "Target: Y|D: 100%|██████████████████████████████| 20/20 [00:16<00:00,  1.24it/s]\n",
      "Target: Y|D: 100%|██████████████████████████████| 20/20 [00:15<00:00,  1.26it/s]\n",
      "Target: Y|D: 100%|██████████████████████████████| 20/20 [00:15<00:00,  1.28it/s]\n",
      "Target: Y|D: 100%|██████████████████████████████| 20/20 [00:15<00:00,  1.28it/s]\n",
      "Target: Y|D: 100%|██████████████████████████████| 20/20 [00:15<00:00,  1.27it/s]\n",
      "Target: Y|D: 100%|██████████████████████████████| 20/20 [00:15<00:00,  1.29it/s]\n",
      "Target: Y|D: 100%|██████████████████████████████| 20/20 [00:15<00:00,  1.28it/s]\n",
      "Target: Y|D: 100%|██████████████████████████████| 20/20 [00:15<00:00,  1.28it/s]\n",
      "Target: Y|D: 100%|██████████████████████████████| 20/20 [00:15<00:00,  1.28it/s]\n"
     ]
    },
    {
     "name": "stdout",
     "output_type": "stream",
     "text": [
      "======================================================================\n",
      "NS: [2000, 4000, 6000, 8000, 10000], alpha: 0.2, beta: 0.2\n",
      "====================================================================== \n",
      "\n"
     ]
    },
    {
     "name": "stderr",
     "output_type": "stream",
     "text": [
      "Target: Y|D: 100%|██████████████████████████████| 20/20 [00:13<00:00,  1.49it/s]\n",
      "Target: Y|D: 100%|██████████████████████████████| 20/20 [00:13<00:00,  1.49it/s]\n",
      "Target: Y|D: 100%|██████████████████████████████| 20/20 [00:13<00:00,  1.50it/s]\n",
      "Target: Y|D: 100%|██████████████████████████████| 20/20 [00:13<00:00,  1.49it/s]\n",
      "Target: Y|D: 100%|██████████████████████████████| 20/20 [00:13<00:00,  1.50it/s]\n",
      "Target: Y|D: 100%|██████████████████████████████| 20/20 [00:13<00:00,  1.50it/s]\n",
      "Target: Y|D: 100%|██████████████████████████████| 20/20 [00:13<00:00,  1.50it/s]\n",
      "Target: Y|D: 100%|██████████████████████████████| 20/20 [00:13<00:00,  1.48it/s]\n",
      "Target: Y|D: 100%|██████████████████████████████| 20/20 [00:13<00:00,  1.49it/s]\n",
      "Target: Y|D: 100%|██████████████████████████████| 20/20 [00:13<00:00,  1.50it/s]\n",
      "Target: Y|D: 100%|██████████████████████████████| 20/20 [00:13<00:00,  1.49it/s]\n",
      "Target: Y|D: 100%|██████████████████████████████| 20/20 [00:13<00:00,  1.49it/s]\n",
      "Target: Y|D: 100%|██████████████████████████████| 20/20 [00:13<00:00,  1.48it/s]\n",
      "Target: Y|D: 100%|██████████████████████████████| 20/20 [00:14<00:00,  1.37it/s]\n",
      "Target: Y|D: 100%|██████████████████████████████| 20/20 [00:14<00:00,  1.41it/s]\n"
     ]
    },
    {
     "name": "stdout",
     "output_type": "stream",
     "text": [
      "======================================================================\n",
      "NS: [2000, 4000, 6000, 8000, 10000], alpha: 0.2, beta: 0.2\n",
      "====================================================================== \n",
      "\n"
     ]
    },
    {
     "name": "stderr",
     "output_type": "stream",
     "text": [
      "Target: Y|D: 100%|██████████████████████████████| 20/20 [00:14<00:00,  1.36it/s]\n",
      "Target: Y|D: 100%|██████████████████████████████| 20/20 [00:15<00:00,  1.32it/s]\n",
      "Target: Y|D: 100%|██████████████████████████████| 20/20 [00:14<00:00,  1.36it/s]\n",
      "Target: Y|D: 100%|██████████████████████████████| 20/20 [00:14<00:00,  1.36it/s]\n",
      "Target: Y|D: 100%|██████████████████████████████| 20/20 [00:14<00:00,  1.38it/s]\n",
      "Target: Y|D: 100%|██████████████████████████████| 20/20 [00:14<00:00,  1.35it/s]\n",
      "Target: Y|D: 100%|██████████████████████████████| 20/20 [00:14<00:00,  1.36it/s]\n",
      "Target: Y|D: 100%|██████████████████████████████| 20/20 [00:14<00:00,  1.38it/s]\n",
      "Target: Y|D: 100%|██████████████████████████████| 20/20 [00:14<00:00,  1.34it/s]\n",
      "Target: Y|D: 100%|██████████████████████████████| 20/20 [00:14<00:00,  1.37it/s]\n",
      "Target: Y|D: 100%|██████████████████████████████| 20/20 [00:13<00:00,  1.43it/s]\n",
      "Target: Y|D: 100%|██████████████████████████████| 20/20 [00:13<00:00,  1.45it/s]\n",
      "Target: Y|D: 100%|██████████████████████████████| 20/20 [00:14<00:00,  1.42it/s]\n",
      "Target: Y|D: 100%|██████████████████████████████| 20/20 [00:13<00:00,  1.44it/s]\n",
      "Target: Y|D: 100%|██████████████████████████████| 20/20 [00:14<00:00,  1.38it/s]\n"
     ]
    },
    {
     "name": "stdout",
     "output_type": "stream",
     "text": [
      "======================================================================\n",
      "NS: [2000, 4000, 6000, 8000, 10000], alpha: 0.2, beta: 0.2\n",
      "====================================================================== \n",
      "\n"
     ]
    },
    {
     "name": "stderr",
     "output_type": "stream",
     "text": [
      "Target: Y|D: 100%|██████████████████████████████| 20/20 [00:14<00:00,  1.38it/s]\n",
      "Target: Y|D: 100%|██████████████████████████████| 20/20 [00:14<00:00,  1.39it/s]\n",
      "Target: Y|D: 100%|██████████████████████████████| 20/20 [00:14<00:00,  1.39it/s]\n",
      "Target: Y|D: 100%|██████████████████████████████| 20/20 [00:14<00:00,  1.40it/s]\n",
      "Target: Y|D: 100%|██████████████████████████████| 20/20 [00:14<00:00,  1.39it/s]\n",
      "Target: Y|D: 100%|██████████████████████████████| 20/20 [00:14<00:00,  1.37it/s]\n",
      "Target: Y|D: 100%|██████████████████████████████| 20/20 [00:14<00:00,  1.39it/s]\n",
      "Target: Y|D: 100%|██████████████████████████████| 20/20 [00:14<00:00,  1.41it/s]\n",
      "Target: Y|D: 100%|██████████████████████████████| 20/20 [00:14<00:00,  1.41it/s]\n",
      "Target: Y|D: 100%|██████████████████████████████| 20/20 [00:13<00:00,  1.54it/s]\n",
      "Target: Y|D: 100%|██████████████████████████████| 20/20 [00:13<00:00,  1.52it/s]\n",
      "Target: Y|D: 100%|██████████████████████████████| 20/20 [00:13<00:00,  1.52it/s]\n",
      "Target: Y|D: 100%|██████████████████████████████| 20/20 [00:13<00:00,  1.53it/s]\n",
      "Target: Y|D: 100%|██████████████████████████████| 20/20 [00:13<00:00,  1.53it/s]\n",
      "Target: Y|D: 100%|██████████████████████████████| 20/20 [00:13<00:00,  1.52it/s]\n"
     ]
    },
    {
     "name": "stdout",
     "output_type": "stream",
     "text": [
      "======================================================================\n",
      "NS: [2000, 4000, 6000, 8000, 10000], alpha: 0.2, beta: 0.2\n",
      "====================================================================== \n",
      "\n"
     ]
    },
    {
     "name": "stderr",
     "output_type": "stream",
     "text": [
      "Target: Y|D: 100%|██████████████████████████████| 20/20 [00:13<00:00,  1.47it/s]\n",
      "Target: Y|D: 100%|██████████████████████████████| 20/20 [00:13<00:00,  1.46it/s]\n",
      "Target: Y|D: 100%|██████████████████████████████| 20/20 [00:13<00:00,  1.49it/s]\n",
      "Target: Y|D: 100%|██████████████████████████████| 20/20 [00:13<00:00,  1.46it/s]\n",
      "Target: Y|D: 100%|██████████████████████████████| 20/20 [00:14<00:00,  1.42it/s]\n",
      "Target: Y|D: 100%|██████████████████████████████| 20/20 [00:13<00:00,  1.47it/s]\n",
      "Target: Y|D: 100%|██████████████████████████████| 20/20 [00:13<00:00,  1.46it/s]\n",
      "Target: Y|D: 100%|██████████████████████████████| 20/20 [00:13<00:00,  1.44it/s]\n",
      "Target: Y|D: 100%|██████████████████████████████| 20/20 [00:13<00:00,  1.46it/s]\n",
      "Target: Y|D: 100%|██████████████████████████████| 20/20 [00:13<00:00,  1.48it/s]\n",
      "Target: Y|D: 100%|██████████████████████████████| 20/20 [00:13<00:00,  1.46it/s]\n",
      "Target: Y|D: 100%|██████████████████████████████| 20/20 [00:13<00:00,  1.47it/s]\n",
      "Target: Y|D: 100%|██████████████████████████████| 20/20 [00:13<00:00,  1.47it/s]\n",
      "Target: Y|D: 100%|██████████████████████████████| 20/20 [00:13<00:00,  1.47it/s]\n",
      "Target: Y|D: 100%|██████████████████████████████| 20/20 [00:13<00:00,  1.47it/s]\n"
     ]
    },
    {
     "name": "stdout",
     "output_type": "stream",
     "text": [
      "======================================================================\n",
      "NS: [2000, 4000, 6000, 8000, 10000], alpha: 0.2, beta: 0.2\n",
      "====================================================================== \n",
      "\n"
     ]
    },
    {
     "name": "stderr",
     "output_type": "stream",
     "text": [
      "Target: Y|D: 100%|██████████████████████████████| 20/20 [00:14<00:00,  1.42it/s]\n",
      "Target: Y|D: 100%|██████████████████████████████| 20/20 [00:14<00:00,  1.41it/s]\n",
      "Target: Y|D: 100%|██████████████████████████████| 20/20 [00:14<00:00,  1.41it/s]\n",
      "Target: Y|D: 100%|██████████████████████████████| 20/20 [00:14<00:00,  1.41it/s]\n",
      "Target: Y|D: 100%|██████████████████████████████| 20/20 [00:14<00:00,  1.42it/s]\n",
      "Target: Y|D: 100%|██████████████████████████████| 20/20 [00:14<00:00,  1.41it/s]\n",
      "Target: Y|D: 100%|██████████████████████████████| 20/20 [00:14<00:00,  1.41it/s]\n",
      "Target: Y|D: 100%|██████████████████████████████| 20/20 [00:14<00:00,  1.41it/s]\n",
      "Target: Y|D: 100%|██████████████████████████████| 20/20 [00:14<00:00,  1.41it/s]\n",
      "Target: Y|D: 100%|██████████████████████████████| 20/20 [00:14<00:00,  1.42it/s]\n",
      "Target: Y|D: 100%|██████████████████████████████| 20/20 [00:14<00:00,  1.40it/s]\n",
      "Target: Y|D: 100%|██████████████████████████████| 20/20 [00:14<00:00,  1.42it/s]\n",
      "Target: Y|D: 100%|██████████████████████████████| 20/20 [00:14<00:00,  1.41it/s]\n",
      "Target: Y|D: 100%|██████████████████████████████| 20/20 [00:14<00:00,  1.42it/s]\n",
      "Target: Y|D: 100%|██████████████████████████████| 20/20 [00:14<00:00,  1.42it/s]\n"
     ]
    },
    {
     "name": "stdout",
     "output_type": "stream",
     "text": [
      "======================================================================\n",
      "NS: [2000, 4000, 6000, 8000, 10000], alpha: 0.3, beta: 0.1\n",
      "====================================================================== \n",
      "\n"
     ]
    },
    {
     "name": "stderr",
     "output_type": "stream",
     "text": [
      "Target: Y|D: 100%|██████████████████████████████| 20/20 [00:11<00:00,  1.67it/s]\n",
      "Target: Y|D: 100%|██████████████████████████████| 20/20 [00:12<00:00,  1.66it/s]\n",
      "Target: Y|D: 100%|██████████████████████████████| 20/20 [00:12<00:00,  1.64it/s]\n",
      "Target: Y|D: 100%|██████████████████████████████| 20/20 [00:11<00:00,  1.69it/s]\n",
      "Target: Y|D: 100%|██████████████████████████████| 20/20 [00:11<00:00,  1.67it/s]\n",
      "Target: Y|D: 100%|██████████████████████████████| 20/20 [00:11<00:00,  1.69it/s]\n",
      "Target: Y|D: 100%|██████████████████████████████| 20/20 [00:11<00:00,  1.68it/s]\n",
      "Target: Y|D: 100%|██████████████████████████████| 20/20 [00:11<00:00,  1.69it/s]\n",
      "Target: Y|D: 100%|██████████████████████████████| 20/20 [00:11<00:00,  1.70it/s]\n",
      "Target: Y|D: 100%|██████████████████████████████| 20/20 [00:12<00:00,  1.67it/s]\n",
      "Target: Y|D: 100%|██████████████████████████████| 20/20 [00:12<00:00,  1.64it/s]\n",
      "Target: Y|D: 100%|██████████████████████████████| 20/20 [00:12<00:00,  1.64it/s]\n",
      "Target: Y|D: 100%|██████████████████████████████| 20/20 [00:12<00:00,  1.66it/s]\n",
      "Target: Y|D: 100%|██████████████████████████████| 20/20 [00:11<00:00,  1.67it/s]\n",
      "Target: Y|D: 100%|██████████████████████████████| 20/20 [00:12<00:00,  1.67it/s]\n"
     ]
    },
    {
     "name": "stdout",
     "output_type": "stream",
     "text": [
      "======================================================================\n",
      "NS: [2000, 4000, 6000, 8000, 10000], alpha: 0.3, beta: 0.1\n",
      "====================================================================== \n",
      "\n"
     ]
    },
    {
     "name": "stderr",
     "output_type": "stream",
     "text": [
      "Target: Y|D: 100%|██████████████████████████████| 20/20 [00:12<00:00,  1.62it/s]\n",
      "Target: Y|D: 100%|██████████████████████████████| 20/20 [00:12<00:00,  1.62it/s]\n",
      "Target: Y|D: 100%|██████████████████████████████| 20/20 [00:12<00:00,  1.62it/s]\n",
      "Target: Y|D: 100%|██████████████████████████████| 20/20 [00:12<00:00,  1.61it/s]\n",
      "Target: Y|D: 100%|██████████████████████████████| 20/20 [00:12<00:00,  1.61it/s]\n",
      "Target: Y|D: 100%|██████████████████████████████| 20/20 [00:12<00:00,  1.64it/s]\n",
      "Target: Y|D: 100%|██████████████████████████████| 20/20 [00:12<00:00,  1.63it/s]\n",
      "Target: Y|D: 100%|██████████████████████████████| 20/20 [00:12<00:00,  1.63it/s]\n",
      "Target: Y|D: 100%|██████████████████████████████| 20/20 [00:12<00:00,  1.62it/s]\n",
      "Target: Y|D: 100%|██████████████████████████████| 20/20 [00:12<00:00,  1.61it/s]\n",
      "Target: Y|D: 100%|██████████████████████████████| 20/20 [00:12<00:00,  1.63it/s]\n",
      "Target: Y|D: 100%|██████████████████████████████| 20/20 [00:12<00:00,  1.57it/s]\n",
      "Target: Y|D: 100%|██████████████████████████████| 20/20 [00:12<00:00,  1.61it/s]\n",
      "Target: Y|D: 100%|██████████████████████████████| 20/20 [00:12<00:00,  1.65it/s]\n",
      "Target: Y|D: 100%|██████████████████████████████| 20/20 [00:12<00:00,  1.64it/s]\n"
     ]
    },
    {
     "name": "stdout",
     "output_type": "stream",
     "text": [
      "======================================================================\n",
      "NS: [2000, 4000, 6000, 8000, 10000], alpha: 0.3, beta: 0.1\n",
      "====================================================================== \n",
      "\n"
     ]
    },
    {
     "name": "stderr",
     "output_type": "stream",
     "text": [
      "Target: Y|D: 100%|██████████████████████████████| 20/20 [00:12<00:00,  1.57it/s]\n",
      "Target: Y|D: 100%|██████████████████████████████| 20/20 [00:12<00:00,  1.58it/s]\n",
      "Target: Y|D: 100%|██████████████████████████████| 20/20 [00:12<00:00,  1.57it/s]\n",
      "Target: Y|D: 100%|██████████████████████████████| 20/20 [00:12<00:00,  1.57it/s]\n",
      "Target: Y|D: 100%|██████████████████████████████| 20/20 [00:12<00:00,  1.57it/s]\n",
      "Target: Y|D: 100%|██████████████████████████████| 20/20 [00:12<00:00,  1.58it/s]\n",
      "Target: Y|D: 100%|██████████████████████████████| 20/20 [00:12<00:00,  1.56it/s]\n",
      "Target: Y|D: 100%|██████████████████████████████| 20/20 [00:12<00:00,  1.57it/s]\n",
      "Target: Y|D: 100%|██████████████████████████████| 20/20 [00:12<00:00,  1.57it/s]\n",
      "Target: Y|D: 100%|██████████████████████████████| 20/20 [00:12<00:00,  1.58it/s]\n",
      "Target: Y|D: 100%|██████████████████████████████| 20/20 [00:12<00:00,  1.56it/s]\n",
      "Target: Y|D: 100%|██████████████████████████████| 20/20 [00:12<00:00,  1.58it/s]\n",
      "Target: Y|D: 100%|██████████████████████████████| 20/20 [00:12<00:00,  1.58it/s]\n",
      "Target: Y|D: 100%|██████████████████████████████| 20/20 [00:12<00:00,  1.57it/s]\n",
      "Target: Y|D: 100%|██████████████████████████████| 20/20 [00:12<00:00,  1.57it/s]\n"
     ]
    },
    {
     "name": "stdout",
     "output_type": "stream",
     "text": [
      "======================================================================\n",
      "NS: [2000, 4000, 6000, 8000, 10000], alpha: 0.3, beta: 0.1\n",
      "====================================================================== \n",
      "\n"
     ]
    },
    {
     "name": "stderr",
     "output_type": "stream",
     "text": [
      "Target: Y|D: 100%|██████████████████████████████| 20/20 [00:13<00:00,  1.49it/s]\n",
      "Target: Y|D: 100%|██████████████████████████████| 20/20 [00:13<00:00,  1.51it/s]\n",
      "Target: Y|D: 100%|██████████████████████████████| 20/20 [00:13<00:00,  1.50it/s]\n",
      "Target: Y|D: 100%|██████████████████████████████| 20/20 [00:13<00:00,  1.51it/s]\n",
      "Target: Y|D: 100%|██████████████████████████████| 20/20 [00:13<00:00,  1.51it/s]\n",
      "Target: Y|D: 100%|██████████████████████████████| 20/20 [00:13<00:00,  1.49it/s]\n",
      "Target: Y|D: 100%|██████████████████████████████| 20/20 [00:13<00:00,  1.51it/s]\n",
      "Target: Y|D: 100%|██████████████████████████████| 20/20 [00:13<00:00,  1.51it/s]\n",
      "Target: Y|D: 100%|██████████████████████████████| 20/20 [00:13<00:00,  1.50it/s]\n",
      "Target: Y|D: 100%|██████████████████████████████| 20/20 [00:13<00:00,  1.51it/s]\n",
      "Target: Y|D: 100%|██████████████████████████████| 20/20 [00:13<00:00,  1.52it/s]\n",
      "Target: Y|D: 100%|██████████████████████████████| 20/20 [00:13<00:00,  1.50it/s]\n",
      "Target: Y|D: 100%|██████████████████████████████| 20/20 [00:13<00:00,  1.51it/s]\n",
      "Target: Y|D: 100%|██████████████████████████████| 20/20 [00:13<00:00,  1.51it/s]\n",
      "Target: Y|D: 100%|██████████████████████████████| 20/20 [00:13<00:00,  1.51it/s]\n"
     ]
    },
    {
     "name": "stdout",
     "output_type": "stream",
     "text": [
      "======================================================================\n",
      "NS: [2000, 4000, 6000, 8000, 10000], alpha: 0.3, beta: 0.1\n",
      "====================================================================== \n",
      "\n"
     ]
    },
    {
     "name": "stderr",
     "output_type": "stream",
     "text": [
      "Target: Y|D: 100%|██████████████████████████████| 20/20 [00:13<00:00,  1.45it/s]\n",
      "Target: Y|D: 100%|██████████████████████████████| 20/20 [00:13<00:00,  1.45it/s]\n",
      "Target: Y|D: 100%|██████████████████████████████| 20/20 [00:13<00:00,  1.45it/s]\n",
      "Target: Y|D: 100%|██████████████████████████████| 20/20 [00:13<00:00,  1.45it/s]\n",
      "Target: Y|D: 100%|██████████████████████████████| 20/20 [00:13<00:00,  1.45it/s]\n",
      "Target: Y|D: 100%|██████████████████████████████| 20/20 [00:13<00:00,  1.44it/s]\n",
      "Target: Y|D: 100%|██████████████████████████████| 20/20 [00:13<00:00,  1.46it/s]\n",
      "Target: Y|D: 100%|██████████████████████████████| 20/20 [00:13<00:00,  1.44it/s]\n",
      "Target: Y|D: 100%|██████████████████████████████| 20/20 [00:13<00:00,  1.46it/s]\n",
      "Target: Y|D: 100%|██████████████████████████████| 20/20 [00:13<00:00,  1.45it/s]\n",
      "Target: Y|D: 100%|██████████████████████████████| 20/20 [00:13<00:00,  1.46it/s]\n",
      "Target: Y|D: 100%|██████████████████████████████| 20/20 [00:13<00:00,  1.46it/s]\n",
      "Target: Y|D: 100%|██████████████████████████████| 20/20 [00:13<00:00,  1.47it/s]\n",
      "Target: Y|D: 100%|██████████████████████████████| 20/20 [00:13<00:00,  1.45it/s]\n",
      "Target: Y|D: 100%|██████████████████████████████| 20/20 [00:13<00:00,  1.45it/s]\n"
     ]
    }
   ],
   "source": [
    "SAMPLE_SIZES = [2000, 4000, 6000, 8000, 10000]\n",
    "env = {\n",
    "    'Y0_PDF': '2D_linsep_intervention',\n",
    "    'Y1_PDF': '2D_linsep_baseline',\n",
    "    'PI_PDF': '6cov_linsep'\n",
    "}\n",
    "configs=[{\n",
    "    'alpha': .1,\n",
    "    'beta': .3\n",
    "},{\n",
    "    'alpha': .2,\n",
    "    'beta': .2\n",
    "},{\n",
    "    'alpha': .3,\n",
    "    'beta': .1\n",
    "}]\n",
    "ccperesults = ccpe_benchmark_exp(env, configs, SAMPLE_SIZES, N_RUNS=15, n_epochs=20)"
   ]
  },
  {
   "cell_type": "code",
   "execution_count": 1,
   "id": "b7a09b33",
   "metadata": {},
   "outputs": [
    {
     "ename": "NameError",
     "evalue": "name 'pd' is not defined",
     "output_type": "error",
     "traceback": [
      "\u001b[0;31m---------------------------------------------------------------------------\u001b[0m",
      "\u001b[0;31mNameError\u001b[0m                                 Traceback (most recent call last)",
      "Input \u001b[0;32mIn [1]\u001b[0m, in \u001b[0;36m<cell line: 3>\u001b[0;34m()\u001b[0m\n\u001b[1;32m      1\u001b[0m \u001b[38;5;66;03m# pd.DataFrame(ccperesults).to_csv('ccpe_N_15_epochs_20.csv')\u001b[39;00m\n\u001b[0;32m----> 3\u001b[0m \u001b[43mpd\u001b[49m\u001b[38;5;241m.\u001b[39mDataFrame(ccperesults)\u001b[38;5;241m.\u001b[39mgroupby([\u001b[38;5;124m'\u001b[39m\u001b[38;5;124malpha\u001b[39m\u001b[38;5;124m'\u001b[39m,\u001b[38;5;124m'\u001b[39m\u001b[38;5;124mbeta\u001b[39m\u001b[38;5;124m'\u001b[39m, \u001b[38;5;124m'\u001b[39m\u001b[38;5;124mNS\u001b[39m\u001b[38;5;124m'\u001b[39m])\u001b[38;5;241m.\u001b[39mmean()\n",
      "\u001b[0;31mNameError\u001b[0m: name 'pd' is not defined"
     ]
    }
   ],
   "source": [
    "# pd.DataFrame(ccperesults).to_csv('ccpe_N_15_epochs_20.csv')\n",
    "\n",
    "pd.DataFrame(ccperesults).groupby(['alpha','beta', 'NS']).mean()\n",
    "\n",
    "\n",
    "\n"
   ]
  },
  {
   "cell_type": "code",
   "execution_count": 5,
   "id": "8b9e1d5a",
   "metadata": {},
   "outputs": [
    {
     "data": {
      "text/html": [
       "<div>\n",
       "<style scoped>\n",
       "    .dataframe tbody tr th:only-of-type {\n",
       "        vertical-align: middle;\n",
       "    }\n",
       "\n",
       "    .dataframe tbody tr th {\n",
       "        vertical-align: top;\n",
       "    }\n",
       "\n",
       "    .dataframe thead th {\n",
       "        text-align: right;\n",
       "    }\n",
       "</style>\n",
       "<table border=\"1\" class=\"dataframe\">\n",
       "  <thead>\n",
       "    <tr style=\"text-align: right;\">\n",
       "      <th></th>\n",
       "      <th></th>\n",
       "      <th></th>\n",
       "      <th>alpha_hat</th>\n",
       "      <th>beta_hat</th>\n",
       "      <th>alpha_error</th>\n",
       "      <th>beta_error</th>\n",
       "    </tr>\n",
       "    <tr>\n",
       "      <th>alpha</th>\n",
       "      <th>beta</th>\n",
       "      <th>NS</th>\n",
       "      <th></th>\n",
       "      <th></th>\n",
       "      <th></th>\n",
       "      <th></th>\n",
       "    </tr>\n",
       "  </thead>\n",
       "  <tbody>\n",
       "    <tr>\n",
       "      <th rowspan=\"5\" valign=\"top\">0.1</th>\n",
       "      <th rowspan=\"5\" valign=\"top\">0.3</th>\n",
       "      <th>2000</th>\n",
       "      <td>0.065296</td>\n",
       "      <td>0.276600</td>\n",
       "      <td>-0.034704</td>\n",
       "      <td>-0.023400</td>\n",
       "    </tr>\n",
       "    <tr>\n",
       "      <th>4000</th>\n",
       "      <td>0.099370</td>\n",
       "      <td>0.272703</td>\n",
       "      <td>-0.000630</td>\n",
       "      <td>-0.027297</td>\n",
       "    </tr>\n",
       "    <tr>\n",
       "      <th>6000</th>\n",
       "      <td>0.044988</td>\n",
       "      <td>0.241954</td>\n",
       "      <td>-0.055012</td>\n",
       "      <td>-0.058046</td>\n",
       "    </tr>\n",
       "    <tr>\n",
       "      <th>8000</th>\n",
       "      <td>0.097976</td>\n",
       "      <td>0.266119</td>\n",
       "      <td>-0.002024</td>\n",
       "      <td>-0.033881</td>\n",
       "    </tr>\n",
       "    <tr>\n",
       "      <th>10000</th>\n",
       "      <td>0.122831</td>\n",
       "      <td>0.291706</td>\n",
       "      <td>0.022831</td>\n",
       "      <td>-0.008294</td>\n",
       "    </tr>\n",
       "    <tr>\n",
       "      <th rowspan=\"5\" valign=\"top\">0.2</th>\n",
       "      <th rowspan=\"5\" valign=\"top\">0.2</th>\n",
       "      <th>2000</th>\n",
       "      <td>0.110799</td>\n",
       "      <td>0.170377</td>\n",
       "      <td>-0.089201</td>\n",
       "      <td>-0.029623</td>\n",
       "    </tr>\n",
       "    <tr>\n",
       "      <th>4000</th>\n",
       "      <td>0.133155</td>\n",
       "      <td>0.121868</td>\n",
       "      <td>-0.066845</td>\n",
       "      <td>-0.078132</td>\n",
       "    </tr>\n",
       "    <tr>\n",
       "      <th>6000</th>\n",
       "      <td>0.143153</td>\n",
       "      <td>0.141268</td>\n",
       "      <td>-0.056847</td>\n",
       "      <td>-0.058732</td>\n",
       "    </tr>\n",
       "    <tr>\n",
       "      <th>8000</th>\n",
       "      <td>0.135842</td>\n",
       "      <td>0.149954</td>\n",
       "      <td>-0.064158</td>\n",
       "      <td>-0.050046</td>\n",
       "    </tr>\n",
       "    <tr>\n",
       "      <th>10000</th>\n",
       "      <td>0.109112</td>\n",
       "      <td>0.187827</td>\n",
       "      <td>-0.090888</td>\n",
       "      <td>-0.012173</td>\n",
       "    </tr>\n",
       "    <tr>\n",
       "      <th rowspan=\"5\" valign=\"top\">0.3</th>\n",
       "      <th rowspan=\"5\" valign=\"top\">0.1</th>\n",
       "      <th>2000</th>\n",
       "      <td>0.229391</td>\n",
       "      <td>0.073485</td>\n",
       "      <td>-0.070609</td>\n",
       "      <td>-0.026515</td>\n",
       "    </tr>\n",
       "    <tr>\n",
       "      <th>4000</th>\n",
       "      <td>0.163392</td>\n",
       "      <td>0.038593</td>\n",
       "      <td>-0.136608</td>\n",
       "      <td>-0.061407</td>\n",
       "    </tr>\n",
       "    <tr>\n",
       "      <th>6000</th>\n",
       "      <td>0.230170</td>\n",
       "      <td>0.074851</td>\n",
       "      <td>-0.069830</td>\n",
       "      <td>-0.025149</td>\n",
       "    </tr>\n",
       "    <tr>\n",
       "      <th>8000</th>\n",
       "      <td>0.215946</td>\n",
       "      <td>0.076836</td>\n",
       "      <td>-0.084054</td>\n",
       "      <td>-0.023164</td>\n",
       "    </tr>\n",
       "    <tr>\n",
       "      <th>10000</th>\n",
       "      <td>0.238434</td>\n",
       "      <td>0.021176</td>\n",
       "      <td>-0.061566</td>\n",
       "      <td>-0.078824</td>\n",
       "    </tr>\n",
       "  </tbody>\n",
       "</table>\n",
       "</div>"
      ],
      "text/plain": [
       "                  alpha_hat  beta_hat  alpha_error  beta_error\n",
       "alpha beta NS                                                 \n",
       "0.1   0.3  2000    0.065296  0.276600    -0.034704   -0.023400\n",
       "           4000    0.099370  0.272703    -0.000630   -0.027297\n",
       "           6000    0.044988  0.241954    -0.055012   -0.058046\n",
       "           8000    0.097976  0.266119    -0.002024   -0.033881\n",
       "           10000   0.122831  0.291706     0.022831   -0.008294\n",
       "0.2   0.2  2000    0.110799  0.170377    -0.089201   -0.029623\n",
       "           4000    0.133155  0.121868    -0.066845   -0.078132\n",
       "           6000    0.143153  0.141268    -0.056847   -0.058732\n",
       "           8000    0.135842  0.149954    -0.064158   -0.050046\n",
       "           10000   0.109112  0.187827    -0.090888   -0.012173\n",
       "0.3   0.1  2000    0.229391  0.073485    -0.070609   -0.026515\n",
       "           4000    0.163392  0.038593    -0.136608   -0.061407\n",
       "           6000    0.230170  0.074851    -0.069830   -0.025149\n",
       "           8000    0.215946  0.076836    -0.084054   -0.023164\n",
       "           10000   0.238434  0.021176    -0.061566   -0.078824"
      ]
     },
     "execution_count": 5,
     "metadata": {},
     "output_type": "execute_result"
    }
   ],
   "source": [
    "\n",
    "\n",
    "pd.DataFrame(ccperesults).groupby(['alpha','beta', 'NS']).mean()"
   ]
  },
  {
   "cell_type": "code",
   "execution_count": 10,
   "id": "c5a8eb83",
   "metadata": {},
   "outputs": [
    {
     "data": {
      "text/html": [
       "<div>\n",
       "<style scoped>\n",
       "    .dataframe tbody tr th:only-of-type {\n",
       "        vertical-align: middle;\n",
       "    }\n",
       "\n",
       "    .dataframe tbody tr th {\n",
       "        vertical-align: top;\n",
       "    }\n",
       "\n",
       "    .dataframe thead th {\n",
       "        text-align: right;\n",
       "    }\n",
       "</style>\n",
       "<table border=\"1\" class=\"dataframe\">\n",
       "  <thead>\n",
       "    <tr style=\"text-align: right;\">\n",
       "      <th></th>\n",
       "      <th>alpha</th>\n",
       "      <th>beta</th>\n",
       "      <th>alpha_hat</th>\n",
       "      <th>beta_hat</th>\n",
       "      <th>alpha_error</th>\n",
       "      <th>beta_error</th>\n",
       "    </tr>\n",
       "    <tr>\n",
       "      <th>NS</th>\n",
       "      <th></th>\n",
       "      <th></th>\n",
       "      <th></th>\n",
       "      <th></th>\n",
       "      <th></th>\n",
       "      <th></th>\n",
       "    </tr>\n",
       "  </thead>\n",
       "  <tbody>\n",
       "    <tr>\n",
       "      <th>10000</th>\n",
       "      <td>0.2</td>\n",
       "      <td>0.2</td>\n",
       "      <td>0.223990</td>\n",
       "      <td>0.220720</td>\n",
       "      <td>0.023990</td>\n",
       "      <td>0.020720</td>\n",
       "    </tr>\n",
       "    <tr>\n",
       "      <th>20000</th>\n",
       "      <td>0.2</td>\n",
       "      <td>0.2</td>\n",
       "      <td>0.168013</td>\n",
       "      <td>0.252069</td>\n",
       "      <td>-0.031987</td>\n",
       "      <td>0.052069</td>\n",
       "    </tr>\n",
       "  </tbody>\n",
       "</table>\n",
       "</div>"
      ],
      "text/plain": [
       "       alpha  beta  alpha_hat  beta_hat  alpha_error  beta_error\n",
       "NS                                                              \n",
       "10000    0.2   0.2   0.223990  0.220720     0.023990    0.020720\n",
       "20000    0.2   0.2   0.168013  0.252069    -0.031987    0.052069"
      ]
     },
     "execution_count": 10,
     "metadata": {},
     "output_type": "execute_result"
    }
   ],
   "source": [
    "pd.DataFrame(ccperesults).groupby('NS').mean()"
   ]
  },
  {
   "cell_type": "code",
   "execution_count": 7,
   "id": "35d8ac27",
   "metadata": {},
   "outputs": [
    {
     "data": {
      "text/html": [
       "<div>\n",
       "<style scoped>\n",
       "    .dataframe tbody tr th:only-of-type {\n",
       "        vertical-align: middle;\n",
       "    }\n",
       "\n",
       "    .dataframe tbody tr th {\n",
       "        vertical-align: top;\n",
       "    }\n",
       "\n",
       "    .dataframe thead th {\n",
       "        text-align: right;\n",
       "    }\n",
       "</style>\n",
       "<table border=\"1\" class=\"dataframe\">\n",
       "  <thead>\n",
       "    <tr style=\"text-align: right;\">\n",
       "      <th></th>\n",
       "      <th>alpha</th>\n",
       "      <th>beta</th>\n",
       "      <th>alpha_hat</th>\n",
       "      <th>beta_hat</th>\n",
       "      <th>alpha_error</th>\n",
       "      <th>beta_error</th>\n",
       "    </tr>\n",
       "    <tr>\n",
       "      <th>NS</th>\n",
       "      <th></th>\n",
       "      <th></th>\n",
       "      <th></th>\n",
       "      <th></th>\n",
       "      <th></th>\n",
       "      <th></th>\n",
       "    </tr>\n",
       "  </thead>\n",
       "  <tbody>\n",
       "    <tr>\n",
       "      <th>1000</th>\n",
       "      <td>0.2</td>\n",
       "      <td>0.2</td>\n",
       "      <td>0.216135</td>\n",
       "      <td>0.215559</td>\n",
       "      <td>0.016135</td>\n",
       "      <td>0.015559</td>\n",
       "    </tr>\n",
       "    <tr>\n",
       "      <th>2000</th>\n",
       "      <td>0.2</td>\n",
       "      <td>0.2</td>\n",
       "      <td>0.239689</td>\n",
       "      <td>0.253541</td>\n",
       "      <td>0.039689</td>\n",
       "      <td>0.053541</td>\n",
       "    </tr>\n",
       "    <tr>\n",
       "      <th>3000</th>\n",
       "      <td>0.2</td>\n",
       "      <td>0.2</td>\n",
       "      <td>0.067628</td>\n",
       "      <td>0.151977</td>\n",
       "      <td>-0.132372</td>\n",
       "      <td>-0.048023</td>\n",
       "    </tr>\n",
       "    <tr>\n",
       "      <th>4000</th>\n",
       "      <td>0.2</td>\n",
       "      <td>0.2</td>\n",
       "      <td>0.148458</td>\n",
       "      <td>0.226702</td>\n",
       "      <td>-0.051542</td>\n",
       "      <td>0.026702</td>\n",
       "    </tr>\n",
       "    <tr>\n",
       "      <th>5000</th>\n",
       "      <td>0.2</td>\n",
       "      <td>0.2</td>\n",
       "      <td>0.078935</td>\n",
       "      <td>0.118839</td>\n",
       "      <td>-0.121065</td>\n",
       "      <td>-0.081161</td>\n",
       "    </tr>\n",
       "  </tbody>\n",
       "</table>\n",
       "</div>"
      ],
      "text/plain": [
       "      alpha  beta  alpha_hat  beta_hat  alpha_error  beta_error\n",
       "NS                                                             \n",
       "1000    0.2   0.2   0.216135  0.215559     0.016135    0.015559\n",
       "2000    0.2   0.2   0.239689  0.253541     0.039689    0.053541\n",
       "3000    0.2   0.2   0.067628  0.151977    -0.132372   -0.048023\n",
       "4000    0.2   0.2   0.148458  0.226702    -0.051542    0.026702\n",
       "5000    0.2   0.2   0.078935  0.118839    -0.121065   -0.081161"
      ]
     },
     "execution_count": 7,
     "metadata": {},
     "output_type": "execute_result"
    }
   ],
   "source": [
    "pd.DataFrame(ccperesults).groupby('NS').mean()"
   ]
  },
  {
   "cell_type": "code",
   "execution_count": 57,
   "id": "d0202dc6",
   "metadata": {},
   "outputs": [
    {
     "data": {
      "image/png": "[encoded data removed]",
      "text/plain": [
       "<Figure size 432x288 with 1 Axes>"
      ]
     },
     "metadata": {},
     "output_type": "display_data"
    }
   ],
   "source": [
    "result_df = pd.read_csv('results/R7_K=1_N_RUNS=150_n_epochs=30_d0.csv')\n",
    "result_df = result_df[result_df['aggregate'] == False]\n",
    "\n",
    "sns.set(font_scale=1.8)\n",
    "sns.set_theme(style=\"whitegrid\", \n",
    "              palette=sns.color_palette(), \n",
    "              font_scale=1.4)\n",
    "\n",
    "g = sns.pointplot(\n",
    "    data=result_df,\n",
    "    x='NS',\n",
    "    y='error',\n",
    "    hue='parameter',\n",
    "    capsize=.4,\n",
    "    legend=True,\n",
    "    errorbar=\"se\"\n",
    ")\n",
    "g.set(xlabel='# of samples', ylabel='Mean absolute error')\n",
    "black_patch = mpatches.Patch(color=sns.color_palette()[1], label=r'$|\\beta_0 - \\hat{\\beta}_0|$')\n",
    "red_patch = mpatches.Patch(color=sns.color_palette()[0], label=r'$|\\alpha_0 - \\hat{\\alpha}_0|$')\n",
    "\n",
    "plt.legend(handles=[black_patch, red_patch])\n",
    "\n",
    "plt.savefig('figs/estimation_error.png', dpi=500, bbox_inches='tight')\n"
   ]
  },
  {
   "cell_type": "markdown",
   "id": "e0d1513a",
   "metadata": {},
   "source": [
    "## Experiment: Robustness to parameter estimation Error"
   ]
  },
  {
   "cell_type": "code",
   "execution_count": 5,
   "id": "2de2a7bd",
   "metadata": {
    "scrolled": true
   },
   "outputs": [
    {
     "name": "stdout",
     "output_type": "stream",
     "text": [
      "surroate params {'alpha': 0.0, 'beta': 0}\n"
     ]
    },
    {
     "name": "stderr",
     "output_type": "stream",
     "text": [
      "Target: Y0: 100%|███████████████████████████████████████████████████████████████████████████████| 5/5 [00:03<00:00,  1.39it/s]\n"
     ]
    },
    {
     "name": "stdout",
     "output_type": "stream",
     "text": [
      "surroate params {'alpha': 0.05, 'beta': 0}\n"
     ]
    },
    {
     "name": "stderr",
     "output_type": "stream",
     "text": [
      "Target: Y0: 100%|███████████████████████████████████████████████████████████████████████████████| 5/5 [00:03<00:00,  1.43it/s]\n"
     ]
    },
    {
     "name": "stdout",
     "output_type": "stream",
     "text": [
      "surroate params {'alpha': 0.1, 'beta': 0}\n"
     ]
    },
    {
     "name": "stderr",
     "output_type": "stream",
     "text": [
      "Target: Y0: 100%|███████████████████████████████████████████████████████████████████████████████| 5/5 [00:04<00:00,  1.24it/s]\n"
     ]
    },
    {
     "name": "stdout",
     "output_type": "stream",
     "text": [
      "surroate params {'alpha': 0.15, 'beta': 0}\n"
     ]
    },
    {
     "name": "stderr",
     "output_type": "stream",
     "text": [
      "Target: Y0: 100%|███████████████████████████████████████████████████████████████████████████████| 5/5 [00:05<00:00,  1.07s/it]\n"
     ]
    },
    {
     "name": "stdout",
     "output_type": "stream",
     "text": [
      "surroate params {'alpha': 0.2, 'beta': 0}\n"
     ]
    },
    {
     "name": "stderr",
     "output_type": "stream",
     "text": [
      "Target: Y0: 100%|███████████████████████████████████████████████████████████████████████████████| 5/5 [00:03<00:00,  1.30it/s]\n"
     ]
    },
    {
     "name": "stdout",
     "output_type": "stream",
     "text": [
      "surroate params {'alpha': 0.0, 'beta': 0}\n"
     ]
    },
    {
     "name": "stderr",
     "output_type": "stream",
     "text": [
      "Target: Y0: 100%|███████████████████████████████████████████████████████████████████████████████| 5/5 [00:05<00:00,  1.05s/it]\n"
     ]
    },
    {
     "name": "stdout",
     "output_type": "stream",
     "text": [
      "surroate params {'alpha': 0.05, 'beta': 0}\n"
     ]
    },
    {
     "name": "stderr",
     "output_type": "stream",
     "text": [
      "Target: Y0: 100%|███████████████████████████████████████████████████████████████████████████████| 5/5 [00:04<00:00,  1.24it/s]\n"
     ]
    },
    {
     "name": "stdout",
     "output_type": "stream",
     "text": [
      "surroate params {'alpha': 0.1, 'beta': 0}\n"
     ]
    },
    {
     "name": "stderr",
     "output_type": "stream",
     "text": [
      "Target: Y0: 100%|███████████████████████████████████████████████████████████████████████████████| 5/5 [00:04<00:00,  1.06it/s]\n"
     ]
    },
    {
     "name": "stdout",
     "output_type": "stream",
     "text": [
      "surroate params {'alpha': 0.15, 'beta': 0}\n"
     ]
    },
    {
     "name": "stderr",
     "output_type": "stream",
     "text": [
      "Target: Y0: 100%|███████████████████████████████████████████████████████████████████████████████| 5/5 [00:03<00:00,  1.29it/s]\n"
     ]
    },
    {
     "name": "stdout",
     "output_type": "stream",
     "text": [
      "surroate params {'alpha': 0.2, 'beta': 0}\n"
     ]
    },
    {
     "name": "stderr",
     "output_type": "stream",
     "text": [
      "Target: Y0: 100%|███████████████████████████████████████████████████████████████████████████████| 5/5 [00:03<00:00,  1.35it/s]\n"
     ]
    },
    {
     "name": "stdout",
     "output_type": "stream",
     "text": [
      "surroate params {'alpha': 0.25, 'beta': 0}\n"
     ]
    },
    {
     "name": "stderr",
     "output_type": "stream",
     "text": [
      "Target: Y0: 100%|███████████████████████████████████████████████████████████████████████████████| 5/5 [00:03<00:00,  1.34it/s]\n"
     ]
    },
    {
     "name": "stdout",
     "output_type": "stream",
     "text": [
      "surroate params {'alpha': 0.3, 'beta': 0}\n"
     ]
    },
    {
     "name": "stderr",
     "output_type": "stream",
     "text": [
      "Target: Y0: 100%|███████████████████████████████████████████████████████████████████████████████| 5/5 [00:03<00:00,  1.38it/s]\n"
     ]
    },
    {
     "name": "stdout",
     "output_type": "stream",
     "text": [
      "surroate params {'alpha': 0.35, 'beta': 0}\n"
     ]
    },
    {
     "name": "stderr",
     "output_type": "stream",
     "text": [
      "Target: Y0: 100%|███████████████████████████████████████████████████████████████████████████████| 5/5 [00:03<00:00,  1.40it/s]\n"
     ]
    },
    {
     "name": "stdout",
     "output_type": "stream",
     "text": [
      "surroate params {'alpha': 0.4, 'beta': 0}\n"
     ]
    },
    {
     "name": "stderr",
     "output_type": "stream",
     "text": [
      "Target: Y0: 100%|███████████████████████████████████████████████████████████████████████████████| 5/5 [00:03<00:00,  1.42it/s]\n"
     ]
    },
    {
     "name": "stdout",
     "output_type": "stream",
     "text": [
      "surroate params {'alpha': 0.2, 'beta': 0}\n"
     ]
    },
    {
     "name": "stderr",
     "output_type": "stream",
     "text": [
      "Target: Y0: 100%|███████████████████████████████████████████████████████████████████████████████| 5/5 [00:03<00:00,  1.44it/s]\n"
     ]
    },
    {
     "name": "stdout",
     "output_type": "stream",
     "text": [
      "surroate params {'alpha': 0.25, 'beta': 0}\n"
     ]
    },
    {
     "name": "stderr",
     "output_type": "stream",
     "text": [
      "Target: Y0: 100%|███████████████████████████████████████████████████████████████████████████████| 5/5 [00:03<00:00,  1.27it/s]\n"
     ]
    },
    {
     "name": "stdout",
     "output_type": "stream",
     "text": [
      "surroate params {'alpha': 0.3, 'beta': 0}\n"
     ]
    },
    {
     "name": "stderr",
     "output_type": "stream",
     "text": [
      "Target: Y0: 100%|███████████████████████████████████████████████████████████████████████████████| 5/5 [00:03<00:00,  1.34it/s]\n"
     ]
    },
    {
     "name": "stdout",
     "output_type": "stream",
     "text": [
      "surroate params {'alpha': 0.35, 'beta': 0}\n"
     ]
    },
    {
     "name": "stderr",
     "output_type": "stream",
     "text": [
      "Target: Y0: 100%|███████████████████████████████████████████████████████████████████████████████| 5/5 [00:03<00:00,  1.33it/s]\n"
     ]
    },
    {
     "name": "stdout",
     "output_type": "stream",
     "text": [
      "surroate params {'alpha': 0.4, 'beta': 0}\n"
     ]
    },
    {
     "name": "stderr",
     "output_type": "stream",
     "text": [
      "Target: Y0: 100%|███████████████████████████████████████████████████████████████████████████████| 5/5 [00:03<00:00,  1.35it/s]\n"
     ]
    },
    {
     "name": "stdout",
     "output_type": "stream",
     "text": [
      "surroate params {'alpha': 0.45, 'beta': 0}\n"
     ]
    },
    {
     "name": "stderr",
     "output_type": "stream",
     "text": [
      "Target: Y0: 100%|███████████████████████████████████████████████████████████████████████████████| 5/5 [00:03<00:00,  1.44it/s]\n"
     ]
    },
    {
     "name": "stdout",
     "output_type": "stream",
     "text": [
      "surroate params {'alpha': 0.5, 'beta': 0}\n"
     ]
    },
    {
     "name": "stderr",
     "output_type": "stream",
     "text": [
      "Target: Y0: 100%|███████████████████████████████████████████████████████████████████████████████| 5/5 [00:03<00:00,  1.48it/s]\n"
     ]
    }
   ],
   "source": [
    "params = np.array([0, .2, .4])\n",
    "errors = np.array([-.2, -.15, -.1, -.05, 0, .05, .1, .15, .2])\n",
    "configs = []\n",
    "\n",
    "for param in params: \n",
    "    for error in errors:\n",
    "        estimate = round(param+error, 2)\n",
    "        if estimate>=0 and estimate<=.5:\n",
    "            configs.append({\n",
    "                'param': param,\n",
    "                'estimate': estimate\n",
    "            })\n",
    "\n",
    "exp_results = run_estimation_error_exp(do=0, param_configs=configs, error_param='alpha',\n",
    "                                       NS=5000, N_RUNS=1, n_epochs=5, train_ratio=.7)"
   ]
  },
  {
   "cell_type": "markdown",
   "id": "48f8adf2",
   "metadata": {},
   "source": [
    "## Experiment 3 - Robustness plots "
   ]
  },
  {
   "cell_type": "code",
   "execution_count": 2,
   "id": "293d26e8",
   "metadata": {},
   "outputs": [],
   "source": [
    "alpha_robustness_results = pd.read_csv('results/alpha_stress_tests.csv')\n",
    "beta_robustness_results = pd.read_csv('results/beta_stress_tests.csv')\n",
    "# beta_robustness_results['parameter'] = 'beta'\n",
    "alpha_robustness_results['bias'] = (alpha_robustness_results['alpha_hat'] - alpha_robustness_results['alpha']).round(decimals=2)\n",
    "beta_robustness_results['bias'] = (beta_robustness_results['beta_hat'] - beta_robustness_results['beta']).round(decimals=2)\n",
    "robustness_results = pd.concat([alpha_robustness_results, beta_robustness_results])\n",
    "\n",
    "alpha_robustness_results = alpha_robustness_results[alpha_robustness_results['alpha'] > 0]\n",
    "beta_robustness_results = beta_robustness_results[beta_robustness_results['beta'] > 0]\n",
    "\n"
   ]
  },
  {
   "cell_type": "code",
   "execution_count": 35,
   "id": "d00388a7",
   "metadata": {},
   "outputs": [
    {
     "data": {
      "text/plain": [
       "<Figure size 720x360 with 0 Axes>"
      ]
     },
     "metadata": {},
     "output_type": "display_data"
    },
    {
     "data": {
      "image/png": "[encoded data removed]",
      "text/plain": [
       "<Figure size 972x432 with 3 Axes>"
      ]
     },
     "metadata": {},
     "output_type": "display_data"
    },
    {
     "data": {
      "image/png": "[encoded data removed]",
      "text/plain": [
       "<Figure size 972x432 with 3 Axes>"
      ]
     },
     "metadata": {},
     "output_type": "display_data"
    }
   ],
   "source": [
    "import matplotlib.ticker as tkr\n",
    "sns.set_theme(style=\"whitegrid\", \n",
    "              palette=sns.color_palette(), \n",
    "              font_scale=1.7)\n",
    "\n",
    "# Draw a pointplot to show pulse as a function of three categorical factors\n",
    "plt.figure(figsize=(10,5))\n",
    "g = sns.catplot(\n",
    "    data=alpha_robustness_results, x=\"bias\", y=\"ACC\",  col=\"alpha\",  capsize=.2, \n",
    "    kind=\"point\", height=6, aspect=.75, color=\"black\"\n",
    ")\n",
    "g.despine(left=True)\n",
    "g.set(ylim=(.5, 1), ylabel='Accuracy', xlabel=r'Bias in $\\hat{\\alpha}$ estimate')\n",
    "g.map(plt.axvline, x=4, color='grey', dashes=(2, 1), zorder=0,linewidth=2)\n",
    "\n",
    "for ax in g.axes.flat:\n",
    "    ax.tick_params(axis='x', labelsize=15)\n",
    "\n",
    "\n",
    "plt.savefig('alpha_errors.png', dpi=400)\n",
    "\n",
    "\n",
    "    \n",
    "# Draw a pointplot to show pulse as a function of three categorical factors\n",
    "g = sns.catplot(\n",
    "    data=beta_robustness_results, x=\"bias\", y=\"ACC\",  col=\"beta\",  capsize=.2, \n",
    "    kind=\"point\", height=6, aspect=.75, color=\"black\"\n",
    ")\n",
    "g.despine(left=True)\n",
    "g.set(ylim=(.5, 1), ylabel='Accuracy', xlabel=r'Bias in $\\hat{\\beta}$ estimate')\n",
    "g.map(plt.axvline, x=4, color='grey', dashes=(2, 1), zorder=0,linewidth=2)\n",
    "\n",
    "for ax in g.axes.flat:\n",
    "    ax.tick_params(axis='x', labelsize=15)\n",
    "\n",
    "    \n",
    "plt.savefig('beta_errors.png', dpi=400)\n"
   ]
  },
  {
   "cell_type": "markdown",
   "id": "706d256f",
   "metadata": {},
   "source": [
    "## Debugging baselines"
   ]
  },
  {
   "cell_type": "code",
   "execution_count": null,
   "id": "090c9011",
   "metadata": {},
   "outputs": [],
   "source": [
    "compare\n",
    "alpha:0, beta:0 [looks good]\n",
    "alpha:.1, beta.3 [looks good]\n",
    "alpha:.2, beta:.2\n",
    "alpha:.3, beta.1 [looks good]\n"
   ]
  },
  {
   "cell_type": "code",
   "execution_count": 7,
   "id": "0065d464",
   "metadata": {},
   "outputs": [
    {
     "name": "stdout",
     "output_type": "stream",
     "text": [
      "surroate params {'alpha': None, 'beta': None}\n"
     ]
    },
    {
     "name": "stderr",
     "output_type": "stream",
     "text": [
      "Target: Y0: 100%|█████████████████████████████████████████████████████████████████████████████| 20/20 [00:14<00:00,  1.35it/s]\n"
     ]
    },
    {
     "name": "stdout",
     "output_type": "stream",
     "text": [
      "surroate params {'alpha': 0.10648197887660037, 'beta': 0.30984503179487555}\n"
     ]
    },
    {
     "name": "stderr",
     "output_type": "stream",
     "text": [
      "Target: Y0: 100%|█████████████████████████████████████████████████████████████████████████████| 20/20 [00:14<00:00,  1.37it/s]\n"
     ]
    }
   ],
   "source": [
    "## Main Experiment: troubleshoot baselines\n",
    "    \n",
    "    \n",
    "Y0_PDF = 'piecewise_sinusoid'\n",
    "Y1_PDF = 'low_base_rate_sinusoid'\n",
    "PI_PDF = 'linear'\n",
    "do=0\n",
    "\n",
    "expdf, error_params = generate_syn_data(\n",
    "    NS=10000,\n",
    "    K=1,\n",
    "    y0_pdf=Y0_PDF,\n",
    "    y1_pdf=Y1_PDF,\n",
    "    pi_pdf=PI_PDF,\n",
    "    alpha_min=0.1,\n",
    "    alpha_max=0.11,\n",
    "    beta_min=0.3,\n",
    "    beta_max=0.31,\n",
    "    shuffle=True\n",
    ")\n",
    "\n",
    "baseline1 = {\n",
    "    'model': 'Conditional outcome',\n",
    "    'target': 'Y0'\n",
    "}\n",
    "\n",
    "baseline2 = {\n",
    "    'model': 'Conditional outcome (SL)',\n",
    "    'target': 'Y0'\n",
    "}\n",
    "\n",
    "params1 = {\n",
    "    'alpha': None,\n",
    "    'beta': None\n",
    "}\n",
    "\n",
    "params2 = {\n",
    "    'alpha': error_params[f'alpha_{do}'][0],\n",
    "    'beta': error_params[f'beta_{do}'][0]\n",
    "}\n",
    "\n",
    "co = run_baseline(expdf, baseline1, do, params1, n_epochs=20, train_ratio=.7)\n",
    "cosl = run_baseline(expdf, baseline2, do, params2, n_epochs=20, train_ratio=.7)\n",
    "\n"
   ]
  },
  {
   "cell_type": "code",
   "execution_count": 8,
   "id": "ab293f90",
   "metadata": {},
   "outputs": [
    {
     "name": "stdout",
     "output_type": "stream",
     "text": [
      "aggreement (%): 0.65\n",
      "ACC - S0=0.59, SO+SL=0.77\n",
      "AU-ROC - S0=0.81, SO+SL=0.83\n"
     ]
    }
   ],
   "source": [
    "agreement = [(co['py_hat'] > .5) == (cosl['py_hat'] > .5)][0].mean()\n",
    "print(f'aggreement (%): {agreement.mean():.2f}')\n",
    "print(f\"ACC - S0={co['ACC']:.2f}, SO+SL={cosl['ACC']:.2f}\")\n",
    "print(f\"AU-ROC - S0={co['AU-ROC']:.2f}, SO+SL={cosl['AU-ROC']:.2f}\")"
   ]
  },
  {
   "cell_type": "code",
   "execution_count": 10,
   "id": "70934f0d",
   "metadata": {},
   "outputs": [
    {
     "data": {
      "image/png": "[encoded data removed]",
      "text/plain": [
       "<Figure size 504x360 with 1 Axes>"
      ]
     },
     "metadata": {},
     "output_type": "display_data"
    }
   ],
   "source": [
    "Y0_PDF = 'piecewise_sinusoid'\n",
    "Y1_PDF = 'low_base_rate_sinusoid'\n",
    "PI_PDF = 'linear'\n",
    "do=0\n",
    "\n",
    "expdf, _ = generate_syn_data(\n",
    "    NS=10000,\n",
    "    K=1,\n",
    "    y0_pdf=Y0_PDF,\n",
    "    y1_pdf=Y1_PDF,\n",
    "    pi_pdf=PI_PDF,\n",
    ")\n",
    "debug_info = {\n",
    "    'val_x': cosl['x'].squeeze(),\n",
    "    'val_py': cosl['py_hat'].squeeze()\n",
    "}\n",
    "# debug_info = {\n",
    "#     'val_x': x,\n",
    "#     'val_py': py_hat\n",
    "# }\n",
    "sns.set(font_scale=1.2)\n",
    "viz_ccpe_estimates(expdf, debug_info, error_params[f'alpha_{do}'][0],\n",
    "                   error_params[f'beta_{do}'][0], do, Y0_PDF, Y1_PDF, PI_PDF)"
   ]
  },
  {
   "cell_type": "code",
   "execution_count": 28,
   "id": "ceb6b2fe",
   "metadata": {},
   "outputs": [
    {
     "ename": "TypeError",
     "evalue": "generate_syn_data() got an unexpected keyword argument 'error_min'",
     "output_type": "error",
     "traceback": [
      "\u001b[0;31m---------------------------------------------------------------------------\u001b[0m",
      "\u001b[0;31mTypeError\u001b[0m                                 Traceback (most recent call last)",
      "Input \u001b[0;32mIn [28]\u001b[0m, in \u001b[0;36m<cell line: 1>\u001b[0;34m()\u001b[0m\n\u001b[0;32m----> 1\u001b[0m expdf, error_params \u001b[38;5;241m=\u001b[39m \u001b[43mgenerate_syn_data\u001b[49m\u001b[43m(\u001b[49m\n\u001b[1;32m      2\u001b[0m \u001b[43m    \u001b[49m\u001b[43mNS\u001b[49m\u001b[38;5;241;43m=\u001b[39;49m\u001b[38;5;241;43m10000\u001b[39;49m\u001b[43m,\u001b[49m\n\u001b[1;32m      3\u001b[0m \u001b[43m    \u001b[49m\u001b[43mK\u001b[49m\u001b[38;5;241;43m=\u001b[39;49m\u001b[38;5;241;43m1\u001b[39;49m\u001b[43m,\u001b[49m\n\u001b[1;32m      4\u001b[0m \u001b[43m    \u001b[49m\u001b[43my0_pdf\u001b[49m\u001b[38;5;241;43m=\u001b[39;49m\u001b[43mY0_PDF\u001b[49m\u001b[43m,\u001b[49m\n\u001b[1;32m      5\u001b[0m \u001b[43m    \u001b[49m\u001b[43my1_pdf\u001b[49m\u001b[38;5;241;43m=\u001b[39;49m\u001b[43mY1_PDF\u001b[49m\u001b[43m,\u001b[49m\n\u001b[1;32m      6\u001b[0m \u001b[43m    \u001b[49m\u001b[43mpi_pdf\u001b[49m\u001b[38;5;241;43m=\u001b[39;49m\u001b[43mPI_PDF\u001b[49m\u001b[43m,\u001b[49m\n\u001b[1;32m      7\u001b[0m \u001b[43m    \u001b[49m\u001b[43merror_min\u001b[49m\u001b[38;5;241;43m=\u001b[39;49m\u001b[38;5;241;43m0.2\u001b[39;49m\u001b[43m,\u001b[49m\n\u001b[1;32m      8\u001b[0m \u001b[43m    \u001b[49m\u001b[43merror_max\u001b[49m\u001b[38;5;241;43m=\u001b[39;49m\u001b[38;5;241;43m0.2\u001b[39;49m\u001b[43m,\u001b[49m\u001b[43m \u001b[49m\n\u001b[1;32m      9\u001b[0m \u001b[43m    \u001b[49m\u001b[43mshuffle\u001b[49m\u001b[38;5;241;43m=\u001b[39;49m\u001b[38;5;28;43;01mTrue\u001b[39;49;00m\n\u001b[1;32m     10\u001b[0m \u001b[43m)\u001b[49m\n\u001b[1;32m     12\u001b[0m split_ix \u001b[38;5;241m=\u001b[39m \u001b[38;5;28mint\u001b[39m(expdf\u001b[38;5;241m.\u001b[39mshape[\u001b[38;5;241m0\u001b[39m]\u001b[38;5;241m*\u001b[39m\u001b[38;5;241m.7\u001b[39m)\n\u001b[1;32m     13\u001b[0m train_df, val_df \u001b[38;5;241m=\u001b[39m expdf\u001b[38;5;241m.\u001b[39miloc[:split_ix,:], expdf\u001b[38;5;241m.\u001b[39miloc[split_ix:,:]\n",
      "\u001b[0;31mTypeError\u001b[0m: generate_syn_data() got an unexpected keyword argument 'error_min'"
     ]
    }
   ],
   "source": [
    "expdf, error_params = generate_syn_data(\n",
    "    NS=10000,\n",
    "    K=1,\n",
    "    y0_pdf=Y0_PDF,\n",
    "    y1_pdf=Y1_PDF,\n",
    "    pi_pdf=PI_PDF,\n",
    "    error_min=0.2,\n",
    "    error_max=0.2, \n",
    "    shuffle=True\n",
    ")\n",
    "\n",
    "split_ix = int(expdf.shape[0]*.7)\n",
    "train_df, val_df = expdf.iloc[:split_ix,:], expdf.iloc[split_ix:,:]\n",
    "\n",
    "\n",
    "# Train model\n",
    "train_loader, val_loader = get_loaders(train_df, val_df, do=0, target='Y0', conditional=True)\n",
    "model = MLP()\n",
    "\n",
    "surrogate_params = {\n",
    "    'alpha': 0.2,\n",
    "    'beta': 0.2\n",
    "}\n",
    "\n",
    "# surrogate_params = {\n",
    "#     'alpha': None,\n",
    "#     'beta': None\n",
    "# }\n",
    "\n",
    "losses = train(model, target='Y0', train_loader=train_loader, error_params=surrogate_params, n_epochs=40)\n",
    "\n",
    "# Evaluate on validation data\n",
    "x, y, py_hat = evaluate(model, val_loader)\n",
    "y_hat = np.zeros_like(y)\n",
    "y_hat[py_hat > .5] = 1"
   ]
  }
 ],
 "metadata": {
  "kernelspec": {
   "display_name": "10701-Project",
   "language": "python",
   "name": "10701-project"
  },
  "language_info": {
   "codemirror_mode": {
    "name": "ipython",
    "version": 3
   },
   "file_extension": ".py",
   "mimetype": "text/x-python",
   "name": "python",
   "nbconvert_exporter": "python",
   "pygments_lexer": "ipython3",
   "version": "3.9.8"
  }
 },
 "nbformat": 4,
 "nbformat_minor": 5
}
