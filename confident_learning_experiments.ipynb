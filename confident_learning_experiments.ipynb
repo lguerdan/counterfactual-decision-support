{
 "cells": [
  {
   "cell_type": "code",
   "execution_count": 151,
   "id": "ac703ded",
   "metadata": {},
   "outputs": [],
   "source": [
    "import numpy as np\n",
    "from sklearn.neural_network import MLPClassifier\n",
    "import cleanlab\n",
    "import matplotlib.pyplot as plt\n",
    "import pandas as pd"
   ]
  },
  {
   "cell_type": "code",
   "execution_count": 152,
   "id": "0c2a621c",
   "metadata": {},
   "outputs": [],
   "source": [
    "def ccn_model(eta_star, beta, alpha):\n",
    "    return (1 - beta - alpha)*eta_star + alpha\n",
    "\n",
    "def eta(x):\n",
    "    return .5 + .5 * np.sin(2.9*x + .1)\n"
   ]
  },
  {
   "cell_type": "code",
   "execution_count": 153,
   "id": "27dba29c",
   "metadata": {},
   "outputs": [],
   "source": [
    "xs = np.random.uniform(-1, 1, size=10000)\n",
    "py = ccn_model(eta(xs), beta=.1, alpha=.15)\n",
    "y = np.random.binomial(1, py)\n",
    "\n",
    "split_ix = int(.7*xs.size)\n",
    "tr_x = xs[:split_ix].reshape(-1, 1)\n",
    "tr_y = y[:split_ix]\n",
    "te_x = xs[split_ix:].reshape(-1, 1)\n",
    "te_y = y[split_ix:]\n",
    "py_true = py[split_ix:]\n",
    "\n",
    "# Train model and predict probability on test set \n",
    "clf = MLPClassifier(alpha=0, hidden_layer_sizes=(50, 3))\n",
    "clf.fit(tr_x, tr_y)\n",
    "\n",
    "py_val = clf.predict_proba(te_x)\n",
    "\n",
    "py_true = np.array([\n",
    "    1-py_true,\n",
    "    py_true\n",
    "]).T\n",
    "    "
   ]
  },
  {
   "cell_type": "code",
   "execution_count": 150,
   "id": "57a436b7",
   "metadata": {},
   "outputs": [
    {
     "data": {
      "text/plain": [
       "0.6635731243747329"
      ]
     },
     "execution_count": 150,
     "metadata": {},
     "output_type": "execute_result"
    }
   ],
   "source": [
    "py_val[:, 1][te_y == 1].mean()"
   ]
  },
  {
   "cell_type": "code",
   "execution_count": 147,
   "id": "f38156dc",
   "metadata": {},
   "outputs": [
    {
     "data": {
      "text/plain": [
       "array([0.63450567, 0.66357312])"
      ]
     },
     "execution_count": 147,
     "metadata": {},
     "output_type": "execute_result"
    }
   ],
   "source": [
    "\n",
    "t = np.array([\n",
    "    py_val[te_y == 0,0].mean(),\n",
    "    py_val[te_y == 1,1].mean()\n",
    "])\n",
    "t\n"
   ]
  },
  {
   "cell_type": "code",
   "execution_count": 141,
   "id": "5717306e",
   "metadata": {},
   "outputs": [
    {
     "name": "stdout",
     "output_type": "stream",
     "text": [
      "P[Y=0|Y*=1]=0.26\n",
      "P[Y=1|Y*=0]=0.22\n"
     ]
    }
   ],
   "source": [
    "C = np.zeros((2,2))\n",
    "Q = np.zeros((2,2))\n",
    "\n",
    "for i in range(0, py_val.shape[0]): #samples\n",
    "    count = 0\n",
    "    for j in range(0, 2): #classes\n",
    "        if py_val[i][j] >= t[j]:\n",
    "            ys = j\n",
    "            count += 1\n",
    "    \n",
    "    assert count < 2, 'Collision occured'\n",
    "    if count > 0:\n",
    "        C[te_y[i]][ys] = C[te_y[i]][ys] + 1\n",
    "\n",
    "C_tmp = C.copy()\n",
    "for i in range(0,2):\n",
    "    for j in range(0,2):\n",
    "        C[i][j] = C_tmp[i][j]/C_tmp[i,:].sum() * te_y[te_y==i].size\n",
    "\n",
    "for i in range(0,2):\n",
    "    for j in range(0,2):\n",
    "        Q[i][j] = C[i][j]/C.sum()\n",
    "\n",
    "beta_hat = Q[0, 1] / Q[:, 1].sum()\n",
    "alpha_hat = Q[1, 0] / Q[:, 0].sum()\n",
    "\n",
    "print(f'P[Y=0|Y*=1]={beta_hat:.2}')\n",
    "print(f'P[Y=1|Y*=0]={alpha_hat:.2}')"
   ]
  },
  {
   "cell_type": "code",
   "execution_count": 52,
   "id": "2a4a736e",
   "metadata": {},
   "outputs": [
    {
     "name": "stdout",
     "output_type": "stream",
     "text": [
      "P[Y=0|Y*=1]=0.42\n",
      "P[Y=1|Y*=0]=0.22\n"
     ]
    }
   ],
   "source": [
    "# Official implementation\n",
    "noisemat, _ = cleanlab.count.estimate_noise_matrices(te_x, te_y)\n",
    "print(f'P[Y=0|Y*=1]={noisemat[0][1]:.2}')\n",
    "print(f'P[Y=1|Y*=0]={noisemat[1][0]:.2}')\n"
   ]
  }
 ],
 "metadata": {
  "kernelspec": {
   "display_name": "Python 3 (ipykernel)",
   "language": "python",
   "name": "python3"
  },
  "language_info": {
   "codemirror_mode": {
    "name": "ipython",
    "version": 3
   },
   "file_extension": ".py",
   "mimetype": "text/x-python",
   "name": "python",
   "nbconvert_exporter": "python",
   "pygments_lexer": "ipython3",
   "version": "3.9.8"
  }
 },
 "nbformat": 4,
 "nbformat_minor": 5
}
