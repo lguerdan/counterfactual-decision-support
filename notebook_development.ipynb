{
 "cells": [
  {
   "cell_type": "code",
   "execution_count": 1,
   "id": "eb3a838f",
   "metadata": {},
   "outputs": [
    {
     "name": "stderr",
     "output_type": "stream",
     "text": [
      "/Users/lguerdan/.virtualenvs/10701-Project/lib/python3.9/site-packages/tqdm/auto.py:22: TqdmWarning: IProgress not found. Please update jupyter and ipywidgets. See https://ipywidgets.readthedocs.io/en/stable/user_install.html\n",
      "  from .autonotebook import tqdm as notebook_tqdm\n"
     ]
    }
   ],
   "source": [
    "import seaborn as sns\n",
    "import pandas as pd\n",
    "\n",
    "import matplotlib.pyplot as plt\n",
    "import matplotlib.patches as mpatches\n",
    "sns.set_style(\"whitegrid\")\n",
    "\n",
    "from attrdict import AttrDict\n",
    "from drivers import *\n",
    "from data_loaders import *\n"
   ]
  },
  {
   "cell_type": "code",
   "execution_count": 2,
   "id": "92fde706",
   "metadata": {},
   "outputs": [
    {
     "name": "stdout",
     "output_type": "stream",
     "text": [
      "===============================================================================================================\n",
      "RUN: 0, alpha_0: 0.5, alpha_1: 0, beta_0: 0.1, beta_1: 0\n",
      "=============================================================================================================== \n",
      "\n"
     ]
    },
    {
     "name": "stderr",
     "output_type": "stream",
     "text": [
      "Propensity model: 100%|████████████████████████████████| 3/3 [00:02<00:00,  1.50it/s]\n",
      "CCPE: 0: 100%|█████████████████████████████████████████| 3/3 [00:01<00:00,  1.69it/s]\n",
      "CCPE: 0: 100%|█████████████████████████████████████████| 3/3 [00:01<00:00,  1.73it/s]\n",
      "CCPE: 1: 100%|█████████████████████████████████████████| 3/3 [00:01<00:00,  1.72it/s]\n",
      "CCPE: 1: 100%|█████████████████████████████████████████| 3/3 [00:01<00:00,  1.76it/s]\n",
      "ERM: Proxy Oracle: 100%|███████████████████████████████| 3/3 [00:01<00:00,  1.69it/s]\n",
      "ERM: Proxy Oracle: 100%|███████████████████████████████| 3/3 [00:01<00:00,  1.75it/s]\n",
      "ERM: Target Oracle: 100%|██████████████████████████████| 3/3 [00:01<00:00,  1.73it/s]\n",
      "ERM: Target Oracle: 100%|██████████████████████████████| 3/3 [00:01<00:00,  1.70it/s]\n",
      "Propensity model: 100%|████████████████████████████████| 3/3 [00:01<00:00,  1.69it/s]\n",
      "CCPE: 0: 100%|█████████████████████████████████████████| 3/3 [00:01<00:00,  1.71it/s]\n",
      "CCPE: 0: 100%|█████████████████████████████████████████| 3/3 [00:01<00:00,  1.71it/s]\n",
      "CCPE: 1: 100%|█████████████████████████████████████████| 3/3 [00:01<00:00,  1.71it/s]\n",
      "CCPE: 1: 100%|█████████████████████████████████████████| 3/3 [00:01<00:00,  1.74it/s]\n",
      "ERM: Proxy Oracle: 100%|███████████████████████████████| 3/3 [00:01<00:00,  1.69it/s]\n",
      "ERM: Proxy Oracle: 100%|███████████████████████████████| 3/3 [00:01<00:00,  1.72it/s]\n",
      "ERM: Target Oracle: 100%|██████████████████████████████| 3/3 [00:01<00:00,  1.72it/s]\n",
      "ERM: Target Oracle: 100%|██████████████████████████████| 3/3 [00:01<00:00,  1.73it/s]\n",
      "Propensity model: 100%|████████████████████████████████| 3/3 [00:01<00:00,  1.70it/s]\n",
      "CCPE: 0: 100%|█████████████████████████████████████████| 3/3 [00:01<00:00,  1.75it/s]\n",
      "CCPE: 0: 100%|█████████████████████████████████████████| 3/3 [00:01<00:00,  1.69it/s]\n",
      "CCPE: 1: 100%|█████████████████████████████████████████| 3/3 [00:01<00:00,  1.67it/s]\n",
      "CCPE: 1: 100%|█████████████████████████████████████████| 3/3 [00:01<00:00,  1.58it/s]\n",
      "ERM: Proxy Oracle: 100%|███████████████████████████████| 3/3 [00:01<00:00,  1.67it/s]\n",
      "ERM: Proxy Oracle: 100%|███████████████████████████████| 3/3 [00:01<00:00,  1.68it/s]\n",
      "ERM: Target Oracle: 100%|██████████████████████████████| 3/3 [00:01<00:00,  1.62it/s]\n",
      "ERM: Target Oracle: 100%|██████████████████████████████| 3/3 [00:01<00:00,  1.67it/s]\n"
     ]
    }
   ],
   "source": [
    "exp_config = AttrDict({\n",
    "    'benchmark': {\n",
    "        'name': 'synthetic_1D_sinusoidal',\n",
    "        'NS': 1000,\n",
    "        'config': {\n",
    "            'Y0_PDF': 'piecewise_sinusoid',\n",
    "            'Y1_PDF': 'low_base_rate_sinusoid',\n",
    "            'PI_PDF': 'linear'\n",
    "            }\n",
    "    },\n",
    "    \n",
    "    # Experimental setup \n",
    "    'learn_weights': True,\n",
    "    'learn_parameters': True,\n",
    "    \n",
    "    # Hyperparameters\n",
    "    'n_epochs': 3,\n",
    "    'n_runs': 1,\n",
    "    \n",
    "    'target_POs': [0, 1],\n",
    "    \n",
    "    'policy_gamma': 0,\n",
    "    'train_ratio': .7,\n",
    "    \n",
    "    'split_erm': True,\n",
    "    'crossfit_erm': True,\n",
    "    'split_ccpe': True,\n",
    "    'crossfit_ccpe': True,\n",
    "})\n",
    "\n",
    "error_params = [AttrDict({\n",
    "    'alpha_0': 0.5,\n",
    "    'alpha_1': 0,\n",
    "    'beta_0': 0.1,\n",
    "    'beta_1': 0 \n",
    "})]\n",
    "\n",
    "# baselines = [AttrDict({\n",
    "#     'model': 'OBS',\n",
    "#     'target': 'Y',\n",
    "#     'conditional': False,\n",
    "#     'sl': False,\n",
    "#     'reweight': False\n",
    "# }), AttrDict({\n",
    "#     'model': 'OBS Oracle',\n",
    "#     'target': 'YS',\n",
    "#     'conditional': False,\n",
    "#     'sl': False,\n",
    "#     'reweight': False\n",
    "# }), AttrDict({\n",
    "#     'model': 'COM',\n",
    "#     'target': 'Y',\n",
    "#     'conditional': True,\n",
    "#     'sl': False,\n",
    "#     'reweight': False\n",
    "# }), AttrDict({\n",
    "#     'model': 'COM-SL',\n",
    "#     'target': 'Y',\n",
    "#     'conditional': True,\n",
    "#     'sl': True,\n",
    "#     'reweight': False\n",
    "# }), AttrDict({\n",
    "#     'model': 'RW',\n",
    "#     'target': 'Y',\n",
    "#     'conditional': True,\n",
    "#     'sl': False,\n",
    "#     'reweight': True\n",
    "# }), AttrDict({\n",
    "#     'model': 'RW-SL',\n",
    "#     'target': 'Y',\n",
    "#     'conditional': True,\n",
    "#     'sl': True,\n",
    "#     'reweight': True\n",
    "# }), AttrDict({\n",
    "#     'model': 'Proxy Oracle',\n",
    "#     'target': f'Y',\n",
    "#     'conditional': True,\n",
    "#     'sl': False,\n",
    "#     'reweight': False\n",
    "# }), AttrDict({\n",
    "#     'model': 'Target Oracle',\n",
    "#     'target': f'YS',\n",
    "#     'conditional': True,\n",
    "#     'sl': True,\n",
    "#     'reweight': False\n",
    "# })]\n",
    "baselines = [AttrDict({\n",
    "    'model': 'Proxy Oracle',\n",
    "    'target': f'Y',\n",
    "    'conditional': True,\n",
    "    'sl': False,\n",
    "    'reweight': False\n",
    "}), AttrDict({\n",
    "    'model': 'Target Oracle',\n",
    "    'target': f'YS',\n",
    "    'conditional': True,\n",
    "    'sl': True,\n",
    "    'reweight': False\n",
    "})]\n",
    "\n",
    "po_results, te_results =  run_risk_minimization_exp(exp_config, baselines, error_params)\n",
    "\n"
   ]
  },
  {
   "cell_type": "code",
   "execution_count": 3,
   "id": "8a6a8a52",
   "metadata": {},
   "outputs": [
    {
     "data": {
      "text/html": [
       "<div>\n",
       "<style scoped>\n",
       "    .dataframe tbody tr th:only-of-type {\n",
       "        vertical-align: middle;\n",
       "    }\n",
       "\n",
       "    .dataframe tbody tr th {\n",
       "        vertical-align: top;\n",
       "    }\n",
       "\n",
       "    .dataframe thead th {\n",
       "        text-align: right;\n",
       "    }\n",
       "</style>\n",
       "<table border=\"1\" class=\"dataframe\">\n",
       "  <thead>\n",
       "    <tr style=\"text-align: right;\">\n",
       "      <th></th>\n",
       "      <th>alpha_0</th>\n",
       "      <th>alpha_1</th>\n",
       "      <th>beta_0</th>\n",
       "      <th>beta_1</th>\n",
       "      <th>benchmark</th>\n",
       "      <th>AU-ROC</th>\n",
       "      <th>ACC</th>\n",
       "      <th>do</th>\n",
       "      <th>baseline</th>\n",
       "    </tr>\n",
       "  </thead>\n",
       "  <tbody>\n",
       "    <tr>\n",
       "      <th>0</th>\n",
       "      <td>0.5</td>\n",
       "      <td>0</td>\n",
       "      <td>0.1</td>\n",
       "      <td>0</td>\n",
       "      <td>synthetic_1D_sinusoidal</td>\n",
       "      <td>0.350462</td>\n",
       "      <td>0.433333</td>\n",
       "      <td>0</td>\n",
       "      <td>Proxy Oracle</td>\n",
       "    </tr>\n",
       "    <tr>\n",
       "      <th>1</th>\n",
       "      <td>0.5</td>\n",
       "      <td>0</td>\n",
       "      <td>0.1</td>\n",
       "      <td>0</td>\n",
       "      <td>synthetic_1D_sinusoidal</td>\n",
       "      <td>0.873188</td>\n",
       "      <td>0.460000</td>\n",
       "      <td>1</td>\n",
       "      <td>Proxy Oracle</td>\n",
       "    </tr>\n",
       "    <tr>\n",
       "      <th>2</th>\n",
       "      <td>0.5</td>\n",
       "      <td>0</td>\n",
       "      <td>0.1</td>\n",
       "      <td>0</td>\n",
       "      <td>synthetic_1D_sinusoidal</td>\n",
       "      <td>0.590437</td>\n",
       "      <td>0.470000</td>\n",
       "      <td>0</td>\n",
       "      <td>Target Oracle</td>\n",
       "    </tr>\n",
       "    <tr>\n",
       "      <th>3</th>\n",
       "      <td>0.5</td>\n",
       "      <td>0</td>\n",
       "      <td>0.1</td>\n",
       "      <td>0</td>\n",
       "      <td>synthetic_1D_sinusoidal</td>\n",
       "      <td>0.873188</td>\n",
       "      <td>0.460000</td>\n",
       "      <td>1</td>\n",
       "      <td>Target Oracle</td>\n",
       "    </tr>\n",
       "  </tbody>\n",
       "</table>\n",
       "</div>"
      ],
      "text/plain": [
       "   alpha_0  alpha_1  beta_0  beta_1                benchmark    AU-ROC  \\\n",
       "0      0.5        0     0.1       0  synthetic_1D_sinusoidal  0.350462   \n",
       "1      0.5        0     0.1       0  synthetic_1D_sinusoidal  0.873188   \n",
       "2      0.5        0     0.1       0  synthetic_1D_sinusoidal  0.590437   \n",
       "3      0.5        0     0.1       0  synthetic_1D_sinusoidal  0.873188   \n",
       "\n",
       "        ACC  do       baseline  \n",
       "0  0.433333   0   Proxy Oracle  \n",
       "1  0.460000   1   Proxy Oracle  \n",
       "2  0.470000   0  Target Oracle  \n",
       "3  0.460000   1  Target Oracle  "
      ]
     },
     "execution_count": 3,
     "metadata": {},
     "output_type": "execute_result"
    }
   ],
   "source": [
    "po_results"
   ]
  },
  {
   "cell_type": "code",
   "execution_count": null,
   "id": "d6004757",
   "metadata": {},
   "outputs": [],
   "source": [
    "po_results"
   ]
  },
  {
   "cell_type": "code",
   "execution_count": 30,
   "id": "6a9442db",
   "metadata": {},
   "outputs": [],
   "source": [
    "\n",
    "n_splits = 3  # (function argument)\n",
    "te_metrics, po_metrics = compute_crossfit_metrics(crossfit_preds, Y_test, n_splits, config)"
   ]
  },
  {
   "cell_type": "code",
   "execution_count": 33,
   "id": "f3e37811",
   "metadata": {},
   "outputs": [
    {
     "data": {
      "text/html": [
       "<div>\n",
       "<style scoped>\n",
       "    .dataframe tbody tr th:only-of-type {\n",
       "        vertical-align: middle;\n",
       "    }\n",
       "\n",
       "    .dataframe tbody tr th {\n",
       "        vertical-align: top;\n",
       "    }\n",
       "\n",
       "    .dataframe thead th {\n",
       "        text-align: right;\n",
       "    }\n",
       "</style>\n",
       "<table border=\"1\" class=\"dataframe\">\n",
       "  <thead>\n",
       "    <tr style=\"text-align: right;\">\n",
       "      <th></th>\n",
       "      <th>AU-ROC</th>\n",
       "      <th>ACC</th>\n",
       "      <th>do</th>\n",
       "      <th>baseline</th>\n",
       "    </tr>\n",
       "  </thead>\n",
       "  <tbody>\n",
       "    <tr>\n",
       "      <th>0</th>\n",
       "      <td>0.400174</td>\n",
       "      <td>0.0</td>\n",
       "      <td>0</td>\n",
       "      <td>OBS</td>\n",
       "    </tr>\n",
       "    <tr>\n",
       "      <th>1</th>\n",
       "      <td>0.447338</td>\n",
       "      <td>0.0</td>\n",
       "      <td>0</td>\n",
       "      <td>OBS Oracle</td>\n",
       "    </tr>\n",
       "    <tr>\n",
       "      <th>2</th>\n",
       "      <td>0.540643</td>\n",
       "      <td>0.0</td>\n",
       "      <td>0</td>\n",
       "      <td>COM</td>\n",
       "    </tr>\n",
       "    <tr>\n",
       "      <th>3</th>\n",
       "      <td>0.513889</td>\n",
       "      <td>0.0</td>\n",
       "      <td>0</td>\n",
       "      <td>COM-SL</td>\n",
       "    </tr>\n",
       "    <tr>\n",
       "      <th>4</th>\n",
       "      <td>0.384615</td>\n",
       "      <td>0.0</td>\n",
       "      <td>0</td>\n",
       "      <td>RW</td>\n",
       "    </tr>\n",
       "    <tr>\n",
       "      <th>5</th>\n",
       "      <td>0.482060</td>\n",
       "      <td>0.0</td>\n",
       "      <td>0</td>\n",
       "      <td>RW-SL</td>\n",
       "    </tr>\n",
       "    <tr>\n",
       "      <th>6</th>\n",
       "      <td>0.529425</td>\n",
       "      <td>0.0</td>\n",
       "      <td>0</td>\n",
       "      <td>Proxy Oracle</td>\n",
       "    </tr>\n",
       "    <tr>\n",
       "      <th>7</th>\n",
       "      <td>0.615385</td>\n",
       "      <td>0.0</td>\n",
       "      <td>0</td>\n",
       "      <td>Target Oracle</td>\n",
       "    </tr>\n",
       "  </tbody>\n",
       "</table>\n",
       "</div>"
      ],
      "text/plain": [
       "     AU-ROC  ACC  do       baseline\n",
       "0  0.400174  0.0   0            OBS\n",
       "1  0.447338  0.0   0     OBS Oracle\n",
       "2  0.540643  0.0   0            COM\n",
       "3  0.513889  0.0   0         COM-SL\n",
       "4  0.384615  0.0   0             RW\n",
       "5  0.482060  0.0   0          RW-SL\n",
       "6  0.529425  0.0   0   Proxy Oracle\n",
       "7  0.615385  0.0   0  Target Oracle"
      ]
     },
     "execution_count": 33,
     "metadata": {},
     "output_type": "execute_result"
    }
   ],
   "source": [
    "pd.DataFrame(po_metrics)"
   ]
  },
  {
   "cell_type": "code",
   "execution_count": null,
   "id": "45c80d09",
   "metadata": {},
   "outputs": [],
   "source": [
    "X, Y = load_benchmark(exp_config.benchmark, error_params)\n",
    "\n",
    "split_ix = int(.7*X.shape[0])\n",
    "\n",
    "ccpe_dataset = AttrDict({\n",
    "    'X_train': X.iloc[split_ix:, :],\n",
    "    'Y_train': Y.iloc[split_ix:, :],\n",
    "    'X_test': X.iloc[:split_ix, :],\n",
    "    'Y_test': Y.iloc[:split_ix, :],\n",
    "})\n",
    "\n"
   ]
  },
  {
   "cell_type": "code",
   "execution_count": 12,
   "id": "c6575ee1",
   "metadata": {},
   "outputs": [
    {
     "data": {
      "text/plain": [
       "1.94447574708434e-09"
      ]
     },
     "execution_count": 12,
     "metadata": {},
     "output_type": "execute_result"
    }
   ],
   "source": [
    "Y['pYS_0'].min()"
   ]
  },
  {
   "cell_type": "code",
   "execution_count": 21,
   "id": "04af200d",
   "metadata": {},
   "outputs": [
    {
     "data": {
      "text/plain": [
       "{'alpha_0': 0.1, 'alpha_1': 0.05, 'beta_0': 0.2, 'beta_1': 0.4}"
      ]
     },
     "execution_count": 21,
     "metadata": {},
     "output_type": "execute_result"
    }
   ],
   "source": [
    "error_params"
   ]
  },
  {
   "cell_type": "code",
   "execution_count": 6,
   "id": "671f9014",
   "metadata": {},
   "outputs": [
    {
     "name": "stdout",
     "output_type": "stream",
     "text": [
      "Conditioning\n"
     ]
    },
    {
     "name": "stderr",
     "output_type": "stream",
     "text": [
      "Target: Y: 100%|████████████████████████████████| 20/20 [00:19<00:00,  1.01it/s]\n"
     ]
    }
   ],
   "source": [
    "py, alpha, beta = ccpe(ccpe_dataset, 0, exp_config, q_max=0, q_min=1)"
   ]
  },
  {
   "cell_type": "code",
   "execution_count": 7,
   "id": "7b644e3c",
   "metadata": {},
   "outputs": [
    {
     "data": {
      "text/plain": [
       "0.97248465"
      ]
     },
     "execution_count": 7,
     "metadata": {},
     "output_type": "execute_result"
    }
   ],
   "source": [
    "alpha"
   ]
  },
  {
   "cell_type": "code",
   "execution_count": 8,
   "id": "2d23437b",
   "metadata": {},
   "outputs": [
    {
     "data": {
      "text/plain": [
       "0.7411392331123352"
      ]
     },
     "execution_count": 8,
     "metadata": {},
     "output_type": "execute_result"
    }
   ],
   "source": [
    "beta"
   ]
  },
  {
   "cell_type": "code",
   "execution_count": 6,
   "id": "cf9053ba",
   "metadata": {},
   "outputs": [
    {
     "data": {
      "text/plain": [
       "0.9778537675738335"
      ]
     },
     "execution_count": 6,
     "metadata": {},
     "output_type": "execute_result"
    }
   ],
   "source": [
    "beta"
   ]
  },
  {
   "cell_type": "code",
   "execution_count": 10,
   "id": "7210de7f",
   "metadata": {},
   "outputs": [
    {
     "data": {
      "text/plain": [
       "0.28198478"
      ]
     },
     "execution_count": 10,
     "metadata": {},
     "output_type": "execute_result"
    }
   ],
   "source": [
    "\n",
    "np.quantile(py_hat, 0)\n",
    "\n",
    "\n",
    "py.min()"
   ]
  },
  {
   "cell_type": "code",
   "execution_count": 12,
   "id": "b2c4b4e9",
   "metadata": {},
   "outputs": [],
   "source": [
    "train_ratio = .7\n",
    "N = X.shape[0]\n",
    "\n",
    "test_split_ix = int(N*train_ratio)\n",
    "\n",
    "X_train, X_test = X.iloc[split_ix:, :], X.iloc[:split_ix, :]\n",
    "Y_train, Y_test = Y.iloc[split_ix:, :], Y.iloc[:split_ix, :]\n",
    "\n",
    "weight_split_ix\n",
    "\n",
    "ccpe_train_split_ix\n"
   ]
  },
  {
   "cell_type": "code",
   "execution_count": null,
   "id": "81dbefc1",
   "metadata": {},
   "outputs": [],
   "source": [
    "\n"
   ]
  },
  {
   "cell_type": "code",
   "execution_count": 14,
   "id": "6c3a5469",
   "metadata": {},
   "outputs": [
    {
     "data": {
      "text/plain": [
       "(1500, 2)"
      ]
     },
     "execution_count": 14,
     "metadata": {},
     "output_type": "execute_result"
    }
   ],
   "source": [
    "X_train.shape"
   ]
  },
  {
   "cell_type": "code",
   "execution_count": 6,
   "id": "a9a53ef3",
   "metadata": {},
   "outputs": [
    {
     "data": {
      "text/plain": [
       "(5000, 1)"
      ]
     },
     "execution_count": 6,
     "metadata": {},
     "output_type": "execute_result"
    }
   ],
   "source": [
    "X.shape"
   ]
  },
  {
   "cell_type": "code",
   "execution_count": 10,
   "id": "2bc7d318",
   "metadata": {},
   "outputs": [
    {
     "data": {
      "text/plain": [
       "2"
      ]
     },
     "execution_count": 10,
     "metadata": {},
     "output_type": "execute_result"
    }
   ],
   "source": [
    "X.shape[1]"
   ]
  },
  {
   "cell_type": "code",
   "execution_count": null,
   "id": "0781157f",
   "metadata": {},
   "outputs": [],
   "source": []
  }
 ],
 "metadata": {
  "kernelspec": {
   "display_name": "10701-Project",
   "language": "python",
   "name": "10701-project"
  },
  "language_info": {
   "codemirror_mode": {
    "name": "ipython",
    "version": 3
   },
   "file_extension": ".py",
   "mimetype": "text/x-python",
   "name": "python",
   "nbconvert_exporter": "python",
   "pygments_lexer": "ipython3",
   "version": "3.9.8"
  }
 },
 "nbformat": 4,
 "nbformat_minor": 5
}
