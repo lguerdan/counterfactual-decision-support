{
 "cells": [
  {
   "cell_type": "code",
   "execution_count": 1,
   "id": "6d28d349",
   "metadata": {},
   "outputs": [
    {
     "name": "stderr",
     "output_type": "stream",
     "text": [
      "/Users/lguerdan/.virtualenvs/10701-Project/lib/python3.9/site-packages/tqdm/auto.py:22: TqdmWarning: IProgress not found. Please update jupyter and ipywidgets. See https://ipywidgets.readthedocs.io/en/stable/user_install.html\n",
      "  from .autonotebook import tqdm as notebook_tqdm\n"
     ]
    }
   ],
   "source": [
    "import seaborn as sns\n",
    "import pandas as pd\n",
    "\n",
    "import matplotlib.pyplot as plt\n",
    "import matplotlib.patches as mpatches\n",
    "sns.set_style(\"whitegrid\")\n",
    "\n",
    "from attrdict import AttrDict\n",
    "from drivers import *\n",
    "from data_loaders import *\n"
   ]
  },
  {
   "cell_type": "code",
   "execution_count": null,
   "id": "53ebaa4a",
   "metadata": {},
   "outputs": [
    {
     "name": "stdout",
     "output_type": "stream",
     "text": [
      "===============================================================================================================\n",
      "RUN: 0, alpha_0: 0.5, alpha_1: 0, beta_0: 0.1, beta_1: 0\n",
      "=============================================================================================================== \n",
      "\n"
     ]
    },
    {
     "name": "stderr",
     "output_type": "stream",
     "text": [
      "Propensity model: 100%|████████████████████████████████| 3/3 [00:02<00:00,  1.40it/s]\n",
      "CCPE: 0: 100%|█████████████████████████████████████████| 3/3 [00:01<00:00,  1.51it/s]\n",
      "CCPE: 0: 100%|█████████████████████████████████████████| 3/3 [00:01<00:00,  1.51it/s]\n",
      "CCPE: 1: 100%|█████████████████████████████████████████| 3/3 [00:01<00:00,  1.58it/s]\n",
      "CCPE: 1: 100%|█████████████████████████████████████████| 3/3 [00:01<00:00,  1.54it/s]\n",
      "ERM: Proxy Oracle: 100%|███████████████████████████████| 3/3 [00:02<00:00,  1.50it/s]\n",
      "ERM: Proxy Oracle: 100%|███████████████████████████████| 3/3 [00:01<00:00,  1.51it/s]\n",
      "ERM: Target Oracle: 100%|██████████████████████████████| 3/3 [00:01<00:00,  1.57it/s]\n",
      "ERM: Target Oracle: 100%|██████████████████████████████| 3/3 [00:01<00:00,  1.54it/s]\n",
      "Propensity model: 100%|████████████████████████████████| 3/3 [00:01<00:00,  1.56it/s]\n",
      "CCPE: 0: 100%|█████████████████████████████████████████| 3/3 [00:01<00:00,  1.55it/s]\n",
      "CCPE: 0: 100%|█████████████████████████████████████████| 3/3 [00:01<00:00,  1.55it/s]\n",
      "CCPE: 1: 100%|█████████████████████████████████████████| 3/3 [00:01<00:00,  1.60it/s]\n",
      "CCPE: 1: 100%|█████████████████████████████████████████| 3/3 [00:02<00:00,  1.49it/s]\n",
      "ERM: Proxy Oracle: 100%|███████████████████████████████| 3/3 [00:02<00:00,  1.48it/s]\n",
      "ERM: Proxy Oracle:  67%|████████████████████▋          | 2/3 [00:01<00:00,  1.47it/s]"
     ]
    }
   ],
   "source": [
    "exp_config = AttrDict({\n",
    "    'benchmark': {\n",
    "        'name': 'synthetic_1D_sinusoidal',\n",
    "        'NS': 1000,\n",
    "        'config': {\n",
    "            'Y0_PDF': 'piecewise_sinusoid',\n",
    "            'Y1_PDF': 'low_base_rate_sinusoid',\n",
    "            'PI_PDF': 'linear'\n",
    "            }\n",
    "    },\n",
    "    \n",
    "    # Experimental setup \n",
    "    'learn_weights': True,\n",
    "    'learn_parameters': True,\n",
    "    \n",
    "    # Hyperparameters\n",
    "    'n_epochs': 3,\n",
    "    'n_runs': 1,\n",
    "    \n",
    "    'target_POs': [0, 1],\n",
    "    \n",
    "    'policy_gamma': 0,\n",
    "    'train_ratio': .7,\n",
    "    \n",
    "    'split_erm': True,\n",
    "    'crossfit_erm': True,\n",
    "    'split_ccpe': True,\n",
    "    'crossfit_ccpe': True,\n",
    "})\n",
    "\n",
    "error_params = [AttrDict({\n",
    "    'alpha_0': 0.5,\n",
    "    'alpha_1': 0,\n",
    "    'beta_0': 0.1,\n",
    "    'beta_1': 0 \n",
    "})]\n",
    "\n",
    "# baselines = [AttrDict({\n",
    "#     'model': 'OBS',\n",
    "#     'target': 'Y',\n",
    "#     'conditional': False,\n",
    "#     'sl': False,\n",
    "#     'reweight': False\n",
    "# }), AttrDict({\n",
    "#     'model': 'OBS Oracle',\n",
    "#     'target': 'YS',\n",
    "#     'conditional': False,\n",
    "#     'sl': False,\n",
    "#     'reweight': False\n",
    "# }), AttrDict({\n",
    "#     'model': 'COM',\n",
    "#     'target': 'Y',\n",
    "#     'conditional': True,\n",
    "#     'sl': False,\n",
    "#     'reweight': False\n",
    "# }), AttrDict({\n",
    "#     'model': 'COM-SL',\n",
    "#     'target': 'Y',\n",
    "#     'conditional': True,\n",
    "#     'sl': True,\n",
    "#     'reweight': False\n",
    "# }), AttrDict({\n",
    "#     'model': 'RW',\n",
    "#     'target': 'Y',\n",
    "#     'conditional': True,\n",
    "#     'sl': False,\n",
    "#     'reweight': True\n",
    "# }), AttrDict({\n",
    "#     'model': 'RW-SL',\n",
    "#     'target': 'Y',\n",
    "#     'conditional': True,\n",
    "#     'sl': True,\n",
    "#     'reweight': True\n",
    "# }), AttrDict({\n",
    "#     'model': 'Proxy Oracle',\n",
    "#     'target': f'Y',\n",
    "#     'conditional': True,\n",
    "#     'sl': False,\n",
    "#     'reweight': False\n",
    "# }), AttrDict({\n",
    "#     'model': 'Target Oracle',\n",
    "#     'target': f'YS',\n",
    "#     'conditional': True,\n",
    "#     'sl': True,\n",
    "#     'reweight': False\n",
    "# })]\n",
    "baselines = [AttrDict({\n",
    "    'model': 'Proxy Oracle',\n",
    "    'target': f'Y',\n",
    "    'conditional': True,\n",
    "    'sl': False,\n",
    "    'reweight': False\n",
    "}), AttrDict({\n",
    "    'model': 'Target Oracle',\n",
    "    'target': f'YS',\n",
    "    'conditional': True,\n",
    "    'sl': True,\n",
    "    'reweight': False\n",
    "})]\n",
    "\n",
    "po_results, te_results =  run_risk_minimization_exp(exp_config, baselines, error_params, exp_name='baseline_comparison')\n",
    "\n"
   ]
  },
  {
   "cell_type": "code",
   "execution_count": null,
   "id": "a7991a87",
   "metadata": {},
   "outputs": [],
   "source": [
    "X, Y = load_benchmark(exp_config.benchmark, error_params)\n",
    "\n",
    "split_ix = int(.7*X.shape[0])\n",
    "\n",
    "ccpe_dataset = AttrDict({\n",
    "    'X_train': X.iloc[split_ix:, :],\n",
    "    'Y_train': Y.iloc[split_ix:, :],\n",
    "    'X_test': X.iloc[:split_ix, :],\n",
    "    'Y_test': Y.iloc[:split_ix, :],\n",
    "})\n",
    "\n"
   ]
  },
  {
   "cell_type": "code",
   "execution_count": 12,
   "id": "6e025a89",
   "metadata": {},
   "outputs": [
    {
     "data": {
      "text/plain": [
       "1.94447574708434e-09"
      ]
     },
     "execution_count": 12,
     "metadata": {},
     "output_type": "execute_result"
    }
   ],
   "source": [
    "Y['pYS_0'].min()"
   ]
  },
  {
   "cell_type": "code",
   "execution_count": 21,
   "id": "4095b570",
   "metadata": {},
   "outputs": [
    {
     "data": {
      "text/plain": [
       "{'alpha_0': 0.1, 'alpha_1': 0.05, 'beta_0': 0.2, 'beta_1': 0.4}"
      ]
     },
     "execution_count": 21,
     "metadata": {},
     "output_type": "execute_result"
    }
   ],
   "source": [
    "error_params"
   ]
  },
  {
   "cell_type": "code",
   "execution_count": 6,
   "id": "add293bb",
   "metadata": {},
   "outputs": [
    {
     "name": "stdout",
     "output_type": "stream",
     "text": [
      "Conditioning\n"
     ]
    },
    {
     "name": "stderr",
     "output_type": "stream",
     "text": [
      "Target: Y: 100%|████████████████████████████████| 20/20 [00:19<00:00,  1.01it/s]\n"
     ]
    }
   ],
   "source": [
    "py, alpha, beta = ccpe(ccpe_dataset, 0, exp_config, q_max=0, q_min=1)"
   ]
  },
  {
   "cell_type": "code",
   "execution_count": 7,
   "id": "7dd8e4ae",
   "metadata": {},
   "outputs": [
    {
     "data": {
      "text/plain": [
       "0.97248465"
      ]
     },
     "execution_count": 7,
     "metadata": {},
     "output_type": "execute_result"
    }
   ],
   "source": [
    "alpha"
   ]
  },
  {
   "cell_type": "code",
   "execution_count": 8,
   "id": "9c5af555",
   "metadata": {},
   "outputs": [
    {
     "data": {
      "text/plain": [
       "0.7411392331123352"
      ]
     },
     "execution_count": 8,
     "metadata": {},
     "output_type": "execute_result"
    }
   ],
   "source": [
    "beta"
   ]
  },
  {
   "cell_type": "code",
   "execution_count": 6,
   "id": "b33582a8",
   "metadata": {},
   "outputs": [
    {
     "data": {
      "text/plain": [
       "0.9778537675738335"
      ]
     },
     "execution_count": 6,
     "metadata": {},
     "output_type": "execute_result"
    }
   ],
   "source": [
    "beta"
   ]
  },
  {
   "cell_type": "code",
   "execution_count": 10,
   "id": "7dff798b",
   "metadata": {},
   "outputs": [
    {
     "data": {
      "text/plain": [
       "0.28198478"
      ]
     },
     "execution_count": 10,
     "metadata": {},
     "output_type": "execute_result"
    }
   ],
   "source": [
    "\n",
    "np.quantile(py_hat, 0)\n",
    "\n",
    "\n",
    "py.min()"
   ]
  },
  {
   "cell_type": "code",
   "execution_count": 12,
   "id": "81d291be",
   "metadata": {},
   "outputs": [],
   "source": [
    "train_ratio = .7\n",
    "N = X.shape[0]\n",
    "\n",
    "test_split_ix = int(N*train_ratio)\n",
    "\n",
    "X_train, X_test = X.iloc[split_ix:, :], X.iloc[:split_ix, :]\n",
    "Y_train, Y_test = Y.iloc[split_ix:, :], Y.iloc[:split_ix, :]\n",
    "\n",
    "weight_split_ix\n",
    "\n",
    "ccpe_train_split_ix\n"
   ]
  },
  {
   "cell_type": "code",
   "execution_count": null,
   "id": "2132b55f",
   "metadata": {},
   "outputs": [],
   "source": [
    "\n"
   ]
  },
  {
   "cell_type": "code",
   "execution_count": 14,
   "id": "c8e843c5",
   "metadata": {},
   "outputs": [
    {
     "data": {
      "text/plain": [
       "(1500, 2)"
      ]
     },
     "execution_count": 14,
     "metadata": {},
     "output_type": "execute_result"
    }
   ],
   "source": [
    "X_train.shape"
   ]
  },
  {
   "cell_type": "code",
   "execution_count": 6,
   "id": "8c807298",
   "metadata": {},
   "outputs": [
    {
     "data": {
      "text/plain": [
       "(5000, 1)"
      ]
     },
     "execution_count": 6,
     "metadata": {},
     "output_type": "execute_result"
    }
   ],
   "source": [
    "X.shape"
   ]
  },
  {
   "cell_type": "code",
   "execution_count": 10,
   "id": "9a5096a5",
   "metadata": {},
   "outputs": [
    {
     "data": {
      "text/plain": [
       "2"
      ]
     },
     "execution_count": 10,
     "metadata": {},
     "output_type": "execute_result"
    }
   ],
   "source": [
    "X.shape[1]"
   ]
  },
  {
   "cell_type": "code",
   "execution_count": null,
   "id": "ddee296f",
   "metadata": {},
   "outputs": [],
   "source": []
  }
 ],
 "metadata": {
  "kernelspec": {
   "display_name": "10701-Project",
   "language": "python",
   "name": "10701-project"
  },
  "language_info": {
   "codemirror_mode": {
    "name": "ipython",
    "version": 3
   },
   "file_extension": ".py",
   "mimetype": "text/x-python",
   "name": "python",
   "nbconvert_exporter": "python",
   "pygments_lexer": "ipython3",
   "version": "3.9.8"
  }
 },
 "nbformat": 4,
 "nbformat_minor": 5
}
