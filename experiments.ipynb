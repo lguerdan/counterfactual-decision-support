{
 "cells": [
  {
   "cell_type": "code",
   "execution_count": 1,
   "id": "4d466369",
   "metadata": {},
   "outputs": [
    {
     "name": "stderr",
     "output_type": "stream",
     "text": [
      "/Users/lguerdan/.virtualenvs/10701-Project/lib/python3.9/site-packages/tqdm/auto.py:22: TqdmWarning: IProgress not found. Please update jupyter and ipywidgets. See https://ipywidgets.readthedocs.io/en/stable/user_install.html\n",
      "  from .autonotebook import tqdm as notebook_tqdm\n"
     ]
    }
   ],
   "source": [
    "import seaborn as sns\n",
    "import pandas as pd\n",
    "from sklearn.metrics import roc_auc_score, accuracy_score, precision_score\n",
    "\n",
    "import matplotlib.pyplot as plt\n",
    "import matplotlib.patches as mpatches\n",
    "sns.set_style(\"whitegrid\")\n",
    "\n",
    "from synexp import *\n",
    "from viz import *\n"
   ]
  },
  {
   "cell_type": "markdown",
   "id": "e9b27560",
   "metadata": {},
   "source": [
    "## Experiment: comparison among baselines"
   ]
  },
  {
   "cell_type": "code",
   "execution_count": 5,
   "id": "bd6aeea8",
   "metadata": {
    "scrolled": true
   },
   "outputs": [
    {
     "name": "stdout",
     "output_type": "stream",
     "text": [
      "======================================================================\n",
      "RUN: 0, model: OBS, alpha: 0, beta: 0\n",
      "====================================================================== \n",
      "\n"
     ]
    },
    {
     "name": "stderr",
     "output_type": "stream",
     "text": [
      "Target: Y0:  85%|██████████████████████████▎    | 17/20 [00:12<00:02,  1.40it/s]Traceback (most recent call last):\n",
      "  File \"<string>\", line 1, in <module>\n",
      "Target: Y0:  85%|██████████████████████████▎    | 17/20 [00:12<00:02,  1.36it/s]\n",
      "  File \"/usr/local/Cellar/python@3.9/3.9.8/Frameworks/Python.framework/Versions/3.9/lib/python3.9/multiprocessing/spawn.py\", line 116, in spawn_main\n",
      "    exitcode = _main(fd, parent_sentinel)\n",
      "  File \"/usr/local/Cellar/python@3.9/3.9.8/Frameworks/Python.framework/Versions/3.9/lib/python3.9/multiprocessing/spawn.py\", line 126, in _main\n",
      "    self = reduction.pickle.load(from_parent)\n",
      "  File \"/Users/lguerdan/.virtualenvs/10701-Project/lib/python3.9/site-packages/torch/__init__.py\", line 840, in <module>\n",
      "    from torch import quantization as quantization\n",
      "  File \"/Users/lguerdan/.virtualenvs/10701-Project/lib/python3.9/site-packages/torch/quantization/__init__.py\", line 1, in <module>\n",
      "    from .quantize import *  # noqa: F403\n",
      "  File \"/Users/lguerdan/.virtualenvs/10701-Project/lib/python3.9/site-packages/torch/quantization/quantize.py\", line 10, in <module>\n",
      "    from torch.ao.quantization.quantize import _convert\n",
      "  File \"/Users/lguerdan/.virtualenvs/10701-Project/lib/python3.9/site-packages/torch/ao/quantization/__init__.py\", line 10, in <module>\n",
      "    from .quantization_mappings import *  # noqa: F403\n",
      "  File \"/Users/lguerdan/.virtualenvs/10701-Project/lib/python3.9/site-packages/torch/ao/quantization/quantization_mappings.py\", line 9, in <module>\n",
      "    import torch.nn.intrinsic.quantized.dynamic as nniqd\n",
      "  File \"/Users/lguerdan/.virtualenvs/10701-Project/lib/python3.9/site-packages/torch/nn/intrinsic/quantized/dynamic/__init__.py\", line 1, in <module>\n",
      "    from .modules import *  # noqa: F403\n",
      "  File \"/Users/lguerdan/.virtualenvs/10701-Project/lib/python3.9/site-packages/torch/nn/intrinsic/quantized/dynamic/modules/__init__.py\", line 2, in <module>\n",
      "    from .linear_relu import LinearReLU\n",
      "  File \"/Users/lguerdan/.virtualenvs/10701-Project/lib/python3.9/site-packages/torch/nn/intrinsic/quantized/dynamic/modules/linear_relu.py\", line 2, in <module>\n",
      "    import torch.nn.quantized.dynamic as nnqd\n",
      "  File \"/Users/lguerdan/.virtualenvs/10701-Project/lib/python3.9/site-packages/torch/nn/quantized/dynamic/__init__.py\", line 1, in <module>\n",
      "    from .modules import *  # noqa: F403\n",
      "  File \"<frozen importlib._bootstrap>\", line 1007, in _find_and_load\n",
      "  File \"<frozen importlib._bootstrap>\", line 982, in _find_and_load_unlocked\n",
      "  File \"<frozen importlib._bootstrap>\", line 925, in _find_spec\n",
      "  File \"<frozen importlib._bootstrap_external>\", line 1414, in find_spec\n",
      "  File \"<frozen importlib._bootstrap_external>\", line 1386, in _get_spec\n",
      "  File \"<frozen importlib._bootstrap_external>\", line 1513, in find_spec\n",
      "  File \"<frozen importlib._bootstrap_external>\", line 142, in _path_stat\n",
      "KeyboardInterrupt\n"
     ]
    },
    {
     "ename": "RuntimeError",
     "evalue": "DataLoader worker (pid 72722) is killed by signal: Interrupt: 2. ",
     "output_type": "error",
     "traceback": [
      "\u001b[0;31m---------------------------------------------------------------------------\u001b[0m",
      "\u001b[0;31mKeyboardInterrupt\u001b[0m                         Traceback (most recent call last)",
      "    \u001b[0;31m[... skipping hidden 1 frame]\u001b[0m\n",
      "Input \u001b[0;32mIn [5]\u001b[0m, in \u001b[0;36m<cell line: 52>\u001b[0;34m()\u001b[0m\n\u001b[1;32m     46\u001b[0m linsep \u001b[38;5;241m=\u001b[39m {\n\u001b[1;32m     47\u001b[0m     \u001b[38;5;124m'\u001b[39m\u001b[38;5;124mY0_PDF\u001b[39m\u001b[38;5;124m'\u001b[39m: \u001b[38;5;124m'\u001b[39m\u001b[38;5;124m2D_linsep_intervention\u001b[39m\u001b[38;5;124m'\u001b[39m,\n\u001b[1;32m     48\u001b[0m     \u001b[38;5;124m'\u001b[39m\u001b[38;5;124mY1_PDF\u001b[39m\u001b[38;5;124m'\u001b[39m: \u001b[38;5;124m'\u001b[39m\u001b[38;5;124m2D_linsep_baseline\u001b[39m\u001b[38;5;124m'\u001b[39m,\n\u001b[1;32m     49\u001b[0m     \u001b[38;5;124m'\u001b[39m\u001b[38;5;124mPI_PDF\u001b[39m\u001b[38;5;124m'\u001b[39m: \u001b[38;5;124m'\u001b[39m\u001b[38;5;124m6cov_linear\u001b[39m\u001b[38;5;124m'\u001b[39m\n\u001b[1;32m     50\u001b[0m }\n\u001b[0;32m---> 52\u001b[0m shalt_results \u001b[38;5;241m=\u001b[39m \u001b[43mrun_baseline_comparison_exp_grid\u001b[49m\u001b[43m(\u001b[49m\n\u001b[1;32m     53\u001b[0m \u001b[43m    \u001b[49m\u001b[43mshalt\u001b[49m\u001b[43m,\u001b[49m\n\u001b[1;32m     54\u001b[0m \u001b[43m    \u001b[49m\u001b[43mbaselines\u001b[49m\u001b[43m,\u001b[49m\n\u001b[1;32m     55\u001b[0m \u001b[43m    \u001b[49m\u001b[43mparam_configs\u001b[49m\u001b[43m,\u001b[49m\n\u001b[1;32m     56\u001b[0m \u001b[43m    \u001b[49m\u001b[43mdo\u001b[49m\u001b[38;5;241;43m=\u001b[39;49m\u001b[43mdo\u001b[49m\u001b[43m,\u001b[49m\n\u001b[1;32m     57\u001b[0m \u001b[43m    \u001b[49m\u001b[43mN_RUNS\u001b[49m\u001b[38;5;241;43m=\u001b[39;49m\u001b[43mN_RUNS\u001b[49m\u001b[43m,\u001b[49m\n\u001b[1;32m     58\u001b[0m \u001b[43m    \u001b[49m\u001b[43mNS\u001b[49m\u001b[38;5;241;43m=\u001b[39;49m\u001b[43mNS\u001b[49m\u001b[43m,\u001b[49m\n\u001b[1;32m     59\u001b[0m \u001b[43m    \u001b[49m\u001b[43mK\u001b[49m\u001b[38;5;241;43m=\u001b[39;49m\u001b[38;5;241;43m1\u001b[39;49m\u001b[43m,\u001b[49m\n\u001b[1;32m     60\u001b[0m \u001b[43m    \u001b[49m\u001b[43mn_epochs\u001b[49m\u001b[38;5;241;43m=\u001b[39;49m\u001b[43mn_epochs\u001b[49m\n\u001b[1;32m     61\u001b[0m \u001b[43m)\u001b[49m\n\u001b[1;32m     63\u001b[0m linsep_results \u001b[38;5;241m=\u001b[39m run_baseline_comparison_exp_grid(\n\u001b[1;32m     64\u001b[0m     linsep,\n\u001b[1;32m     65\u001b[0m     baselines,\n\u001b[0;32m   (...)\u001b[0m\n\u001b[1;32m     71\u001b[0m     n_epochs\u001b[38;5;241m=\u001b[39mn_epochs\n\u001b[1;32m     72\u001b[0m )\n",
      "File \u001b[0;32m~/Research/TCTVB/synexp.py:416\u001b[0m, in \u001b[0;36mrun_baseline_comparison_exp_grid\u001b[0;34m(env, baselines, param_configs, do, N_RUNS, NS, K, n_epochs)\u001b[0m\n\u001b[1;32m    406\u001b[0m loss_config \u001b[38;5;241m=\u001b[39m {\n\u001b[1;32m    407\u001b[0m     \u001b[38;5;124m'\u001b[39m\u001b[38;5;124malpha\u001b[39m\u001b[38;5;124m'\u001b[39m: config[\u001b[38;5;124m'\u001b[39m\u001b[38;5;124malpha\u001b[39m\u001b[38;5;124m'\u001b[39m] \u001b[38;5;28;01mif\u001b[39;00m \u001b[38;5;124m'\u001b[39m\u001b[38;5;124mSL\u001b[39m\u001b[38;5;124m'\u001b[39m \u001b[38;5;129;01min\u001b[39;00m baseline[\u001b[38;5;124m'\u001b[39m\u001b[38;5;124mmodel\u001b[39m\u001b[38;5;124m'\u001b[39m] \u001b[38;5;28;01melse\u001b[39;00m \u001b[38;5;28;01mNone\u001b[39;00m,\n\u001b[1;32m    408\u001b[0m     \u001b[38;5;124m'\u001b[39m\u001b[38;5;124mbeta\u001b[39m\u001b[38;5;124m'\u001b[39m: config[\u001b[38;5;124m'\u001b[39m\u001b[38;5;124mbeta\u001b[39m\u001b[38;5;124m'\u001b[39m] \u001b[38;5;28;01mif\u001b[39;00m \u001b[38;5;124m'\u001b[39m\u001b[38;5;124mSL\u001b[39m\u001b[38;5;124m'\u001b[39m \u001b[38;5;129;01min\u001b[39;00m baseline[\u001b[38;5;124m'\u001b[39m\u001b[38;5;124mmodel\u001b[39m\u001b[38;5;124m'\u001b[39m] \u001b[38;5;28;01melse\u001b[39;00m \u001b[38;5;28;01mNone\u001b[39;00m,\n\u001b[0;32m   (...)\u001b[0m\n\u001b[1;32m    413\u001b[0m     \u001b[38;5;124m'\u001b[39m\u001b[38;5;124mreweight\u001b[39m\u001b[38;5;124m'\u001b[39m: \u001b[38;5;28;01mTrue\u001b[39;00m \u001b[38;5;28;01mif\u001b[39;00m \u001b[38;5;124m'\u001b[39m\u001b[38;5;124mRW\u001b[39m\u001b[38;5;124m'\u001b[39m \u001b[38;5;129;01min\u001b[39;00m baseline[\u001b[38;5;124m'\u001b[39m\u001b[38;5;124mmodel\u001b[39m\u001b[38;5;124m'\u001b[39m] \u001b[38;5;28;01melse\u001b[39;00m \u001b[38;5;28;01mFalse\u001b[39;00m\n\u001b[1;32m    414\u001b[0m }\n\u001b[0;32m--> 416\u001b[0m results \u001b[38;5;241m=\u001b[39m \u001b[43mrun_baseline\u001b[49m\u001b[43m(\u001b[49m\u001b[43mX\u001b[49m\u001b[43m,\u001b[49m\u001b[43m \u001b[49m\u001b[43mY\u001b[49m\u001b[43m,\u001b[49m\u001b[43m \u001b[49m\u001b[43mbaseline\u001b[49m\u001b[43m,\u001b[49m\u001b[43m \u001b[49m\u001b[43mdo\u001b[49m\u001b[43m,\u001b[49m\u001b[43m \u001b[49m\u001b[43mloss_config\u001b[49m\u001b[43m,\u001b[49m\u001b[43m \u001b[49m\u001b[43mn_epochs\u001b[49m\u001b[38;5;241;43m=\u001b[39;49m\u001b[43mn_epochs\u001b[49m\u001b[43m,\u001b[49m\u001b[43m \u001b[49m\u001b[43mtrain_ratio\u001b[49m\u001b[38;5;241;43m=\u001b[39;49m\u001b[38;5;241;43m.7\u001b[39;49m\u001b[43m)\u001b[49m\n\u001b[1;32m    417\u001b[0m exp_results[\u001b[38;5;124m'\u001b[39m\u001b[38;5;124mmodel\u001b[39m\u001b[38;5;124m'\u001b[39m]\u001b[38;5;241m.\u001b[39mappend(baseline[\u001b[38;5;124m'\u001b[39m\u001b[38;5;124mmodel\u001b[39m\u001b[38;5;124m'\u001b[39m])\n",
      "File \u001b[0;32m~/Research/TCTVB/synexp.py:307\u001b[0m, in \u001b[0;36mrun_baseline\u001b[0;34m(X, Y, baseline, do, loss_config, n_epochs, train_ratio)\u001b[0m\n\u001b[1;32m    306\u001b[0m model \u001b[38;5;241m=\u001b[39m MLP()\n\u001b[0;32m--> 307\u001b[0m losses \u001b[38;5;241m=\u001b[39m \u001b[43mtrain\u001b[49m\u001b[43m(\u001b[49m\u001b[43mmodel\u001b[49m\u001b[43m,\u001b[49m\u001b[43m \u001b[49m\u001b[43mtarget\u001b[49m\u001b[43m,\u001b[49m\u001b[43m \u001b[49m\u001b[43mtrain_loader\u001b[49m\u001b[43m,\u001b[49m\u001b[43m \u001b[49m\u001b[43mloss_config\u001b[49m\u001b[38;5;241;43m=\u001b[39;49m\u001b[43mloss_config\u001b[49m\u001b[43m,\u001b[49m\u001b[43m \u001b[49m\u001b[43mn_epochs\u001b[49m\u001b[38;5;241;43m=\u001b[39;49m\u001b[43mn_epochs\u001b[49m\u001b[43m)\u001b[49m\n\u001b[1;32m    309\u001b[0m \u001b[38;5;66;03m# Evaluate on validation data\u001b[39;00m\n",
      "File \u001b[0;32m~/Research/TCTVB/model.py:48\u001b[0m, in \u001b[0;36mtrain\u001b[0;34m(model, target, train_loader, loss_config, n_epochs)\u001b[0m\n\u001b[1;32m     47\u001b[0m current_loss \u001b[38;5;241m=\u001b[39m \u001b[38;5;241m0.0\u001b[39m\n\u001b[0;32m---> 48\u001b[0m \u001b[38;5;28;01mfor\u001b[39;00m i, data \u001b[38;5;129;01min\u001b[39;00m \u001b[38;5;28menumerate\u001b[39m(train_loader, \u001b[38;5;241m0\u001b[39m):\n\u001b[1;32m     49\u001b[0m     x, y \u001b[38;5;241m=\u001b[39m data\n",
      "File \u001b[0;32m~/.virtualenvs/10701-Project/lib/python3.9/site-packages/torch/utils/data/dataloader.py:530\u001b[0m, in \u001b[0;36m_BaseDataLoaderIter.__next__\u001b[0;34m(self)\u001b[0m\n\u001b[1;32m    529\u001b[0m     \u001b[38;5;28mself\u001b[39m\u001b[38;5;241m.\u001b[39m_reset()\n\u001b[0;32m--> 530\u001b[0m data \u001b[38;5;241m=\u001b[39m \u001b[38;5;28;43mself\u001b[39;49m\u001b[38;5;241;43m.\u001b[39;49m\u001b[43m_next_data\u001b[49m\u001b[43m(\u001b[49m\u001b[43m)\u001b[49m\n\u001b[1;32m    531\u001b[0m \u001b[38;5;28mself\u001b[39m\u001b[38;5;241m.\u001b[39m_num_yielded \u001b[38;5;241m+\u001b[39m\u001b[38;5;241m=\u001b[39m \u001b[38;5;241m1\u001b[39m\n",
      "File \u001b[0;32m~/.virtualenvs/10701-Project/lib/python3.9/site-packages/torch/utils/data/dataloader.py:1207\u001b[0m, in \u001b[0;36m_MultiProcessingDataLoaderIter._next_data\u001b[0;34m(self)\u001b[0m\n\u001b[1;32m   1206\u001b[0m \u001b[38;5;28;01massert\u001b[39;00m \u001b[38;5;129;01mnot\u001b[39;00m \u001b[38;5;28mself\u001b[39m\u001b[38;5;241m.\u001b[39m_shutdown \u001b[38;5;129;01mand\u001b[39;00m \u001b[38;5;28mself\u001b[39m\u001b[38;5;241m.\u001b[39m_tasks_outstanding \u001b[38;5;241m>\u001b[39m \u001b[38;5;241m0\u001b[39m\n\u001b[0;32m-> 1207\u001b[0m idx, data \u001b[38;5;241m=\u001b[39m \u001b[38;5;28;43mself\u001b[39;49m\u001b[38;5;241;43m.\u001b[39;49m\u001b[43m_get_data\u001b[49m\u001b[43m(\u001b[49m\u001b[43m)\u001b[49m\n\u001b[1;32m   1208\u001b[0m \u001b[38;5;28mself\u001b[39m\u001b[38;5;241m.\u001b[39m_tasks_outstanding \u001b[38;5;241m-\u001b[39m\u001b[38;5;241m=\u001b[39m \u001b[38;5;241m1\u001b[39m\n",
      "File \u001b[0;32m~/.virtualenvs/10701-Project/lib/python3.9/site-packages/torch/utils/data/dataloader.py:1173\u001b[0m, in \u001b[0;36m_MultiProcessingDataLoaderIter._get_data\u001b[0;34m(self)\u001b[0m\n\u001b[1;32m   1172\u001b[0m \u001b[38;5;28;01mwhile\u001b[39;00m \u001b[38;5;28;01mTrue\u001b[39;00m:\n\u001b[0;32m-> 1173\u001b[0m     success, data \u001b[38;5;241m=\u001b[39m \u001b[38;5;28;43mself\u001b[39;49m\u001b[38;5;241;43m.\u001b[39;49m\u001b[43m_try_get_data\u001b[49m\u001b[43m(\u001b[49m\u001b[43m)\u001b[49m\n\u001b[1;32m   1174\u001b[0m     \u001b[38;5;28;01mif\u001b[39;00m success:\n",
      "File \u001b[0;32m~/.virtualenvs/10701-Project/lib/python3.9/site-packages/torch/utils/data/dataloader.py:1011\u001b[0m, in \u001b[0;36m_MultiProcessingDataLoaderIter._try_get_data\u001b[0;34m(self, timeout)\u001b[0m\n\u001b[1;32m   1010\u001b[0m \u001b[38;5;28;01mtry\u001b[39;00m:\n\u001b[0;32m-> 1011\u001b[0m     data \u001b[38;5;241m=\u001b[39m \u001b[38;5;28;43mself\u001b[39;49m\u001b[38;5;241;43m.\u001b[39;49m\u001b[43m_data_queue\u001b[49m\u001b[38;5;241;43m.\u001b[39;49m\u001b[43mget\u001b[49m\u001b[43m(\u001b[49m\u001b[43mtimeout\u001b[49m\u001b[38;5;241;43m=\u001b[39;49m\u001b[43mtimeout\u001b[49m\u001b[43m)\u001b[49m\n\u001b[1;32m   1012\u001b[0m     \u001b[38;5;28;01mreturn\u001b[39;00m (\u001b[38;5;28;01mTrue\u001b[39;00m, data)\n",
      "File \u001b[0;32m/usr/local/Cellar/python@3.9/3.9.8/Frameworks/Python.framework/Versions/3.9/lib/python3.9/multiprocessing/queues.py:113\u001b[0m, in \u001b[0;36mQueue.get\u001b[0;34m(self, block, timeout)\u001b[0m\n\u001b[1;32m    112\u001b[0m timeout \u001b[38;5;241m=\u001b[39m deadline \u001b[38;5;241m-\u001b[39m time\u001b[38;5;241m.\u001b[39mmonotonic()\n\u001b[0;32m--> 113\u001b[0m \u001b[38;5;28;01mif\u001b[39;00m \u001b[38;5;129;01mnot\u001b[39;00m \u001b[38;5;28;43mself\u001b[39;49m\u001b[38;5;241;43m.\u001b[39;49m\u001b[43m_poll\u001b[49m\u001b[43m(\u001b[49m\u001b[43mtimeout\u001b[49m\u001b[43m)\u001b[49m:\n\u001b[1;32m    114\u001b[0m     \u001b[38;5;28;01mraise\u001b[39;00m Empty\n",
      "File \u001b[0;32m/usr/local/Cellar/python@3.9/3.9.8/Frameworks/Python.framework/Versions/3.9/lib/python3.9/multiprocessing/connection.py:262\u001b[0m, in \u001b[0;36m_ConnectionBase.poll\u001b[0;34m(self, timeout)\u001b[0m\n\u001b[1;32m    261\u001b[0m \u001b[38;5;28mself\u001b[39m\u001b[38;5;241m.\u001b[39m_check_readable()\n\u001b[0;32m--> 262\u001b[0m \u001b[38;5;28;01mreturn\u001b[39;00m \u001b[38;5;28;43mself\u001b[39;49m\u001b[38;5;241;43m.\u001b[39;49m\u001b[43m_poll\u001b[49m\u001b[43m(\u001b[49m\u001b[43mtimeout\u001b[49m\u001b[43m)\u001b[49m\n",
      "File \u001b[0;32m/usr/local/Cellar/python@3.9/3.9.8/Frameworks/Python.framework/Versions/3.9/lib/python3.9/multiprocessing/connection.py:429\u001b[0m, in \u001b[0;36mConnection._poll\u001b[0;34m(self, timeout)\u001b[0m\n\u001b[1;32m    428\u001b[0m \u001b[38;5;28;01mdef\u001b[39;00m \u001b[38;5;21m_poll\u001b[39m(\u001b[38;5;28mself\u001b[39m, timeout):\n\u001b[0;32m--> 429\u001b[0m     r \u001b[38;5;241m=\u001b[39m \u001b[43mwait\u001b[49m\u001b[43m(\u001b[49m\u001b[43m[\u001b[49m\u001b[38;5;28;43mself\u001b[39;49m\u001b[43m]\u001b[49m\u001b[43m,\u001b[49m\u001b[43m \u001b[49m\u001b[43mtimeout\u001b[49m\u001b[43m)\u001b[49m\n\u001b[1;32m    430\u001b[0m     \u001b[38;5;28;01mreturn\u001b[39;00m \u001b[38;5;28mbool\u001b[39m(r)\n",
      "File \u001b[0;32m/usr/local/Cellar/python@3.9/3.9.8/Frameworks/Python.framework/Versions/3.9/lib/python3.9/multiprocessing/connection.py:936\u001b[0m, in \u001b[0;36mwait\u001b[0;34m(object_list, timeout)\u001b[0m\n\u001b[1;32m    935\u001b[0m \u001b[38;5;28;01mwhile\u001b[39;00m \u001b[38;5;28;01mTrue\u001b[39;00m:\n\u001b[0;32m--> 936\u001b[0m     ready \u001b[38;5;241m=\u001b[39m \u001b[43mselector\u001b[49m\u001b[38;5;241;43m.\u001b[39;49m\u001b[43mselect\u001b[49m\u001b[43m(\u001b[49m\u001b[43mtimeout\u001b[49m\u001b[43m)\u001b[49m\n\u001b[1;32m    937\u001b[0m     \u001b[38;5;28;01mif\u001b[39;00m ready:\n",
      "File \u001b[0;32m/usr/local/Cellar/python@3.9/3.9.8/Frameworks/Python.framework/Versions/3.9/lib/python3.9/selectors.py:416\u001b[0m, in \u001b[0;36m_PollLikeSelector.select\u001b[0;34m(self, timeout)\u001b[0m\n\u001b[1;32m    415\u001b[0m \u001b[38;5;28;01mtry\u001b[39;00m:\n\u001b[0;32m--> 416\u001b[0m     fd_event_list \u001b[38;5;241m=\u001b[39m \u001b[38;5;28;43mself\u001b[39;49m\u001b[38;5;241;43m.\u001b[39;49m\u001b[43m_selector\u001b[49m\u001b[38;5;241;43m.\u001b[39;49m\u001b[43mpoll\u001b[49m\u001b[43m(\u001b[49m\u001b[43mtimeout\u001b[49m\u001b[43m)\u001b[49m\n\u001b[1;32m    417\u001b[0m \u001b[38;5;28;01mexcept\u001b[39;00m \u001b[38;5;167;01mInterruptedError\u001b[39;00m:\n",
      "\u001b[0;31mKeyboardInterrupt\u001b[0m: ",
      "\nDuring handling of the above exception, another exception occurred:\n",
      "\u001b[0;31mAttributeError\u001b[0m                            Traceback (most recent call last)",
      "File \u001b[0;32m~/.virtualenvs/10701-Project/lib/python3.9/site-packages/IPython/core/interactiveshell.py:1979\u001b[0m, in \u001b[0;36mInteractiveShell.showtraceback\u001b[0;34m(self, exc_tuple, filename, tb_offset, exception_only, running_compiled_code)\u001b[0m\n\u001b[1;32m   1975\u001b[0m \u001b[38;5;28;01mtry\u001b[39;00m:\n\u001b[1;32m   1976\u001b[0m     \u001b[38;5;66;03m# Exception classes can customise their traceback - we\u001b[39;00m\n\u001b[1;32m   1977\u001b[0m     \u001b[38;5;66;03m# use this in IPython.parallel for exceptions occurring\u001b[39;00m\n\u001b[1;32m   1978\u001b[0m     \u001b[38;5;66;03m# in the engines. This should return a list of strings.\u001b[39;00m\n\u001b[0;32m-> 1979\u001b[0m     stb \u001b[38;5;241m=\u001b[39m \u001b[43mvalue\u001b[49m\u001b[38;5;241;43m.\u001b[39;49m\u001b[43m_render_traceback_\u001b[49m()\n\u001b[1;32m   1980\u001b[0m \u001b[38;5;28;01mexcept\u001b[39;00m \u001b[38;5;167;01mException\u001b[39;00m:\n",
      "\u001b[0;31mAttributeError\u001b[0m: 'KeyboardInterrupt' object has no attribute '_render_traceback_'",
      "\nDuring handling of the above exception, another exception occurred:\n",
      "\u001b[0;31mKeyError\u001b[0m                                  Traceback (most recent call last)",
      "File \u001b[0;32m~/.virtualenvs/10701-Project/lib/python3.9/site-packages/executing/executing.py:317\u001b[0m, in \u001b[0;36mSource.executing\u001b[0;34m(cls, frame_or_tb)\u001b[0m\n\u001b[1;32m    316\u001b[0m \u001b[38;5;28;01mtry\u001b[39;00m:\n\u001b[0;32m--> 317\u001b[0m     args \u001b[38;5;241m=\u001b[39m \u001b[43mexecuting_cache\u001b[49m\u001b[43m[\u001b[49m\u001b[43mkey\u001b[49m\u001b[43m]\u001b[49m\n\u001b[1;32m    318\u001b[0m \u001b[38;5;28;01mexcept\u001b[39;00m \u001b[38;5;167;01mKeyError\u001b[39;00m:\n",
      "\u001b[0;31mKeyError\u001b[0m: (<code object run_baseline_comparison_exp_grid at 0x13525fea0, file \"/Users/lguerdan/Research/TCTVB/synexp.py\", line 374>, 5186649760, 288)",
      "\nDuring handling of the above exception, another exception occurred:\n",
      "\u001b[0;31mRuntimeError\u001b[0m                              Traceback (most recent call last)",
      "    \u001b[0;31m[... skipping hidden 1 frame]\u001b[0m\n",
      "File \u001b[0;32m~/.virtualenvs/10701-Project/lib/python3.9/site-packages/IPython/core/interactiveshell.py:1981\u001b[0m, in \u001b[0;36mInteractiveShell.showtraceback\u001b[0;34m(self, exc_tuple, filename, tb_offset, exception_only, running_compiled_code)\u001b[0m\n\u001b[1;32m   1979\u001b[0m     stb \u001b[38;5;241m=\u001b[39m value\u001b[38;5;241m.\u001b[39m_render_traceback_()\n\u001b[1;32m   1980\u001b[0m \u001b[38;5;28;01mexcept\u001b[39;00m \u001b[38;5;167;01mException\u001b[39;00m:\n\u001b[0;32m-> 1981\u001b[0m     stb \u001b[38;5;241m=\u001b[39m \u001b[38;5;28;43mself\u001b[39;49m\u001b[38;5;241;43m.\u001b[39;49m\u001b[43mInteractiveTB\u001b[49m\u001b[38;5;241;43m.\u001b[39;49m\u001b[43mstructured_traceback\u001b[49m\u001b[43m(\u001b[49m\u001b[43metype\u001b[49m\u001b[43m,\u001b[49m\n\u001b[1;32m   1982\u001b[0m \u001b[43m                        \u001b[49m\u001b[43mvalue\u001b[49m\u001b[43m,\u001b[49m\u001b[43m \u001b[49m\u001b[43mtb\u001b[49m\u001b[43m,\u001b[49m\u001b[43m \u001b[49m\u001b[43mtb_offset\u001b[49m\u001b[38;5;241;43m=\u001b[39;49m\u001b[43mtb_offset\u001b[49m\u001b[43m)\u001b[49m\n\u001b[1;32m   1984\u001b[0m \u001b[38;5;28mself\u001b[39m\u001b[38;5;241m.\u001b[39m_showtraceback(etype, value, stb)\n\u001b[1;32m   1985\u001b[0m \u001b[38;5;28;01mif\u001b[39;00m \u001b[38;5;28mself\u001b[39m\u001b[38;5;241m.\u001b[39mcall_pdb:\n\u001b[1;32m   1986\u001b[0m     \u001b[38;5;66;03m# drop into debugger\u001b[39;00m\n",
      "File \u001b[0;32m~/.virtualenvs/10701-Project/lib/python3.9/site-packages/IPython/core/ultratb.py:1105\u001b[0m, in \u001b[0;36mAutoFormattedTB.structured_traceback\u001b[0;34m(self, etype, value, tb, tb_offset, number_of_lines_of_context)\u001b[0m\n\u001b[1;32m   1103\u001b[0m \u001b[38;5;28;01melse\u001b[39;00m:\n\u001b[1;32m   1104\u001b[0m     \u001b[38;5;28mself\u001b[39m\u001b[38;5;241m.\u001b[39mtb \u001b[38;5;241m=\u001b[39m tb\n\u001b[0;32m-> 1105\u001b[0m \u001b[38;5;28;01mreturn\u001b[39;00m \u001b[43mFormattedTB\u001b[49m\u001b[38;5;241;43m.\u001b[39;49m\u001b[43mstructured_traceback\u001b[49m\u001b[43m(\u001b[49m\n\u001b[1;32m   1106\u001b[0m \u001b[43m    \u001b[49m\u001b[38;5;28;43mself\u001b[39;49m\u001b[43m,\u001b[49m\u001b[43m \u001b[49m\u001b[43metype\u001b[49m\u001b[43m,\u001b[49m\u001b[43m \u001b[49m\u001b[43mvalue\u001b[49m\u001b[43m,\u001b[49m\u001b[43m \u001b[49m\u001b[43mtb\u001b[49m\u001b[43m,\u001b[49m\u001b[43m \u001b[49m\u001b[43mtb_offset\u001b[49m\u001b[43m,\u001b[49m\u001b[43m \u001b[49m\u001b[43mnumber_of_lines_of_context\u001b[49m\u001b[43m)\u001b[49m\n",
      "File \u001b[0;32m~/.virtualenvs/10701-Project/lib/python3.9/site-packages/IPython/core/ultratb.py:999\u001b[0m, in \u001b[0;36mFormattedTB.structured_traceback\u001b[0;34m(self, etype, value, tb, tb_offset, number_of_lines_of_context)\u001b[0m\n\u001b[1;32m    996\u001b[0m mode \u001b[38;5;241m=\u001b[39m \u001b[38;5;28mself\u001b[39m\u001b[38;5;241m.\u001b[39mmode\n\u001b[1;32m    997\u001b[0m \u001b[38;5;28;01mif\u001b[39;00m mode \u001b[38;5;129;01min\u001b[39;00m \u001b[38;5;28mself\u001b[39m\u001b[38;5;241m.\u001b[39mverbose_modes:\n\u001b[1;32m    998\u001b[0m     \u001b[38;5;66;03m# Verbose modes need a full traceback\u001b[39;00m\n\u001b[0;32m--> 999\u001b[0m     \u001b[38;5;28;01mreturn\u001b[39;00m \u001b[43mVerboseTB\u001b[49m\u001b[38;5;241;43m.\u001b[39;49m\u001b[43mstructured_traceback\u001b[49m\u001b[43m(\u001b[49m\n\u001b[1;32m   1000\u001b[0m \u001b[43m        \u001b[49m\u001b[38;5;28;43mself\u001b[39;49m\u001b[43m,\u001b[49m\u001b[43m \u001b[49m\u001b[43metype\u001b[49m\u001b[43m,\u001b[49m\u001b[43m \u001b[49m\u001b[43mvalue\u001b[49m\u001b[43m,\u001b[49m\u001b[43m \u001b[49m\u001b[43mtb\u001b[49m\u001b[43m,\u001b[49m\u001b[43m \u001b[49m\u001b[43mtb_offset\u001b[49m\u001b[43m,\u001b[49m\u001b[43m \u001b[49m\u001b[43mnumber_of_lines_of_context\u001b[49m\n\u001b[1;32m   1001\u001b[0m \u001b[43m    \u001b[49m\u001b[43m)\u001b[49m\n\u001b[1;32m   1002\u001b[0m \u001b[38;5;28;01melif\u001b[39;00m mode \u001b[38;5;241m==\u001b[39m \u001b[38;5;124m'\u001b[39m\u001b[38;5;124mMinimal\u001b[39m\u001b[38;5;124m'\u001b[39m:\n\u001b[1;32m   1003\u001b[0m     \u001b[38;5;28;01mreturn\u001b[39;00m ListTB\u001b[38;5;241m.\u001b[39mget_exception_only(\u001b[38;5;28mself\u001b[39m, etype, value)\n",
      "File \u001b[0;32m~/.virtualenvs/10701-Project/lib/python3.9/site-packages/IPython/core/ultratb.py:852\u001b[0m, in \u001b[0;36mVerboseTB.structured_traceback\u001b[0;34m(self, etype, evalue, etb, tb_offset, number_of_lines_of_context)\u001b[0m\n\u001b[1;32m    850\u001b[0m \u001b[38;5;124;03m\"\"\"Return a nice text document describing the traceback.\"\"\"\u001b[39;00m\n\u001b[1;32m    851\u001b[0m \u001b[38;5;28;01massert\u001b[39;00m etb \u001b[38;5;129;01mis\u001b[39;00m \u001b[38;5;129;01mnot\u001b[39;00m \u001b[38;5;28;01mNone\u001b[39;00m\n\u001b[0;32m--> 852\u001b[0m formatted_exception \u001b[38;5;241m=\u001b[39m \u001b[38;5;28;43mself\u001b[39;49m\u001b[38;5;241;43m.\u001b[39;49m\u001b[43mformat_exception_as_a_whole\u001b[49m\u001b[43m(\u001b[49m\u001b[43metype\u001b[49m\u001b[43m,\u001b[49m\u001b[43m \u001b[49m\u001b[43mevalue\u001b[49m\u001b[43m,\u001b[49m\u001b[43m \u001b[49m\u001b[43metb\u001b[49m\u001b[43m,\u001b[49m\u001b[43m \u001b[49m\u001b[43mnumber_of_lines_of_context\u001b[49m\u001b[43m,\u001b[49m\n\u001b[1;32m    853\u001b[0m \u001b[43m                                                       \u001b[49m\u001b[43mtb_offset\u001b[49m\u001b[43m)\u001b[49m\n\u001b[1;32m    855\u001b[0m colors \u001b[38;5;241m=\u001b[39m \u001b[38;5;28mself\u001b[39m\u001b[38;5;241m.\u001b[39mColors  \u001b[38;5;66;03m# just a shorthand + quicker name lookup\u001b[39;00m\n\u001b[1;32m    856\u001b[0m colorsnormal \u001b[38;5;241m=\u001b[39m colors\u001b[38;5;241m.\u001b[39mNormal  \u001b[38;5;66;03m# used a lot\u001b[39;00m\n",
      "File \u001b[0;32m~/.virtualenvs/10701-Project/lib/python3.9/site-packages/IPython/core/ultratb.py:786\u001b[0m, in \u001b[0;36mVerboseTB.format_exception_as_a_whole\u001b[0;34m(self, etype, evalue, etb, number_of_lines_of_context, tb_offset)\u001b[0m\n\u001b[1;32m    784\u001b[0m \u001b[38;5;28;01massert\u001b[39;00m \u001b[38;5;28misinstance\u001b[39m(tb_offset, \u001b[38;5;28mint\u001b[39m)\n\u001b[1;32m    785\u001b[0m head \u001b[38;5;241m=\u001b[39m \u001b[38;5;28mself\u001b[39m\u001b[38;5;241m.\u001b[39mprepare_header(etype, \u001b[38;5;28mself\u001b[39m\u001b[38;5;241m.\u001b[39mlong_header)\n\u001b[0;32m--> 786\u001b[0m records \u001b[38;5;241m=\u001b[39m \u001b[38;5;28;43mself\u001b[39;49m\u001b[38;5;241;43m.\u001b[39;49m\u001b[43mget_records\u001b[49m\u001b[43m(\u001b[49m\u001b[43metb\u001b[49m\u001b[43m,\u001b[49m\u001b[43m \u001b[49m\u001b[43mnumber_of_lines_of_context\u001b[49m\u001b[43m,\u001b[49m\u001b[43m \u001b[49m\u001b[43mtb_offset\u001b[49m\u001b[43m)\u001b[49m\n\u001b[1;32m    788\u001b[0m frames \u001b[38;5;241m=\u001b[39m []\n\u001b[1;32m    789\u001b[0m skipped \u001b[38;5;241m=\u001b[39m \u001b[38;5;241m0\u001b[39m\n",
      "File \u001b[0;32m~/.virtualenvs/10701-Project/lib/python3.9/site-packages/IPython/core/ultratb.py:840\u001b[0m, in \u001b[0;36mVerboseTB.get_records\u001b[0;34m(self, etb, number_of_lines_of_context, tb_offset)\u001b[0m\n\u001b[1;32m    834\u001b[0m options \u001b[38;5;241m=\u001b[39m stack_data\u001b[38;5;241m.\u001b[39mOptions(\n\u001b[1;32m    835\u001b[0m     before\u001b[38;5;241m=\u001b[39mbefore,\n\u001b[1;32m    836\u001b[0m     after\u001b[38;5;241m=\u001b[39mafter,\n\u001b[1;32m    837\u001b[0m     pygments_formatter\u001b[38;5;241m=\u001b[39mformatter,\n\u001b[1;32m    838\u001b[0m )\n\u001b[1;32m    839\u001b[0m \u001b[38;5;28;01massert\u001b[39;00m etb \u001b[38;5;129;01mis\u001b[39;00m \u001b[38;5;129;01mnot\u001b[39;00m \u001b[38;5;28;01mNone\u001b[39;00m\n\u001b[0;32m--> 840\u001b[0m \u001b[38;5;28;01mreturn\u001b[39;00m \u001b[38;5;28;43mlist\u001b[39;49m\u001b[43m(\u001b[49m\u001b[43mstack_data\u001b[49m\u001b[38;5;241;43m.\u001b[39;49m\u001b[43mFrameInfo\u001b[49m\u001b[38;5;241;43m.\u001b[39;49m\u001b[43mstack_data\u001b[49m\u001b[43m(\u001b[49m\u001b[43metb\u001b[49m\u001b[43m,\u001b[49m\u001b[43m \u001b[49m\u001b[43moptions\u001b[49m\u001b[38;5;241;43m=\u001b[39;49m\u001b[43moptions\u001b[49m\u001b[43m)\u001b[49m\u001b[43m)\u001b[49m[tb_offset:]\n",
      "File \u001b[0;32m~/.virtualenvs/10701-Project/lib/python3.9/site-packages/stack_data/core.py:565\u001b[0m, in \u001b[0;36mFrameInfo.stack_data\u001b[0;34m(cls, frame_or_tb, options, collapse_repeated_frames)\u001b[0m\n\u001b[1;32m    562\u001b[0m     frame, lineno \u001b[38;5;241m=\u001b[39m frame_and_lineno(x)\n\u001b[1;32m    563\u001b[0m     \u001b[38;5;28;01mreturn\u001b[39;00m frame\u001b[38;5;241m.\u001b[39mf_code, lineno\n\u001b[0;32m--> 565\u001b[0m \u001b[38;5;28;01myield from\u001b[39;00m collapse_repeated(\n\u001b[1;32m    566\u001b[0m     stack,\n\u001b[1;32m    567\u001b[0m     mapper\u001b[38;5;241m=\u001b[39mmapper,\n\u001b[1;32m    568\u001b[0m     collapser\u001b[38;5;241m=\u001b[39mRepeatedFrames,\n\u001b[1;32m    569\u001b[0m     key\u001b[38;5;241m=\u001b[39m_frame_key,\n\u001b[1;32m    570\u001b[0m )\n",
      "File \u001b[0;32m~/.virtualenvs/10701-Project/lib/python3.9/site-packages/stack_data/utils.py:84\u001b[0m, in \u001b[0;36mcollapse_repeated\u001b[0;34m(lst, collapser, mapper, key)\u001b[0m\n\u001b[1;32m     82\u001b[0m original_group, highlighted_group \u001b[38;5;241m=\u001b[39m \u001b[38;5;28mzip\u001b[39m(\u001b[38;5;241m*\u001b[39mgroup)\n\u001b[1;32m     83\u001b[0m \u001b[38;5;28;01mif\u001b[39;00m is_highlighted:\n\u001b[0;32m---> 84\u001b[0m     \u001b[38;5;28;01myield from\u001b[39;00m \u001b[38;5;28mmap\u001b[39m(mapper, original_group)\n\u001b[1;32m     85\u001b[0m \u001b[38;5;28;01melse\u001b[39;00m:\n\u001b[1;32m     86\u001b[0m     keyed_group, _ \u001b[38;5;241m=\u001b[39m \u001b[38;5;28mzip\u001b[39m(\u001b[38;5;241m*\u001b[39mhighlighted_group)\n",
      "File \u001b[0;32m~/.virtualenvs/10701-Project/lib/python3.9/site-packages/stack_data/core.py:555\u001b[0m, in \u001b[0;36mFrameInfo.stack_data.<locals>.mapper\u001b[0;34m(f)\u001b[0m\n\u001b[1;32m    554\u001b[0m \u001b[38;5;28;01mdef\u001b[39;00m \u001b[38;5;21mmapper\u001b[39m(f):\n\u001b[0;32m--> 555\u001b[0m     \u001b[38;5;28;01mreturn\u001b[39;00m \u001b[38;5;28;43mcls\u001b[39;49m\u001b[43m(\u001b[49m\u001b[43mf\u001b[49m\u001b[43m,\u001b[49m\u001b[43m \u001b[49m\u001b[43moptions\u001b[49m\u001b[43m)\u001b[49m\n",
      "File \u001b[0;32m~/.virtualenvs/10701-Project/lib/python3.9/site-packages/stack_data/core.py:520\u001b[0m, in \u001b[0;36mFrameInfo.__init__\u001b[0;34m(self, frame_or_tb, options)\u001b[0m\n\u001b[1;32m    515\u001b[0m \u001b[38;5;28;01mdef\u001b[39;00m \u001b[38;5;21m__init__\u001b[39m(\n\u001b[1;32m    516\u001b[0m         \u001b[38;5;28mself\u001b[39m,\n\u001b[1;32m    517\u001b[0m         frame_or_tb: Union[FrameType, TracebackType],\n\u001b[1;32m    518\u001b[0m         options: Optional[Options] \u001b[38;5;241m=\u001b[39m \u001b[38;5;28;01mNone\u001b[39;00m,\n\u001b[1;32m    519\u001b[0m ):\n\u001b[0;32m--> 520\u001b[0m     \u001b[38;5;28mself\u001b[39m\u001b[38;5;241m.\u001b[39mexecuting \u001b[38;5;241m=\u001b[39m \u001b[43mSource\u001b[49m\u001b[38;5;241;43m.\u001b[39;49m\u001b[43mexecuting\u001b[49m\u001b[43m(\u001b[49m\u001b[43mframe_or_tb\u001b[49m\u001b[43m)\u001b[49m\n\u001b[1;32m    521\u001b[0m     frame, \u001b[38;5;28mself\u001b[39m\u001b[38;5;241m.\u001b[39mlineno \u001b[38;5;241m=\u001b[39m frame_and_lineno(frame_or_tb)\n\u001b[1;32m    522\u001b[0m     \u001b[38;5;28mself\u001b[39m\u001b[38;5;241m.\u001b[39mframe \u001b[38;5;241m=\u001b[39m frame\n",
      "File \u001b[0;32m~/.virtualenvs/10701-Project/lib/python3.9/site-packages/executing/executing.py:369\u001b[0m, in \u001b[0;36mSource.executing\u001b[0;34m(cls, frame_or_tb)\u001b[0m\n\u001b[1;32m    365\u001b[0m                 stmts \u001b[38;5;241m=\u001b[39m new_stmts\n\u001b[1;32m    367\u001b[0m         \u001b[38;5;28;01mreturn\u001b[39;00m source, node, stmts, decorator\n\u001b[0;32m--> 369\u001b[0m     args \u001b[38;5;241m=\u001b[39m find(source\u001b[38;5;241m=\u001b[39m\u001b[38;5;28;43mcls\u001b[39;49m\u001b[38;5;241;43m.\u001b[39;49m\u001b[43mfor_frame\u001b[49m\u001b[43m(\u001b[49m\u001b[43mframe\u001b[49m\u001b[43m)\u001b[49m, retry_cache\u001b[38;5;241m=\u001b[39m\u001b[38;5;28;01mTrue\u001b[39;00m)\n\u001b[1;32m    370\u001b[0m     executing_cache[key] \u001b[38;5;241m=\u001b[39m args\n\u001b[1;32m    372\u001b[0m \u001b[38;5;28;01mreturn\u001b[39;00m Executing(frame, \u001b[38;5;241m*\u001b[39margs)\n",
      "File \u001b[0;32m~/.virtualenvs/10701-Project/lib/python3.9/site-packages/executing/executing.py:252\u001b[0m, in \u001b[0;36mSource.for_frame\u001b[0;34m(cls, frame, use_cache)\u001b[0m\n\u001b[1;32m    247\u001b[0m \u001b[38;5;129m@classmethod\u001b[39m\n\u001b[1;32m    248\u001b[0m \u001b[38;5;28;01mdef\u001b[39;00m \u001b[38;5;21mfor_frame\u001b[39m(\u001b[38;5;28mcls\u001b[39m, frame, use_cache\u001b[38;5;241m=\u001b[39m\u001b[38;5;28;01mTrue\u001b[39;00m):\n\u001b[1;32m    249\u001b[0m     \u001b[38;5;124;03m\"\"\"\u001b[39;00m\n\u001b[1;32m    250\u001b[0m \u001b[38;5;124;03m    Returns the `Source` object corresponding to the file the frame is executing in.\u001b[39;00m\n\u001b[1;32m    251\u001b[0m \u001b[38;5;124;03m    \"\"\"\u001b[39;00m\n\u001b[0;32m--> 252\u001b[0m     \u001b[38;5;28;01mreturn\u001b[39;00m \u001b[38;5;28;43mcls\u001b[39;49m\u001b[38;5;241;43m.\u001b[39;49m\u001b[43mfor_filename\u001b[49m\u001b[43m(\u001b[49m\u001b[43mframe\u001b[49m\u001b[38;5;241;43m.\u001b[39;49m\u001b[43mf_code\u001b[49m\u001b[38;5;241;43m.\u001b[39;49m\u001b[43mco_filename\u001b[49m\u001b[43m,\u001b[49m\u001b[43m \u001b[49m\u001b[43mframe\u001b[49m\u001b[38;5;241;43m.\u001b[39;49m\u001b[43mf_globals\u001b[49m\u001b[43m \u001b[49m\u001b[38;5;129;43;01mor\u001b[39;49;00m\u001b[43m \u001b[49m\u001b[43m{\u001b[49m\u001b[43m}\u001b[49m\u001b[43m,\u001b[49m\u001b[43m \u001b[49m\u001b[43muse_cache\u001b[49m\u001b[43m)\u001b[49m\n",
      "File \u001b[0;32m~/.virtualenvs/10701-Project/lib/python3.9/site-packages/executing/executing.py:270\u001b[0m, in \u001b[0;36mSource.for_filename\u001b[0;34m(cls, filename, module_globals, use_cache)\u001b[0m\n\u001b[1;32m    267\u001b[0m     linecache\u001b[38;5;241m.\u001b[39mcheckcache(filename)\n\u001b[1;32m    269\u001b[0m lines \u001b[38;5;241m=\u001b[39m \u001b[38;5;28mtuple\u001b[39m(linecache\u001b[38;5;241m.\u001b[39mgetlines(filename, module_globals))\n\u001b[0;32m--> 270\u001b[0m result \u001b[38;5;241m=\u001b[39m source_cache[filename] \u001b[38;5;241m=\u001b[39m \u001b[38;5;28;43mcls\u001b[39;49m\u001b[38;5;241;43m.\u001b[39;49m\u001b[43m_for_filename_and_lines\u001b[49m\u001b[43m(\u001b[49m\u001b[43mfilename\u001b[49m\u001b[43m,\u001b[49m\u001b[43m \u001b[49m\u001b[43mlines\u001b[49m\u001b[43m)\u001b[49m\n\u001b[1;32m    271\u001b[0m \u001b[38;5;28;01mreturn\u001b[39;00m result\n",
      "File \u001b[0;32m~/.virtualenvs/10701-Project/lib/python3.9/site-packages/executing/executing.py:281\u001b[0m, in \u001b[0;36mSource._for_filename_and_lines\u001b[0;34m(cls, filename, lines)\u001b[0m\n\u001b[1;32m    278\u001b[0m \u001b[38;5;28;01mexcept\u001b[39;00m \u001b[38;5;167;01mKeyError\u001b[39;00m:\n\u001b[1;32m    279\u001b[0m     \u001b[38;5;28;01mpass\u001b[39;00m\n\u001b[0;32m--> 281\u001b[0m result \u001b[38;5;241m=\u001b[39m source_cache[(filename, lines)] \u001b[38;5;241m=\u001b[39m \u001b[38;5;28;43mcls\u001b[39;49m\u001b[43m(\u001b[49m\u001b[43mfilename\u001b[49m\u001b[43m,\u001b[49m\u001b[43m \u001b[49m\u001b[43mlines\u001b[49m\u001b[43m)\u001b[49m\n\u001b[1;32m    282\u001b[0m \u001b[38;5;28;01mreturn\u001b[39;00m result\n",
      "File \u001b[0;32m~/.virtualenvs/10701-Project/lib/python3.9/site-packages/stack_data/core.py:81\u001b[0m, in \u001b[0;36mSource.__init__\u001b[0;34m(self, *args, **kwargs)\u001b[0m\n\u001b[1;32m     79\u001b[0m \u001b[38;5;28msuper\u001b[39m(Source, \u001b[38;5;28mself\u001b[39m)\u001b[38;5;241m.\u001b[39m\u001b[38;5;21m__init__\u001b[39m(\u001b[38;5;241m*\u001b[39margs, \u001b[38;5;241m*\u001b[39m\u001b[38;5;241m*\u001b[39mkwargs)\n\u001b[1;32m     80\u001b[0m \u001b[38;5;28;01mif\u001b[39;00m \u001b[38;5;28mself\u001b[39m\u001b[38;5;241m.\u001b[39mtree:\n\u001b[0;32m---> 81\u001b[0m     \u001b[38;5;28;43mself\u001b[39;49m\u001b[38;5;241;43m.\u001b[39;49m\u001b[43masttokens\u001b[49m\u001b[43m(\u001b[49m\u001b[43m)\u001b[49m\n",
      "File \u001b[0;32m~/.virtualenvs/10701-Project/lib/python3.9/site-packages/executing/executing.py:413\u001b[0m, in \u001b[0;36mSource.asttokens\u001b[0;34m(self)\u001b[0m\n\u001b[1;32m    407\u001b[0m \u001b[38;5;124;03m\"\"\"\u001b[39;00m\n\u001b[1;32m    408\u001b[0m \u001b[38;5;124;03mReturns an ASTTokens object for getting the source of specific AST nodes.\u001b[39;00m\n\u001b[1;32m    409\u001b[0m \n\u001b[1;32m    410\u001b[0m \u001b[38;5;124;03mSee http://asttokens.readthedocs.io/en/latest/api-index.html\u001b[39;00m\n\u001b[1;32m    411\u001b[0m \u001b[38;5;124;03m\"\"\"\u001b[39;00m\n\u001b[1;32m    412\u001b[0m \u001b[38;5;28;01mfrom\u001b[39;00m \u001b[38;5;21;01masttokens\u001b[39;00m \u001b[38;5;28;01mimport\u001b[39;00m ASTTokens  \u001b[38;5;66;03m# must be installed separately\u001b[39;00m\n\u001b[0;32m--> 413\u001b[0m \u001b[38;5;28;01mreturn\u001b[39;00m \u001b[43mASTTokens\u001b[49m\u001b[43m(\u001b[49m\n\u001b[1;32m    414\u001b[0m \u001b[43m    \u001b[49m\u001b[38;5;28;43mself\u001b[39;49m\u001b[38;5;241;43m.\u001b[39;49m\u001b[43mtext\u001b[49m\u001b[43m,\u001b[49m\n\u001b[1;32m    415\u001b[0m \u001b[43m    \u001b[49m\u001b[43mtree\u001b[49m\u001b[38;5;241;43m=\u001b[39;49m\u001b[38;5;28;43mself\u001b[39;49m\u001b[38;5;241;43m.\u001b[39;49m\u001b[43mtree\u001b[49m\u001b[43m,\u001b[49m\n\u001b[1;32m    416\u001b[0m \u001b[43m    \u001b[49m\u001b[43mfilename\u001b[49m\u001b[38;5;241;43m=\u001b[39;49m\u001b[38;5;28;43mself\u001b[39;49m\u001b[38;5;241;43m.\u001b[39;49m\u001b[43mfilename\u001b[49m\u001b[43m,\u001b[49m\n\u001b[1;32m    417\u001b[0m \u001b[43m\u001b[49m\u001b[43m)\u001b[49m\n",
      "File \u001b[0;32m~/.virtualenvs/10701-Project/lib/python3.9/site-packages/asttokens/asttokens.py:59\u001b[0m, in \u001b[0;36mASTTokens.__init__\u001b[0;34m(self, source_text, parse, tree, filename)\u001b[0m\n\u001b[1;32m     56\u001b[0m \u001b[38;5;28mself\u001b[39m\u001b[38;5;241m.\u001b[39m_line_numbers \u001b[38;5;241m=\u001b[39m LineNumbers(source_text)\n\u001b[1;32m     58\u001b[0m \u001b[38;5;66;03m# Tokenize the code.\u001b[39;00m\n\u001b[0;32m---> 59\u001b[0m \u001b[38;5;28mself\u001b[39m\u001b[38;5;241m.\u001b[39m_tokens \u001b[38;5;241m=\u001b[39m \u001b[38;5;28;43mlist\u001b[39;49m\u001b[43m(\u001b[49m\u001b[38;5;28;43mself\u001b[39;49m\u001b[38;5;241;43m.\u001b[39;49m\u001b[43m_generate_tokens\u001b[49m\u001b[43m(\u001b[49m\u001b[43msource_text\u001b[49m\u001b[43m)\u001b[49m\u001b[43m)\u001b[49m\n\u001b[1;32m     61\u001b[0m \u001b[38;5;66;03m# Extract the start positions of all tokens, so that we can quickly map positions to tokens.\u001b[39;00m\n\u001b[1;32m     62\u001b[0m \u001b[38;5;28mself\u001b[39m\u001b[38;5;241m.\u001b[39m_token_offsets \u001b[38;5;241m=\u001b[39m [tok\u001b[38;5;241m.\u001b[39mstartpos \u001b[38;5;28;01mfor\u001b[39;00m tok \u001b[38;5;129;01min\u001b[39;00m \u001b[38;5;28mself\u001b[39m\u001b[38;5;241m.\u001b[39m_tokens]\n",
      "File \u001b[0;32m~/.virtualenvs/10701-Project/lib/python3.9/site-packages/asttokens/asttokens.py:85\u001b[0m, in \u001b[0;36mASTTokens._generate_tokens\u001b[0;34m(self, text)\u001b[0m\n\u001b[1;32m     80\u001b[0m \u001b[38;5;124;03m\"\"\"\u001b[39;00m\n\u001b[1;32m     81\u001b[0m \u001b[38;5;124;03mGenerates tokens for the given code.\u001b[39;00m\n\u001b[1;32m     82\u001b[0m \u001b[38;5;124;03m\"\"\"\u001b[39;00m\n\u001b[1;32m     83\u001b[0m \u001b[38;5;66;03m# This is technically an undocumented API for Python3, but allows us to use the same API as for\u001b[39;00m\n\u001b[1;32m     84\u001b[0m \u001b[38;5;66;03m# Python2. See http://stackoverflow.com/a/4952291/328565.\u001b[39;00m\n\u001b[0;32m---> 85\u001b[0m \u001b[38;5;28;01mfor\u001b[39;00m index, tok \u001b[38;5;129;01min\u001b[39;00m \u001b[38;5;28menumerate\u001b[39m(tokenize\u001b[38;5;241m.\u001b[39mgenerate_tokens(io\u001b[38;5;241m.\u001b[39mStringIO(text)\u001b[38;5;241m.\u001b[39mreadline)):\n\u001b[1;32m     86\u001b[0m   tok_type, tok_str, start, end, line \u001b[38;5;241m=\u001b[39m tok\n\u001b[1;32m     87\u001b[0m   \u001b[38;5;28;01myield\u001b[39;00m Token(tok_type, tok_str, start, end, line, index,\n\u001b[1;32m     88\u001b[0m               \u001b[38;5;28mself\u001b[39m\u001b[38;5;241m.\u001b[39m_line_numbers\u001b[38;5;241m.\u001b[39mline_to_offset(start[\u001b[38;5;241m0\u001b[39m], start[\u001b[38;5;241m1\u001b[39m]),\n\u001b[1;32m     89\u001b[0m               \u001b[38;5;28mself\u001b[39m\u001b[38;5;241m.\u001b[39m_line_numbers\u001b[38;5;241m.\u001b[39mline_to_offset(end[\u001b[38;5;241m0\u001b[39m], end[\u001b[38;5;241m1\u001b[39m]))\n",
      "File \u001b[0;32m/usr/local/Cellar/python@3.9/3.9.8/Frameworks/Python.framework/Versions/3.9/lib/python3.9/tokenize.py:525\u001b[0m, in \u001b[0;36m_tokenize\u001b[0;34m(readline, encoding)\u001b[0m\n\u001b[1;32m    522\u001b[0m     continued \u001b[38;5;241m=\u001b[39m \u001b[38;5;241m0\u001b[39m\n\u001b[1;32m    524\u001b[0m \u001b[38;5;28;01mwhile\u001b[39;00m pos \u001b[38;5;241m<\u001b[39m \u001b[38;5;28mmax\u001b[39m:\n\u001b[0;32m--> 525\u001b[0m     pseudomatch \u001b[38;5;241m=\u001b[39m \u001b[43m_compile\u001b[49m\u001b[43m(\u001b[49m\u001b[43mPseudoToken\u001b[49m\u001b[43m)\u001b[49m\u001b[38;5;241;43m.\u001b[39;49m\u001b[43mmatch\u001b[49m(line, pos)\n\u001b[1;32m    526\u001b[0m     \u001b[38;5;28;01mif\u001b[39;00m pseudomatch:                                \u001b[38;5;66;03m# scan for tokens\u001b[39;00m\n\u001b[1;32m    527\u001b[0m         start, end \u001b[38;5;241m=\u001b[39m pseudomatch\u001b[38;5;241m.\u001b[39mspan(\u001b[38;5;241m1\u001b[39m)\n",
      "File \u001b[0;32m~/.virtualenvs/10701-Project/lib/python3.9/site-packages/torch/utils/data/_utils/signal_handling.py:66\u001b[0m, in \u001b[0;36m_set_SIGCHLD_handler.<locals>.handler\u001b[0;34m(signum, frame)\u001b[0m\n\u001b[1;32m     63\u001b[0m \u001b[38;5;28;01mdef\u001b[39;00m \u001b[38;5;21mhandler\u001b[39m(signum, frame):\n\u001b[1;32m     64\u001b[0m     \u001b[38;5;66;03m# This following call uses `waitid` with WNOHANG from C side. Therefore,\u001b[39;00m\n\u001b[1;32m     65\u001b[0m     \u001b[38;5;66;03m# Python can still get and update the process status successfully.\u001b[39;00m\n\u001b[0;32m---> 66\u001b[0m     \u001b[43m_error_if_any_worker_fails\u001b[49m\u001b[43m(\u001b[49m\u001b[43m)\u001b[49m\n\u001b[1;32m     67\u001b[0m     \u001b[38;5;28;01mif\u001b[39;00m previous_handler \u001b[38;5;129;01mis\u001b[39;00m \u001b[38;5;129;01mnot\u001b[39;00m \u001b[38;5;28;01mNone\u001b[39;00m:\n\u001b[1;32m     68\u001b[0m         \u001b[38;5;28;01massert\u001b[39;00m callable(previous_handler)\n",
      "\u001b[0;31mRuntimeError\u001b[0m: DataLoader worker (pid 72722) is killed by signal: Interrupt: 2. "
     ]
    }
   ],
   "source": [
    "####################\n",
    "## Experiment setup \n",
    "####################\n",
    "\n",
    "do=0\n",
    "N_RUNS=5\n",
    "NS=3000\n",
    "n_epochs=20\n",
    "baselines = [{\n",
    "    'model': 'OBS',\n",
    "    'target': 'Y0'\n",
    "},{\n",
    "    'model': 'COM',\n",
    "    'target': 'Y0'\n",
    "},{\n",
    "    'model': 'COM-SL',\n",
    "    'target': 'Y0'\n",
    "},{\n",
    "    'model': 'RW',\n",
    "    'target': 'Y0'\n",
    "},{\n",
    "    'model': 'RW-SL',\n",
    "    'target': 'Y0'\n",
    "},{\n",
    "    'model': 'Proxy Oracle',\n",
    "    'target': f'Y0_{do}'\n",
    "},{\n",
    "    'model': 'Target Oracle',\n",
    "    'target': f'YS_{do}'\n",
    "}]\n",
    "\n",
    "param_configs = []\n",
    "for alpha in [0, .1, .2, .3]:\n",
    "    for beta in [0, .1, .2, .3]:\n",
    "        param_configs.append({\n",
    "            'alpha': alpha,\n",
    "            'beta': beta\n",
    "        })\n",
    "        \n",
    "shalt = {\n",
    "    'Y0_PDF': 'shalt_6cov_baseline',\n",
    "    'Y1_PDF': 'shalt_6cov_intervention',\n",
    "    'PI_PDF': '6cov_linear'\n",
    "}\n",
    "\n",
    "linsep = {\n",
    "    'Y0_PDF': '2D_linsep_intervention',\n",
    "    'Y1_PDF': '2D_linsep_baseline',\n",
    "    'PI_PDF': '6cov_linear'\n",
    "}\n",
    "\n",
    "shalt_results = run_baseline_comparison_exp_grid(\n",
    "    shalt,\n",
    "    baselines,\n",
    "    param_configs,\n",
    "    do=do,\n",
    "    N_RUNS=N_RUNS,\n",
    "    NS=NS,\n",
    "    K=1,\n",
    "    n_epochs=n_epochs\n",
    ")\n",
    "\n",
    "linsep_results = run_baseline_comparison_exp_grid(\n",
    "    linsep,\n",
    "    baselines,\n",
    "    param_configs,\n",
    "    do=do,\n",
    "    N_RUNS=N_RUNS,\n",
    "    NS=NS,\n",
    "    K=1,\n",
    "    n_epochs=n_epochs\n",
    ")"
   ]
  },
  {
   "cell_type": "code",
   "execution_count": 14,
   "id": "b9e41e78",
   "metadata": {},
   "outputs": [],
   "source": [
    "pd.DataFrame(shalt_results).to_csv('shalt_N_3000_RUNS_5_E_20.csv', index=False)\n",
    "pd.DataFrame(linsep_results).to_csv('linsep_N_3000_RUNS_5.csv', index=False)"
   ]
  },
  {
   "cell_type": "code",
   "execution_count": 4,
   "id": "986fff12",
   "metadata": {},
   "outputs": [
    {
     "ename": "NameError",
     "evalue": "name 'shalt_results' is not defined",
     "output_type": "error",
     "traceback": [
      "\u001b[0;31m---------------------------------------------------------------------------\u001b[0m",
      "\u001b[0;31mNameError\u001b[0m                                 Traceback (most recent call last)",
      "Input \u001b[0;32mIn [4]\u001b[0m, in \u001b[0;36m<cell line: 1>\u001b[0;34m()\u001b[0m\n\u001b[0;32m----> 1\u001b[0m results \u001b[38;5;241m=\u001b[39m pd\u001b[38;5;241m.\u001b[39mDataFrame(\u001b[43mshalt_results\u001b[49m)\n\u001b[1;32m      2\u001b[0m \u001b[38;5;28;01mfor\u001b[39;00m alpha \u001b[38;5;129;01min\u001b[39;00m [\u001b[38;5;241m0\u001b[39m, \u001b[38;5;241m.1\u001b[39m, \u001b[38;5;241m.2\u001b[39m, \u001b[38;5;241m.3\u001b[39m]:\n\u001b[1;32m      3\u001b[0m     \u001b[38;5;28;01mfor\u001b[39;00m beta \u001b[38;5;129;01min\u001b[39;00m [\u001b[38;5;241m0\u001b[39m, \u001b[38;5;241m.1\u001b[39m, \u001b[38;5;241m.2\u001b[39m, \u001b[38;5;241m.3\u001b[39m]:\n",
      "\u001b[0;31mNameError\u001b[0m: name 'shalt_results' is not defined"
     ]
    }
   ],
   "source": [
    "results = pd.DataFrame(shalt_results)\n",
    "for alpha in [0, .1, .2, .3]:\n",
    "    for beta in [0, .1, .2, .3]:\n",
    "        res = results[(results['alpha'] == alpha) & (results['beta'] == beta)].groupby('model').mean()\n",
    "        display(res)\n",
    "        "
   ]
  },
  {
   "cell_type": "markdown",
   "id": "8a7df82f",
   "metadata": {},
   "source": [
    "## Fixing a single alpha, beta"
   ]
  },
  {
   "cell_type": "code",
   "execution_count": 15,
   "id": "663adc3b",
   "metadata": {
    "scrolled": false
   },
   "outputs": [
    {
     "name": "stdout",
     "output_type": "stream",
     "text": [
      "=============== RUN: 0 ===============\n"
     ]
    },
    {
     "name": "stderr",
     "output_type": "stream",
     "text": [
      "Target: Y0: 100%|███████████████████████████████| 10/10 [00:06<00:00,  1.53it/s]\n",
      "Target: Y0: 100%|███████████████████████████████| 10/10 [00:06<00:00,  1.56it/s]\n",
      "Target: Y0: 100%|███████████████████████████████| 10/10 [00:06<00:00,  1.53it/s]\n",
      "Target: Y0_0: 100%|█████████████████████████████| 10/10 [00:06<00:00,  1.64it/s]\n",
      "Target: YS_0: 100%|█████████████████████████████| 10/10 [00:06<00:00,  1.52it/s]\n",
      "Target: Y0: 100%|███████████████████████████████| 10/10 [00:06<00:00,  1.62it/s]\n",
      "Target: Y0: 100%|███████████████████████████████| 10/10 [00:06<00:00,  1.56it/s]\n"
     ]
    },
    {
     "name": "stdout",
     "output_type": "stream",
     "text": [
      "=============== RUN: 1 ===============\n"
     ]
    },
    {
     "name": "stderr",
     "output_type": "stream",
     "text": [
      "Target: Y0: 100%|███████████████████████████████| 10/10 [00:06<00:00,  1.60it/s]\n",
      "Target: Y0: 100%|███████████████████████████████| 10/10 [00:06<00:00,  1.54it/s]\n",
      "Target: Y0: 100%|███████████████████████████████| 10/10 [00:06<00:00,  1.44it/s]\n",
      "Target: Y0_0: 100%|█████████████████████████████| 10/10 [00:06<00:00,  1.60it/s]\n",
      "Target: YS_0: 100%|█████████████████████████████| 10/10 [00:06<00:00,  1.51it/s]\n",
      "Target: Y0: 100%|███████████████████████████████| 10/10 [00:07<00:00,  1.36it/s]\n",
      "Target: Y0: 100%|███████████████████████████████| 10/10 [00:06<00:00,  1.49it/s]\n"
     ]
    },
    {
     "name": "stdout",
     "output_type": "stream",
     "text": [
      "=============== RUN: 2 ===============\n"
     ]
    },
    {
     "name": "stderr",
     "output_type": "stream",
     "text": [
      "Target: Y0: 100%|███████████████████████████████| 10/10 [00:06<00:00,  1.46it/s]\n",
      "Target: Y0: 100%|███████████████████████████████| 10/10 [00:07<00:00,  1.42it/s]\n",
      "Target: Y0: 100%|███████████████████████████████| 10/10 [00:07<00:00,  1.39it/s]\n",
      "Target: Y0_0: 100%|█████████████████████████████| 10/10 [00:06<00:00,  1.49it/s]\n",
      "Target: YS_0: 100%|█████████████████████████████| 10/10 [00:06<00:00,  1.56it/s]\n",
      "Target: Y0: 100%|███████████████████████████████| 10/10 [00:06<00:00,  1.54it/s]\n",
      "Target: Y0: 100%|███████████████████████████████| 10/10 [00:07<00:00,  1.34it/s]\n"
     ]
    },
    {
     "name": "stdout",
     "output_type": "stream",
     "text": [
      "=============== RUN: 3 ===============\n"
     ]
    },
    {
     "name": "stderr",
     "output_type": "stream",
     "text": [
      "Target: Y0: 100%|███████████████████████████████| 10/10 [00:06<00:00,  1.45it/s]\n",
      "Target: Y0: 100%|███████████████████████████████| 10/10 [00:07<00:00,  1.41it/s]\n",
      "Target: Y0: 100%|███████████████████████████████| 10/10 [00:07<00:00,  1.39it/s]\n",
      "Target: Y0_0: 100%|█████████████████████████████| 10/10 [00:06<00:00,  1.50it/s]\n",
      "Target: YS_0: 100%|█████████████████████████████| 10/10 [00:06<00:00,  1.51it/s]\n",
      "Target: Y0: 100%|███████████████████████████████| 10/10 [00:06<00:00,  1.49it/s]\n",
      "Target: Y0: 100%|███████████████████████████████| 10/10 [00:06<00:00,  1.46it/s]\n"
     ]
    },
    {
     "name": "stdout",
     "output_type": "stream",
     "text": [
      "=============== RUN: 4 ===============\n"
     ]
    },
    {
     "name": "stderr",
     "output_type": "stream",
     "text": [
      "Target: Y0: 100%|███████████████████████████████| 10/10 [00:06<00:00,  1.48it/s]\n",
      "Target: Y0: 100%|███████████████████████████████| 10/10 [00:06<00:00,  1.48it/s]\n",
      "Target: Y0: 100%|███████████████████████████████| 10/10 [00:07<00:00,  1.40it/s]\n",
      "Target: Y0_0: 100%|█████████████████████████████| 10/10 [00:06<00:00,  1.52it/s]\n",
      "Target: YS_0: 100%|█████████████████████████████| 10/10 [00:06<00:00,  1.50it/s]\n",
      "Target: Y0: 100%|███████████████████████████████| 10/10 [00:06<00:00,  1.49it/s]\n",
      "Target: Y0: 100%|███████████████████████████████| 10/10 [00:06<00:00,  1.44it/s]\n"
     ]
    }
   ],
   "source": [
    "do=0\n",
    "\n",
    "env = {\n",
    "    'Y0_PDF': '2D_linsep_intervention',\n",
    "    'Y1_PDF': '2D_linsep_baseline',\n",
    "    'PI_PDF': '6cov_linear'\n",
    "}\n",
    "\n",
    "baselines = [{\n",
    "    'model': 'RW',\n",
    "    'target': 'Y0'\n",
    "    },{\n",
    "        'model': 'RW-SL',\n",
    "        'target': 'Y0'\n",
    "    },{\n",
    "         'model': 'OBS',\n",
    "         'target': f'Y0'\n",
    "    },{\n",
    "         'model': 'Proxy Oracle',\n",
    "         'target': f'Y0_0'\n",
    "    },{\n",
    "         'model': 'Target Oracle',\n",
    "         'target': f'YS_0'\n",
    "    },{\n",
    "        'model': 'COM',\n",
    "        'target': 'Y0'\n",
    "    },{\n",
    "        'model': 'COM-SL',\n",
    "        'target': 'Y0'\n",
    "}]\n",
    "\n",
    "# baselines = [{\n",
    "#          'model': 'OBS',\n",
    "#          'target': f'Y0'\n",
    "#     },{\n",
    "#          'model': 'Proxy Oracle',\n",
    "#          'target': f'Y0_0'\n",
    "#     },{\n",
    "#          'model': 'Target Oracle',\n",
    "#          'target': f'YS_0'\n",
    "#     }]\n",
    "exp_results = run_baseline_comparison_exp(env, baselines, do=0, N_RUNS=5, NS=4000,\n",
    "                                          K=1, n_epochs=10, alpha=.3, beta=.1)\n",
    "    "
   ]
  },
  {
   "cell_type": "code",
   "execution_count": 18,
   "id": "c3efcca3",
   "metadata": {
    "scrolled": true
   },
   "outputs": [
    {
     "data": {
      "text/html": [
       "<div>\n",
       "<style scoped>\n",
       "    .dataframe tbody tr th:only-of-type {\n",
       "        vertical-align: middle;\n",
       "    }\n",
       "\n",
       "    .dataframe tbody tr th {\n",
       "        vertical-align: top;\n",
       "    }\n",
       "\n",
       "    .dataframe thead th {\n",
       "        text-align: right;\n",
       "    }\n",
       "</style>\n",
       "<table border=\"1\" class=\"dataframe\">\n",
       "  <thead>\n",
       "    <tr style=\"text-align: right;\">\n",
       "      <th></th>\n",
       "      <th>AU-ROC</th>\n",
       "      <th>ACC</th>\n",
       "      <th>alpha</th>\n",
       "      <th>beta</th>\n",
       "    </tr>\n",
       "    <tr>\n",
       "      <th>model</th>\n",
       "      <th></th>\n",
       "      <th></th>\n",
       "      <th></th>\n",
       "      <th></th>\n",
       "    </tr>\n",
       "  </thead>\n",
       "  <tbody>\n",
       "    <tr>\n",
       "      <th>COM</th>\n",
       "      <td>0.895179</td>\n",
       "      <td>0.848133</td>\n",
       "      <td>0.3</td>\n",
       "      <td>0.1</td>\n",
       "    </tr>\n",
       "    <tr>\n",
       "      <th>COM-SL</th>\n",
       "      <td>0.896785</td>\n",
       "      <td>0.856933</td>\n",
       "      <td>0.3</td>\n",
       "      <td>0.1</td>\n",
       "    </tr>\n",
       "    <tr>\n",
       "      <th>OBS</th>\n",
       "      <td>0.903256</td>\n",
       "      <td>0.784267</td>\n",
       "      <td>0.3</td>\n",
       "      <td>0.1</td>\n",
       "    </tr>\n",
       "    <tr>\n",
       "      <th>Proxy Oracle</th>\n",
       "      <td>0.997297</td>\n",
       "      <td>0.942133</td>\n",
       "      <td>0.3</td>\n",
       "      <td>0.1</td>\n",
       "    </tr>\n",
       "    <tr>\n",
       "      <th>RW</th>\n",
       "      <td>0.996672</td>\n",
       "      <td>0.932533</td>\n",
       "      <td>0.3</td>\n",
       "      <td>0.1</td>\n",
       "    </tr>\n",
       "    <tr>\n",
       "      <th>RW-SL</th>\n",
       "      <td>0.996164</td>\n",
       "      <td>0.938667</td>\n",
       "      <td>0.3</td>\n",
       "      <td>0.1</td>\n",
       "    </tr>\n",
       "    <tr>\n",
       "      <th>Target Oracle</th>\n",
       "      <td>0.999663</td>\n",
       "      <td>0.981600</td>\n",
       "      <td>0.3</td>\n",
       "      <td>0.1</td>\n",
       "    </tr>\n",
       "  </tbody>\n",
       "</table>\n",
       "</div>"
      ],
      "text/plain": [
       "                 AU-ROC       ACC  alpha  beta\n",
       "model                                         \n",
       "COM            0.895179  0.848133    0.3   0.1\n",
       "COM-SL         0.896785  0.856933    0.3   0.1\n",
       "OBS            0.903256  0.784267    0.3   0.1\n",
       "Proxy Oracle   0.997297  0.942133    0.3   0.1\n",
       "RW             0.996672  0.932533    0.3   0.1\n",
       "RW-SL          0.996164  0.938667    0.3   0.1\n",
       "Target Oracle  0.999663  0.981600    0.3   0.1"
      ]
     },
     "execution_count": 18,
     "metadata": {},
     "output_type": "execute_result"
    }
   ],
   "source": [
    "pd.DataFrame(exp_results).groupby('model').mean()"
   ]
  },
  {
   "cell_type": "code",
   "execution_count": 14,
   "id": "c3955390",
   "metadata": {},
   "outputs": [
    {
     "data": {
      "text/plain": [
       "<matplotlib.collections.PathCollection at 0x14b97f970>"
      ]
     },
     "execution_count": 14,
     "metadata": {},
     "output_type": "execute_result"
    },
    {
     "data": {
      "image/png": "[encoded data removed]",
      "text/plain": [
       "<Figure size 432x288 with 1 Axes>"
      ]
     },
     "metadata": {},
     "output_type": "display_data"
    },
    {
     "data": {
      "image/png": "[encoded data removed]",
      "text/plain": [
       "<Figure size 432x288 with 1 Axes>"
      ]
     },
     "metadata": {},
     "output_type": "display_data"
    }
   ],
   "source": [
    "X, Y, error_params = generate_syn_data(\n",
    "    NS=500,\n",
    "    K=1,\n",
    "    y0_pdf='2D_linsep_baseline',\n",
    "    y1_pdf='2D_linsep_intervention',\n",
    "    pi_pdf='6cov_linear',\n",
    "    alpha_0=0,\n",
    "    alpha_1=0,\n",
    "    beta_0=0,\n",
    "    beta_1=0,\n",
    "    shuffle=True\n",
    ")\n",
    "\n",
    "neg_baseline = X[Y['YS_0'] == 0]\n",
    "pos_baseline = X[Y['YS_0'] == 1]\n",
    "\n",
    "plt.figure()\n",
    "plt.scatter(neg_baseline[[0]], neg_baseline[[1]], color='red')\n",
    "plt.scatter(pos_baseline[[0]], pos_baseline[[1]], color='blue')\n",
    "\n",
    "plt.figure()\n",
    "neg_intervention = X[Y['YS_1'] == 0]\n",
    "pos_intervention = X[Y['YS_1'] == 1]\n",
    "plt.scatter(neg_intervention[[0]], neg_intervention[[1]], color='red', marker='x')\n",
    "plt.scatter(pos_intervention[[0]], pos_intervention[[1]], color='blue', marker='x')\n",
    "\n",
    "\n",
    "\n"
   ]
  },
  {
   "cell_type": "code",
   "execution_count": 13,
   "id": "46b6c550",
   "metadata": {},
   "outputs": [
    {
     "ename": "NameError",
     "evalue": "name 'exp_results' is not defined",
     "output_type": "error",
     "traceback": [
      "\u001b[0;31m---------------------------------------------------------------------------\u001b[0m",
      "\u001b[0;31mNameError\u001b[0m                                 Traceback (most recent call last)",
      "Input \u001b[0;32mIn [13]\u001b[0m, in \u001b[0;36m<cell line: 1>\u001b[0;34m()\u001b[0m\n\u001b[0;32m----> 1\u001b[0m pd\u001b[38;5;241m.\u001b[39mDataFrame(\u001b[43mexp_results\u001b[49m)\u001b[38;5;241m.\u001b[39mgroupby(\u001b[38;5;124m'\u001b[39m\u001b[38;5;124mmodel\u001b[39m\u001b[38;5;124m'\u001b[39m)\u001b[38;5;241m.\u001b[39mmean()\n",
      "\u001b[0;31mNameError\u001b[0m: name 'exp_results' is not defined"
     ]
    }
   ],
   "source": [
    "pd.DataFrame(exp_results).groupby('model').mean()"
   ]
  },
  {
   "cell_type": "markdown",
   "id": "f80a2095",
   "metadata": {},
   "source": [
    "## Synthetic environment setup"
   ]
  },
  {
   "cell_type": "code",
   "execution_count": 9,
   "id": "0af760ee",
   "metadata": {},
   "outputs": [],
   "source": [
    "x = np.random.uniform(low=0, high=1, size=(10000, 6))\n",
    "\n",
    "pid = pi(x, func='6cov_linsep')\n",
    "\n"
   ]
  },
  {
   "cell_type": "code",
   "execution_count": 19,
   "id": "9f6864c9",
   "metadata": {},
   "outputs": [
    {
     "name": "stdout",
     "output_type": "stream",
     "text": [
      "0.1236\n",
      "1.0\n"
     ]
    },
    {
     "data": {
      "text/plain": [
       "[<matplotlib.lines.Line2D at 0x15d1bd2b0>]"
      ]
     },
     "execution_count": 19,
     "metadata": {},
     "output_type": "execute_result"
    },
    {
     "data": {
      "image/png": "[encoded data removed]",
      "text/plain": [
       "<Figure size 432x288 with 1 Axes>"
      ]
     },
     "metadata": {},
     "output_type": "display_data"
    }
   ],
   "source": [
    "x = np.random.uniform(low=0, high=1, size=(10000, 6))\n",
    "# eta_star_0 = eta(x, environment='shalt_6cov_baseline')\n",
    "# eta_star_1 = eta(x, environment='shalt_6cov_intervention')\n",
    "\n",
    "def eta0(x):\n",
    "    return .8* (.25 *(1+np.sin(1.5*x[:,0]))*(1-np.cos(3.9*np.maximum(.85*x[:,2],.7*x[:,3])))) + .2 * (4*np.power((x[:,1]-.5), 2))\n",
    "#     return (1/3.35054) * np.sin(x[:,4])*((4*np.power(np.maximum(x[:,0], x[:,5]), 3))/(1+2*np.power(x[:,2], 2)))\n",
    "\n",
    "def eta1(x):\n",
    "    return 1-np.power(x[:,0], 6)\n",
    "\n",
    "def etat(x):\n",
    "    y = np.zeros(x.shape[0])\n",
    "    y[x[:,1] > (x[:,0] + 0.5)] = 1\n",
    "    return y\n",
    "\n",
    "def pi(x):\n",
    "    return .6*x.mean(axis=1) +.1\n",
    "\n",
    "px = etat(x)\n",
    "\n",
    "plt.hist(px, bins=50)\n",
    "plt.axvline(x=.5, color='r')\n",
    "print((px > .5).mean())\n",
    "print(px.max())\n",
    "\n",
    "x = np.random.uniform(low=0, high=1, size=(10000, 6))\n",
    "plt.hist(eta0(x))\n",
    "\n",
    "x = np.linspace(0,1, 2000)\n",
    "plt.plot(x, .5 *(1+np.sin(x)))\n",
    "plt.plot(x, 1-np.power(x, 3))\n",
    "# np.sin(x[:,0])\n",
    "\n",
    "\n",
    "\n",
    "# X, Y, error_params = generate_syn_data_pdfviz(\n",
    "#     10000,\n",
    "#     eta0, \n",
    "#     eta1,\n",
    "#     pi_pdf=PI_PDF,\n",
    "#     alpha_0=0.1,\n",
    "#     alpha_1=0,\n",
    "#     beta_0=0.1,\n",
    "#     beta_1=0,\n",
    "#     shuffle=True\n",
    "# )\n",
    "\n",
    "\n",
    "# YS = np.ones(10000)\n",
    "# YS[Y['D']==0] = Y['pYS_0'][Y['D']==0]\n",
    "# YS[Y['D']==1] = Y['pYS_1'][Y['D']==1]\n",
    "\n",
    "# yhat = YS>.5\n",
    "# y = Y['YS_0']\n",
    "# (yhat == y).mean()\n"
   ]
  },
  {
   "cell_type": "markdown",
   "id": "98097431",
   "metadata": {},
   "source": [
    "## Experiment: comparison among baselines"
   ]
  },
  {
   "cell_type": "code",
   "execution_count": 40,
   "id": "421b6f6b",
   "metadata": {},
   "outputs": [
    {
     "name": "stdout",
     "output_type": "stream",
     "text": [
      "\\begin{tabular}{lllr}\n",
      "\\toprule\n",
      "    &     &                  &       ACC \\\\\n",
      "alpha & beta & model &           \\\\\n",
      "\\midrule\n",
      "0.0 & 0.0 & Conditional outcome &  0.756200 \\\\\n",
      "    &     & Conditional outcome (SL) &  0.771900 \\\\\n",
      "    &     & Observational &  0.556967 \\\\\n",
      "    &     & Proxy PO Oracle &  0.755400 \\\\\n",
      "    &     & Target PO Oracle &  0.726600 \\\\\n",
      "0.1 & 0.3 & Conditional outcome &  0.630800 \\\\\n",
      "    &     & Conditional outcome (SL) &  0.762400 \\\\\n",
      "    &     & Observational &  0.545800 \\\\\n",
      "    &     & Proxy PO Oracle &  0.658467 \\\\\n",
      "    &     & Target PO Oracle &  0.757900 \\\\\n",
      "0.2 & 0.2 & Conditional outcome &  0.721467 \\\\\n",
      "    &     & Conditional outcome (SL) &  0.693050 \\\\\n",
      "    &     & Observational &  0.537733 \\\\\n",
      "    &     & Proxy PO Oracle &  0.754067 \\\\\n",
      "    &     & Target PO Oracle &  0.707783 \\\\\n",
      "0.3 & 0.1 & Conditional outcome &  0.679267 \\\\\n",
      "    &     & Conditional outcome (SL) &  0.730867 \\\\\n",
      "    &     & Observational &  0.585333 \\\\\n",
      "    &     & Proxy PO Oracle &  0.646400 \\\\\n",
      "    &     & Target PO Oracle &  0.729533 \\\\\n",
      "\\bottomrule\n",
      "\\end{tabular}\n",
      "\n",
      "\\begin{tabular}{lllr}\n",
      "\\toprule\n",
      "    &     &                  &       ACC \\\\\n",
      "alpha & beta & model &           \\\\\n",
      "\\midrule\n",
      "0.0 & 0.0 & Conditional outcome &  0.034641 \\\\\n",
      "    &     & Conditional outcome (SL) &  0.005407 \\\\\n",
      "    &     & Observational &  0.060910 \\\\\n",
      "    &     & Proxy PO Oracle &  0.036440 \\\\\n",
      "    &     & Target PO Oracle &  0.075372 \\\\\n",
      "0.1 & 0.3 & Conditional outcome &  0.087893 \\\\\n",
      "    &     & Conditional outcome (SL) &  0.008565 \\\\\n",
      "    &     & Observational &  0.017803 \\\\\n",
      "    &     & Proxy PO Oracle &  0.117487 \\\\\n",
      "    &     & Target PO Oracle &  0.029616 \\\\\n",
      "0.2 & 0.2 & Conditional outcome &  0.077797 \\\\\n",
      "    &     & Conditional outcome (SL) &  0.096063 \\\\\n",
      "    &     & Observational &  0.046530 \\\\\n",
      "    &     & Proxy PO Oracle &  0.038545 \\\\\n",
      "    &     & Target PO Oracle &  0.094678 \\\\\n",
      "0.3 & 0.1 & Conditional outcome &  0.089297 \\\\\n",
      "    &     & Conditional outcome (SL) &  0.068210 \\\\\n",
      "    &     & Observational &  0.035278 \\\\\n",
      "    &     & Proxy PO Oracle &  0.124342 \\\\\n",
      "    &     & Target PO Oracle &  0.093779 \\\\\n",
      "\\bottomrule\n",
      "\\end{tabular}\n",
      "\n"
     ]
    },
    {
     "name": "stderr",
     "output_type": "stream",
     "text": [
      "/var/folders/w_/rwxvw5hn1ng2qvm6353gkvqw0000gr/T/ipykernel_2952/2909102595.py:7: FutureWarning: In future versions `DataFrame.to_latex` is expected to utilise the base implementation of `Styler.to_latex` for formatting and rendering. The arguments signature may therefore change. It is recommended instead to use `DataFrame.style.to_latex` which also contains additional functionality.\n",
      "  print(means.to_latex())\n",
      "/var/folders/w_/rwxvw5hn1ng2qvm6353gkvqw0000gr/T/ipykernel_2952/2909102595.py:10: FutureWarning: In future versions `DataFrame.to_latex` is expected to utilise the base implementation of `Styler.to_latex` for formatting and rendering. The arguments signature may therefore change. It is recommended instead to use `DataFrame.style.to_latex` which also contains additional functionality.\n",
      "  print(stds.to_latex())\n"
     ]
    }
   ],
   "source": [
    "r1df = pd.read_csv('results/2-2-main_exp_results.csv')\n",
    "r2df = pd.read_csv('results/exp1_grid_results_NR=10_NS=10000_E=40.csv')\n",
    "\n",
    "\n",
    "resdf = pd.concat([r1df, r2df])\n",
    "means = resdf.groupby(['alpha', 'beta', 'model']).mean()['ACC']\n",
    "print(means.to_latex())\n",
    "\n",
    "stds = resdf.groupby(['alpha', 'beta', 'model']).std()['ACC']\n",
    "print(stds.to_latex())\n"
   ]
  },
  {
   "cell_type": "markdown",
   "id": "128f2a44",
   "metadata": {},
   "source": [
    "## Main Experiment: parameter estimation via CCPE"
   ]
  },
  {
   "cell_type": "code",
   "execution_count": 11,
   "id": "d806e065",
   "metadata": {
    "scrolled": false
   },
   "outputs": [
    {
     "name": "stdout",
     "output_type": "stream",
     "text": [
      "======================================================================\n",
      "NS: [10000, 20000], alpha: 0.2, beta: 0.2\n",
      "====================================================================== \n",
      "\n"
     ]
    },
    {
     "name": "stderr",
     "output_type": "stream",
     "text": [
      "Target: Y|D: 100%|██████████████████████████████| 20/20 [00:15<00:00,  1.33it/s]\n",
      "Target: Y|D: 100%|██████████████████████████████| 20/20 [00:16<00:00,  1.23it/s]\n",
      "Target: Y|D: 100%|██████████████████████████████| 20/20 [00:15<00:00,  1.29it/s]\n",
      "Target: Y|D: 100%|██████████████████████████████| 20/20 [00:17<00:00,  1.16it/s]\n",
      "Target: Y|D: 100%|██████████████████████████████| 20/20 [00:16<00:00,  1.23it/s]\n"
     ]
    },
    {
     "name": "stdout",
     "output_type": "stream",
     "text": [
      "======================================================================\n",
      "NS: [10000, 20000], alpha: 0.2, beta: 0.2\n",
      "====================================================================== \n",
      "\n"
     ]
    },
    {
     "name": "stderr",
     "output_type": "stream",
     "text": [
      "Target: Y|D: 100%|██████████████████████████████| 20/20 [00:22<00:00,  1.12s/it]\n",
      "Target: Y|D: 100%|██████████████████████████████| 20/20 [00:19<00:00,  1.03it/s]\n",
      "Target: Y|D: 100%|██████████████████████████████| 20/20 [00:18<00:00,  1.06it/s]\n",
      "Target: Y|D: 100%|██████████████████████████████| 20/20 [00:17<00:00,  1.16it/s]\n",
      "Target: Y|D: 100%|██████████████████████████████| 20/20 [00:17<00:00,  1.17it/s]\n"
     ]
    }
   ],
   "source": [
    "SAMPLE_SIZES = [10000, 20000]\n",
    "env = {\n",
    "    'Y0_PDF': '2D_linsep_intervention',\n",
    "    'Y1_PDF': '2D_linsep_baseline',\n",
    "    'PI_PDF': '6cov_linear'\n",
    "}\n",
    "shalt = {\n",
    "    'Y0_PDF': 'shalt_6cov_baseline',\n",
    "    'Y1_PDF': 'shalt_6cov_intervention',\n",
    "    'PI_PDF': '6cov_linear'\n",
    "}\n",
    "configs=[{\n",
    "    'alpha': .2,\n",
    "    'beta': .2\n",
    "}]\n",
    "ccperesults = ccpe_benchmark_exp(env, configs, SAMPLE_SIZES, N_RUNS=5, n_epochs=20)\n",
    "\n"
   ]
  },
  {
   "cell_type": "code",
   "execution_count": 12,
   "id": "6c61c616",
   "metadata": {},
   "outputs": [
    {
     "data": {
      "text/html": [
       "<div>\n",
       "<style scoped>\n",
       "    .dataframe tbody tr th:only-of-type {\n",
       "        vertical-align: middle;\n",
       "    }\n",
       "\n",
       "    .dataframe tbody tr th {\n",
       "        vertical-align: top;\n",
       "    }\n",
       "\n",
       "    .dataframe thead th {\n",
       "        text-align: right;\n",
       "    }\n",
       "</style>\n",
       "<table border=\"1\" class=\"dataframe\">\n",
       "  <thead>\n",
       "    <tr style=\"text-align: right;\">\n",
       "      <th></th>\n",
       "      <th>alpha</th>\n",
       "      <th>beta</th>\n",
       "      <th>alpha_hat</th>\n",
       "      <th>beta_hat</th>\n",
       "      <th>alpha_error</th>\n",
       "      <th>beta_error</th>\n",
       "    </tr>\n",
       "    <tr>\n",
       "      <th>NS</th>\n",
       "      <th></th>\n",
       "      <th></th>\n",
       "      <th></th>\n",
       "      <th></th>\n",
       "      <th></th>\n",
       "      <th></th>\n",
       "    </tr>\n",
       "  </thead>\n",
       "  <tbody>\n",
       "    <tr>\n",
       "      <th>10000</th>\n",
       "      <td>0.2</td>\n",
       "      <td>0.2</td>\n",
       "      <td>0.181035</td>\n",
       "      <td>0.212469</td>\n",
       "      <td>-0.018965</td>\n",
       "      <td>0.012469</td>\n",
       "    </tr>\n",
       "    <tr>\n",
       "      <th>20000</th>\n",
       "      <td>0.2</td>\n",
       "      <td>0.2</td>\n",
       "      <td>0.133589</td>\n",
       "      <td>0.143278</td>\n",
       "      <td>-0.066411</td>\n",
       "      <td>-0.056722</td>\n",
       "    </tr>\n",
       "  </tbody>\n",
       "</table>\n",
       "</div>"
      ],
      "text/plain": [
       "       alpha  beta  alpha_hat  beta_hat  alpha_error  beta_error\n",
       "NS                                                              \n",
       "10000    0.2   0.2   0.181035  0.212469    -0.018965    0.012469\n",
       "20000    0.2   0.2   0.133589  0.143278    -0.066411   -0.056722"
      ]
     },
     "execution_count": 12,
     "metadata": {},
     "output_type": "execute_result"
    }
   ],
   "source": [
    "pd.DataFrame(ccperesults).groupby('NS').mean()"
   ]
  },
  {
   "cell_type": "code",
   "execution_count": 10,
   "id": "48ec5050",
   "metadata": {},
   "outputs": [
    {
     "data": {
      "text/html": [
       "<div>\n",
       "<style scoped>\n",
       "    .dataframe tbody tr th:only-of-type {\n",
       "        vertical-align: middle;\n",
       "    }\n",
       "\n",
       "    .dataframe tbody tr th {\n",
       "        vertical-align: top;\n",
       "    }\n",
       "\n",
       "    .dataframe thead th {\n",
       "        text-align: right;\n",
       "    }\n",
       "</style>\n",
       "<table border=\"1\" class=\"dataframe\">\n",
       "  <thead>\n",
       "    <tr style=\"text-align: right;\">\n",
       "      <th></th>\n",
       "      <th>alpha</th>\n",
       "      <th>beta</th>\n",
       "      <th>alpha_hat</th>\n",
       "      <th>beta_hat</th>\n",
       "      <th>alpha_error</th>\n",
       "      <th>beta_error</th>\n",
       "    </tr>\n",
       "    <tr>\n",
       "      <th>NS</th>\n",
       "      <th></th>\n",
       "      <th></th>\n",
       "      <th></th>\n",
       "      <th></th>\n",
       "      <th></th>\n",
       "      <th></th>\n",
       "    </tr>\n",
       "  </thead>\n",
       "  <tbody>\n",
       "    <tr>\n",
       "      <th>10000</th>\n",
       "      <td>0.2</td>\n",
       "      <td>0.2</td>\n",
       "      <td>0.223990</td>\n",
       "      <td>0.220720</td>\n",
       "      <td>0.023990</td>\n",
       "      <td>0.020720</td>\n",
       "    </tr>\n",
       "    <tr>\n",
       "      <th>20000</th>\n",
       "      <td>0.2</td>\n",
       "      <td>0.2</td>\n",
       "      <td>0.168013</td>\n",
       "      <td>0.252069</td>\n",
       "      <td>-0.031987</td>\n",
       "      <td>0.052069</td>\n",
       "    </tr>\n",
       "  </tbody>\n",
       "</table>\n",
       "</div>"
      ],
      "text/plain": [
       "       alpha  beta  alpha_hat  beta_hat  alpha_error  beta_error\n",
       "NS                                                              \n",
       "10000    0.2   0.2   0.223990  0.220720     0.023990    0.020720\n",
       "20000    0.2   0.2   0.168013  0.252069    -0.031987    0.052069"
      ]
     },
     "execution_count": 10,
     "metadata": {},
     "output_type": "execute_result"
    }
   ],
   "source": [
    "pd.DataFrame(ccperesults).groupby('NS').mean()"
   ]
  },
  {
   "cell_type": "code",
   "execution_count": 7,
   "id": "1f03cfb1",
   "metadata": {},
   "outputs": [
    {
     "data": {
      "text/html": [
       "<div>\n",
       "<style scoped>\n",
       "    .dataframe tbody tr th:only-of-type {\n",
       "        vertical-align: middle;\n",
       "    }\n",
       "\n",
       "    .dataframe tbody tr th {\n",
       "        vertical-align: top;\n",
       "    }\n",
       "\n",
       "    .dataframe thead th {\n",
       "        text-align: right;\n",
       "    }\n",
       "</style>\n",
       "<table border=\"1\" class=\"dataframe\">\n",
       "  <thead>\n",
       "    <tr style=\"text-align: right;\">\n",
       "      <th></th>\n",
       "      <th>alpha</th>\n",
       "      <th>beta</th>\n",
       "      <th>alpha_hat</th>\n",
       "      <th>beta_hat</th>\n",
       "      <th>alpha_error</th>\n",
       "      <th>beta_error</th>\n",
       "    </tr>\n",
       "    <tr>\n",
       "      <th>NS</th>\n",
       "      <th></th>\n",
       "      <th></th>\n",
       "      <th></th>\n",
       "      <th></th>\n",
       "      <th></th>\n",
       "      <th></th>\n",
       "    </tr>\n",
       "  </thead>\n",
       "  <tbody>\n",
       "    <tr>\n",
       "      <th>1000</th>\n",
       "      <td>0.2</td>\n",
       "      <td>0.2</td>\n",
       "      <td>0.216135</td>\n",
       "      <td>0.215559</td>\n",
       "      <td>0.016135</td>\n",
       "      <td>0.015559</td>\n",
       "    </tr>\n",
       "    <tr>\n",
       "      <th>2000</th>\n",
       "      <td>0.2</td>\n",
       "      <td>0.2</td>\n",
       "      <td>0.239689</td>\n",
       "      <td>0.253541</td>\n",
       "      <td>0.039689</td>\n",
       "      <td>0.053541</td>\n",
       "    </tr>\n",
       "    <tr>\n",
       "      <th>3000</th>\n",
       "      <td>0.2</td>\n",
       "      <td>0.2</td>\n",
       "      <td>0.067628</td>\n",
       "      <td>0.151977</td>\n",
       "      <td>-0.132372</td>\n",
       "      <td>-0.048023</td>\n",
       "    </tr>\n",
       "    <tr>\n",
       "      <th>4000</th>\n",
       "      <td>0.2</td>\n",
       "      <td>0.2</td>\n",
       "      <td>0.148458</td>\n",
       "      <td>0.226702</td>\n",
       "      <td>-0.051542</td>\n",
       "      <td>0.026702</td>\n",
       "    </tr>\n",
       "    <tr>\n",
       "      <th>5000</th>\n",
       "      <td>0.2</td>\n",
       "      <td>0.2</td>\n",
       "      <td>0.078935</td>\n",
       "      <td>0.118839</td>\n",
       "      <td>-0.121065</td>\n",
       "      <td>-0.081161</td>\n",
       "    </tr>\n",
       "  </tbody>\n",
       "</table>\n",
       "</div>"
      ],
      "text/plain": [
       "      alpha  beta  alpha_hat  beta_hat  alpha_error  beta_error\n",
       "NS                                                             \n",
       "1000    0.2   0.2   0.216135  0.215559     0.016135    0.015559\n",
       "2000    0.2   0.2   0.239689  0.253541     0.039689    0.053541\n",
       "3000    0.2   0.2   0.067628  0.151977    -0.132372   -0.048023\n",
       "4000    0.2   0.2   0.148458  0.226702    -0.051542    0.026702\n",
       "5000    0.2   0.2   0.078935  0.118839    -0.121065   -0.081161"
      ]
     },
     "execution_count": 7,
     "metadata": {},
     "output_type": "execute_result"
    }
   ],
   "source": [
    "pd.DataFrame(ccperesults).groupby('NS').mean()"
   ]
  },
  {
   "cell_type": "code",
   "execution_count": 57,
   "id": "d0202dc6",
   "metadata": {},
   "outputs": [
    {
     "data": {
      "image/png": "[encoded data removed]",
      "text/plain": [
       "<Figure size 432x288 with 1 Axes>"
      ]
     },
     "metadata": {},
     "output_type": "display_data"
    }
   ],
   "source": [
    "result_df = pd.read_csv('results/R7_K=1_N_RUNS=150_n_epochs=30_d0.csv')\n",
    "result_df = result_df[result_df['aggregate'] == False]\n",
    "\n",
    "sns.set(font_scale=1.8)\n",
    "sns.set_theme(style=\"whitegrid\", \n",
    "              palette=sns.color_palette(), \n",
    "              font_scale=1.4)\n",
    "\n",
    "g = sns.pointplot(\n",
    "    data=result_df,\n",
    "    x='NS',\n",
    "    y='error',\n",
    "    hue='parameter',\n",
    "    capsize=.4,\n",
    "    legend=True,\n",
    "    errorbar=\"se\"\n",
    ")\n",
    "g.set(xlabel='# of samples', ylabel='Mean absolute error')\n",
    "black_patch = mpatches.Patch(color=sns.color_palette()[1], label=r'$|\\beta_0 - \\hat{\\beta}_0|$')\n",
    "red_patch = mpatches.Patch(color=sns.color_palette()[0], label=r'$|\\alpha_0 - \\hat{\\alpha}_0|$')\n",
    "\n",
    "plt.legend(handles=[black_patch, red_patch])\n",
    "\n",
    "plt.savefig('figs/estimation_error.png', dpi=500, bbox_inches='tight')\n"
   ]
  },
  {
   "cell_type": "markdown",
   "id": "e0d1513a",
   "metadata": {},
   "source": [
    "## Experiment: Robustness to parameter estimation Error"
   ]
  },
  {
   "cell_type": "code",
   "execution_count": 5,
   "id": "2de2a7bd",
   "metadata": {
    "scrolled": true
   },
   "outputs": [
    {
     "name": "stdout",
     "output_type": "stream",
     "text": [
      "surroate params {'alpha': 0.0, 'beta': 0}\n"
     ]
    },
    {
     "name": "stderr",
     "output_type": "stream",
     "text": [
      "Target: Y0: 100%|███████████████████████████████████████████████████████████████████████████████| 5/5 [00:03<00:00,  1.39it/s]\n"
     ]
    },
    {
     "name": "stdout",
     "output_type": "stream",
     "text": [
      "surroate params {'alpha': 0.05, 'beta': 0}\n"
     ]
    },
    {
     "name": "stderr",
     "output_type": "stream",
     "text": [
      "Target: Y0: 100%|███████████████████████████████████████████████████████████████████████████████| 5/5 [00:03<00:00,  1.43it/s]\n"
     ]
    },
    {
     "name": "stdout",
     "output_type": "stream",
     "text": [
      "surroate params {'alpha': 0.1, 'beta': 0}\n"
     ]
    },
    {
     "name": "stderr",
     "output_type": "stream",
     "text": [
      "Target: Y0: 100%|███████████████████████████████████████████████████████████████████████████████| 5/5 [00:04<00:00,  1.24it/s]\n"
     ]
    },
    {
     "name": "stdout",
     "output_type": "stream",
     "text": [
      "surroate params {'alpha': 0.15, 'beta': 0}\n"
     ]
    },
    {
     "name": "stderr",
     "output_type": "stream",
     "text": [
      "Target: Y0: 100%|███████████████████████████████████████████████████████████████████████████████| 5/5 [00:05<00:00,  1.07s/it]\n"
     ]
    },
    {
     "name": "stdout",
     "output_type": "stream",
     "text": [
      "surroate params {'alpha': 0.2, 'beta': 0}\n"
     ]
    },
    {
     "name": "stderr",
     "output_type": "stream",
     "text": [
      "Target: Y0: 100%|███████████████████████████████████████████████████████████████████████████████| 5/5 [00:03<00:00,  1.30it/s]\n"
     ]
    },
    {
     "name": "stdout",
     "output_type": "stream",
     "text": [
      "surroate params {'alpha': 0.0, 'beta': 0}\n"
     ]
    },
    {
     "name": "stderr",
     "output_type": "stream",
     "text": [
      "Target: Y0: 100%|███████████████████████████████████████████████████████████████████████████████| 5/5 [00:05<00:00,  1.05s/it]\n"
     ]
    },
    {
     "name": "stdout",
     "output_type": "stream",
     "text": [
      "surroate params {'alpha': 0.05, 'beta': 0}\n"
     ]
    },
    {
     "name": "stderr",
     "output_type": "stream",
     "text": [
      "Target: Y0: 100%|███████████████████████████████████████████████████████████████████████████████| 5/5 [00:04<00:00,  1.24it/s]\n"
     ]
    },
    {
     "name": "stdout",
     "output_type": "stream",
     "text": [
      "surroate params {'alpha': 0.1, 'beta': 0}\n"
     ]
    },
    {
     "name": "stderr",
     "output_type": "stream",
     "text": [
      "Target: Y0: 100%|███████████████████████████████████████████████████████████████████████████████| 5/5 [00:04<00:00,  1.06it/s]\n"
     ]
    },
    {
     "name": "stdout",
     "output_type": "stream",
     "text": [
      "surroate params {'alpha': 0.15, 'beta': 0}\n"
     ]
    },
    {
     "name": "stderr",
     "output_type": "stream",
     "text": [
      "Target: Y0: 100%|███████████████████████████████████████████████████████████████████████████████| 5/5 [00:03<00:00,  1.29it/s]\n"
     ]
    },
    {
     "name": "stdout",
     "output_type": "stream",
     "text": [
      "surroate params {'alpha': 0.2, 'beta': 0}\n"
     ]
    },
    {
     "name": "stderr",
     "output_type": "stream",
     "text": [
      "Target: Y0: 100%|███████████████████████████████████████████████████████████████████████████████| 5/5 [00:03<00:00,  1.35it/s]\n"
     ]
    },
    {
     "name": "stdout",
     "output_type": "stream",
     "text": [
      "surroate params {'alpha': 0.25, 'beta': 0}\n"
     ]
    },
    {
     "name": "stderr",
     "output_type": "stream",
     "text": [
      "Target: Y0: 100%|███████████████████████████████████████████████████████████████████████████████| 5/5 [00:03<00:00,  1.34it/s]\n"
     ]
    },
    {
     "name": "stdout",
     "output_type": "stream",
     "text": [
      "surroate params {'alpha': 0.3, 'beta': 0}\n"
     ]
    },
    {
     "name": "stderr",
     "output_type": "stream",
     "text": [
      "Target: Y0: 100%|███████████████████████████████████████████████████████████████████████████████| 5/5 [00:03<00:00,  1.38it/s]\n"
     ]
    },
    {
     "name": "stdout",
     "output_type": "stream",
     "text": [
      "surroate params {'alpha': 0.35, 'beta': 0}\n"
     ]
    },
    {
     "name": "stderr",
     "output_type": "stream",
     "text": [
      "Target: Y0: 100%|███████████████████████████████████████████████████████████████████████████████| 5/5 [00:03<00:00,  1.40it/s]\n"
     ]
    },
    {
     "name": "stdout",
     "output_type": "stream",
     "text": [
      "surroate params {'alpha': 0.4, 'beta': 0}\n"
     ]
    },
    {
     "name": "stderr",
     "output_type": "stream",
     "text": [
      "Target: Y0: 100%|███████████████████████████████████████████████████████████████████████████████| 5/5 [00:03<00:00,  1.42it/s]\n"
     ]
    },
    {
     "name": "stdout",
     "output_type": "stream",
     "text": [
      "surroate params {'alpha': 0.2, 'beta': 0}\n"
     ]
    },
    {
     "name": "stderr",
     "output_type": "stream",
     "text": [
      "Target: Y0: 100%|███████████████████████████████████████████████████████████████████████████████| 5/5 [00:03<00:00,  1.44it/s]\n"
     ]
    },
    {
     "name": "stdout",
     "output_type": "stream",
     "text": [
      "surroate params {'alpha': 0.25, 'beta': 0}\n"
     ]
    },
    {
     "name": "stderr",
     "output_type": "stream",
     "text": [
      "Target: Y0: 100%|███████████████████████████████████████████████████████████████████████████████| 5/5 [00:03<00:00,  1.27it/s]\n"
     ]
    },
    {
     "name": "stdout",
     "output_type": "stream",
     "text": [
      "surroate params {'alpha': 0.3, 'beta': 0}\n"
     ]
    },
    {
     "name": "stderr",
     "output_type": "stream",
     "text": [
      "Target: Y0: 100%|███████████████████████████████████████████████████████████████████████████████| 5/5 [00:03<00:00,  1.34it/s]\n"
     ]
    },
    {
     "name": "stdout",
     "output_type": "stream",
     "text": [
      "surroate params {'alpha': 0.35, 'beta': 0}\n"
     ]
    },
    {
     "name": "stderr",
     "output_type": "stream",
     "text": [
      "Target: Y0: 100%|███████████████████████████████████████████████████████████████████████████████| 5/5 [00:03<00:00,  1.33it/s]\n"
     ]
    },
    {
     "name": "stdout",
     "output_type": "stream",
     "text": [
      "surroate params {'alpha': 0.4, 'beta': 0}\n"
     ]
    },
    {
     "name": "stderr",
     "output_type": "stream",
     "text": [
      "Target: Y0: 100%|███████████████████████████████████████████████████████████████████████████████| 5/5 [00:03<00:00,  1.35it/s]\n"
     ]
    },
    {
     "name": "stdout",
     "output_type": "stream",
     "text": [
      "surroate params {'alpha': 0.45, 'beta': 0}\n"
     ]
    },
    {
     "name": "stderr",
     "output_type": "stream",
     "text": [
      "Target: Y0: 100%|███████████████████████████████████████████████████████████████████████████████| 5/5 [00:03<00:00,  1.44it/s]\n"
     ]
    },
    {
     "name": "stdout",
     "output_type": "stream",
     "text": [
      "surroate params {'alpha': 0.5, 'beta': 0}\n"
     ]
    },
    {
     "name": "stderr",
     "output_type": "stream",
     "text": [
      "Target: Y0: 100%|███████████████████████████████████████████████████████████████████████████████| 5/5 [00:03<00:00,  1.48it/s]\n"
     ]
    }
   ],
   "source": [
    "params = np.array([0, .2, .4])\n",
    "errors = np.array([-.2, -.15, -.1, -.05, 0, .05, .1, .15, .2])\n",
    "configs = []\n",
    "\n",
    "for param in params: \n",
    "    for error in errors:\n",
    "        estimate = round(param+error, 2)\n",
    "        if estimate>=0 and estimate<=.5:\n",
    "            configs.append({\n",
    "                'param': param,\n",
    "                'estimate': estimate\n",
    "            })\n",
    "\n",
    "exp_results = run_estimation_error_exp(do=0, param_configs=configs, error_param='alpha',\n",
    "                                       NS=5000, N_RUNS=1, n_epochs=5, train_ratio=.7)"
   ]
  },
  {
   "cell_type": "markdown",
   "id": "48f8adf2",
   "metadata": {},
   "source": [
    "## Experiment 3 - Robustness plots "
   ]
  },
  {
   "cell_type": "code",
   "execution_count": 2,
   "id": "293d26e8",
   "metadata": {},
   "outputs": [],
   "source": [
    "alpha_robustness_results = pd.read_csv('results/alpha_stress_tests.csv')\n",
    "beta_robustness_results = pd.read_csv('results/beta_stress_tests.csv')\n",
    "# beta_robustness_results['parameter'] = 'beta'\n",
    "alpha_robustness_results['bias'] = (alpha_robustness_results['alpha_hat'] - alpha_robustness_results['alpha']).round(decimals=2)\n",
    "beta_robustness_results['bias'] = (beta_robustness_results['beta_hat'] - beta_robustness_results['beta']).round(decimals=2)\n",
    "robustness_results = pd.concat([alpha_robustness_results, beta_robustness_results])\n",
    "\n",
    "alpha_robustness_results = alpha_robustness_results[alpha_robustness_results['alpha'] > 0]\n",
    "beta_robustness_results = beta_robustness_results[beta_robustness_results['beta'] > 0]\n",
    "\n"
   ]
  },
  {
   "cell_type": "code",
   "execution_count": 35,
   "id": "d00388a7",
   "metadata": {},
   "outputs": [
    {
     "data": {
      "text/plain": [
       "<Figure size 720x360 with 0 Axes>"
      ]
     },
     "metadata": {},
     "output_type": "display_data"
    },
    {
     "data": {
      "image/png": "[encoded data removed]",
      "text/plain": [
       "<Figure size 972x432 with 3 Axes>"
      ]
     },
     "metadata": {},
     "output_type": "display_data"
    },
    {
     "data": {
      "image/png": "[encoded data removed]",
      "text/plain": [
       "<Figure size 972x432 with 3 Axes>"
      ]
     },
     "metadata": {},
     "output_type": "display_data"
    }
   ],
   "source": [
    "import matplotlib.ticker as tkr\n",
    "sns.set_theme(style=\"whitegrid\", \n",
    "              palette=sns.color_palette(), \n",
    "              font_scale=1.7)\n",
    "\n",
    "# Draw a pointplot to show pulse as a function of three categorical factors\n",
    "plt.figure(figsize=(10,5))\n",
    "g = sns.catplot(\n",
    "    data=alpha_robustness_results, x=\"bias\", y=\"ACC\",  col=\"alpha\",  capsize=.2, \n",
    "    kind=\"point\", height=6, aspect=.75, color=\"black\"\n",
    ")\n",
    "g.despine(left=True)\n",
    "g.set(ylim=(.5, 1), ylabel='Accuracy', xlabel=r'Bias in $\\hat{\\alpha}$ estimate')\n",
    "g.map(plt.axvline, x=4, color='grey', dashes=(2, 1), zorder=0,linewidth=2)\n",
    "\n",
    "for ax in g.axes.flat:\n",
    "    ax.tick_params(axis='x', labelsize=15)\n",
    "\n",
    "\n",
    "plt.savefig('alpha_errors.png', dpi=400)\n",
    "\n",
    "\n",
    "    \n",
    "# Draw a pointplot to show pulse as a function of three categorical factors\n",
    "g = sns.catplot(\n",
    "    data=beta_robustness_results, x=\"bias\", y=\"ACC\",  col=\"beta\",  capsize=.2, \n",
    "    kind=\"point\", height=6, aspect=.75, color=\"black\"\n",
    ")\n",
    "g.despine(left=True)\n",
    "g.set(ylim=(.5, 1), ylabel='Accuracy', xlabel=r'Bias in $\\hat{\\beta}$ estimate')\n",
    "g.map(plt.axvline, x=4, color='grey', dashes=(2, 1), zorder=0,linewidth=2)\n",
    "\n",
    "for ax in g.axes.flat:\n",
    "    ax.tick_params(axis='x', labelsize=15)\n",
    "\n",
    "    \n",
    "plt.savefig('beta_errors.png', dpi=400)\n"
   ]
  },
  {
   "cell_type": "markdown",
   "id": "706d256f",
   "metadata": {},
   "source": [
    "## Debugging baselines"
   ]
  },
  {
   "cell_type": "code",
   "execution_count": null,
   "id": "090c9011",
   "metadata": {},
   "outputs": [],
   "source": [
    "compare\n",
    "alpha:0, beta:0 [looks good]\n",
    "alpha:.1, beta.3 [looks good]\n",
    "alpha:.2, beta:.2\n",
    "alpha:.3, beta.1 [looks good]\n"
   ]
  },
  {
   "cell_type": "code",
   "execution_count": 7,
   "id": "0065d464",
   "metadata": {},
   "outputs": [
    {
     "name": "stdout",
     "output_type": "stream",
     "text": [
      "surroate params {'alpha': None, 'beta': None}\n"
     ]
    },
    {
     "name": "stderr",
     "output_type": "stream",
     "text": [
      "Target: Y0: 100%|█████████████████████████████████████████████████████████████████████████████| 20/20 [00:14<00:00,  1.35it/s]\n"
     ]
    },
    {
     "name": "stdout",
     "output_type": "stream",
     "text": [
      "surroate params {'alpha': 0.10648197887660037, 'beta': 0.30984503179487555}\n"
     ]
    },
    {
     "name": "stderr",
     "output_type": "stream",
     "text": [
      "Target: Y0: 100%|█████████████████████████████████████████████████████████████████████████████| 20/20 [00:14<00:00,  1.37it/s]\n"
     ]
    }
   ],
   "source": [
    "## Main Experiment: troubleshoot baselines\n",
    "    \n",
    "    \n",
    "Y0_PDF = 'piecewise_sinusoid'\n",
    "Y1_PDF = 'low_base_rate_sinusoid'\n",
    "PI_PDF = 'linear'\n",
    "do=0\n",
    "\n",
    "expdf, error_params = generate_syn_data(\n",
    "    NS=10000,\n",
    "    K=1,\n",
    "    y0_pdf=Y0_PDF,\n",
    "    y1_pdf=Y1_PDF,\n",
    "    pi_pdf=PI_PDF,\n",
    "    alpha_min=0.1,\n",
    "    alpha_max=0.11,\n",
    "    beta_min=0.3,\n",
    "    beta_max=0.31,\n",
    "    shuffle=True\n",
    ")\n",
    "\n",
    "baseline1 = {\n",
    "    'model': 'Conditional outcome',\n",
    "    'target': 'Y0'\n",
    "}\n",
    "\n",
    "baseline2 = {\n",
    "    'model': 'Conditional outcome (SL)',\n",
    "    'target': 'Y0'\n",
    "}\n",
    "\n",
    "params1 = {\n",
    "    'alpha': None,\n",
    "    'beta': None\n",
    "}\n",
    "\n",
    "params2 = {\n",
    "    'alpha': error_params[f'alpha_{do}'][0],\n",
    "    'beta': error_params[f'beta_{do}'][0]\n",
    "}\n",
    "\n",
    "co = run_baseline(expdf, baseline1, do, params1, n_epochs=20, train_ratio=.7)\n",
    "cosl = run_baseline(expdf, baseline2, do, params2, n_epochs=20, train_ratio=.7)\n",
    "\n"
   ]
  },
  {
   "cell_type": "code",
   "execution_count": 8,
   "id": "ab293f90",
   "metadata": {},
   "outputs": [
    {
     "name": "stdout",
     "output_type": "stream",
     "text": [
      "aggreement (%): 0.65\n",
      "ACC - S0=0.59, SO+SL=0.77\n",
      "AU-ROC - S0=0.81, SO+SL=0.83\n"
     ]
    }
   ],
   "source": [
    "agreement = [(co['py_hat'] > .5) == (cosl['py_hat'] > .5)][0].mean()\n",
    "print(f'aggreement (%): {agreement.mean():.2f}')\n",
    "print(f\"ACC - S0={co['ACC']:.2f}, SO+SL={cosl['ACC']:.2f}\")\n",
    "print(f\"AU-ROC - S0={co['AU-ROC']:.2f}, SO+SL={cosl['AU-ROC']:.2f}\")"
   ]
  },
  {
   "cell_type": "code",
   "execution_count": 10,
   "id": "70934f0d",
   "metadata": {},
   "outputs": [
    {
     "data": {
      "image/png": "[encoded data removed]",
      "text/plain": [
       "<Figure size 504x360 with 1 Axes>"
      ]
     },
     "metadata": {},
     "output_type": "display_data"
    }
   ],
   "source": [
    "Y0_PDF = 'piecewise_sinusoid'\n",
    "Y1_PDF = 'low_base_rate_sinusoid'\n",
    "PI_PDF = 'linear'\n",
    "do=0\n",
    "\n",
    "expdf, _ = generate_syn_data(\n",
    "    NS=10000,\n",
    "    K=1,\n",
    "    y0_pdf=Y0_PDF,\n",
    "    y1_pdf=Y1_PDF,\n",
    "    pi_pdf=PI_PDF,\n",
    ")\n",
    "debug_info = {\n",
    "    'val_x': cosl['x'].squeeze(),\n",
    "    'val_py': cosl['py_hat'].squeeze()\n",
    "}\n",
    "# debug_info = {\n",
    "#     'val_x': x,\n",
    "#     'val_py': py_hat\n",
    "# }\n",
    "sns.set(font_scale=1.2)\n",
    "viz_ccpe_estimates(expdf, debug_info, error_params[f'alpha_{do}'][0],\n",
    "                   error_params[f'beta_{do}'][0], do, Y0_PDF, Y1_PDF, PI_PDF)"
   ]
  },
  {
   "cell_type": "code",
   "execution_count": 28,
   "id": "ceb6b2fe",
   "metadata": {},
   "outputs": [
    {
     "ename": "TypeError",
     "evalue": "generate_syn_data() got an unexpected keyword argument 'error_min'",
     "output_type": "error",
     "traceback": [
      "\u001b[0;31m---------------------------------------------------------------------------\u001b[0m",
      "\u001b[0;31mTypeError\u001b[0m                                 Traceback (most recent call last)",
      "Input \u001b[0;32mIn [28]\u001b[0m, in \u001b[0;36m<cell line: 1>\u001b[0;34m()\u001b[0m\n\u001b[0;32m----> 1\u001b[0m expdf, error_params \u001b[38;5;241m=\u001b[39m \u001b[43mgenerate_syn_data\u001b[49m\u001b[43m(\u001b[49m\n\u001b[1;32m      2\u001b[0m \u001b[43m    \u001b[49m\u001b[43mNS\u001b[49m\u001b[38;5;241;43m=\u001b[39;49m\u001b[38;5;241;43m10000\u001b[39;49m\u001b[43m,\u001b[49m\n\u001b[1;32m      3\u001b[0m \u001b[43m    \u001b[49m\u001b[43mK\u001b[49m\u001b[38;5;241;43m=\u001b[39;49m\u001b[38;5;241;43m1\u001b[39;49m\u001b[43m,\u001b[49m\n\u001b[1;32m      4\u001b[0m \u001b[43m    \u001b[49m\u001b[43my0_pdf\u001b[49m\u001b[38;5;241;43m=\u001b[39;49m\u001b[43mY0_PDF\u001b[49m\u001b[43m,\u001b[49m\n\u001b[1;32m      5\u001b[0m \u001b[43m    \u001b[49m\u001b[43my1_pdf\u001b[49m\u001b[38;5;241;43m=\u001b[39;49m\u001b[43mY1_PDF\u001b[49m\u001b[43m,\u001b[49m\n\u001b[1;32m      6\u001b[0m \u001b[43m    \u001b[49m\u001b[43mpi_pdf\u001b[49m\u001b[38;5;241;43m=\u001b[39;49m\u001b[43mPI_PDF\u001b[49m\u001b[43m,\u001b[49m\n\u001b[1;32m      7\u001b[0m \u001b[43m    \u001b[49m\u001b[43merror_min\u001b[49m\u001b[38;5;241;43m=\u001b[39;49m\u001b[38;5;241;43m0.2\u001b[39;49m\u001b[43m,\u001b[49m\n\u001b[1;32m      8\u001b[0m \u001b[43m    \u001b[49m\u001b[43merror_max\u001b[49m\u001b[38;5;241;43m=\u001b[39;49m\u001b[38;5;241;43m0.2\u001b[39;49m\u001b[43m,\u001b[49m\u001b[43m \u001b[49m\n\u001b[1;32m      9\u001b[0m \u001b[43m    \u001b[49m\u001b[43mshuffle\u001b[49m\u001b[38;5;241;43m=\u001b[39;49m\u001b[38;5;28;43;01mTrue\u001b[39;49;00m\n\u001b[1;32m     10\u001b[0m \u001b[43m)\u001b[49m\n\u001b[1;32m     12\u001b[0m split_ix \u001b[38;5;241m=\u001b[39m \u001b[38;5;28mint\u001b[39m(expdf\u001b[38;5;241m.\u001b[39mshape[\u001b[38;5;241m0\u001b[39m]\u001b[38;5;241m*\u001b[39m\u001b[38;5;241m.7\u001b[39m)\n\u001b[1;32m     13\u001b[0m train_df, val_df \u001b[38;5;241m=\u001b[39m expdf\u001b[38;5;241m.\u001b[39miloc[:split_ix,:], expdf\u001b[38;5;241m.\u001b[39miloc[split_ix:,:]\n",
      "\u001b[0;31mTypeError\u001b[0m: generate_syn_data() got an unexpected keyword argument 'error_min'"
     ]
    }
   ],
   "source": [
    "expdf, error_params = generate_syn_data(\n",
    "    NS=10000,\n",
    "    K=1,\n",
    "    y0_pdf=Y0_PDF,\n",
    "    y1_pdf=Y1_PDF,\n",
    "    pi_pdf=PI_PDF,\n",
    "    error_min=0.2,\n",
    "    error_max=0.2, \n",
    "    shuffle=True\n",
    ")\n",
    "\n",
    "split_ix = int(expdf.shape[0]*.7)\n",
    "train_df, val_df = expdf.iloc[:split_ix,:], expdf.iloc[split_ix:,:]\n",
    "\n",
    "\n",
    "# Train model\n",
    "train_loader, val_loader = get_loaders(train_df, val_df, do=0, target='Y0', conditional=True)\n",
    "model = MLP()\n",
    "\n",
    "surrogate_params = {\n",
    "    'alpha': 0.2,\n",
    "    'beta': 0.2\n",
    "}\n",
    "\n",
    "# surrogate_params = {\n",
    "#     'alpha': None,\n",
    "#     'beta': None\n",
    "# }\n",
    "\n",
    "losses = train(model, target='Y0', train_loader=train_loader, error_params=surrogate_params, n_epochs=40)\n",
    "\n",
    "# Evaluate on validation data\n",
    "x, y, py_hat = evaluate(model, val_loader)\n",
    "y_hat = np.zeros_like(y)\n",
    "y_hat[py_hat > .5] = 1"
   ]
  }
 ],
 "metadata": {
  "kernelspec": {
   "display_name": "10701-Project",
   "language": "python",
   "name": "10701-project"
  },
  "language_info": {
   "codemirror_mode": {
    "name": "ipython",
    "version": 3
   },
   "file_extension": ".py",
   "mimetype": "text/x-python",
   "name": "python",
   "nbconvert_exporter": "python",
   "pygments_lexer": "ipython3",
   "version": "3.9.8"
  }
 },
 "nbformat": 4,
 "nbformat_minor": 5
}
