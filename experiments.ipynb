{
 "cells": [
  {
   "cell_type": "code",
   "execution_count": 1,
   "id": "4d466369",
   "metadata": {},
   "outputs": [
    {
     "name": "stderr",
     "output_type": "stream",
     "text": [
      "/Users/lguerdan/.virtualenvs/10701-Project/lib/python3.9/site-packages/tqdm/auto.py:22: TqdmWarning: IProgress not found. Please update jupyter and ipywidgets. See https://ipywidgets.readthedocs.io/en/stable/user_install.html\n",
      "  from .autonotebook import tqdm as notebook_tqdm\n"
     ]
    }
   ],
   "source": [
    "import seaborn as sns\n",
    "import pandas as pd\n",
    "from sklearn.metrics import roc_auc_score, accuracy_score, precision_score\n",
    "\n",
    "import matplotlib.pyplot as plt\n",
    "import matplotlib.patches as mpatches\n",
    "sns.set_style(\"whitegrid\")\n",
    "\n",
    "from synexp import *\n",
    "from viz import *\n"
   ]
  },
  {
   "cell_type": "code",
   "execution_count": 5,
   "id": "406e9ca9",
   "metadata": {},
   "outputs": [
    {
     "name": "stdout",
     "output_type": "stream",
     "text": [
      "{'alpha_0': array([0.1]), 'alpha_1': array([0.]), 'beta_0': array([0.1]), 'beta_1': array([0.])}\n"
     ]
    }
   ],
   "source": [
    "Y0_PDF = 'shalt_6cov_baseline'\n",
    "Y1_PDF = 'shalt_6cov_intervention'\n",
    "PI_PDF = '6cov_linear'\n",
    "do=0\n",
    "n_epochs=20\n",
    "\n",
    "X, Y, error_params = generate_syn_data(\n",
    "    NS=10000,\n",
    "    K=1,\n",
    "    y0_pdf=Y0_PDF,\n",
    "    y1_pdf=Y1_PDF,\n",
    "    pi_pdf=PI_PDF,\n",
    "    alpha_0=0.1,\n",
    "    alpha_1=0,\n",
    "    beta_0=0.1,\n",
    "    beta_1=0,\n",
    "    shuffle=True\n",
    ")\n",
    "\n",
    "baseline = {\n",
    "    'model': 'OBS',\n",
    "    'target': 'Y0'\n",
    "}\n",
    "\n",
    "loss_config = {\n",
    "    'alpha': .1,\n",
    "    'beta': .3,\n",
    "    'prop_func': pi,\n",
    "    'pi_pdf': PI_PDF,\n",
    "    'do': do,\n",
    "    'pd': Y['D'].mean(),\n",
    "    'reweight': False\n",
    "}\n",
    "\n",
    "results = run_baseline(X, Y, baseline, do,\n",
    "             loss_config=loss_config, n_epochs=n_epochs, train_ratio=.7)\n"
   ]
  },
  {
   "cell_type": "code",
   "execution_count": 2,
   "id": "37c91a25",
   "metadata": {},
   "outputs": [
    {
     "name": "stdout",
     "output_type": "stream",
     "text": [
      "0.4 0.2\n",
      "=============== RUN: 0 ===============\n",
      "{'alpha_0': array([0.4]), 'alpha_1': array([0.4]), 'beta_0': array([0.2]), 'beta_1': array([0.2])}\n",
      "{'alpha_0': array([0.4]), 'alpha_1': array([0.4]), 'beta_0': array([0.2]), 'beta_1': array([0.2])}\n"
     ]
    },
    {
     "name": "stderr",
     "output_type": "stream",
     "text": [
      "Target: Y0: 100%|███████████████████████████████| 10/10 [00:06<00:00,  1.55it/s]\n",
      "Target: Y0: 100%|███████████████████████████████| 10/10 [00:06<00:00,  1.47it/s]\n",
      "Target: Y0: 100%|███████████████████████████████| 10/10 [00:06<00:00,  1.49it/s]\n",
      "Target: Y0: 100%|███████████████████████████████| 10/10 [00:06<00:00,  1.52it/s]\n",
      "Target: Y0: 100%|███████████████████████████████| 10/10 [00:05<00:00,  1.67it/s]\n",
      "Target: Y0_0: 100%|█████████████████████████████| 10/10 [00:05<00:00,  1.68it/s]\n",
      "Target: YS_0: 100%|█████████████████████████████| 10/10 [00:06<00:00,  1.64it/s]\n"
     ]
    },
    {
     "name": "stdout",
     "output_type": "stream",
     "text": [
      "=============== RUN: 1 ===============\n",
      "{'alpha_0': array([0.4]), 'alpha_1': array([0.4]), 'beta_0': array([0.2]), 'beta_1': array([0.2])}\n",
      "{'alpha_0': array([0.4]), 'alpha_1': array([0.4]), 'beta_0': array([0.2]), 'beta_1': array([0.2])}\n"
     ]
    },
    {
     "name": "stderr",
     "output_type": "stream",
     "text": [
      "Target: Y0: 100%|███████████████████████████████| 10/10 [00:06<00:00,  1.60it/s]\n",
      "Target: Y0: 100%|███████████████████████████████| 10/10 [00:05<00:00,  1.67it/s]\n",
      "Target: Y0: 100%|███████████████████████████████| 10/10 [00:06<00:00,  1.56it/s]\n",
      "Target: Y0: 100%|███████████████████████████████| 10/10 [00:06<00:00,  1.52it/s]\n",
      "Target: Y0: 100%|███████████████████████████████| 10/10 [00:06<00:00,  1.50it/s]\n",
      "Target: Y0_0: 100%|█████████████████████████████| 10/10 [00:06<00:00,  1.47it/s]\n",
      "Target: YS_0: 100%|█████████████████████████████| 10/10 [00:06<00:00,  1.59it/s]\n"
     ]
    },
    {
     "name": "stdout",
     "output_type": "stream",
     "text": [
      "=============== RUN: 2 ===============\n",
      "{'alpha_0': array([0.4]), 'alpha_1': array([0.4]), 'beta_0': array([0.2]), 'beta_1': array([0.2])}\n",
      "{'alpha_0': array([0.4]), 'alpha_1': array([0.4]), 'beta_0': array([0.2]), 'beta_1': array([0.2])}\n"
     ]
    },
    {
     "name": "stderr",
     "output_type": "stream",
     "text": [
      "Target: Y0: 100%|███████████████████████████████| 10/10 [00:06<00:00,  1.57it/s]\n",
      "Target: Y0: 100%|███████████████████████████████| 10/10 [00:06<00:00,  1.55it/s]\n",
      "Target: Y0: 100%|███████████████████████████████| 10/10 [00:06<00:00,  1.59it/s]\n",
      "Target: Y0: 100%|███████████████████████████████| 10/10 [00:06<00:00,  1.64it/s]\n",
      "Target: Y0: 100%|███████████████████████████████| 10/10 [00:06<00:00,  1.61it/s]\n",
      "Target: Y0_0: 100%|█████████████████████████████| 10/10 [00:06<00:00,  1.61it/s]\n",
      "Target: YS_0: 100%|█████████████████████████████| 10/10 [00:06<00:00,  1.57it/s]\n"
     ]
    },
    {
     "name": "stdout",
     "output_type": "stream",
     "text": [
      "=============== RUN: 3 ===============\n",
      "{'alpha_0': array([0.4]), 'alpha_1': array([0.4]), 'beta_0': array([0.2]), 'beta_1': array([0.2])}\n",
      "{'alpha_0': array([0.4]), 'alpha_1': array([0.4]), 'beta_0': array([0.2]), 'beta_1': array([0.2])}\n"
     ]
    },
    {
     "name": "stderr",
     "output_type": "stream",
     "text": [
      "Target: Y0: 100%|███████████████████████████████| 10/10 [00:06<00:00,  1.58it/s]\n",
      "Target: Y0: 100%|███████████████████████████████| 10/10 [00:06<00:00,  1.54it/s]\n",
      "Target: Y0: 100%|███████████████████████████████| 10/10 [00:06<00:00,  1.61it/s]\n",
      "Target: Y0: 100%|███████████████████████████████| 10/10 [00:06<00:00,  1.61it/s]\n",
      "Target: Y0: 100%|███████████████████████████████| 10/10 [00:06<00:00,  1.63it/s]\n",
      "Target: Y0_0: 100%|█████████████████████████████| 10/10 [00:06<00:00,  1.62it/s]\n",
      "Target: YS_0: 100%|█████████████████████████████| 10/10 [00:06<00:00,  1.63it/s]\n"
     ]
    },
    {
     "name": "stdout",
     "output_type": "stream",
     "text": [
      "=============== RUN: 4 ===============\n",
      "{'alpha_0': array([0.4]), 'alpha_1': array([0.4]), 'beta_0': array([0.2]), 'beta_1': array([0.2])}\n",
      "{'alpha_0': array([0.4]), 'alpha_1': array([0.4]), 'beta_0': array([0.2]), 'beta_1': array([0.2])}\n"
     ]
    },
    {
     "name": "stderr",
     "output_type": "stream",
     "text": [
      "Target: Y0: 100%|███████████████████████████████| 10/10 [00:06<00:00,  1.60it/s]\n",
      "Target: Y0: 100%|███████████████████████████████| 10/10 [00:06<00:00,  1.60it/s]\n",
      "Target: Y0: 100%|███████████████████████████████| 10/10 [00:06<00:00,  1.57it/s]\n",
      "Target: Y0: 100%|███████████████████████████████| 10/10 [00:06<00:00,  1.60it/s]\n",
      "Target: Y0: 100%|███████████████████████████████| 10/10 [00:06<00:00,  1.48it/s]\n",
      "Target: Y0_0: 100%|█████████████████████████████| 10/10 [00:06<00:00,  1.59it/s]\n",
      "Target: YS_0: 100%|█████████████████████████████| 10/10 [00:06<00:00,  1.57it/s]\n"
     ]
    }
   ],
   "source": [
    "do=0\n",
    "baselines = [{\n",
    "    'model': 'OBS',\n",
    "    'target': 'Y0'\n",
    "},{\n",
    "    'model': 'COM',\n",
    "    'target': 'Y0'\n",
    "},{\n",
    "    'model': 'COM-SL',\n",
    "    'target': 'Y0'\n",
    "},{\n",
    "    'model': 'RW',\n",
    "    'target': 'Y0'\n",
    "},{\n",
    "    'model': 'RW-SL',\n",
    "    'target': 'Y0'\n",
    "},{\n",
    "    'model': 'Proxy Oracle',\n",
    "    'target': f'Y0_{do}'\n",
    "},{\n",
    "    'model': 'Target Oracle',\n",
    "    'target': f'YS_{do}'\n",
    "}]\n",
    "\n",
    "exp_results = run_baseline_comparison_exp(baselines, do=0, N_RUNS=5, NS=1000,\n",
    "                            pi_pdf=PI_PDF, K=1, n_epochs=10, alpha=0.4, beta=0.2)\n",
    "    \n",
    "    \n",
    "    \n",
    "    "
   ]
  },
  {
   "cell_type": "code",
   "execution_count": 3,
   "id": "5367a836",
   "metadata": {},
   "outputs": [
    {
     "data": {
      "text/html": [
       "<div>\n",
       "<style scoped>\n",
       "    .dataframe tbody tr th:only-of-type {\n",
       "        vertical-align: middle;\n",
       "    }\n",
       "\n",
       "    .dataframe tbody tr th {\n",
       "        vertical-align: top;\n",
       "    }\n",
       "\n",
       "    .dataframe thead th {\n",
       "        text-align: right;\n",
       "    }\n",
       "</style>\n",
       "<table border=\"1\" class=\"dataframe\">\n",
       "  <thead>\n",
       "    <tr style=\"text-align: right;\">\n",
       "      <th></th>\n",
       "      <th>AU-ROC</th>\n",
       "      <th>ACC</th>\n",
       "      <th>alpha</th>\n",
       "      <th>beta</th>\n",
       "    </tr>\n",
       "    <tr>\n",
       "      <th>model</th>\n",
       "      <th></th>\n",
       "      <th></th>\n",
       "      <th></th>\n",
       "      <th></th>\n",
       "    </tr>\n",
       "  </thead>\n",
       "  <tbody>\n",
       "    <tr>\n",
       "      <th>COM</th>\n",
       "      <td>0.547350</td>\n",
       "      <td>0.727911</td>\n",
       "      <td>0.4</td>\n",
       "      <td>0.2</td>\n",
       "    </tr>\n",
       "    <tr>\n",
       "      <th>COM-SL</th>\n",
       "      <td>0.405627</td>\n",
       "      <td>0.727911</td>\n",
       "      <td>0.4</td>\n",
       "      <td>0.2</td>\n",
       "    </tr>\n",
       "    <tr>\n",
       "      <th>OBS</th>\n",
       "      <td>0.590119</td>\n",
       "      <td>0.707333</td>\n",
       "      <td>0.4</td>\n",
       "      <td>0.2</td>\n",
       "    </tr>\n",
       "    <tr>\n",
       "      <th>Proxy Oracle</th>\n",
       "      <td>0.504340</td>\n",
       "      <td>0.852518</td>\n",
       "      <td>0.4</td>\n",
       "      <td>0.2</td>\n",
       "    </tr>\n",
       "    <tr>\n",
       "      <th>RW</th>\n",
       "      <td>0.454342</td>\n",
       "      <td>0.695376</td>\n",
       "      <td>0.4</td>\n",
       "      <td>0.2</td>\n",
       "    </tr>\n",
       "    <tr>\n",
       "      <th>RW-SL</th>\n",
       "      <td>0.403174</td>\n",
       "      <td>0.852518</td>\n",
       "      <td>0.4</td>\n",
       "      <td>0.2</td>\n",
       "    </tr>\n",
       "    <tr>\n",
       "      <th>Target Oracle</th>\n",
       "      <td>0.498080</td>\n",
       "      <td>0.852518</td>\n",
       "      <td>0.4</td>\n",
       "      <td>0.2</td>\n",
       "    </tr>\n",
       "  </tbody>\n",
       "</table>\n",
       "</div>"
      ],
      "text/plain": [
       "                 AU-ROC       ACC  alpha  beta\n",
       "model                                         \n",
       "COM            0.547350  0.727911    0.4   0.2\n",
       "COM-SL         0.405627  0.727911    0.4   0.2\n",
       "OBS            0.590119  0.707333    0.4   0.2\n",
       "Proxy Oracle   0.504340  0.852518    0.4   0.2\n",
       "RW             0.454342  0.695376    0.4   0.2\n",
       "RW-SL          0.403174  0.852518    0.4   0.2\n",
       "Target Oracle  0.498080  0.852518    0.4   0.2"
      ]
     },
     "execution_count": 3,
     "metadata": {},
     "output_type": "execute_result"
    }
   ],
   "source": [
    "pd.DataFrame(exp_results).groupby('model').mean()"
   ]
  },
  {
   "cell_type": "code",
   "execution_count": 10,
   "id": "b6b172f0",
   "metadata": {},
   "outputs": [
    {
     "data": {
      "text/plain": [
       "{'AU-ROC': 0.8263799022250979,\n",
       " 'ACC': 0.8651282051282051,\n",
       " 'x': array([[[0.09485058, 0.30156165, 0.6659855 , 0.3978919 , 0.44157925,\n",
       "          0.34407562]],\n",
       " \n",
       "        [[0.03894666, 0.9376529 , 0.35651755, 0.8189782 , 0.21749857,\n",
       "          0.77030087]],\n",
       " \n",
       "        [[0.39482477, 0.38500056, 0.25073737, 0.22082864, 0.05787859,\n",
       "          0.39885858]],\n",
       " \n",
       "        ...,\n",
       " \n",
       "        [[0.6449408 , 0.34152764, 0.54589635, 0.32310325, 0.2630386 ,\n",
       "          0.8583524 ]],\n",
       " \n",
       "        [[0.60977226, 0.8334752 , 0.42324862, 0.11751138, 0.1213062 ,\n",
       "          0.45868623]],\n",
       " \n",
       "        [[0.0320463 , 0.7990448 , 0.44055787, 0.36182722, 0.6118336 ,\n",
       "          0.9029999 ]]], dtype=float32),\n",
       " 'y': array([[1.],\n",
       "        [0.],\n",
       "        [0.],\n",
       "        ...,\n",
       "        [0.],\n",
       "        [0.],\n",
       "        [0.]], dtype=float32),\n",
       " 'py_hat': array([1.0927282e-28, 2.4270885e-22, 1.0160177e-25, ..., 5.2520633e-02,\n",
       "        1.7821672e-17, 7.8530736e-02], dtype=float32)}"
      ]
     },
     "execution_count": 10,
     "metadata": {},
     "output_type": "execute_result"
    }
   ],
   "source": [
    "results"
   ]
  },
  {
   "cell_type": "code",
   "execution_count": 334,
   "id": "fdce0cad",
   "metadata": {},
   "outputs": [
    {
     "data": {
      "text/plain": [
       "(<torch.utils.data.dataloader.DataLoader at 0x160551ee0>,\n",
       " <torch.utils.data.dataloader.DataLoader at 0x1606a87f0>)"
      ]
     },
     "execution_count": 334,
     "metadata": {},
     "output_type": "execute_result"
    }
   ],
   "source": [
    "target = 'Y0'\n",
    "get_loaders(X, Y, target, do, conditional=True, split_frac=.7)\n",
    "\n",
    "# X, Y, error_params"
   ]
  },
  {
   "cell_type": "code",
   "execution_count": 46,
   "id": "fae1f3bd",
   "metadata": {},
   "outputs": [],
   "source": [
    "x = np.random.uniform(low=0, high=1, size=(NS, 6))\n",
    "\n",
    "\n",
    "\n",
    "# eta_star_0 = eta(x, environment=y0_pdf)"
   ]
  },
  {
   "cell_type": "code",
   "execution_count": 272,
   "id": "7adc1337",
   "metadata": {},
   "outputs": [],
   "source": [
    "\n",
    "    "
   ]
  },
  {
   "cell_type": "code",
   "execution_count": 233,
   "id": "99aeff5b",
   "metadata": {},
   "outputs": [
    {
     "data": {
      "text/plain": [
       "0.9958214579321465"
      ]
     },
     "execution_count": 233,
     "metadata": {},
     "output_type": "execute_result"
    }
   ],
   "source": [
    "x = np.random.uniform(low=0, high=1, size=(1000000, 6))\n",
    "\n",
    "eta(x, environment='shalt_6cov_baseline').max()"
   ]
  },
  {
   "cell_type": "markdown",
   "id": "d8a6e92a",
   "metadata": {},
   "source": [
    "## Debug baseline implementation"
   ]
  },
  {
   "cell_type": "code",
   "execution_count": 2,
   "id": "e4429a24",
   "metadata": {},
   "outputs": [
    {
     "name": "stderr",
     "output_type": "stream",
     "text": [
      "Model: MLP(\n",
      "  (layers): Sequential(\n",
      "Model: MLP(near(in_features=1, out_features=\n",
      "  (layers): Sequential(\n",
      "Model: MLP(near(in_features=1, out_features=\n",
      "  (layers): Sequential(\n",
      "Model: MLP(near(in_features=1, out_features=\n",
      "  (layers): Sequential(\n",
      "Model: MLP(near(in_features=1, out_features=\n",
      "  (layers): Sequential(\n",
      "Model: MLP(near(in_features=1, out_features=\n",
      "  (layers): Sequential(\n",
      "Model: MLP(near(in_features=1, out_features=\n",
      "  (layers): Sequential(\n",
      "Model: MLP(near(in_features=1, out_features=\n",
      "  (layers): Sequential(\n",
      "Model: MLP(near(in_features=1, out_features=\n",
      "  (layers): Sequential(\n",
      "Model: MLP(near(in_features=1, out_features=\n",
      "  (layers): Sequential(\n",
      "Model: MLP(near(in_features=1, out_features=\n",
      "  (layers): Sequential(\n",
      "Model: MLP(near(in_features=1, out_features=\n",
      "  (layers): Sequential(\n",
      "Model: MLP(near(in_features=1, out_features=\n",
      "  (layers): Sequential(\n",
      "Model: MLP(near(in_features=1, out_features=\n",
      "  (layers): Sequential(\n",
      "Model: MLP(near(in_features=1, out_features=\n",
      "  (layers): Sequential(\n",
      "Model: MLP(near(in_features=1, out_features=\n",
      "  (layers): Sequential(\n",
      "Model: MLP(near(in_features=1, out_features=\n",
      "  (layers): Sequential(\n",
      "Model: MLP(near(in_features=1, out_features=\n",
      "  (layers): Sequential(\n",
      "Model: MLP(near(in_features=1, out_features=\n",
      "  (layers): Sequential(\n",
      "Model: MLP(near(in_features=1, out_features=\n",
      "  (layers): Sequential(\n",
      "Model: MLP(near(in_features=1, out_features=\n",
      "  (layers): Sequential(\n",
      "Model: MLP(near(in_features=1, out_features=\n",
      "  (layers): Sequential(\n",
      "Model: MLP(near(in_features=1, out_features=\n",
      "  (layers): Sequential(\n",
      "Model: MLP(near(in_features=1, out_features=\n",
      "  (layers): Sequential(\n",
      "Model: MLP(near(in_features=1, out_features=\n",
      "  (layers): Sequential(\n",
      "Model: MLP(near(in_features=1, out_features=\n",
      "  (layers): Sequential(\n",
      "Model: MLP(near(in_features=1, out_features=\n",
      "  (layers): Sequential(\n",
      "Model: MLP(near(in_features=1, out_features=\n",
      "  (layers): Sequential(\n",
      "Model: MLP(near(in_features=1, out_features=\n",
      "  (layers): Sequential(\n",
      "Model: MLP(near(in_features=1, out_features=\n",
      "  (layers): Sequential(\n",
      "Model: MLP(near(in_features=1, out_features=\n",
      "  (layers): Sequential(\n",
      "Model: MLP(near(in_features=1, out_features=\n",
      "  (layers): Sequential(\n",
      "Model: MLP(near(in_features=1, out_features=\n",
      "  (layers): Sequential(\n",
      "Model: MLP(near(in_features=1, out_features=\n",
      "  (layers): Sequential(\n",
      "Model: MLP(near(in_features=1, out_features=\n",
      "  (layers): Sequential(\n",
      "Model: MLP(near(in_features=1, out_features=\n",
      "  (layers): Sequential(\n",
      "Model: MLP(near(in_features=1, out_features=\n",
      "  (layers): Sequential(\n",
      "Model: MLP(near(in_features=1, out_features=\n",
      "  (layers): Sequential(\n",
      "Model: MLP(near(in_features=1, out_features=\n",
      "  (layers): Sequential(\n",
      "Model: MLP(near(in_features=1, out_features=\n",
      "  (layers): Sequential(\n",
      "Model: MLP(near(in_features=1, out_features=\n",
      "  (layers): Sequential(\n",
      "Model: MLP(near(in_features=1, out_features=\n",
      "  (layers): Sequential(\n",
      "    (0): Linear(in_features=1, out_features=\n"
     ]
    },
    {
     "data": {
      "image/png": "[encoded data removed]",
      "text/plain": [
       "<Figure size 504x360 with 1 Axes>"
      ]
     },
     "metadata": {},
     "output_type": "display_data"
    }
   ],
   "source": [
    "Y0_PDF = 'piecewise_sinusoid'\n",
    "Y1_PDF = 'low_base_rate_sinusoid'\n",
    "PI_PDF = 'linear'\n",
    "do=0\n",
    "\n",
    "do=0\n",
    "n_epochs=40\n",
    "\n",
    "expdf, error_params = generate_syn_data(\n",
    "    NS=10000,\n",
    "    K=1,\n",
    "    y0_pdf=Y0_PDF,\n",
    "    y1_pdf=Y1_PDF,\n",
    "    pi_pdf=PI_PDF,\n",
    "    alpha_0=.1,\n",
    "    alpha_1=0,\n",
    "    beta_0=.3,\n",
    "    beta_1=0,\n",
    "    shuffle=False\n",
    ")\n",
    "\n",
    "baseline = {\n",
    "    'model': 'COM-SL',\n",
    "    'target': 'Y0'\n",
    "}\n",
    "\n",
    "loss_config = {\n",
    "    'alpha': .1,\n",
    "    'beta': .3,\n",
    "    'prop_func': pi,\n",
    "    'pi_pdf': PI_PDF,\n",
    "    'do': do,\n",
    "    'pd': expdf['D'].mean(),\n",
    "    'reweight': False\n",
    "}\n",
    "\n",
    "results = run_baseline(expdf, baseline, do,\n",
    "             loss_config=loss_config, n_epochs=n_epochs, train_ratio=.7)\n",
    "\n",
    "expdf, _ = generate_syn_data(\n",
    "    NS=5000,\n",
    "    K=1,\n",
    "    y0_pdf=Y0_PDF,\n",
    "    y1_pdf=Y1_PDF,\n",
    "    pi_pdf=PI_PDF,\n",
    "    shuffle=False\n",
    ")\n",
    "debug_info = {\n",
    "    'val_x': results['x'].squeeze(),\n",
    "    'val_py': results['py_hat'].squeeze()\n",
    "}\n",
    "\n",
    "sns.set(font_scale=1.2)\n",
    "viz_ccpe_estimates(expdf, debug_info, error_params[f'alpha_{do}'][0],\n",
    "                   error_params[f'beta_{do}'][0], do, Y0_PDF, Y1_PDF, PI_PDF)\n",
    "\n"
   ]
  },
  {
   "cell_type": "markdown",
   "id": "e9b27560",
   "metadata": {},
   "source": [
    "## Experiment: comparison among baselines"
   ]
  },
  {
   "cell_type": "code",
   "execution_count": 2,
   "id": "90e314c1",
   "metadata": {},
   "outputs": [],
   "source": [
    "do=0\n",
    "baselines = [{\n",
    "    'model': 'OBS',\n",
    "    'target': 'Y0'\n",
    "},{\n",
    "    'model': 'COM',\n",
    "    'target': 'Y0'\n",
    "},{\n",
    "    'model': 'COM-SL',\n",
    "    'target': 'Y0'\n",
    "},{\n",
    "    'model': 'RW',\n",
    "    'target': 'Y0'\n",
    "},{\n",
    "    'model': 'RW-SL',\n",
    "    'target': 'Y0'\n",
    "},{\n",
    "    'model': 'Proxy Oracle',\n",
    "    'target': f'Y0_{do}'\n",
    "},{\n",
    "    'model': 'Target Oracle',\n",
    "    'target': f'YS_{do}'\n",
    "}]\n",
    "\n",
    "param_configs = []\n",
    "for alpha in [0, .1, .2, .3, .4]:\n",
    "    for beta in [0, .1, .2, .3, .4]:\n",
    "        param_configs.append({\n",
    "            'alpha': alpha,\n",
    "            'beta': beta\n",
    "        })"
   ]
  },
  {
   "cell_type": "code",
   "execution_count": 19,
   "id": "663adc3b",
   "metadata": {
    "scrolled": true
   },
   "outputs": [
    {
     "name": "stdout",
     "output_type": "stream",
     "text": [
      "======================================================================\n",
      "RUN: 0, model: OBS, alpha: 0, beta: 0\n",
      "====================================================================== \n",
      "\n"
     ]
    },
    {
     "name": "stderr",
     "output_type": "stream",
     "text": [
      "Target: Y0: 100%|███████████████████████████████| 20/20 [00:17<00:00,  1.12it/s]\n"
     ]
    },
    {
     "name": "stdout",
     "output_type": "stream",
     "text": [
      "======================================================================\n",
      "RUN: 0, model: COM, alpha: 0, beta: 0\n",
      "====================================================================== \n",
      "\n"
     ]
    },
    {
     "name": "stderr",
     "output_type": "stream",
     "text": [
      "Target: Y0: 100%|███████████████████████████████| 20/20 [00:14<00:00,  1.42it/s]\n"
     ]
    },
    {
     "name": "stdout",
     "output_type": "stream",
     "text": [
      "======================================================================\n",
      "RUN: 0, model: COM-SL, alpha: 0, beta: 0\n",
      "====================================================================== \n",
      "\n"
     ]
    },
    {
     "name": "stderr",
     "output_type": "stream",
     "text": [
      "Target: Y0: 100%|███████████████████████████████| 20/20 [00:15<00:00,  1.31it/s]\n"
     ]
    },
    {
     "name": "stdout",
     "output_type": "stream",
     "text": [
      "======================================================================\n",
      "RUN: 0, model: RW, alpha: 0, beta: 0\n",
      "====================================================================== \n",
      "\n"
     ]
    },
    {
     "name": "stderr",
     "output_type": "stream",
     "text": [
      "Target: Y0: 100%|███████████████████████████████| 20/20 [00:17<00:00,  1.12it/s]\n"
     ]
    },
    {
     "name": "stdout",
     "output_type": "stream",
     "text": [
      "======================================================================\n",
      "RUN: 0, model: RW-SL, alpha: 0, beta: 0\n",
      "====================================================================== \n",
      "\n"
     ]
    },
    {
     "name": "stderr",
     "output_type": "stream",
     "text": [
      "Target: Y0: 100%|███████████████████████████████| 20/20 [00:15<00:00,  1.28it/s]\n"
     ]
    },
    {
     "name": "stdout",
     "output_type": "stream",
     "text": [
      "======================================================================\n",
      "RUN: 0, model: Proxy Oracle, alpha: 0, beta: 0\n",
      "====================================================================== \n",
      "\n"
     ]
    },
    {
     "name": "stderr",
     "output_type": "stream",
     "text": [
      "Target: Y0_0: 100%|█████████████████████████████| 20/20 [00:15<00:00,  1.28it/s]\n"
     ]
    },
    {
     "name": "stdout",
     "output_type": "stream",
     "text": [
      "======================================================================\n",
      "RUN: 0, model: Target Oracle, alpha: 0, beta: 0\n",
      "====================================================================== \n",
      "\n"
     ]
    },
    {
     "name": "stderr",
     "output_type": "stream",
     "text": [
      "Target: YS_0: 100%|█████████████████████████████| 20/20 [00:14<00:00,  1.35it/s]\n"
     ]
    },
    {
     "name": "stdout",
     "output_type": "stream",
     "text": [
      "======================================================================\n",
      "RUN: 0, model: OBS, alpha: 0, beta: 0.1\n",
      "====================================================================== \n",
      "\n"
     ]
    },
    {
     "name": "stderr",
     "output_type": "stream",
     "text": [
      "Target: Y0: 100%|███████████████████████████████| 20/20 [00:15<00:00,  1.27it/s]\n"
     ]
    },
    {
     "name": "stdout",
     "output_type": "stream",
     "text": [
      "======================================================================\n",
      "RUN: 0, model: COM, alpha: 0, beta: 0.1\n",
      "====================================================================== \n",
      "\n"
     ]
    },
    {
     "name": "stderr",
     "output_type": "stream",
     "text": [
      "Target: Y0: 100%|███████████████████████████████| 20/20 [00:13<00:00,  1.51it/s]\n"
     ]
    },
    {
     "name": "stdout",
     "output_type": "stream",
     "text": [
      "======================================================================\n",
      "RUN: 0, model: COM-SL, alpha: 0, beta: 0.1\n",
      "====================================================================== \n",
      "\n"
     ]
    },
    {
     "name": "stderr",
     "output_type": "stream",
     "text": [
      "Target: Y0: 100%|███████████████████████████████| 20/20 [00:15<00:00,  1.32it/s]\n"
     ]
    },
    {
     "name": "stdout",
     "output_type": "stream",
     "text": [
      "======================================================================\n",
      "RUN: 0, model: RW, alpha: 0, beta: 0.1\n",
      "====================================================================== \n",
      "\n"
     ]
    },
    {
     "name": "stderr",
     "output_type": "stream",
     "text": [
      "Target: Y0: 100%|███████████████████████████████| 20/20 [00:13<00:00,  1.47it/s]\n"
     ]
    },
    {
     "name": "stdout",
     "output_type": "stream",
     "text": [
      "======================================================================\n",
      "RUN: 0, model: RW-SL, alpha: 0, beta: 0.1\n",
      "====================================================================== \n",
      "\n"
     ]
    },
    {
     "name": "stderr",
     "output_type": "stream",
     "text": [
      "Target: Y0: 100%|███████████████████████████████| 20/20 [00:17<00:00,  1.13it/s]\n"
     ]
    },
    {
     "name": "stdout",
     "output_type": "stream",
     "text": [
      "======================================================================\n",
      "RUN: 0, model: Proxy Oracle, alpha: 0, beta: 0.1\n",
      "====================================================================== \n",
      "\n"
     ]
    },
    {
     "name": "stderr",
     "output_type": "stream",
     "text": [
      "Target: Y0_0: 100%|█████████████████████████████| 20/20 [00:15<00:00,  1.29it/s]\n"
     ]
    },
    {
     "name": "stdout",
     "output_type": "stream",
     "text": [
      "======================================================================\n",
      "RUN: 0, model: Target Oracle, alpha: 0, beta: 0.1\n",
      "====================================================================== \n",
      "\n"
     ]
    },
    {
     "name": "stderr",
     "output_type": "stream",
     "text": [
      "Target: YS_0: 100%|█████████████████████████████| 20/20 [00:16<00:00,  1.25it/s]\n"
     ]
    },
    {
     "name": "stdout",
     "output_type": "stream",
     "text": [
      "======================================================================\n",
      "RUN: 0, model: OBS, alpha: 0, beta: 0.2\n",
      "====================================================================== \n",
      "\n"
     ]
    },
    {
     "name": "stderr",
     "output_type": "stream",
     "text": [
      "Target: Y0: 100%|███████████████████████████████| 20/20 [00:17<00:00,  1.13it/s]\n"
     ]
    },
    {
     "name": "stdout",
     "output_type": "stream",
     "text": [
      "======================================================================\n",
      "RUN: 0, model: COM, alpha: 0, beta: 0.2\n",
      "====================================================================== \n",
      "\n"
     ]
    },
    {
     "name": "stderr",
     "output_type": "stream",
     "text": [
      "Target: Y0: 100%|███████████████████████████████| 20/20 [00:15<00:00,  1.27it/s]\n"
     ]
    },
    {
     "name": "stdout",
     "output_type": "stream",
     "text": [
      "======================================================================\n",
      "RUN: 0, model: COM-SL, alpha: 0, beta: 0.2\n",
      "====================================================================== \n",
      "\n"
     ]
    },
    {
     "name": "stderr",
     "output_type": "stream",
     "text": [
      "Target: Y0: 100%|███████████████████████████████| 20/20 [00:16<00:00,  1.22it/s]\n"
     ]
    },
    {
     "name": "stdout",
     "output_type": "stream",
     "text": [
      "======================================================================\n",
      "RUN: 0, model: RW, alpha: 0, beta: 0.2\n",
      "====================================================================== \n",
      "\n"
     ]
    },
    {
     "name": "stderr",
     "output_type": "stream",
     "text": [
      "Target: Y0: 100%|███████████████████████████████| 20/20 [00:15<00:00,  1.28it/s]\n"
     ]
    },
    {
     "name": "stdout",
     "output_type": "stream",
     "text": [
      "======================================================================\n",
      "RUN: 0, model: RW-SL, alpha: 0, beta: 0.2\n",
      "====================================================================== \n",
      "\n"
     ]
    },
    {
     "name": "stderr",
     "output_type": "stream",
     "text": [
      "Target: Y0: 100%|███████████████████████████████| 20/20 [00:17<00:00,  1.15it/s]\n"
     ]
    },
    {
     "name": "stdout",
     "output_type": "stream",
     "text": [
      "======================================================================\n",
      "RUN: 0, model: Proxy Oracle, alpha: 0, beta: 0.2\n",
      "====================================================================== \n",
      "\n"
     ]
    },
    {
     "name": "stderr",
     "output_type": "stream",
     "text": [
      "Target: Y0_0: 100%|█████████████████████████████| 20/20 [00:14<00:00,  1.38it/s]\n"
     ]
    },
    {
     "name": "stdout",
     "output_type": "stream",
     "text": [
      "======================================================================\n",
      "RUN: 0, model: Target Oracle, alpha: 0, beta: 0.2\n",
      "====================================================================== \n",
      "\n"
     ]
    },
    {
     "name": "stderr",
     "output_type": "stream",
     "text": [
      "Target: YS_0: 100%|█████████████████████████████| 20/20 [00:15<00:00,  1.27it/s]\n"
     ]
    },
    {
     "name": "stdout",
     "output_type": "stream",
     "text": [
      "======================================================================\n",
      "RUN: 0, model: OBS, alpha: 0, beta: 0.3\n",
      "====================================================================== \n",
      "\n"
     ]
    },
    {
     "name": "stderr",
     "output_type": "stream",
     "text": [
      "Target: Y0: 100%|███████████████████████████████| 20/20 [00:16<00:00,  1.19it/s]\n"
     ]
    },
    {
     "name": "stdout",
     "output_type": "stream",
     "text": [
      "======================================================================\n",
      "RUN: 0, model: COM, alpha: 0, beta: 0.3\n",
      "====================================================================== \n",
      "\n"
     ]
    },
    {
     "name": "stderr",
     "output_type": "stream",
     "text": [
      "Target: Y0: 100%|███████████████████████████████| 20/20 [00:13<00:00,  1.46it/s]\n"
     ]
    },
    {
     "name": "stdout",
     "output_type": "stream",
     "text": [
      "======================================================================\n",
      "RUN: 0, model: COM-SL, alpha: 0, beta: 0.3\n",
      "====================================================================== \n",
      "\n"
     ]
    },
    {
     "name": "stderr",
     "output_type": "stream",
     "text": [
      "Target: Y0: 100%|███████████████████████████████| 20/20 [00:14<00:00,  1.41it/s]\n"
     ]
    },
    {
     "name": "stdout",
     "output_type": "stream",
     "text": [
      "======================================================================\n",
      "RUN: 0, model: RW, alpha: 0, beta: 0.3\n",
      "====================================================================== \n",
      "\n"
     ]
    },
    {
     "name": "stderr",
     "output_type": "stream",
     "text": [
      "Target: Y0: 100%|███████████████████████████████| 20/20 [00:13<00:00,  1.46it/s]\n"
     ]
    },
    {
     "name": "stdout",
     "output_type": "stream",
     "text": [
      "======================================================================\n",
      "RUN: 0, model: RW-SL, alpha: 0, beta: 0.3\n",
      "====================================================================== \n",
      "\n"
     ]
    },
    {
     "name": "stderr",
     "output_type": "stream",
     "text": [
      "Target: Y0: 100%|███████████████████████████████| 20/20 [00:14<00:00,  1.39it/s]\n"
     ]
    },
    {
     "name": "stdout",
     "output_type": "stream",
     "text": [
      "======================================================================\n",
      "RUN: 0, model: Proxy Oracle, alpha: 0, beta: 0.3\n",
      "====================================================================== \n",
      "\n"
     ]
    },
    {
     "name": "stderr",
     "output_type": "stream",
     "text": [
      "Target: Y0_0: 100%|█████████████████████████████| 20/20 [00:13<00:00,  1.49it/s]\n"
     ]
    },
    {
     "name": "stdout",
     "output_type": "stream",
     "text": [
      "======================================================================\n",
      "RUN: 0, model: Target Oracle, alpha: 0, beta: 0.3\n",
      "====================================================================== \n",
      "\n"
     ]
    },
    {
     "name": "stderr",
     "output_type": "stream",
     "text": [
      "Target: YS_0: 100%|█████████████████████████████| 20/20 [00:13<00:00,  1.48it/s]\n"
     ]
    },
    {
     "name": "stdout",
     "output_type": "stream",
     "text": [
      "======================================================================\n",
      "RUN: 0, model: OBS, alpha: 0, beta: 0.4\n",
      "====================================================================== \n",
      "\n"
     ]
    },
    {
     "name": "stderr",
     "output_type": "stream",
     "text": [
      "Target: Y0: 100%|███████████████████████████████| 20/20 [00:15<00:00,  1.29it/s]\n"
     ]
    },
    {
     "name": "stdout",
     "output_type": "stream",
     "text": [
      "======================================================================\n",
      "RUN: 0, model: COM, alpha: 0, beta: 0.4\n",
      "====================================================================== \n",
      "\n"
     ]
    },
    {
     "name": "stderr",
     "output_type": "stream",
     "text": [
      "Target: Y0: 100%|███████████████████████████████| 20/20 [00:13<00:00,  1.45it/s]\n"
     ]
    },
    {
     "name": "stdout",
     "output_type": "stream",
     "text": [
      "======================================================================\n",
      "RUN: 0, model: COM-SL, alpha: 0, beta: 0.4\n",
      "====================================================================== \n",
      "\n"
     ]
    },
    {
     "name": "stderr",
     "output_type": "stream",
     "text": [
      "Target: Y0: 100%|███████████████████████████████| 20/20 [00:15<00:00,  1.28it/s]\n"
     ]
    },
    {
     "name": "stdout",
     "output_type": "stream",
     "text": [
      "======================================================================\n",
      "RUN: 0, model: RW, alpha: 0, beta: 0.4\n",
      "====================================================================== \n",
      "\n"
     ]
    },
    {
     "name": "stderr",
     "output_type": "stream",
     "text": [
      "Target: Y0: 100%|███████████████████████████████| 20/20 [00:15<00:00,  1.30it/s]\n"
     ]
    },
    {
     "name": "stdout",
     "output_type": "stream",
     "text": [
      "======================================================================\n",
      "RUN: 0, model: RW-SL, alpha: 0, beta: 0.4\n",
      "====================================================================== \n",
      "\n"
     ]
    },
    {
     "name": "stderr",
     "output_type": "stream",
     "text": [
      "Target: Y0: 100%|███████████████████████████████| 20/20 [00:16<00:00,  1.21it/s]\n"
     ]
    },
    {
     "name": "stdout",
     "output_type": "stream",
     "text": [
      "======================================================================\n",
      "RUN: 0, model: Proxy Oracle, alpha: 0, beta: 0.4\n",
      "====================================================================== \n",
      "\n"
     ]
    },
    {
     "name": "stderr",
     "output_type": "stream",
     "text": [
      "Target: Y0_0: 100%|█████████████████████████████| 20/20 [00:14<00:00,  1.35it/s]\n"
     ]
    },
    {
     "name": "stdout",
     "output_type": "stream",
     "text": [
      "======================================================================\n",
      "RUN: 0, model: Target Oracle, alpha: 0, beta: 0.4\n",
      "====================================================================== \n",
      "\n"
     ]
    },
    {
     "name": "stderr",
     "output_type": "stream",
     "text": [
      "Target: YS_0: 100%|█████████████████████████████| 20/20 [00:14<00:00,  1.43it/s]\n"
     ]
    },
    {
     "name": "stdout",
     "output_type": "stream",
     "text": [
      "======================================================================\n",
      "RUN: 0, model: OBS, alpha: 0.1, beta: 0\n",
      "====================================================================== \n",
      "\n"
     ]
    },
    {
     "name": "stderr",
     "output_type": "stream",
     "text": [
      "Target: Y0: 100%|███████████████████████████████| 20/20 [00:16<00:00,  1.21it/s]\n"
     ]
    },
    {
     "name": "stdout",
     "output_type": "stream",
     "text": [
      "======================================================================\n",
      "RUN: 0, model: COM, alpha: 0.1, beta: 0\n",
      "====================================================================== \n",
      "\n"
     ]
    },
    {
     "name": "stderr",
     "output_type": "stream",
     "text": [
      "Target: Y0: 100%|███████████████████████████████| 20/20 [00:14<00:00,  1.40it/s]\n"
     ]
    },
    {
     "name": "stdout",
     "output_type": "stream",
     "text": [
      "======================================================================\n",
      "RUN: 0, model: COM-SL, alpha: 0.1, beta: 0\n",
      "====================================================================== \n",
      "\n"
     ]
    },
    {
     "name": "stderr",
     "output_type": "stream",
     "text": [
      "Target: Y0: 100%|███████████████████████████████| 20/20 [00:15<00:00,  1.33it/s]\n"
     ]
    },
    {
     "name": "stdout",
     "output_type": "stream",
     "text": [
      "======================================================================\n",
      "RUN: 0, model: RW, alpha: 0.1, beta: 0\n",
      "====================================================================== \n",
      "\n"
     ]
    },
    {
     "name": "stderr",
     "output_type": "stream",
     "text": [
      "Target: Y0: 100%|███████████████████████████████| 20/20 [00:14<00:00,  1.38it/s]\n"
     ]
    },
    {
     "name": "stdout",
     "output_type": "stream",
     "text": [
      "======================================================================\n",
      "RUN: 0, model: RW-SL, alpha: 0.1, beta: 0\n",
      "====================================================================== \n",
      "\n"
     ]
    },
    {
     "name": "stderr",
     "output_type": "stream",
     "text": [
      "Target: Y0: 100%|███████████████████████████████| 20/20 [00:14<00:00,  1.35it/s]\n"
     ]
    },
    {
     "name": "stdout",
     "output_type": "stream",
     "text": [
      "======================================================================\n",
      "RUN: 0, model: Proxy Oracle, alpha: 0.1, beta: 0\n",
      "====================================================================== \n",
      "\n"
     ]
    },
    {
     "name": "stderr",
     "output_type": "stream",
     "text": [
      "Target: Y0_0: 100%|█████████████████████████████| 20/20 [00:15<00:00,  1.32it/s]\n"
     ]
    },
    {
     "name": "stdout",
     "output_type": "stream",
     "text": [
      "======================================================================\n",
      "RUN: 0, model: Target Oracle, alpha: 0.1, beta: 0\n",
      "====================================================================== \n",
      "\n"
     ]
    },
    {
     "name": "stderr",
     "output_type": "stream",
     "text": [
      "Target: YS_0: 100%|█████████████████████████████| 20/20 [00:18<00:00,  1.11it/s]\n"
     ]
    },
    {
     "name": "stdout",
     "output_type": "stream",
     "text": [
      "======================================================================\n",
      "RUN: 0, model: OBS, alpha: 0.1, beta: 0.1\n",
      "====================================================================== \n",
      "\n"
     ]
    },
    {
     "name": "stderr",
     "output_type": "stream",
     "text": [
      "Target: Y0: 100%|███████████████████████████████| 20/20 [00:16<00:00,  1.19it/s]\n"
     ]
    },
    {
     "name": "stdout",
     "output_type": "stream",
     "text": [
      "======================================================================\n",
      "RUN: 0, model: COM, alpha: 0.1, beta: 0.1\n",
      "====================================================================== \n",
      "\n"
     ]
    },
    {
     "name": "stderr",
     "output_type": "stream",
     "text": [
      "Target: Y0: 100%|███████████████████████████████| 20/20 [00:13<00:00,  1.45it/s]\n"
     ]
    },
    {
     "name": "stdout",
     "output_type": "stream",
     "text": [
      "======================================================================\n",
      "RUN: 0, model: COM-SL, alpha: 0.1, beta: 0.1\n",
      "====================================================================== \n",
      "\n"
     ]
    },
    {
     "name": "stderr",
     "output_type": "stream",
     "text": [
      "Target: Y0: 100%|███████████████████████████████| 20/20 [00:14<00:00,  1.39it/s]\n"
     ]
    },
    {
     "name": "stdout",
     "output_type": "stream",
     "text": [
      "======================================================================\n",
      "RUN: 0, model: RW, alpha: 0.1, beta: 0.1\n",
      "====================================================================== \n",
      "\n"
     ]
    },
    {
     "name": "stderr",
     "output_type": "stream",
     "text": [
      "Target: Y0: 100%|███████████████████████████████| 20/20 [00:14<00:00,  1.38it/s]\n"
     ]
    },
    {
     "name": "stdout",
     "output_type": "stream",
     "text": [
      "======================================================================\n",
      "RUN: 0, model: RW-SL, alpha: 0.1, beta: 0.1\n",
      "====================================================================== \n",
      "\n"
     ]
    },
    {
     "name": "stderr",
     "output_type": "stream",
     "text": [
      "Target: Y0: 100%|███████████████████████████████| 20/20 [00:15<00:00,  1.32it/s]\n"
     ]
    },
    {
     "name": "stdout",
     "output_type": "stream",
     "text": [
      "======================================================================\n",
      "RUN: 0, model: Proxy Oracle, alpha: 0.1, beta: 0.1\n",
      "====================================================================== \n",
      "\n"
     ]
    },
    {
     "name": "stderr",
     "output_type": "stream",
     "text": [
      "Target: Y0_0: 100%|█████████████████████████████| 20/20 [00:14<00:00,  1.40it/s]\n"
     ]
    },
    {
     "name": "stdout",
     "output_type": "stream",
     "text": [
      "======================================================================\n",
      "RUN: 0, model: Target Oracle, alpha: 0.1, beta: 0.1\n",
      "====================================================================== \n",
      "\n"
     ]
    },
    {
     "name": "stderr",
     "output_type": "stream",
     "text": [
      "Target: YS_0: 100%|█████████████████████████████| 20/20 [00:14<00:00,  1.39it/s]\n"
     ]
    },
    {
     "name": "stdout",
     "output_type": "stream",
     "text": [
      "======================================================================\n",
      "RUN: 0, model: OBS, alpha: 0.1, beta: 0.2\n",
      "====================================================================== \n",
      "\n"
     ]
    },
    {
     "name": "stderr",
     "output_type": "stream",
     "text": [
      "Target: Y0: 100%|███████████████████████████████| 20/20 [00:16<00:00,  1.23it/s]\n"
     ]
    },
    {
     "name": "stdout",
     "output_type": "stream",
     "text": [
      "======================================================================\n",
      "RUN: 0, model: COM, alpha: 0.1, beta: 0.2\n",
      "====================================================================== \n",
      "\n"
     ]
    },
    {
     "name": "stderr",
     "output_type": "stream",
     "text": [
      "Target: Y0: 100%|███████████████████████████████| 20/20 [00:14<00:00,  1.41it/s]\n"
     ]
    },
    {
     "name": "stdout",
     "output_type": "stream",
     "text": [
      "======================================================================\n",
      "RUN: 0, model: COM-SL, alpha: 0.1, beta: 0.2\n",
      "====================================================================== \n",
      "\n"
     ]
    },
    {
     "name": "stderr",
     "output_type": "stream",
     "text": [
      "Target: Y0: 100%|███████████████████████████████| 20/20 [00:14<00:00,  1.35it/s]\n"
     ]
    },
    {
     "name": "stdout",
     "output_type": "stream",
     "text": [
      "======================================================================\n",
      "RUN: 0, model: RW, alpha: 0.1, beta: 0.2\n",
      "====================================================================== \n",
      "\n"
     ]
    },
    {
     "name": "stderr",
     "output_type": "stream",
     "text": [
      "Target: Y0: 100%|███████████████████████████████| 20/20 [00:16<00:00,  1.24it/s]\n"
     ]
    },
    {
     "name": "stdout",
     "output_type": "stream",
     "text": [
      "======================================================================\n",
      "RUN: 0, model: RW-SL, alpha: 0.1, beta: 0.2\n",
      "====================================================================== \n",
      "\n"
     ]
    },
    {
     "name": "stderr",
     "output_type": "stream",
     "text": [
      "Target: Y0: 100%|███████████████████████████████| 20/20 [00:17<00:00,  1.14it/s]\n"
     ]
    },
    {
     "name": "stdout",
     "output_type": "stream",
     "text": [
      "======================================================================\n",
      "RUN: 0, model: Proxy Oracle, alpha: 0.1, beta: 0.2\n",
      "====================================================================== \n",
      "\n"
     ]
    },
    {
     "name": "stderr",
     "output_type": "stream",
     "text": [
      "Target: Y0_0: 100%|█████████████████████████████| 20/20 [00:15<00:00,  1.32it/s]\n"
     ]
    },
    {
     "name": "stdout",
     "output_type": "stream",
     "text": [
      "======================================================================\n",
      "RUN: 0, model: Target Oracle, alpha: 0.1, beta: 0.2\n",
      "====================================================================== \n",
      "\n"
     ]
    },
    {
     "name": "stderr",
     "output_type": "stream",
     "text": [
      "Target: YS_0: 100%|█████████████████████████████| 20/20 [00:15<00:00,  1.32it/s]\n"
     ]
    },
    {
     "name": "stdout",
     "output_type": "stream",
     "text": [
      "======================================================================\n",
      "RUN: 0, model: OBS, alpha: 0.1, beta: 0.3\n",
      "====================================================================== \n",
      "\n"
     ]
    },
    {
     "name": "stderr",
     "output_type": "stream",
     "text": [
      "Target: Y0: 100%|███████████████████████████████| 20/20 [00:17<00:00,  1.17it/s]\n"
     ]
    },
    {
     "name": "stdout",
     "output_type": "stream",
     "text": [
      "======================================================================\n",
      "RUN: 0, model: COM, alpha: 0.1, beta: 0.3\n",
      "====================================================================== \n",
      "\n"
     ]
    },
    {
     "name": "stderr",
     "output_type": "stream",
     "text": [
      "Target: Y0: 100%|███████████████████████████████| 20/20 [00:15<00:00,  1.32it/s]\n"
     ]
    },
    {
     "name": "stdout",
     "output_type": "stream",
     "text": [
      "======================================================================\n",
      "RUN: 0, model: COM-SL, alpha: 0.1, beta: 0.3\n",
      "====================================================================== \n",
      "\n"
     ]
    },
    {
     "name": "stderr",
     "output_type": "stream",
     "text": [
      "Target: Y0: 100%|███████████████████████████████| 20/20 [00:15<00:00,  1.27it/s]\n"
     ]
    },
    {
     "name": "stdout",
     "output_type": "stream",
     "text": [
      "======================================================================\n",
      "RUN: 0, model: RW, alpha: 0.1, beta: 0.3\n",
      "====================================================================== \n",
      "\n"
     ]
    },
    {
     "name": "stderr",
     "output_type": "stream",
     "text": [
      "Target: Y0: 100%|███████████████████████████████| 20/20 [00:15<00:00,  1.29it/s]\n"
     ]
    },
    {
     "name": "stdout",
     "output_type": "stream",
     "text": [
      "======================================================================\n",
      "RUN: 0, model: RW-SL, alpha: 0.1, beta: 0.3\n",
      "====================================================================== \n",
      "\n"
     ]
    },
    {
     "name": "stderr",
     "output_type": "stream",
     "text": [
      "Target: Y0: 100%|███████████████████████████████| 20/20 [00:16<00:00,  1.25it/s]\n"
     ]
    },
    {
     "name": "stdout",
     "output_type": "stream",
     "text": [
      "======================================================================\n",
      "RUN: 0, model: Proxy Oracle, alpha: 0.1, beta: 0.3\n",
      "====================================================================== \n",
      "\n"
     ]
    },
    {
     "name": "stderr",
     "output_type": "stream",
     "text": [
      "Target: Y0_0: 100%|█████████████████████████████| 20/20 [00:14<00:00,  1.35it/s]\n"
     ]
    },
    {
     "name": "stdout",
     "output_type": "stream",
     "text": [
      "======================================================================\n",
      "RUN: 0, model: Target Oracle, alpha: 0.1, beta: 0.3\n",
      "====================================================================== \n",
      "\n"
     ]
    },
    {
     "name": "stderr",
     "output_type": "stream",
     "text": [
      "Target: YS_0: 100%|█████████████████████████████| 20/20 [00:15<00:00,  1.33it/s]\n"
     ]
    },
    {
     "name": "stdout",
     "output_type": "stream",
     "text": [
      "======================================================================\n",
      "RUN: 0, model: OBS, alpha: 0.1, beta: 0.4\n",
      "====================================================================== \n",
      "\n"
     ]
    },
    {
     "name": "stderr",
     "output_type": "stream",
     "text": [
      "Target: Y0: 100%|███████████████████████████████| 20/20 [00:18<00:00,  1.08it/s]\n"
     ]
    },
    {
     "name": "stdout",
     "output_type": "stream",
     "text": [
      "======================================================================\n",
      "RUN: 0, model: COM, alpha: 0.1, beta: 0.4\n",
      "====================================================================== \n",
      "\n"
     ]
    },
    {
     "name": "stderr",
     "output_type": "stream",
     "text": [
      "Target: Y0: 100%|███████████████████████████████| 20/20 [00:15<00:00,  1.27it/s]\n"
     ]
    },
    {
     "name": "stdout",
     "output_type": "stream",
     "text": [
      "======================================================================\n",
      "RUN: 0, model: COM-SL, alpha: 0.1, beta: 0.4\n",
      "====================================================================== \n",
      "\n"
     ]
    },
    {
     "name": "stderr",
     "output_type": "stream",
     "text": [
      "Target: Y0: 100%|███████████████████████████████| 20/20 [00:16<00:00,  1.23it/s]\n"
     ]
    },
    {
     "name": "stdout",
     "output_type": "stream",
     "text": [
      "======================================================================\n",
      "RUN: 0, model: RW, alpha: 0.1, beta: 0.4\n",
      "====================================================================== \n",
      "\n"
     ]
    },
    {
     "name": "stderr",
     "output_type": "stream",
     "text": [
      "Target: Y0: 100%|███████████████████████████████| 20/20 [00:16<00:00,  1.24it/s]\n"
     ]
    },
    {
     "name": "stdout",
     "output_type": "stream",
     "text": [
      "======================================================================\n",
      "RUN: 0, model: RW-SL, alpha: 0.1, beta: 0.4\n",
      "====================================================================== \n",
      "\n"
     ]
    },
    {
     "name": "stderr",
     "output_type": "stream",
     "text": [
      "Target: Y0: 100%|███████████████████████████████| 20/20 [00:16<00:00,  1.24it/s]\n"
     ]
    },
    {
     "name": "stdout",
     "output_type": "stream",
     "text": [
      "======================================================================\n",
      "RUN: 0, model: Proxy Oracle, alpha: 0.1, beta: 0.4\n",
      "====================================================================== \n",
      "\n"
     ]
    },
    {
     "name": "stderr",
     "output_type": "stream",
     "text": [
      "Target: Y0_0: 100%|█████████████████████████████| 20/20 [00:15<00:00,  1.32it/s]\n"
     ]
    },
    {
     "name": "stdout",
     "output_type": "stream",
     "text": [
      "======================================================================\n",
      "RUN: 0, model: Target Oracle, alpha: 0.1, beta: 0.4\n",
      "====================================================================== \n",
      "\n"
     ]
    },
    {
     "name": "stderr",
     "output_type": "stream",
     "text": [
      "Target: YS_0: 100%|█████████████████████████████| 20/20 [00:14<00:00,  1.34it/s]\n"
     ]
    },
    {
     "name": "stdout",
     "output_type": "stream",
     "text": [
      "======================================================================\n",
      "RUN: 0, model: OBS, alpha: 0.2, beta: 0\n",
      "====================================================================== \n",
      "\n"
     ]
    },
    {
     "name": "stderr",
     "output_type": "stream",
     "text": [
      "Target: Y0: 100%|███████████████████████████████| 20/20 [00:17<00:00,  1.16it/s]\n"
     ]
    },
    {
     "name": "stdout",
     "output_type": "stream",
     "text": [
      "======================================================================\n",
      "RUN: 0, model: COM, alpha: 0.2, beta: 0\n",
      "====================================================================== \n",
      "\n"
     ]
    },
    {
     "name": "stderr",
     "output_type": "stream",
     "text": [
      "Target: Y0: 100%|███████████████████████████████| 20/20 [00:14<00:00,  1.35it/s]\n"
     ]
    },
    {
     "name": "stdout",
     "output_type": "stream",
     "text": [
      "======================================================================\n",
      "RUN: 0, model: COM-SL, alpha: 0.2, beta: 0\n",
      "====================================================================== \n",
      "\n"
     ]
    },
    {
     "name": "stderr",
     "output_type": "stream",
     "text": [
      "Target: Y0: 100%|███████████████████████████████| 20/20 [00:15<00:00,  1.27it/s]\n"
     ]
    },
    {
     "name": "stdout",
     "output_type": "stream",
     "text": [
      "======================================================================\n",
      "RUN: 0, model: RW, alpha: 0.2, beta: 0\n",
      "====================================================================== \n",
      "\n"
     ]
    },
    {
     "name": "stderr",
     "output_type": "stream",
     "text": [
      "Target: Y0: 100%|███████████████████████████████| 20/20 [00:14<00:00,  1.34it/s]\n"
     ]
    },
    {
     "name": "stdout",
     "output_type": "stream",
     "text": [
      "======================================================================\n",
      "RUN: 0, model: RW-SL, alpha: 0.2, beta: 0\n",
      "====================================================================== \n",
      "\n"
     ]
    },
    {
     "name": "stderr",
     "output_type": "stream",
     "text": [
      "Target: Y0: 100%|███████████████████████████████| 20/20 [00:15<00:00,  1.25it/s]\n"
     ]
    },
    {
     "name": "stdout",
     "output_type": "stream",
     "text": [
      "======================================================================\n",
      "RUN: 0, model: Proxy Oracle, alpha: 0.2, beta: 0\n",
      "====================================================================== \n",
      "\n"
     ]
    },
    {
     "name": "stderr",
     "output_type": "stream",
     "text": [
      "Target: Y0_0: 100%|█████████████████████████████| 20/20 [00:15<00:00,  1.32it/s]\n"
     ]
    },
    {
     "name": "stdout",
     "output_type": "stream",
     "text": [
      "======================================================================\n",
      "RUN: 0, model: Target Oracle, alpha: 0.2, beta: 0\n",
      "====================================================================== \n",
      "\n"
     ]
    },
    {
     "name": "stderr",
     "output_type": "stream",
     "text": [
      "Target: YS_0: 100%|█████████████████████████████| 20/20 [00:14<00:00,  1.35it/s]\n"
     ]
    },
    {
     "name": "stdout",
     "output_type": "stream",
     "text": [
      "======================================================================\n",
      "RUN: 0, model: OBS, alpha: 0.2, beta: 0.1\n",
      "====================================================================== \n",
      "\n"
     ]
    },
    {
     "name": "stderr",
     "output_type": "stream",
     "text": [
      "Target: Y0: 100%|███████████████████████████████| 20/20 [00:17<00:00,  1.17it/s]\n"
     ]
    },
    {
     "name": "stdout",
     "output_type": "stream",
     "text": [
      "======================================================================\n",
      "RUN: 0, model: COM, alpha: 0.2, beta: 0.1\n",
      "====================================================================== \n",
      "\n"
     ]
    },
    {
     "name": "stderr",
     "output_type": "stream",
     "text": [
      "Target: Y0: 100%|███████████████████████████████| 20/20 [00:15<00:00,  1.32it/s]\n"
     ]
    },
    {
     "name": "stdout",
     "output_type": "stream",
     "text": [
      "======================================================================\n",
      "RUN: 0, model: COM-SL, alpha: 0.2, beta: 0.1\n",
      "====================================================================== \n",
      "\n"
     ]
    },
    {
     "name": "stderr",
     "output_type": "stream",
     "text": [
      "Target: Y0: 100%|███████████████████████████████| 20/20 [00:15<00:00,  1.28it/s]\n"
     ]
    },
    {
     "name": "stdout",
     "output_type": "stream",
     "text": [
      "======================================================================\n",
      "RUN: 0, model: RW, alpha: 0.2, beta: 0.1\n",
      "====================================================================== \n",
      "\n"
     ]
    },
    {
     "name": "stderr",
     "output_type": "stream",
     "text": [
      "Target: Y0: 100%|███████████████████████████████| 20/20 [00:15<00:00,  1.28it/s]\n"
     ]
    },
    {
     "name": "stdout",
     "output_type": "stream",
     "text": [
      "======================================================================\n",
      "RUN: 0, model: RW-SL, alpha: 0.2, beta: 0.1\n",
      "====================================================================== \n",
      "\n"
     ]
    },
    {
     "name": "stderr",
     "output_type": "stream",
     "text": [
      "Target: Y0: 100%|███████████████████████████████| 20/20 [00:16<00:00,  1.23it/s]\n"
     ]
    },
    {
     "name": "stdout",
     "output_type": "stream",
     "text": [
      "======================================================================\n",
      "RUN: 0, model: Proxy Oracle, alpha: 0.2, beta: 0.1\n",
      "====================================================================== \n",
      "\n"
     ]
    },
    {
     "name": "stderr",
     "output_type": "stream",
     "text": [
      "Target: Y0_0: 100%|█████████████████████████████| 20/20 [00:14<00:00,  1.34it/s]\n"
     ]
    },
    {
     "name": "stdout",
     "output_type": "stream",
     "text": [
      "======================================================================\n",
      "RUN: 0, model: Target Oracle, alpha: 0.2, beta: 0.1\n",
      "====================================================================== \n",
      "\n"
     ]
    },
    {
     "name": "stderr",
     "output_type": "stream",
     "text": [
      "Target: YS_0: 100%|█████████████████████████████| 20/20 [00:14<00:00,  1.34it/s]\n"
     ]
    },
    {
     "name": "stdout",
     "output_type": "stream",
     "text": [
      "======================================================================\n",
      "RUN: 0, model: OBS, alpha: 0.2, beta: 0.2\n",
      "====================================================================== \n",
      "\n"
     ]
    },
    {
     "name": "stderr",
     "output_type": "stream",
     "text": [
      "Target: Y0: 100%|███████████████████████████████| 20/20 [00:17<00:00,  1.16it/s]\n"
     ]
    },
    {
     "name": "stdout",
     "output_type": "stream",
     "text": [
      "======================================================================\n",
      "RUN: 0, model: COM, alpha: 0.2, beta: 0.2\n",
      "====================================================================== \n",
      "\n"
     ]
    },
    {
     "name": "stderr",
     "output_type": "stream",
     "text": [
      "Target: Y0: 100%|███████████████████████████████| 20/20 [00:14<00:00,  1.36it/s]\n"
     ]
    },
    {
     "name": "stdout",
     "output_type": "stream",
     "text": [
      "======================================================================\n",
      "RUN: 0, model: COM-SL, alpha: 0.2, beta: 0.2\n",
      "====================================================================== \n",
      "\n"
     ]
    },
    {
     "name": "stderr",
     "output_type": "stream",
     "text": [
      "Target: Y0: 100%|███████████████████████████████| 20/20 [00:15<00:00,  1.30it/s]\n"
     ]
    },
    {
     "name": "stdout",
     "output_type": "stream",
     "text": [
      "======================================================================\n",
      "RUN: 0, model: RW, alpha: 0.2, beta: 0.2\n",
      "====================================================================== \n",
      "\n"
     ]
    },
    {
     "name": "stderr",
     "output_type": "stream",
     "text": [
      "Target: Y0: 100%|███████████████████████████████| 20/20 [00:14<00:00,  1.34it/s]\n"
     ]
    },
    {
     "name": "stdout",
     "output_type": "stream",
     "text": [
      "======================================================================\n",
      "RUN: 0, model: RW-SL, alpha: 0.2, beta: 0.2\n",
      "====================================================================== \n",
      "\n"
     ]
    },
    {
     "name": "stderr",
     "output_type": "stream",
     "text": [
      "Target: Y0: 100%|███████████████████████████████| 20/20 [00:16<00:00,  1.25it/s]\n"
     ]
    },
    {
     "name": "stdout",
     "output_type": "stream",
     "text": [
      "======================================================================\n",
      "RUN: 0, model: Proxy Oracle, alpha: 0.2, beta: 0.2\n",
      "====================================================================== \n",
      "\n"
     ]
    },
    {
     "name": "stderr",
     "output_type": "stream",
     "text": [
      "Target: Y0_0: 100%|█████████████████████████████| 20/20 [00:15<00:00,  1.32it/s]\n"
     ]
    },
    {
     "name": "stdout",
     "output_type": "stream",
     "text": [
      "======================================================================\n",
      "RUN: 0, model: Target Oracle, alpha: 0.2, beta: 0.2\n",
      "====================================================================== \n",
      "\n"
     ]
    },
    {
     "name": "stderr",
     "output_type": "stream",
     "text": [
      "Target: YS_0: 100%|█████████████████████████████| 20/20 [00:14<00:00,  1.36it/s]\n"
     ]
    },
    {
     "name": "stdout",
     "output_type": "stream",
     "text": [
      "======================================================================\n",
      "RUN: 0, model: OBS, alpha: 0.2, beta: 0.3\n",
      "====================================================================== \n",
      "\n"
     ]
    },
    {
     "name": "stderr",
     "output_type": "stream",
     "text": [
      "Target: Y0: 100%|███████████████████████████████| 20/20 [00:16<00:00,  1.19it/s]\n"
     ]
    },
    {
     "name": "stdout",
     "output_type": "stream",
     "text": [
      "======================================================================\n",
      "RUN: 0, model: COM, alpha: 0.2, beta: 0.3\n",
      "====================================================================== \n",
      "\n"
     ]
    },
    {
     "name": "stderr",
     "output_type": "stream",
     "text": [
      "Target: Y0: 100%|███████████████████████████████| 20/20 [00:15<00:00,  1.32it/s]\n"
     ]
    },
    {
     "name": "stdout",
     "output_type": "stream",
     "text": [
      "======================================================================\n",
      "RUN: 0, model: COM-SL, alpha: 0.2, beta: 0.3\n",
      "====================================================================== \n",
      "\n"
     ]
    },
    {
     "name": "stderr",
     "output_type": "stream",
     "text": [
      "Target: Y0: 100%|███████████████████████████████| 20/20 [00:15<00:00,  1.29it/s]\n"
     ]
    },
    {
     "name": "stdout",
     "output_type": "stream",
     "text": [
      "======================================================================\n",
      "RUN: 0, model: RW, alpha: 0.2, beta: 0.3\n",
      "====================================================================== \n",
      "\n"
     ]
    },
    {
     "name": "stderr",
     "output_type": "stream",
     "text": [
      "Target: Y0: 100%|███████████████████████████████| 20/20 [00:15<00:00,  1.33it/s]\n"
     ]
    },
    {
     "name": "stdout",
     "output_type": "stream",
     "text": [
      "======================================================================\n",
      "RUN: 0, model: RW-SL, alpha: 0.2, beta: 0.3\n",
      "====================================================================== \n",
      "\n"
     ]
    },
    {
     "name": "stderr",
     "output_type": "stream",
     "text": [
      "Target: Y0: 100%|███████████████████████████████| 20/20 [00:15<00:00,  1.27it/s]\n"
     ]
    },
    {
     "name": "stdout",
     "output_type": "stream",
     "text": [
      "======================================================================\n",
      "RUN: 0, model: Proxy Oracle, alpha: 0.2, beta: 0.3\n",
      "====================================================================== \n",
      "\n"
     ]
    },
    {
     "name": "stderr",
     "output_type": "stream",
     "text": [
      "Target: Y0_0: 100%|█████████████████████████████| 20/20 [00:15<00:00,  1.32it/s]\n"
     ]
    },
    {
     "name": "stdout",
     "output_type": "stream",
     "text": [
      "======================================================================\n",
      "RUN: 0, model: Target Oracle, alpha: 0.2, beta: 0.3\n",
      "====================================================================== \n",
      "\n"
     ]
    },
    {
     "name": "stderr",
     "output_type": "stream",
     "text": [
      "Target: YS_0: 100%|█████████████████████████████| 20/20 [00:14<00:00,  1.34it/s]\n"
     ]
    },
    {
     "name": "stdout",
     "output_type": "stream",
     "text": [
      "======================================================================\n",
      "RUN: 0, model: OBS, alpha: 0.2, beta: 0.4\n",
      "====================================================================== \n",
      "\n"
     ]
    },
    {
     "name": "stderr",
     "output_type": "stream",
     "text": [
      "Target: Y0: 100%|███████████████████████████████| 20/20 [00:17<00:00,  1.15it/s]\n"
     ]
    },
    {
     "name": "stdout",
     "output_type": "stream",
     "text": [
      "======================================================================\n",
      "RUN: 0, model: COM, alpha: 0.2, beta: 0.4\n",
      "====================================================================== \n",
      "\n"
     ]
    },
    {
     "name": "stderr",
     "output_type": "stream",
     "text": [
      "Target: Y0: 100%|███████████████████████████████| 20/20 [00:14<00:00,  1.35it/s]\n"
     ]
    },
    {
     "name": "stdout",
     "output_type": "stream",
     "text": [
      "======================================================================\n",
      "RUN: 0, model: COM-SL, alpha: 0.2, beta: 0.4\n",
      "====================================================================== \n",
      "\n"
     ]
    },
    {
     "name": "stderr",
     "output_type": "stream",
     "text": [
      "Target: Y0: 100%|███████████████████████████████| 20/20 [00:15<00:00,  1.27it/s]\n"
     ]
    },
    {
     "name": "stdout",
     "output_type": "stream",
     "text": [
      "======================================================================\n",
      "RUN: 0, model: RW, alpha: 0.2, beta: 0.4\n",
      "====================================================================== \n",
      "\n"
     ]
    },
    {
     "name": "stderr",
     "output_type": "stream",
     "text": [
      "Target: Y0: 100%|███████████████████████████████| 20/20 [00:14<00:00,  1.34it/s]\n"
     ]
    },
    {
     "name": "stdout",
     "output_type": "stream",
     "text": [
      "======================================================================\n",
      "RUN: 0, model: RW-SL, alpha: 0.2, beta: 0.4\n",
      "====================================================================== \n",
      "\n"
     ]
    },
    {
     "name": "stderr",
     "output_type": "stream",
     "text": [
      "Target: Y0: 100%|███████████████████████████████| 20/20 [00:15<00:00,  1.26it/s]\n"
     ]
    },
    {
     "name": "stdout",
     "output_type": "stream",
     "text": [
      "======================================================================\n",
      "RUN: 0, model: Proxy Oracle, alpha: 0.2, beta: 0.4\n",
      "====================================================================== \n",
      "\n"
     ]
    },
    {
     "name": "stderr",
     "output_type": "stream",
     "text": [
      "Target: Y0_0: 100%|█████████████████████████████| 20/20 [00:14<00:00,  1.37it/s]\n"
     ]
    },
    {
     "name": "stdout",
     "output_type": "stream",
     "text": [
      "======================================================================\n",
      "RUN: 0, model: Target Oracle, alpha: 0.2, beta: 0.4\n",
      "====================================================================== \n",
      "\n"
     ]
    },
    {
     "name": "stderr",
     "output_type": "stream",
     "text": [
      "Target: YS_0: 100%|█████████████████████████████| 20/20 [00:14<00:00,  1.40it/s]\n"
     ]
    },
    {
     "name": "stdout",
     "output_type": "stream",
     "text": [
      "======================================================================\n",
      "RUN: 0, model: OBS, alpha: 0.3, beta: 0\n",
      "====================================================================== \n",
      "\n"
     ]
    },
    {
     "name": "stderr",
     "output_type": "stream",
     "text": [
      "Target: Y0: 100%|███████████████████████████████| 20/20 [00:17<00:00,  1.16it/s]\n"
     ]
    },
    {
     "name": "stdout",
     "output_type": "stream",
     "text": [
      "======================================================================\n",
      "RUN: 0, model: COM, alpha: 0.3, beta: 0\n",
      "====================================================================== \n",
      "\n"
     ]
    },
    {
     "name": "stderr",
     "output_type": "stream",
     "text": [
      "Target: Y0: 100%|███████████████████████████████| 20/20 [00:14<00:00,  1.37it/s]\n"
     ]
    },
    {
     "name": "stdout",
     "output_type": "stream",
     "text": [
      "======================================================================\n",
      "RUN: 0, model: COM-SL, alpha: 0.3, beta: 0\n",
      "====================================================================== \n",
      "\n"
     ]
    },
    {
     "name": "stderr",
     "output_type": "stream",
     "text": [
      "Target: Y0: 100%|███████████████████████████████| 20/20 [00:15<00:00,  1.30it/s]\n"
     ]
    },
    {
     "name": "stdout",
     "output_type": "stream",
     "text": [
      "======================================================================\n",
      "RUN: 0, model: RW, alpha: 0.3, beta: 0\n",
      "====================================================================== \n",
      "\n"
     ]
    },
    {
     "name": "stderr",
     "output_type": "stream",
     "text": [
      "Target: Y0: 100%|███████████████████████████████| 20/20 [00:15<00:00,  1.30it/s]\n"
     ]
    },
    {
     "name": "stdout",
     "output_type": "stream",
     "text": [
      "======================================================================\n",
      "RUN: 0, model: RW-SL, alpha: 0.3, beta: 0\n",
      "====================================================================== \n",
      "\n"
     ]
    },
    {
     "name": "stderr",
     "output_type": "stream",
     "text": [
      "Target: Y0: 100%|███████████████████████████████| 20/20 [00:17<00:00,  1.17it/s]\n"
     ]
    },
    {
     "name": "stdout",
     "output_type": "stream",
     "text": [
      "======================================================================\n",
      "RUN: 0, model: Proxy Oracle, alpha: 0.3, beta: 0\n",
      "====================================================================== \n",
      "\n"
     ]
    },
    {
     "name": "stderr",
     "output_type": "stream",
     "text": [
      "Target: Y0_0: 100%|█████████████████████████████| 20/20 [00:14<00:00,  1.35it/s]\n"
     ]
    },
    {
     "name": "stdout",
     "output_type": "stream",
     "text": [
      "======================================================================\n",
      "RUN: 0, model: Target Oracle, alpha: 0.3, beta: 0\n",
      "====================================================================== \n",
      "\n"
     ]
    },
    {
     "name": "stderr",
     "output_type": "stream",
     "text": [
      "Target: YS_0: 100%|█████████████████████████████| 20/20 [00:14<00:00,  1.38it/s]\n"
     ]
    },
    {
     "name": "stdout",
     "output_type": "stream",
     "text": [
      "======================================================================\n",
      "RUN: 0, model: OBS, alpha: 0.3, beta: 0.1\n",
      "====================================================================== \n",
      "\n"
     ]
    },
    {
     "name": "stderr",
     "output_type": "stream",
     "text": [
      "Target: Y0: 100%|███████████████████████████████| 20/20 [00:16<00:00,  1.20it/s]\n"
     ]
    },
    {
     "name": "stdout",
     "output_type": "stream",
     "text": [
      "======================================================================\n",
      "RUN: 0, model: COM, alpha: 0.3, beta: 0.1\n",
      "====================================================================== \n",
      "\n"
     ]
    },
    {
     "name": "stderr",
     "output_type": "stream",
     "text": [
      "Target: Y0: 100%|███████████████████████████████| 20/20 [00:14<00:00,  1.37it/s]\n"
     ]
    },
    {
     "name": "stdout",
     "output_type": "stream",
     "text": [
      "======================================================================\n",
      "RUN: 0, model: COM-SL, alpha: 0.3, beta: 0.1\n",
      "====================================================================== \n",
      "\n"
     ]
    },
    {
     "name": "stderr",
     "output_type": "stream",
     "text": [
      "Target: Y0: 100%|███████████████████████████████| 20/20 [00:15<00:00,  1.25it/s]\n"
     ]
    },
    {
     "name": "stdout",
     "output_type": "stream",
     "text": [
      "======================================================================\n",
      "RUN: 0, model: RW, alpha: 0.3, beta: 0.1\n",
      "====================================================================== \n",
      "\n"
     ]
    },
    {
     "name": "stderr",
     "output_type": "stream",
     "text": [
      "Target: Y0: 100%|███████████████████████████████| 20/20 [00:15<00:00,  1.29it/s]\n"
     ]
    },
    {
     "name": "stdout",
     "output_type": "stream",
     "text": [
      "======================================================================\n",
      "RUN: 0, model: RW-SL, alpha: 0.3, beta: 0.1\n",
      "====================================================================== \n",
      "\n"
     ]
    },
    {
     "name": "stderr",
     "output_type": "stream",
     "text": [
      "Target: Y0: 100%|███████████████████████████████| 20/20 [00:15<00:00,  1.30it/s]\n"
     ]
    },
    {
     "name": "stdout",
     "output_type": "stream",
     "text": [
      "======================================================================\n",
      "RUN: 0, model: Proxy Oracle, alpha: 0.3, beta: 0.1\n",
      "====================================================================== \n",
      "\n"
     ]
    },
    {
     "name": "stderr",
     "output_type": "stream",
     "text": [
      "Target: Y0_0: 100%|█████████████████████████████| 20/20 [00:14<00:00,  1.37it/s]\n"
     ]
    },
    {
     "name": "stdout",
     "output_type": "stream",
     "text": [
      "======================================================================\n",
      "RUN: 0, model: Target Oracle, alpha: 0.3, beta: 0.1\n",
      "====================================================================== \n",
      "\n"
     ]
    },
    {
     "name": "stderr",
     "output_type": "stream",
     "text": [
      "Target: YS_0: 100%|█████████████████████████████| 20/20 [00:14<00:00,  1.35it/s]\n"
     ]
    },
    {
     "name": "stdout",
     "output_type": "stream",
     "text": [
      "======================================================================\n",
      "RUN: 0, model: OBS, alpha: 0.3, beta: 0.2\n",
      "====================================================================== \n",
      "\n"
     ]
    },
    {
     "name": "stderr",
     "output_type": "stream",
     "text": [
      "Target: Y0: 100%|███████████████████████████████| 20/20 [00:17<00:00,  1.15it/s]\n"
     ]
    },
    {
     "name": "stdout",
     "output_type": "stream",
     "text": [
      "======================================================================\n",
      "RUN: 0, model: COM, alpha: 0.3, beta: 0.2\n",
      "====================================================================== \n",
      "\n"
     ]
    },
    {
     "name": "stderr",
     "output_type": "stream",
     "text": [
      "Target: Y0: 100%|███████████████████████████████| 20/20 [00:14<00:00,  1.37it/s]\n"
     ]
    },
    {
     "name": "stdout",
     "output_type": "stream",
     "text": [
      "======================================================================\n",
      "RUN: 0, model: COM-SL, alpha: 0.3, beta: 0.2\n",
      "====================================================================== \n",
      "\n"
     ]
    },
    {
     "name": "stderr",
     "output_type": "stream",
     "text": [
      "Target: Y0: 100%|███████████████████████████████| 20/20 [00:14<00:00,  1.36it/s]\n"
     ]
    },
    {
     "name": "stdout",
     "output_type": "stream",
     "text": [
      "======================================================================\n",
      "RUN: 0, model: RW, alpha: 0.3, beta: 0.2\n",
      "====================================================================== \n",
      "\n"
     ]
    },
    {
     "name": "stderr",
     "output_type": "stream",
     "text": [
      "Target: Y0: 100%|███████████████████████████████| 20/20 [00:14<00:00,  1.38it/s]\n"
     ]
    },
    {
     "name": "stdout",
     "output_type": "stream",
     "text": [
      "======================================================================\n",
      "RUN: 0, model: RW-SL, alpha: 0.3, beta: 0.2\n",
      "====================================================================== \n",
      "\n"
     ]
    },
    {
     "name": "stderr",
     "output_type": "stream",
     "text": [
      "Target: Y0: 100%|███████████████████████████████| 20/20 [00:16<00:00,  1.25it/s]\n"
     ]
    },
    {
     "name": "stdout",
     "output_type": "stream",
     "text": [
      "======================================================================\n",
      "RUN: 0, model: Proxy Oracle, alpha: 0.3, beta: 0.2\n",
      "====================================================================== \n",
      "\n"
     ]
    },
    {
     "name": "stderr",
     "output_type": "stream",
     "text": [
      "Target: Y0_0: 100%|█████████████████████████████| 20/20 [00:15<00:00,  1.31it/s]\n"
     ]
    },
    {
     "name": "stdout",
     "output_type": "stream",
     "text": [
      "======================================================================\n",
      "RUN: 0, model: Target Oracle, alpha: 0.3, beta: 0.2\n",
      "====================================================================== \n",
      "\n"
     ]
    },
    {
     "name": "stderr",
     "output_type": "stream",
     "text": [
      "Target: YS_0: 100%|█████████████████████████████| 20/20 [00:14<00:00,  1.37it/s]\n"
     ]
    },
    {
     "name": "stdout",
     "output_type": "stream",
     "text": [
      "======================================================================\n",
      "RUN: 0, model: OBS, alpha: 0.3, beta: 0.3\n",
      "====================================================================== \n",
      "\n"
     ]
    },
    {
     "name": "stderr",
     "output_type": "stream",
     "text": [
      "Target: Y0: 100%|███████████████████████████████| 20/20 [00:17<00:00,  1.17it/s]\n"
     ]
    },
    {
     "name": "stdout",
     "output_type": "stream",
     "text": [
      "======================================================================\n",
      "RUN: 0, model: COM, alpha: 0.3, beta: 0.3\n",
      "====================================================================== \n",
      "\n"
     ]
    },
    {
     "name": "stderr",
     "output_type": "stream",
     "text": [
      "Target: Y0: 100%|███████████████████████████████| 20/20 [00:15<00:00,  1.32it/s]\n"
     ]
    },
    {
     "name": "stdout",
     "output_type": "stream",
     "text": [
      "======================================================================\n",
      "RUN: 0, model: COM-SL, alpha: 0.3, beta: 0.3\n",
      "====================================================================== \n",
      "\n"
     ]
    },
    {
     "name": "stderr",
     "output_type": "stream",
     "text": [
      "Target: Y0: 100%|███████████████████████████████| 20/20 [00:15<00:00,  1.31it/s]\n"
     ]
    },
    {
     "name": "stdout",
     "output_type": "stream",
     "text": [
      "======================================================================\n",
      "RUN: 0, model: RW, alpha: 0.3, beta: 0.3\n",
      "====================================================================== \n",
      "\n"
     ]
    },
    {
     "name": "stderr",
     "output_type": "stream",
     "text": [
      "Target: Y0: 100%|███████████████████████████████| 20/20 [00:15<00:00,  1.27it/s]\n"
     ]
    },
    {
     "name": "stdout",
     "output_type": "stream",
     "text": [
      "======================================================================\n",
      "RUN: 0, model: RW-SL, alpha: 0.3, beta: 0.3\n",
      "====================================================================== \n",
      "\n"
     ]
    },
    {
     "name": "stderr",
     "output_type": "stream",
     "text": [
      "Target: Y0: 100%|███████████████████████████████| 20/20 [00:22<00:00,  1.12s/it]\n"
     ]
    },
    {
     "name": "stdout",
     "output_type": "stream",
     "text": [
      "======================================================================\n",
      "RUN: 0, model: Proxy Oracle, alpha: 0.3, beta: 0.3\n",
      "====================================================================== \n",
      "\n"
     ]
    },
    {
     "name": "stderr",
     "output_type": "stream",
     "text": [
      "Target: Y0_0: 100%|█████████████████████████████| 20/20 [00:20<00:00,  1.03s/it]\n"
     ]
    },
    {
     "name": "stdout",
     "output_type": "stream",
     "text": [
      "======================================================================\n",
      "RUN: 0, model: Target Oracle, alpha: 0.3, beta: 0.3\n",
      "====================================================================== \n",
      "\n"
     ]
    },
    {
     "name": "stderr",
     "output_type": "stream",
     "text": [
      "Target: YS_0: 100%|█████████████████████████████| 20/20 [00:15<00:00,  1.30it/s]\n"
     ]
    },
    {
     "name": "stdout",
     "output_type": "stream",
     "text": [
      "======================================================================\n",
      "RUN: 0, model: OBS, alpha: 0.3, beta: 0.4\n",
      "====================================================================== \n",
      "\n"
     ]
    },
    {
     "name": "stderr",
     "output_type": "stream",
     "text": [
      "Target: Y0: 100%|███████████████████████████████| 20/20 [00:17<00:00,  1.17it/s]\n"
     ]
    },
    {
     "name": "stdout",
     "output_type": "stream",
     "text": [
      "======================================================================\n",
      "RUN: 0, model: COM, alpha: 0.3, beta: 0.4\n",
      "====================================================================== \n",
      "\n"
     ]
    },
    {
     "name": "stderr",
     "output_type": "stream",
     "text": [
      "Target: Y0: 100%|███████████████████████████████| 20/20 [00:14<00:00,  1.36it/s]\n"
     ]
    },
    {
     "name": "stdout",
     "output_type": "stream",
     "text": [
      "======================================================================\n",
      "RUN: 0, model: COM-SL, alpha: 0.3, beta: 0.4\n",
      "====================================================================== \n",
      "\n"
     ]
    },
    {
     "name": "stderr",
     "output_type": "stream",
     "text": [
      "Target: Y0: 100%|███████████████████████████████| 20/20 [00:15<00:00,  1.26it/s]\n"
     ]
    },
    {
     "name": "stdout",
     "output_type": "stream",
     "text": [
      "======================================================================\n",
      "RUN: 0, model: RW, alpha: 0.3, beta: 0.4\n",
      "====================================================================== \n",
      "\n"
     ]
    },
    {
     "name": "stderr",
     "output_type": "stream",
     "text": [
      "Target: Y0: 100%|███████████████████████████████| 20/20 [00:15<00:00,  1.32it/s]\n"
     ]
    },
    {
     "name": "stdout",
     "output_type": "stream",
     "text": [
      "======================================================================\n",
      "RUN: 0, model: RW-SL, alpha: 0.3, beta: 0.4\n",
      "====================================================================== \n",
      "\n"
     ]
    },
    {
     "name": "stderr",
     "output_type": "stream",
     "text": [
      "Target: Y0: 100%|███████████████████████████████| 20/20 [00:16<00:00,  1.24it/s]\n"
     ]
    },
    {
     "name": "stdout",
     "output_type": "stream",
     "text": [
      "======================================================================\n",
      "RUN: 0, model: Proxy Oracle, alpha: 0.3, beta: 0.4\n",
      "====================================================================== \n",
      "\n"
     ]
    },
    {
     "name": "stderr",
     "output_type": "stream",
     "text": [
      "Target: Y0_0: 100%|█████████████████████████████| 20/20 [00:15<00:00,  1.32it/s]\n"
     ]
    },
    {
     "name": "stdout",
     "output_type": "stream",
     "text": [
      "======================================================================\n",
      "RUN: 0, model: Target Oracle, alpha: 0.3, beta: 0.4\n",
      "====================================================================== \n",
      "\n"
     ]
    },
    {
     "name": "stderr",
     "output_type": "stream",
     "text": [
      "Target: YS_0: 100%|█████████████████████████████| 20/20 [00:14<00:00,  1.34it/s]\n"
     ]
    },
    {
     "name": "stdout",
     "output_type": "stream",
     "text": [
      "======================================================================\n",
      "RUN: 0, model: OBS, alpha: 0.4, beta: 0\n",
      "====================================================================== \n",
      "\n"
     ]
    },
    {
     "name": "stderr",
     "output_type": "stream",
     "text": [
      "Target: Y0: 100%|███████████████████████████████| 20/20 [00:19<00:00,  1.03it/s]\n"
     ]
    },
    {
     "name": "stdout",
     "output_type": "stream",
     "text": [
      "======================================================================\n",
      "RUN: 0, model: COM, alpha: 0.4, beta: 0\n",
      "====================================================================== \n",
      "\n"
     ]
    },
    {
     "name": "stderr",
     "output_type": "stream",
     "text": [
      "Target: Y0: 100%|███████████████████████████████| 20/20 [00:15<00:00,  1.27it/s]\n"
     ]
    },
    {
     "name": "stdout",
     "output_type": "stream",
     "text": [
      "======================================================================\n",
      "RUN: 0, model: COM-SL, alpha: 0.4, beta: 0\n",
      "====================================================================== \n",
      "\n"
     ]
    },
    {
     "name": "stderr",
     "output_type": "stream",
     "text": [
      "Target: Y0: 100%|███████████████████████████████| 20/20 [00:16<00:00,  1.24it/s]\n"
     ]
    },
    {
     "name": "stdout",
     "output_type": "stream",
     "text": [
      "======================================================================\n",
      "RUN: 0, model: RW, alpha: 0.4, beta: 0\n",
      "====================================================================== \n",
      "\n"
     ]
    },
    {
     "name": "stderr",
     "output_type": "stream",
     "text": [
      "Target: Y0: 100%|███████████████████████████████| 20/20 [00:14<00:00,  1.37it/s]\n"
     ]
    },
    {
     "name": "stdout",
     "output_type": "stream",
     "text": [
      "======================================================================\n",
      "RUN: 0, model: RW-SL, alpha: 0.4, beta: 0\n",
      "====================================================================== \n",
      "\n"
     ]
    },
    {
     "name": "stderr",
     "output_type": "stream",
     "text": [
      "Target: Y0: 100%|███████████████████████████████| 20/20 [00:13<00:00,  1.44it/s]\n"
     ]
    },
    {
     "name": "stdout",
     "output_type": "stream",
     "text": [
      "======================================================================\n",
      "RUN: 0, model: Proxy Oracle, alpha: 0.4, beta: 0\n",
      "====================================================================== \n",
      "\n"
     ]
    },
    {
     "name": "stderr",
     "output_type": "stream",
     "text": [
      "Target: Y0_0: 100%|█████████████████████████████| 20/20 [00:12<00:00,  1.54it/s]\n"
     ]
    },
    {
     "name": "stdout",
     "output_type": "stream",
     "text": [
      "======================================================================\n",
      "RUN: 0, model: Target Oracle, alpha: 0.4, beta: 0\n",
      "====================================================================== \n",
      "\n"
     ]
    },
    {
     "name": "stderr",
     "output_type": "stream",
     "text": [
      "Target: YS_0: 100%|█████████████████████████████| 20/20 [00:13<00:00,  1.52it/s]\n"
     ]
    },
    {
     "name": "stdout",
     "output_type": "stream",
     "text": [
      "======================================================================\n",
      "RUN: 0, model: OBS, alpha: 0.4, beta: 0.1\n",
      "====================================================================== \n",
      "\n"
     ]
    },
    {
     "name": "stderr",
     "output_type": "stream",
     "text": [
      "Target: Y0: 100%|███████████████████████████████| 20/20 [00:18<00:00,  1.08it/s]\n"
     ]
    },
    {
     "name": "stdout",
     "output_type": "stream",
     "text": [
      "======================================================================\n",
      "RUN: 0, model: COM, alpha: 0.4, beta: 0.1\n",
      "====================================================================== \n",
      "\n"
     ]
    },
    {
     "name": "stderr",
     "output_type": "stream",
     "text": [
      "Target: Y0: 100%|███████████████████████████████| 20/20 [00:14<00:00,  1.36it/s]\n"
     ]
    },
    {
     "name": "stdout",
     "output_type": "stream",
     "text": [
      "======================================================================\n",
      "RUN: 0, model: COM-SL, alpha: 0.4, beta: 0.1\n",
      "====================================================================== \n",
      "\n"
     ]
    },
    {
     "name": "stderr",
     "output_type": "stream",
     "text": [
      "Target: Y0: 100%|███████████████████████████████| 20/20 [00:16<00:00,  1.22it/s]\n"
     ]
    },
    {
     "name": "stdout",
     "output_type": "stream",
     "text": [
      "======================================================================\n",
      "RUN: 0, model: RW, alpha: 0.4, beta: 0.1\n",
      "====================================================================== \n",
      "\n"
     ]
    },
    {
     "name": "stderr",
     "output_type": "stream",
     "text": [
      "Target: Y0: 100%|███████████████████████████████| 20/20 [00:14<00:00,  1.38it/s]\n"
     ]
    },
    {
     "name": "stdout",
     "output_type": "stream",
     "text": [
      "======================================================================\n",
      "RUN: 0, model: RW-SL, alpha: 0.4, beta: 0.1\n",
      "====================================================================== \n",
      "\n"
     ]
    },
    {
     "name": "stderr",
     "output_type": "stream",
     "text": [
      "Target: Y0: 100%|███████████████████████████████| 20/20 [00:14<00:00,  1.36it/s]\n"
     ]
    },
    {
     "name": "stdout",
     "output_type": "stream",
     "text": [
      "======================================================================\n",
      "RUN: 0, model: Proxy Oracle, alpha: 0.4, beta: 0.1\n",
      "====================================================================== \n",
      "\n"
     ]
    },
    {
     "name": "stderr",
     "output_type": "stream",
     "text": [
      "Target: Y0_0: 100%|█████████████████████████████| 20/20 [00:14<00:00,  1.39it/s]\n"
     ]
    },
    {
     "name": "stdout",
     "output_type": "stream",
     "text": [
      "======================================================================\n",
      "RUN: 0, model: Target Oracle, alpha: 0.4, beta: 0.1\n",
      "====================================================================== \n",
      "\n"
     ]
    },
    {
     "name": "stderr",
     "output_type": "stream",
     "text": [
      "Target: YS_0: 100%|█████████████████████████████| 20/20 [00:14<00:00,  1.41it/s]\n"
     ]
    },
    {
     "name": "stdout",
     "output_type": "stream",
     "text": [
      "======================================================================\n",
      "RUN: 0, model: OBS, alpha: 0.4, beta: 0.2\n",
      "====================================================================== \n",
      "\n"
     ]
    },
    {
     "name": "stderr",
     "output_type": "stream",
     "text": [
      "Target: Y0: 100%|███████████████████████████████| 20/20 [00:16<00:00,  1.22it/s]\n"
     ]
    },
    {
     "name": "stdout",
     "output_type": "stream",
     "text": [
      "======================================================================\n",
      "RUN: 0, model: COM, alpha: 0.4, beta: 0.2\n",
      "====================================================================== \n",
      "\n"
     ]
    },
    {
     "name": "stderr",
     "output_type": "stream",
     "text": [
      "Target: Y0: 100%|███████████████████████████████| 20/20 [00:14<00:00,  1.36it/s]\n"
     ]
    },
    {
     "name": "stdout",
     "output_type": "stream",
     "text": [
      "======================================================================\n",
      "RUN: 0, model: COM-SL, alpha: 0.4, beta: 0.2\n",
      "====================================================================== \n",
      "\n"
     ]
    },
    {
     "name": "stderr",
     "output_type": "stream",
     "text": [
      "Target: Y0: 100%|███████████████████████████████| 20/20 [00:15<00:00,  1.32it/s]\n"
     ]
    },
    {
     "name": "stdout",
     "output_type": "stream",
     "text": [
      "======================================================================\n",
      "RUN: 0, model: RW, alpha: 0.4, beta: 0.2\n",
      "====================================================================== \n",
      "\n"
     ]
    },
    {
     "name": "stderr",
     "output_type": "stream",
     "text": [
      "Target: Y0: 100%|███████████████████████████████| 20/20 [00:13<00:00,  1.51it/s]\n"
     ]
    },
    {
     "name": "stdout",
     "output_type": "stream",
     "text": [
      "======================================================================\n",
      "RUN: 0, model: RW-SL, alpha: 0.4, beta: 0.2\n",
      "====================================================================== \n",
      "\n"
     ]
    },
    {
     "name": "stderr",
     "output_type": "stream",
     "text": [
      "Target: Y0: 100%|███████████████████████████████| 20/20 [00:15<00:00,  1.30it/s]\n"
     ]
    },
    {
     "name": "stdout",
     "output_type": "stream",
     "text": [
      "======================================================================\n",
      "RUN: 0, model: Proxy Oracle, alpha: 0.4, beta: 0.2\n",
      "====================================================================== \n",
      "\n"
     ]
    },
    {
     "name": "stderr",
     "output_type": "stream",
     "text": [
      "Target: Y0_0: 100%|█████████████████████████████| 20/20 [00:14<00:00,  1.37it/s]\n"
     ]
    },
    {
     "name": "stdout",
     "output_type": "stream",
     "text": [
      "======================================================================\n",
      "RUN: 0, model: Target Oracle, alpha: 0.4, beta: 0.2\n",
      "====================================================================== \n",
      "\n"
     ]
    },
    {
     "name": "stderr",
     "output_type": "stream",
     "text": [
      "Target: YS_0: 100%|█████████████████████████████| 20/20 [00:16<00:00,  1.25it/s]\n"
     ]
    },
    {
     "name": "stdout",
     "output_type": "stream",
     "text": [
      "======================================================================\n",
      "RUN: 0, model: OBS, alpha: 0.4, beta: 0.3\n",
      "====================================================================== \n",
      "\n"
     ]
    },
    {
     "name": "stderr",
     "output_type": "stream",
     "text": [
      "Target: Y0: 100%|███████████████████████████████| 20/20 [00:17<00:00,  1.16it/s]\n"
     ]
    },
    {
     "name": "stdout",
     "output_type": "stream",
     "text": [
      "======================================================================\n",
      "RUN: 0, model: COM, alpha: 0.4, beta: 0.3\n",
      "====================================================================== \n",
      "\n"
     ]
    },
    {
     "name": "stderr",
     "output_type": "stream",
     "text": [
      "Target: Y0: 100%|███████████████████████████████| 20/20 [00:15<00:00,  1.29it/s]\n"
     ]
    },
    {
     "name": "stdout",
     "output_type": "stream",
     "text": [
      "======================================================================\n",
      "RUN: 0, model: COM-SL, alpha: 0.4, beta: 0.3\n",
      "====================================================================== \n",
      "\n"
     ]
    },
    {
     "name": "stderr",
     "output_type": "stream",
     "text": [
      "Target: Y0: 100%|███████████████████████████████| 20/20 [00:15<00:00,  1.29it/s]\n"
     ]
    },
    {
     "name": "stdout",
     "output_type": "stream",
     "text": [
      "======================================================================\n",
      "RUN: 0, model: RW, alpha: 0.4, beta: 0.3\n",
      "====================================================================== \n",
      "\n"
     ]
    },
    {
     "name": "stderr",
     "output_type": "stream",
     "text": [
      "Target: Y0: 100%|███████████████████████████████| 20/20 [00:16<00:00,  1.23it/s]\n"
     ]
    },
    {
     "name": "stdout",
     "output_type": "stream",
     "text": [
      "======================================================================\n",
      "RUN: 0, model: RW-SL, alpha: 0.4, beta: 0.3\n",
      "====================================================================== \n",
      "\n"
     ]
    },
    {
     "name": "stderr",
     "output_type": "stream",
     "text": [
      "Target: Y0: 100%|███████████████████████████████| 20/20 [00:17<00:00,  1.17it/s]\n"
     ]
    },
    {
     "name": "stdout",
     "output_type": "stream",
     "text": [
      "======================================================================\n",
      "RUN: 0, model: Proxy Oracle, alpha: 0.4, beta: 0.3\n",
      "====================================================================== \n",
      "\n"
     ]
    },
    {
     "name": "stderr",
     "output_type": "stream",
     "text": [
      "Target: Y0_0: 100%|█████████████████████████████| 20/20 [00:14<00:00,  1.34it/s]\n"
     ]
    },
    {
     "name": "stdout",
     "output_type": "stream",
     "text": [
      "======================================================================\n",
      "RUN: 0, model: Target Oracle, alpha: 0.4, beta: 0.3\n",
      "====================================================================== \n",
      "\n"
     ]
    },
    {
     "name": "stderr",
     "output_type": "stream",
     "text": [
      "Target: YS_0: 100%|█████████████████████████████| 20/20 [00:16<00:00,  1.23it/s]\n"
     ]
    },
    {
     "name": "stdout",
     "output_type": "stream",
     "text": [
      "======================================================================\n",
      "RUN: 0, model: OBS, alpha: 0.4, beta: 0.4\n",
      "====================================================================== \n",
      "\n"
     ]
    },
    {
     "name": "stderr",
     "output_type": "stream",
     "text": [
      "Target: Y0: 100%|███████████████████████████████| 20/20 [00:16<00:00,  1.18it/s]\n"
     ]
    },
    {
     "name": "stdout",
     "output_type": "stream",
     "text": [
      "======================================================================\n",
      "RUN: 0, model: COM, alpha: 0.4, beta: 0.4\n",
      "====================================================================== \n",
      "\n"
     ]
    },
    {
     "name": "stderr",
     "output_type": "stream",
     "text": [
      "Target: Y0: 100%|███████████████████████████████| 20/20 [00:14<00:00,  1.39it/s]\n"
     ]
    },
    {
     "name": "stdout",
     "output_type": "stream",
     "text": [
      "======================================================================\n",
      "RUN: 0, model: COM-SL, alpha: 0.4, beta: 0.4\n",
      "====================================================================== \n",
      "\n"
     ]
    },
    {
     "name": "stderr",
     "output_type": "stream",
     "text": [
      "Target: Y0: 100%|███████████████████████████████| 20/20 [00:14<00:00,  1.42it/s]\n"
     ]
    },
    {
     "name": "stdout",
     "output_type": "stream",
     "text": [
      "======================================================================\n",
      "RUN: 0, model: RW, alpha: 0.4, beta: 0.4\n",
      "====================================================================== \n",
      "\n"
     ]
    },
    {
     "name": "stderr",
     "output_type": "stream",
     "text": [
      "Target: Y0: 100%|███████████████████████████████| 20/20 [00:14<00:00,  1.41it/s]\n"
     ]
    },
    {
     "name": "stdout",
     "output_type": "stream",
     "text": [
      "======================================================================\n",
      "RUN: 0, model: RW-SL, alpha: 0.4, beta: 0.4\n",
      "====================================================================== \n",
      "\n"
     ]
    },
    {
     "name": "stderr",
     "output_type": "stream",
     "text": [
      "Target: Y0: 100%|███████████████████████████████| 20/20 [00:18<00:00,  1.08it/s]\n"
     ]
    },
    {
     "name": "stdout",
     "output_type": "stream",
     "text": [
      "======================================================================\n",
      "RUN: 0, model: Proxy Oracle, alpha: 0.4, beta: 0.4\n",
      "====================================================================== \n",
      "\n"
     ]
    },
    {
     "name": "stderr",
     "output_type": "stream",
     "text": [
      "Target: Y0_0: 100%|█████████████████████████████| 20/20 [00:15<00:00,  1.28it/s]\n"
     ]
    },
    {
     "name": "stdout",
     "output_type": "stream",
     "text": [
      "======================================================================\n",
      "RUN: 0, model: Target Oracle, alpha: 0.4, beta: 0.4\n",
      "====================================================================== \n",
      "\n"
     ]
    },
    {
     "name": "stderr",
     "output_type": "stream",
     "text": [
      "Target: YS_0: 100%|█████████████████████████████| 20/20 [00:17<00:00,  1.15it/s]\n"
     ]
    }
   ],
   "source": [
    "Y0_PDF = 'piecewise_sinusoid'\n",
    "Y1_PDF = 'low_base_rate_sinusoid'\n",
    "PI_PDF = 'linear'\n",
    "\n",
    "N_RUNS=1\n",
    "NS=10000\n",
    "n_epochs=20\n",
    "\n",
    "exp_results = run_baseline_comparison_exp_grid(\n",
    "    baselines,\n",
    "    param_configs,\n",
    "    do=do,\n",
    "    N_RUNS=N_RUNS,\n",
    "    NS=NS,\n",
    "    pi_pdf='linear',\n",
    "    K=1,\n",
    "    n_epochs=n_epochs\n",
    ")\n"
   ]
  },
  {
   "cell_type": "code",
   "execution_count": null,
   "id": "08c1a1e3",
   "metadata": {},
   "outputs": [],
   "source": [
    "def eta(x, environment):\n",
    "    if environment=='sinusoid':\n",
    "        return .5 + .5 * np.sin(2.9*x + .1)\n",
    "\n",
    "    elif environment=='piecewise_sinusoid':\n",
    "        return np.piecewise(x,[\n",
    "            ((-1 <= x) & (x <= -.61)),\n",
    "            ((-.61 < x) & (x <= 0.921)),\n",
    "            ((0.921 < x) & (x <= 1))],  \n",
    "            [lambda v: .4+.4*np.cos(9*v+5.5), \n",
    "            lambda v: .5+.3*np.sin(8*v+.9)+.15*np.sin(10*v+.2)+.05*np.sin(30*v+.2),\n",
    "            lambda v: np.power(v, 3)])\n",
    "\n",
    "    elif environment=='low_base_rate_sinusoid':\n",
    "        return .5-.5 * np.sin(2.9*x+.1)\n",
    "\n",
    "    else: \n",
    "        return np.piecewise(x,[\n",
    "            ((-1 <= x) & (x <= -.5)),\n",
    "            ((-.5 < x) & (x <= 0.2069)),\n",
    "            ((0.2069 < x) & (x <= 0.8)),\n",
    "            ((0.8 < x) & (x <= 1))],  \n",
    "            [lambda v: -1.5*v-.75, \n",
    "             lambda v: 1.4*v+.7,\n",
    "             lambda v: -1.5*v+1.3,\n",
    "             lambda v: 1.25*v - .9 ])\n",
    "    \n",
    "    \n",
    "    "
   ]
  },
  {
   "cell_type": "code",
   "execution_count": 44,
   "id": "de848ff9",
   "metadata": {},
   "outputs": [
    {
     "data": {
      "text/html": [
       "<div>\n",
       "<style scoped>\n",
       "    .dataframe tbody tr th:only-of-type {\n",
       "        vertical-align: middle;\n",
       "    }\n",
       "\n",
       "    .dataframe tbody tr th {\n",
       "        vertical-align: top;\n",
       "    }\n",
       "\n",
       "    .dataframe thead th {\n",
       "        text-align: right;\n",
       "    }\n",
       "</style>\n",
       "<table border=\"1\" class=\"dataframe\">\n",
       "  <thead>\n",
       "    <tr style=\"text-align: right;\">\n",
       "      <th></th>\n",
       "      <th>model</th>\n",
       "      <th>AU-ROC</th>\n",
       "      <th>ACC</th>\n",
       "      <th>alpha</th>\n",
       "      <th>beta</th>\n",
       "    </tr>\n",
       "  </thead>\n",
       "  <tbody>\n",
       "    <tr>\n",
       "      <th>112</th>\n",
       "      <td>OBS</td>\n",
       "      <td>0.500000</td>\n",
       "      <td>0.496667</td>\n",
       "      <td>0.3</td>\n",
       "      <td>0.1</td>\n",
       "    </tr>\n",
       "    <tr>\n",
       "      <th>113</th>\n",
       "      <td>COM</td>\n",
       "      <td>0.764978</td>\n",
       "      <td>0.709667</td>\n",
       "      <td>0.3</td>\n",
       "      <td>0.1</td>\n",
       "    </tr>\n",
       "    <tr>\n",
       "      <th>114</th>\n",
       "      <td>COM-SL</td>\n",
       "      <td>0.656991</td>\n",
       "      <td>0.496667</td>\n",
       "      <td>0.3</td>\n",
       "      <td>0.1</td>\n",
       "    </tr>\n",
       "    <tr>\n",
       "      <th>115</th>\n",
       "      <td>RW</td>\n",
       "      <td>0.848135</td>\n",
       "      <td>0.770000</td>\n",
       "      <td>0.3</td>\n",
       "      <td>0.1</td>\n",
       "    </tr>\n",
       "    <tr>\n",
       "      <th>116</th>\n",
       "      <td>RW-SL</td>\n",
       "      <td>0.806691</td>\n",
       "      <td>0.496667</td>\n",
       "      <td>0.3</td>\n",
       "      <td>0.1</td>\n",
       "    </tr>\n",
       "    <tr>\n",
       "      <th>117</th>\n",
       "      <td>Proxy Oracle</td>\n",
       "      <td>0.768344</td>\n",
       "      <td>0.711000</td>\n",
       "      <td>0.3</td>\n",
       "      <td>0.1</td>\n",
       "    </tr>\n",
       "    <tr>\n",
       "      <th>118</th>\n",
       "      <td>Target Oracle</td>\n",
       "      <td>0.849632</td>\n",
       "      <td>0.783333</td>\n",
       "      <td>0.3</td>\n",
       "      <td>0.1</td>\n",
       "    </tr>\n",
       "  </tbody>\n",
       "</table>\n",
       "</div>"
      ],
      "text/plain": [
       "             model    AU-ROC       ACC  alpha  beta\n",
       "112            OBS  0.500000  0.496667    0.3   0.1\n",
       "113            COM  0.764978  0.709667    0.3   0.1\n",
       "114         COM-SL  0.656991  0.496667    0.3   0.1\n",
       "115             RW  0.848135  0.770000    0.3   0.1\n",
       "116          RW-SL  0.806691  0.496667    0.3   0.1\n",
       "117   Proxy Oracle  0.768344  0.711000    0.3   0.1\n",
       "118  Target Oracle  0.849632  0.783333    0.3   0.1"
      ]
     },
     "execution_count": 44,
     "metadata": {},
     "output_type": "execute_result"
    }
   ],
   "source": [
    "v = pd.DataFrame(exp_results)\n",
    "\n",
    "\n",
    "\n",
    "v[(v['alpha'] == 0.3) & (v['beta'] == 0.1)]\n"
   ]
  },
  {
   "cell_type": "code",
   "execution_count": 21,
   "id": "34d0d7f5",
   "metadata": {},
   "outputs": [
    {
     "ename": "NameError",
     "evalue": "name 'resultdf' is not defined",
     "output_type": "error",
     "traceback": [
      "\u001b[0;31m---------------------------------------------------------------------------\u001b[0m",
      "\u001b[0;31mNameError\u001b[0m                                 Traceback (most recent call last)",
      "Input \u001b[0;32mIn [21]\u001b[0m, in \u001b[0;36m<cell line: 1>\u001b[0;34m()\u001b[0m\n\u001b[0;32m----> 1\u001b[0m \u001b[38;5;28mprint\u001b[39m(\u001b[43mresultdf\u001b[49m\u001b[38;5;241m.\u001b[39mgroupby(\u001b[38;5;124m'\u001b[39m\u001b[38;5;124mmodel\u001b[39m\u001b[38;5;124m'\u001b[39m)\u001b[38;5;241m.\u001b[39mmean())\n\u001b[1;32m      3\u001b[0m sns\u001b[38;5;241m.\u001b[39mset(font_scale\u001b[38;5;241m=\u001b[39m\u001b[38;5;241m1.2\u001b[39m)\n\u001b[1;32m      4\u001b[0m g\u001b[38;5;241m=\u001b[39msns\u001b[38;5;241m.\u001b[39mbarplot(data\u001b[38;5;241m=\u001b[39mresultdf[resultdf[\u001b[38;5;124m'\u001b[39m\u001b[38;5;124malpha\u001b[39m\u001b[38;5;124m'\u001b[39m] \u001b[38;5;241m==\u001b[39m \u001b[38;5;241m.3\u001b[39m], x\u001b[38;5;241m=\u001b[39m\u001b[38;5;124m'\u001b[39m\u001b[38;5;124mmodel\u001b[39m\u001b[38;5;124m'\u001b[39m, y\u001b[38;5;241m=\u001b[39m\u001b[38;5;124m'\u001b[39m\u001b[38;5;124mACC\u001b[39m\u001b[38;5;124m'\u001b[39m, capsize\u001b[38;5;241m=\u001b[39m\u001b[38;5;241m.2\u001b[39m)\n",
      "\u001b[0;31mNameError\u001b[0m: name 'resultdf' is not defined"
     ]
    }
   ],
   "source": [
    "print(resultdf.groupby('model').mean())\n",
    "\n",
    "sns.set(font_scale=1.2)\n",
    "g=sns.barplot(data=resultdf[resultdf['alpha'] == .3], x='model', y='ACC', capsize=.2)\n",
    "plt.xticks(rotation=45)\n",
    "plt.ylabel('AU-ROC')\n",
    "plt.xlabel('')\n",
    "\n",
    "sns.set(font_scale=1.2)\n",
    "g=sns.barplot(data=resdf, x='model', y='ACC', capsize=.2)\n",
    "plt.xticks(rotation=45)\n",
    "plt.ylabel('Accuracy')\n",
    "plt.xlabel('')"
   ]
  },
  {
   "cell_type": "markdown",
   "id": "98097431",
   "metadata": {},
   "source": [
    "## Experiment: comparison among baselines"
   ]
  },
  {
   "cell_type": "code",
   "execution_count": 40,
   "id": "421b6f6b",
   "metadata": {},
   "outputs": [
    {
     "name": "stdout",
     "output_type": "stream",
     "text": [
      "\\begin{tabular}{lllr}\n",
      "\\toprule\n",
      "    &     &                  &       ACC \\\\\n",
      "alpha & beta & model &           \\\\\n",
      "\\midrule\n",
      "0.0 & 0.0 & Conditional outcome &  0.756200 \\\\\n",
      "    &     & Conditional outcome (SL) &  0.771900 \\\\\n",
      "    &     & Observational &  0.556967 \\\\\n",
      "    &     & Proxy PO Oracle &  0.755400 \\\\\n",
      "    &     & Target PO Oracle &  0.726600 \\\\\n",
      "0.1 & 0.3 & Conditional outcome &  0.630800 \\\\\n",
      "    &     & Conditional outcome (SL) &  0.762400 \\\\\n",
      "    &     & Observational &  0.545800 \\\\\n",
      "    &     & Proxy PO Oracle &  0.658467 \\\\\n",
      "    &     & Target PO Oracle &  0.757900 \\\\\n",
      "0.2 & 0.2 & Conditional outcome &  0.721467 \\\\\n",
      "    &     & Conditional outcome (SL) &  0.693050 \\\\\n",
      "    &     & Observational &  0.537733 \\\\\n",
      "    &     & Proxy PO Oracle &  0.754067 \\\\\n",
      "    &     & Target PO Oracle &  0.707783 \\\\\n",
      "0.3 & 0.1 & Conditional outcome &  0.679267 \\\\\n",
      "    &     & Conditional outcome (SL) &  0.730867 \\\\\n",
      "    &     & Observational &  0.585333 \\\\\n",
      "    &     & Proxy PO Oracle &  0.646400 \\\\\n",
      "    &     & Target PO Oracle &  0.729533 \\\\\n",
      "\\bottomrule\n",
      "\\end{tabular}\n",
      "\n",
      "\\begin{tabular}{lllr}\n",
      "\\toprule\n",
      "    &     &                  &       ACC \\\\\n",
      "alpha & beta & model &           \\\\\n",
      "\\midrule\n",
      "0.0 & 0.0 & Conditional outcome &  0.034641 \\\\\n",
      "    &     & Conditional outcome (SL) &  0.005407 \\\\\n",
      "    &     & Observational &  0.060910 \\\\\n",
      "    &     & Proxy PO Oracle &  0.036440 \\\\\n",
      "    &     & Target PO Oracle &  0.075372 \\\\\n",
      "0.1 & 0.3 & Conditional outcome &  0.087893 \\\\\n",
      "    &     & Conditional outcome (SL) &  0.008565 \\\\\n",
      "    &     & Observational &  0.017803 \\\\\n",
      "    &     & Proxy PO Oracle &  0.117487 \\\\\n",
      "    &     & Target PO Oracle &  0.029616 \\\\\n",
      "0.2 & 0.2 & Conditional outcome &  0.077797 \\\\\n",
      "    &     & Conditional outcome (SL) &  0.096063 \\\\\n",
      "    &     & Observational &  0.046530 \\\\\n",
      "    &     & Proxy PO Oracle &  0.038545 \\\\\n",
      "    &     & Target PO Oracle &  0.094678 \\\\\n",
      "0.3 & 0.1 & Conditional outcome &  0.089297 \\\\\n",
      "    &     & Conditional outcome (SL) &  0.068210 \\\\\n",
      "    &     & Observational &  0.035278 \\\\\n",
      "    &     & Proxy PO Oracle &  0.124342 \\\\\n",
      "    &     & Target PO Oracle &  0.093779 \\\\\n",
      "\\bottomrule\n",
      "\\end{tabular}\n",
      "\n"
     ]
    },
    {
     "name": "stderr",
     "output_type": "stream",
     "text": [
      "/var/folders/w_/rwxvw5hn1ng2qvm6353gkvqw0000gr/T/ipykernel_2952/2909102595.py:7: FutureWarning: In future versions `DataFrame.to_latex` is expected to utilise the base implementation of `Styler.to_latex` for formatting and rendering. The arguments signature may therefore change. It is recommended instead to use `DataFrame.style.to_latex` which also contains additional functionality.\n",
      "  print(means.to_latex())\n",
      "/var/folders/w_/rwxvw5hn1ng2qvm6353gkvqw0000gr/T/ipykernel_2952/2909102595.py:10: FutureWarning: In future versions `DataFrame.to_latex` is expected to utilise the base implementation of `Styler.to_latex` for formatting and rendering. The arguments signature may therefore change. It is recommended instead to use `DataFrame.style.to_latex` which also contains additional functionality.\n",
      "  print(stds.to_latex())\n"
     ]
    }
   ],
   "source": [
    "r1df = pd.read_csv('results/2-2-main_exp_results.csv')\n",
    "r2df = pd.read_csv('results/exp1_grid_results_NR=10_NS=10000_E=40.csv')\n",
    "\n",
    "\n",
    "resdf = pd.concat([r1df, r2df])\n",
    "means = resdf.groupby(['alpha', 'beta', 'model']).mean()['ACC']\n",
    "print(means.to_latex())\n",
    "\n",
    "stds = resdf.groupby(['alpha', 'beta', 'model']).std()['ACC']\n",
    "print(stds.to_latex())\n"
   ]
  },
  {
   "cell_type": "markdown",
   "id": "128f2a44",
   "metadata": {},
   "source": [
    "## Main Experiment: parameter estimation via CCPE"
   ]
  },
  {
   "cell_type": "code",
   "execution_count": null,
   "id": "d806e065",
   "metadata": {},
   "outputs": [],
   "source": [
    "SAMPLE_SIZES = [1000, 2000, 3000, 4000, 5000, 10000, 20000]\n",
    "exp_results, py_results = ccpe_benchmark_exp(SAMPLE_SIZES, N_RUNS=150, K=1, n_epochs=30)\n",
    "result_df = get_ccpe_result_df(do=1, exp_results=exp_results)"
   ]
  },
  {
   "cell_type": "code",
   "execution_count": 57,
   "id": "d0202dc6",
   "metadata": {},
   "outputs": [
    {
     "data": {
      "image/png": "[encoded data removed]",
      "text/plain": [
       "<Figure size 432x288 with 1 Axes>"
      ]
     },
     "metadata": {},
     "output_type": "display_data"
    }
   ],
   "source": [
    "result_df = pd.read_csv('results/R7_K=1_N_RUNS=150_n_epochs=30_d0.csv')\n",
    "result_df = result_df[result_df['aggregate'] == False]\n",
    "\n",
    "sns.set(font_scale=1.8)\n",
    "sns.set_theme(style=\"whitegrid\", \n",
    "              palette=sns.color_palette(), \n",
    "              font_scale=1.4)\n",
    "\n",
    "g = sns.pointplot(\n",
    "    data=result_df,\n",
    "    x='NS',\n",
    "    y='error',\n",
    "    hue='parameter',\n",
    "    capsize=.4,\n",
    "    legend=True,\n",
    "    errorbar=\"se\"\n",
    ")\n",
    "g.set(xlabel='# of samples', ylabel='Mean absolute error')\n",
    "black_patch = mpatches.Patch(color=sns.color_palette()[1], label=r'$|\\beta_0 - \\hat{\\beta}_0|$')\n",
    "red_patch = mpatches.Patch(color=sns.color_palette()[0], label=r'$|\\alpha_0 - \\hat{\\alpha}_0|$')\n",
    "\n",
    "plt.legend(handles=[black_patch, red_patch])\n",
    "\n",
    "plt.savefig('figs/estimation_error.png', dpi=500, bbox_inches='tight')\n"
   ]
  },
  {
   "cell_type": "markdown",
   "id": "e0d1513a",
   "metadata": {},
   "source": [
    "## Experiment: Robustness to parameter estimation Error"
   ]
  },
  {
   "cell_type": "code",
   "execution_count": 5,
   "id": "2de2a7bd",
   "metadata": {
    "scrolled": true
   },
   "outputs": [
    {
     "name": "stdout",
     "output_type": "stream",
     "text": [
      "surroate params {'alpha': 0.0, 'beta': 0}\n"
     ]
    },
    {
     "name": "stderr",
     "output_type": "stream",
     "text": [
      "Target: Y0: 100%|███████████████████████████████████████████████████████████████████████████████| 5/5 [00:03<00:00,  1.39it/s]\n"
     ]
    },
    {
     "name": "stdout",
     "output_type": "stream",
     "text": [
      "surroate params {'alpha': 0.05, 'beta': 0}\n"
     ]
    },
    {
     "name": "stderr",
     "output_type": "stream",
     "text": [
      "Target: Y0: 100%|███████████████████████████████████████████████████████████████████████████████| 5/5 [00:03<00:00,  1.43it/s]\n"
     ]
    },
    {
     "name": "stdout",
     "output_type": "stream",
     "text": [
      "surroate params {'alpha': 0.1, 'beta': 0}\n"
     ]
    },
    {
     "name": "stderr",
     "output_type": "stream",
     "text": [
      "Target: Y0: 100%|███████████████████████████████████████████████████████████████████████████████| 5/5 [00:04<00:00,  1.24it/s]\n"
     ]
    },
    {
     "name": "stdout",
     "output_type": "stream",
     "text": [
      "surroate params {'alpha': 0.15, 'beta': 0}\n"
     ]
    },
    {
     "name": "stderr",
     "output_type": "stream",
     "text": [
      "Target: Y0: 100%|███████████████████████████████████████████████████████████████████████████████| 5/5 [00:05<00:00,  1.07s/it]\n"
     ]
    },
    {
     "name": "stdout",
     "output_type": "stream",
     "text": [
      "surroate params {'alpha': 0.2, 'beta': 0}\n"
     ]
    },
    {
     "name": "stderr",
     "output_type": "stream",
     "text": [
      "Target: Y0: 100%|███████████████████████████████████████████████████████████████████████████████| 5/5 [00:03<00:00,  1.30it/s]\n"
     ]
    },
    {
     "name": "stdout",
     "output_type": "stream",
     "text": [
      "surroate params {'alpha': 0.0, 'beta': 0}\n"
     ]
    },
    {
     "name": "stderr",
     "output_type": "stream",
     "text": [
      "Target: Y0: 100%|███████████████████████████████████████████████████████████████████████████████| 5/5 [00:05<00:00,  1.05s/it]\n"
     ]
    },
    {
     "name": "stdout",
     "output_type": "stream",
     "text": [
      "surroate params {'alpha': 0.05, 'beta': 0}\n"
     ]
    },
    {
     "name": "stderr",
     "output_type": "stream",
     "text": [
      "Target: Y0: 100%|███████████████████████████████████████████████████████████████████████████████| 5/5 [00:04<00:00,  1.24it/s]\n"
     ]
    },
    {
     "name": "stdout",
     "output_type": "stream",
     "text": [
      "surroate params {'alpha': 0.1, 'beta': 0}\n"
     ]
    },
    {
     "name": "stderr",
     "output_type": "stream",
     "text": [
      "Target: Y0: 100%|███████████████████████████████████████████████████████████████████████████████| 5/5 [00:04<00:00,  1.06it/s]\n"
     ]
    },
    {
     "name": "stdout",
     "output_type": "stream",
     "text": [
      "surroate params {'alpha': 0.15, 'beta': 0}\n"
     ]
    },
    {
     "name": "stderr",
     "output_type": "stream",
     "text": [
      "Target: Y0: 100%|███████████████████████████████████████████████████████████████████████████████| 5/5 [00:03<00:00,  1.29it/s]\n"
     ]
    },
    {
     "name": "stdout",
     "output_type": "stream",
     "text": [
      "surroate params {'alpha': 0.2, 'beta': 0}\n"
     ]
    },
    {
     "name": "stderr",
     "output_type": "stream",
     "text": [
      "Target: Y0: 100%|███████████████████████████████████████████████████████████████████████████████| 5/5 [00:03<00:00,  1.35it/s]\n"
     ]
    },
    {
     "name": "stdout",
     "output_type": "stream",
     "text": [
      "surroate params {'alpha': 0.25, 'beta': 0}\n"
     ]
    },
    {
     "name": "stderr",
     "output_type": "stream",
     "text": [
      "Target: Y0: 100%|███████████████████████████████████████████████████████████████████████████████| 5/5 [00:03<00:00,  1.34it/s]\n"
     ]
    },
    {
     "name": "stdout",
     "output_type": "stream",
     "text": [
      "surroate params {'alpha': 0.3, 'beta': 0}\n"
     ]
    },
    {
     "name": "stderr",
     "output_type": "stream",
     "text": [
      "Target: Y0: 100%|███████████████████████████████████████████████████████████████████████████████| 5/5 [00:03<00:00,  1.38it/s]\n"
     ]
    },
    {
     "name": "stdout",
     "output_type": "stream",
     "text": [
      "surroate params {'alpha': 0.35, 'beta': 0}\n"
     ]
    },
    {
     "name": "stderr",
     "output_type": "stream",
     "text": [
      "Target: Y0: 100%|███████████████████████████████████████████████████████████████████████████████| 5/5 [00:03<00:00,  1.40it/s]\n"
     ]
    },
    {
     "name": "stdout",
     "output_type": "stream",
     "text": [
      "surroate params {'alpha': 0.4, 'beta': 0}\n"
     ]
    },
    {
     "name": "stderr",
     "output_type": "stream",
     "text": [
      "Target: Y0: 100%|███████████████████████████████████████████████████████████████████████████████| 5/5 [00:03<00:00,  1.42it/s]\n"
     ]
    },
    {
     "name": "stdout",
     "output_type": "stream",
     "text": [
      "surroate params {'alpha': 0.2, 'beta': 0}\n"
     ]
    },
    {
     "name": "stderr",
     "output_type": "stream",
     "text": [
      "Target: Y0: 100%|███████████████████████████████████████████████████████████████████████████████| 5/5 [00:03<00:00,  1.44it/s]\n"
     ]
    },
    {
     "name": "stdout",
     "output_type": "stream",
     "text": [
      "surroate params {'alpha': 0.25, 'beta': 0}\n"
     ]
    },
    {
     "name": "stderr",
     "output_type": "stream",
     "text": [
      "Target: Y0: 100%|███████████████████████████████████████████████████████████████████████████████| 5/5 [00:03<00:00,  1.27it/s]\n"
     ]
    },
    {
     "name": "stdout",
     "output_type": "stream",
     "text": [
      "surroate params {'alpha': 0.3, 'beta': 0}\n"
     ]
    },
    {
     "name": "stderr",
     "output_type": "stream",
     "text": [
      "Target: Y0: 100%|███████████████████████████████████████████████████████████████████████████████| 5/5 [00:03<00:00,  1.34it/s]\n"
     ]
    },
    {
     "name": "stdout",
     "output_type": "stream",
     "text": [
      "surroate params {'alpha': 0.35, 'beta': 0}\n"
     ]
    },
    {
     "name": "stderr",
     "output_type": "stream",
     "text": [
      "Target: Y0: 100%|███████████████████████████████████████████████████████████████████████████████| 5/5 [00:03<00:00,  1.33it/s]\n"
     ]
    },
    {
     "name": "stdout",
     "output_type": "stream",
     "text": [
      "surroate params {'alpha': 0.4, 'beta': 0}\n"
     ]
    },
    {
     "name": "stderr",
     "output_type": "stream",
     "text": [
      "Target: Y0: 100%|███████████████████████████████████████████████████████████████████████████████| 5/5 [00:03<00:00,  1.35it/s]\n"
     ]
    },
    {
     "name": "stdout",
     "output_type": "stream",
     "text": [
      "surroate params {'alpha': 0.45, 'beta': 0}\n"
     ]
    },
    {
     "name": "stderr",
     "output_type": "stream",
     "text": [
      "Target: Y0: 100%|███████████████████████████████████████████████████████████████████████████████| 5/5 [00:03<00:00,  1.44it/s]\n"
     ]
    },
    {
     "name": "stdout",
     "output_type": "stream",
     "text": [
      "surroate params {'alpha': 0.5, 'beta': 0}\n"
     ]
    },
    {
     "name": "stderr",
     "output_type": "stream",
     "text": [
      "Target: Y0: 100%|███████████████████████████████████████████████████████████████████████████████| 5/5 [00:03<00:00,  1.48it/s]\n"
     ]
    }
   ],
   "source": [
    "params = np.array([0, .2, .4])\n",
    "errors = np.array([-.2, -.15, -.1, -.05, 0, .05, .1, .15, .2])\n",
    "configs = []\n",
    "\n",
    "for param in params: \n",
    "    for error in errors:\n",
    "        estimate = round(param+error, 2)\n",
    "        if estimate>=0 and estimate<=.5:\n",
    "            configs.append({\n",
    "                'param': param,\n",
    "                'estimate': estimate\n",
    "            })\n",
    "\n",
    "exp_results = run_estimation_error_exp(do=0, param_configs=configs, error_param='alpha',\n",
    "                                       NS=5000, N_RUNS=1, n_epochs=5, train_ratio=.7)"
   ]
  },
  {
   "cell_type": "markdown",
   "id": "48f8adf2",
   "metadata": {},
   "source": [
    "## Experiment 3 - Robustness plots "
   ]
  },
  {
   "cell_type": "code",
   "execution_count": 2,
   "id": "293d26e8",
   "metadata": {},
   "outputs": [],
   "source": [
    "alpha_robustness_results = pd.read_csv('results/alpha_stress_tests.csv')\n",
    "beta_robustness_results = pd.read_csv('results/beta_stress_tests.csv')\n",
    "# beta_robustness_results['parameter'] = 'beta'\n",
    "alpha_robustness_results['bias'] = (alpha_robustness_results['alpha_hat'] - alpha_robustness_results['alpha']).round(decimals=2)\n",
    "beta_robustness_results['bias'] = (beta_robustness_results['beta_hat'] - beta_robustness_results['beta']).round(decimals=2)\n",
    "robustness_results = pd.concat([alpha_robustness_results, beta_robustness_results])\n",
    "\n",
    "alpha_robustness_results = alpha_robustness_results[alpha_robustness_results['alpha'] > 0]\n",
    "beta_robustness_results = beta_robustness_results[beta_robustness_results['beta'] > 0]\n",
    "\n"
   ]
  },
  {
   "cell_type": "code",
   "execution_count": 35,
   "id": "d00388a7",
   "metadata": {},
   "outputs": [
    {
     "data": {
      "text/plain": [
       "<Figure size 720x360 with 0 Axes>"
      ]
     },
     "metadata": {},
     "output_type": "display_data"
    },
    {
     "data": {
      "image/png": "[encoded data removed]",
      "text/plain": [
       "<Figure size 972x432 with 3 Axes>"
      ]
     },
     "metadata": {},
     "output_type": "display_data"
    },
    {
     "data": {
      "image/png": "[encoded data removed]",
      "text/plain": [
       "<Figure size 972x432 with 3 Axes>"
      ]
     },
     "metadata": {},
     "output_type": "display_data"
    }
   ],
   "source": [
    "import matplotlib.ticker as tkr\n",
    "sns.set_theme(style=\"whitegrid\", \n",
    "              palette=sns.color_palette(), \n",
    "              font_scale=1.7)\n",
    "\n",
    "# Draw a pointplot to show pulse as a function of three categorical factors\n",
    "plt.figure(figsize=(10,5))\n",
    "g = sns.catplot(\n",
    "    data=alpha_robustness_results, x=\"bias\", y=\"ACC\",  col=\"alpha\",  capsize=.2, \n",
    "    kind=\"point\", height=6, aspect=.75, color=\"black\"\n",
    ")\n",
    "g.despine(left=True)\n",
    "g.set(ylim=(.5, 1), ylabel='Accuracy', xlabel=r'Bias in $\\hat{\\alpha}$ estimate')\n",
    "g.map(plt.axvline, x=4, color='grey', dashes=(2, 1), zorder=0,linewidth=2)\n",
    "\n",
    "for ax in g.axes.flat:\n",
    "    ax.tick_params(axis='x', labelsize=15)\n",
    "\n",
    "\n",
    "plt.savefig('alpha_errors.png', dpi=400)\n",
    "\n",
    "\n",
    "    \n",
    "# Draw a pointplot to show pulse as a function of three categorical factors\n",
    "g = sns.catplot(\n",
    "    data=beta_robustness_results, x=\"bias\", y=\"ACC\",  col=\"beta\",  capsize=.2, \n",
    "    kind=\"point\", height=6, aspect=.75, color=\"black\"\n",
    ")\n",
    "g.despine(left=True)\n",
    "g.set(ylim=(.5, 1), ylabel='Accuracy', xlabel=r'Bias in $\\hat{\\beta}$ estimate')\n",
    "g.map(plt.axvline, x=4, color='grey', dashes=(2, 1), zorder=0,linewidth=2)\n",
    "\n",
    "for ax in g.axes.flat:\n",
    "    ax.tick_params(axis='x', labelsize=15)\n",
    "\n",
    "    \n",
    "plt.savefig('beta_errors.png', dpi=400)\n"
   ]
  },
  {
   "cell_type": "markdown",
   "id": "706d256f",
   "metadata": {},
   "source": [
    "## Debugging baselines"
   ]
  },
  {
   "cell_type": "code",
   "execution_count": null,
   "id": "090c9011",
   "metadata": {},
   "outputs": [],
   "source": [
    "compare\n",
    "alpha:0, beta:0 [looks good]\n",
    "alpha:.1, beta.3 [looks good]\n",
    "alpha:.2, beta:.2\n",
    "alpha:.3, beta.1 [looks good]\n"
   ]
  },
  {
   "cell_type": "code",
   "execution_count": 7,
   "id": "0065d464",
   "metadata": {},
   "outputs": [
    {
     "name": "stdout",
     "output_type": "stream",
     "text": [
      "surroate params {'alpha': None, 'beta': None}\n"
     ]
    },
    {
     "name": "stderr",
     "output_type": "stream",
     "text": [
      "Target: Y0: 100%|█████████████████████████████████████████████████████████████████████████████| 20/20 [00:14<00:00,  1.35it/s]\n"
     ]
    },
    {
     "name": "stdout",
     "output_type": "stream",
     "text": [
      "surroate params {'alpha': 0.10648197887660037, 'beta': 0.30984503179487555}\n"
     ]
    },
    {
     "name": "stderr",
     "output_type": "stream",
     "text": [
      "Target: Y0: 100%|█████████████████████████████████████████████████████████████████████████████| 20/20 [00:14<00:00,  1.37it/s]\n"
     ]
    }
   ],
   "source": [
    "## Main Experiment: troubleshoot baselines\n",
    "    \n",
    "    \n",
    "Y0_PDF = 'piecewise_sinusoid'\n",
    "Y1_PDF = 'low_base_rate_sinusoid'\n",
    "PI_PDF = 'linear'\n",
    "do=0\n",
    "\n",
    "expdf, error_params = generate_syn_data(\n",
    "    NS=10000,\n",
    "    K=1,\n",
    "    y0_pdf=Y0_PDF,\n",
    "    y1_pdf=Y1_PDF,\n",
    "    pi_pdf=PI_PDF,\n",
    "    alpha_min=0.1,\n",
    "    alpha_max=0.11,\n",
    "    beta_min=0.3,\n",
    "    beta_max=0.31,\n",
    "    shuffle=True\n",
    ")\n",
    "\n",
    "baseline1 = {\n",
    "    'model': 'Conditional outcome',\n",
    "    'target': 'Y0'\n",
    "}\n",
    "\n",
    "baseline2 = {\n",
    "    'model': 'Conditional outcome (SL)',\n",
    "    'target': 'Y0'\n",
    "}\n",
    "\n",
    "params1 = {\n",
    "    'alpha': None,\n",
    "    'beta': None\n",
    "}\n",
    "\n",
    "params2 = {\n",
    "    'alpha': error_params[f'alpha_{do}'][0],\n",
    "    'beta': error_params[f'beta_{do}'][0]\n",
    "}\n",
    "\n",
    "co = run_baseline(expdf, baseline1, do, params1, n_epochs=20, train_ratio=.7)\n",
    "cosl = run_baseline(expdf, baseline2, do, params2, n_epochs=20, train_ratio=.7)\n",
    "\n"
   ]
  },
  {
   "cell_type": "code",
   "execution_count": 8,
   "id": "ab293f90",
   "metadata": {},
   "outputs": [
    {
     "name": "stdout",
     "output_type": "stream",
     "text": [
      "aggreement (%): 0.65\n",
      "ACC - S0=0.59, SO+SL=0.77\n",
      "AU-ROC - S0=0.81, SO+SL=0.83\n"
     ]
    }
   ],
   "source": [
    "agreement = [(co['py_hat'] > .5) == (cosl['py_hat'] > .5)][0].mean()\n",
    "print(f'aggreement (%): {agreement.mean():.2f}')\n",
    "print(f\"ACC - S0={co['ACC']:.2f}, SO+SL={cosl['ACC']:.2f}\")\n",
    "print(f\"AU-ROC - S0={co['AU-ROC']:.2f}, SO+SL={cosl['AU-ROC']:.2f}\")"
   ]
  },
  {
   "cell_type": "code",
   "execution_count": 10,
   "id": "70934f0d",
   "metadata": {},
   "outputs": [
    {
     "data": {
      "image/png": "[encoded data removed]",
      "text/plain": [
       "<Figure size 504x360 with 1 Axes>"
      ]
     },
     "metadata": {},
     "output_type": "display_data"
    }
   ],
   "source": [
    "Y0_PDF = 'piecewise_sinusoid'\n",
    "Y1_PDF = 'low_base_rate_sinusoid'\n",
    "PI_PDF = 'linear'\n",
    "do=0\n",
    "\n",
    "expdf, _ = generate_syn_data(\n",
    "    NS=10000,\n",
    "    K=1,\n",
    "    y0_pdf=Y0_PDF,\n",
    "    y1_pdf=Y1_PDF,\n",
    "    pi_pdf=PI_PDF,\n",
    ")\n",
    "debug_info = {\n",
    "    'val_x': cosl['x'].squeeze(),\n",
    "    'val_py': cosl['py_hat'].squeeze()\n",
    "}\n",
    "# debug_info = {\n",
    "#     'val_x': x,\n",
    "#     'val_py': py_hat\n",
    "# }\n",
    "sns.set(font_scale=1.2)\n",
    "viz_ccpe_estimates(expdf, debug_info, error_params[f'alpha_{do}'][0],\n",
    "                   error_params[f'beta_{do}'][0], do, Y0_PDF, Y1_PDF, PI_PDF)"
   ]
  },
  {
   "cell_type": "code",
   "execution_count": 28,
   "id": "ceb6b2fe",
   "metadata": {},
   "outputs": [
    {
     "ename": "TypeError",
     "evalue": "generate_syn_data() got an unexpected keyword argument 'error_min'",
     "output_type": "error",
     "traceback": [
      "\u001b[0;31m---------------------------------------------------------------------------\u001b[0m",
      "\u001b[0;31mTypeError\u001b[0m                                 Traceback (most recent call last)",
      "Input \u001b[0;32mIn [28]\u001b[0m, in \u001b[0;36m<cell line: 1>\u001b[0;34m()\u001b[0m\n\u001b[0;32m----> 1\u001b[0m expdf, error_params \u001b[38;5;241m=\u001b[39m \u001b[43mgenerate_syn_data\u001b[49m\u001b[43m(\u001b[49m\n\u001b[1;32m      2\u001b[0m \u001b[43m    \u001b[49m\u001b[43mNS\u001b[49m\u001b[38;5;241;43m=\u001b[39;49m\u001b[38;5;241;43m10000\u001b[39;49m\u001b[43m,\u001b[49m\n\u001b[1;32m      3\u001b[0m \u001b[43m    \u001b[49m\u001b[43mK\u001b[49m\u001b[38;5;241;43m=\u001b[39;49m\u001b[38;5;241;43m1\u001b[39;49m\u001b[43m,\u001b[49m\n\u001b[1;32m      4\u001b[0m \u001b[43m    \u001b[49m\u001b[43my0_pdf\u001b[49m\u001b[38;5;241;43m=\u001b[39;49m\u001b[43mY0_PDF\u001b[49m\u001b[43m,\u001b[49m\n\u001b[1;32m      5\u001b[0m \u001b[43m    \u001b[49m\u001b[43my1_pdf\u001b[49m\u001b[38;5;241;43m=\u001b[39;49m\u001b[43mY1_PDF\u001b[49m\u001b[43m,\u001b[49m\n\u001b[1;32m      6\u001b[0m \u001b[43m    \u001b[49m\u001b[43mpi_pdf\u001b[49m\u001b[38;5;241;43m=\u001b[39;49m\u001b[43mPI_PDF\u001b[49m\u001b[43m,\u001b[49m\n\u001b[1;32m      7\u001b[0m \u001b[43m    \u001b[49m\u001b[43merror_min\u001b[49m\u001b[38;5;241;43m=\u001b[39;49m\u001b[38;5;241;43m0.2\u001b[39;49m\u001b[43m,\u001b[49m\n\u001b[1;32m      8\u001b[0m \u001b[43m    \u001b[49m\u001b[43merror_max\u001b[49m\u001b[38;5;241;43m=\u001b[39;49m\u001b[38;5;241;43m0.2\u001b[39;49m\u001b[43m,\u001b[49m\u001b[43m \u001b[49m\n\u001b[1;32m      9\u001b[0m \u001b[43m    \u001b[49m\u001b[43mshuffle\u001b[49m\u001b[38;5;241;43m=\u001b[39;49m\u001b[38;5;28;43;01mTrue\u001b[39;49;00m\n\u001b[1;32m     10\u001b[0m \u001b[43m)\u001b[49m\n\u001b[1;32m     12\u001b[0m split_ix \u001b[38;5;241m=\u001b[39m \u001b[38;5;28mint\u001b[39m(expdf\u001b[38;5;241m.\u001b[39mshape[\u001b[38;5;241m0\u001b[39m]\u001b[38;5;241m*\u001b[39m\u001b[38;5;241m.7\u001b[39m)\n\u001b[1;32m     13\u001b[0m train_df, val_df \u001b[38;5;241m=\u001b[39m expdf\u001b[38;5;241m.\u001b[39miloc[:split_ix,:], expdf\u001b[38;5;241m.\u001b[39miloc[split_ix:,:]\n",
      "\u001b[0;31mTypeError\u001b[0m: generate_syn_data() got an unexpected keyword argument 'error_min'"
     ]
    }
   ],
   "source": [
    "expdf, error_params = generate_syn_data(\n",
    "    NS=10000,\n",
    "    K=1,\n",
    "    y0_pdf=Y0_PDF,\n",
    "    y1_pdf=Y1_PDF,\n",
    "    pi_pdf=PI_PDF,\n",
    "    error_min=0.2,\n",
    "    error_max=0.2, \n",
    "    shuffle=True\n",
    ")\n",
    "\n",
    "split_ix = int(expdf.shape[0]*.7)\n",
    "train_df, val_df = expdf.iloc[:split_ix,:], expdf.iloc[split_ix:,:]\n",
    "\n",
    "\n",
    "# Train model\n",
    "train_loader, val_loader = get_loaders(train_df, val_df, do=0, target='Y0', conditional=True)\n",
    "model = MLP()\n",
    "\n",
    "surrogate_params = {\n",
    "    'alpha': 0.2,\n",
    "    'beta': 0.2\n",
    "}\n",
    "\n",
    "# surrogate_params = {\n",
    "#     'alpha': None,\n",
    "#     'beta': None\n",
    "# }\n",
    "\n",
    "losses = train(model, target='Y0', train_loader=train_loader, error_params=surrogate_params, n_epochs=40)\n",
    "\n",
    "# Evaluate on validation data\n",
    "x, y, py_hat = evaluate(model, val_loader)\n",
    "y_hat = np.zeros_like(y)\n",
    "y_hat[py_hat > .5] = 1"
   ]
  }
 ],
 "metadata": {
  "kernelspec": {
   "display_name": "10701-Project",
   "language": "python",
   "name": "10701-project"
  },
  "language_info": {
   "codemirror_mode": {
    "name": "ipython",
    "version": 3
   },
   "file_extension": ".py",
   "mimetype": "text/x-python",
   "name": "python",
   "nbconvert_exporter": "python",
   "pygments_lexer": "ipython3",
   "version": "3.9.8"
  }
 },
 "nbformat": 4,
 "nbformat_minor": 5
}
