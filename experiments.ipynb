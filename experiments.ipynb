{
 "cells": [
  {
   "cell_type": "code",
   "execution_count": 3,
   "id": "4d466369",
   "metadata": {},
   "outputs": [],
   "source": [
    "import seaborn as sns\n",
    "import pandas as pd\n",
    "from sklearn.metrics import roc_auc_score, accuracy_score, precision_score\n",
    "\n",
    "import matplotlib.pyplot as plt\n",
    "import matplotlib.patches as mpatches\n",
    "sns.set_style(\"whitegrid\")\n",
    "\n",
    "from synexp import *\n",
    "from viz import *\n"
   ]
  },
  {
   "attachments": {},
   "cell_type": "markdown",
   "id": "0da563dc",
   "metadata": {},
   "source": [
    "### Setup\n",
    "\n",
    "- $X \\in [-1, 1]$ is a unidimensional co-variate\n",
    "- Target potential outcome (PO) class probabilities $\\eta^*_0(x), \\eta^*_1(x)$ are piecewise sinusoidal functions satisfying weak seperability\n",
    "\n",
    "- $\\pi(x)=.2 x +.4$ is linear and correlated with $\\eta^*_0(x)$. Specifically, cases at high risk under no intervention are also most likely to receive intervention\n",
    "\n",
    "- Error parameters sampled randomly $\\alpha_d, \\beta_d \\sim U(.01,.24)$\n",
    "\n",
    "<!-- <img src=\"attachment:image-3.png\" width=\"300\"/> <img src=\"attachment:image-2.png\" width=\"300\"/>  -->\n",
    "\n",
    " \n",
    "### Data generating process:\n",
    "\n",
    "1. $Y^*_0, Y^*_1 \\sim $ Bern($\\eta^*_0(x)$), Bern($\\eta^*_1(x)$), $\\forall x \\in X$\n",
    "2. Sample errors $\\alpha_d, \\beta_d \\sim U(.01,.24) \\forall d \\in D$\n",
    "3. Flip $Y^*_d$, $Y^*_1$ based errors on $\\alpha_d, \\beta_d \\forall d \\in D$\n",
    "4. Sample $D=d$ from $Bern(pi(x))$, $\\forall x \\in X$\n",
    "5. Observe potential outcomes $Y=Y_0(1-D) + Y_1(D)$, $Y^*=Y_0^*(1-D) + Y_1^*(D)$"
   ]
  },
  {
   "cell_type": "markdown",
   "id": "aa813432",
   "metadata": {},
   "source": [
    "## Experiments\n",
    "\n",
    "\n",
    "#### Model comparision\n",
    "- $\\hat{P}[Y=1|X=x]$ (observational)\n",
    "- $\\hat{P}_{\\ell}[Y=1|D=d,X=x]$ (conditional outcome)\n",
    "- $\\hat{P}_{\\tilde{\\ell}}[Y=1|D=d,X=x]$ (**ours:** conditional outcome with surrogate loss)\n",
    "- $\\hat{P}[Y_d=1|X=x]$ (proxy PO oracle)\n",
    "- $\\hat{P}[Y^*_d=1|X=x]$ (target PO oracle)\n",
    "\n",
    "Metrics: \n",
    "- Accuracy, AU-ROC, FPR/FNR w.r.t $Y^*_d$\n",
    "\n",
    "#### Parameter estimation experiment (test of CCPE approach)\n",
    "- Plot parameter estimation error as a function of sample size\n",
    "- Show more estimation error in $\\beta_0$ term when D non-random ($\\pi$ non-uniform)\n",
    "\n",
    "#### Robustness to parameter estimation error\n",
    "- Performance of surrogate loss as a functon of parameter estimation error\n",
    "\n",
    "\n",
    "\n",
    "\n",
    "\n",
    "\n"
   ]
  },
  {
   "cell_type": "code",
   "execution_count": 17,
   "id": "dabaefa9",
   "metadata": {},
   "outputs": [],
   "source": [
    "Y0_PDF = 'piecewise_sinusoid'\n",
    "Y1_PDF = 'low_base_rate_sinusoid'\n",
    "PI_PDF = 'linear'\n",
    "\n",
    "# Example code invoking experiemnt setup functions\n",
    "expdf, error_params = generate_syn_data(\n",
    "    NS=5000,\n",
    "    K=1,\n",
    "    y0_pdf=Y0_PDF,\n",
    "    y1_pdf=Y1_PDF,\n",
    "    pi_pdf=PI_PDF,\n",
    "    error_min=0.24,\n",
    "    error_max=0.25\n",
    ")\n",
    "# Sanity check\n",
    "# results, val_scores = run_baseline_comparison_exp(expdf, do=0,\n",
    "#                                            error_params=error_params, n_epochs=20, train_ratio=.7)"
   ]
  },
  {
   "cell_type": "markdown",
   "id": "e9b27560",
   "metadata": {},
   "source": [
    "## Main Experiment: Validating factual surrogate loss correction"
   ]
  },
  {
   "cell_type": "code",
   "execution_count": null,
   "id": "663adc3b",
   "metadata": {
    "scrolled": true
   },
   "outputs": [],
   "source": [
    "do=0\n",
    "N_RUNS=3\n",
    "NS=10000\n",
    "n_epochs=40\n",
    "baselines = [{\n",
    "    'model': 'Observational',\n",
    "    'target': 'Y0'\n",
    "},{\n",
    "    'model': 'Conditional outcome',\n",
    "    'target': 'Y0'\n",
    "},{\n",
    "    'model': 'Conditional outcome (SL)',\n",
    "    'target': 'Y0'\n",
    "},{\n",
    "    'model': 'Proxy PO Oracle',\n",
    "    'target': f'Y0_{do}'\n",
    "},{\n",
    "    'model': 'Target PO Oracle',\n",
    "    'target': f'YS_{do}'\n",
    "}]\n",
    "\n",
    "# Run this during the meeting #\n",
    "exp_results = run_baseline_comparison_exp_grid(\n",
    "    baselines,\n",
    "    do=do,\n",
    "    N_RUNS=N_RUNS,\n",
    "    NS=NS,\n",
    "    pi_pdf='linear',\n",
    "    K=1,\n",
    "    n_epochs=n_epochs\n",
    ")\n",
    "\n",
    "resultdf = pd.DataFrame(exp_results)\n",
    "resultdf.to_csv(f'results/exp1_results_NR={N_RUNS}_NS={NS}_E={n_epochs}.csv',\n",
    "                index=False)\n"
   ]
  },
  {
   "cell_type": "code",
   "execution_count": 4,
   "id": "34d0d7f5",
   "metadata": {},
   "outputs": [
    {
     "data": {
      "text/html": [
       "<div>\n",
       "<style scoped>\n",
       "    .dataframe tbody tr th:only-of-type {\n",
       "        vertical-align: middle;\n",
       "    }\n",
       "\n",
       "    .dataframe tbody tr th {\n",
       "        vertical-align: top;\n",
       "    }\n",
       "\n",
       "    .dataframe thead th {\n",
       "        text-align: right;\n",
       "    }\n",
       "</style>\n",
       "<table border=\"1\" class=\"dataframe\">\n",
       "  <thead>\n",
       "    <tr style=\"text-align: right;\">\n",
       "      <th></th>\n",
       "      <th>AU-ROC</th>\n",
       "      <th>ACC</th>\n",
       "      <th>alpha</th>\n",
       "      <th>beta</th>\n",
       "    </tr>\n",
       "    <tr>\n",
       "      <th>model</th>\n",
       "      <th></th>\n",
       "      <th></th>\n",
       "      <th></th>\n",
       "      <th></th>\n",
       "    </tr>\n",
       "  </thead>\n",
       "  <tbody>\n",
       "    <tr>\n",
       "      <th>Conditional outcome</th>\n",
       "      <td>0.836203</td>\n",
       "      <td>0.745778</td>\n",
       "      <td>0.05064</td>\n",
       "      <td>0.200582</td>\n",
       "    </tr>\n",
       "    <tr>\n",
       "      <th>Conditional outcome (SL)</th>\n",
       "      <td>0.791430</td>\n",
       "      <td>0.731667</td>\n",
       "      <td>0.05064</td>\n",
       "      <td>0.200582</td>\n",
       "    </tr>\n",
       "    <tr>\n",
       "      <th>Observational</th>\n",
       "      <td>0.576098</td>\n",
       "      <td>0.567444</td>\n",
       "      <td>0.05064</td>\n",
       "      <td>0.200582</td>\n",
       "    </tr>\n",
       "    <tr>\n",
       "      <th>Proxy PO Oracle</th>\n",
       "      <td>0.826703</td>\n",
       "      <td>0.757667</td>\n",
       "      <td>0.05064</td>\n",
       "      <td>0.200582</td>\n",
       "    </tr>\n",
       "    <tr>\n",
       "      <th>Target PO Oracle</th>\n",
       "      <td>0.851351</td>\n",
       "      <td>0.769333</td>\n",
       "      <td>0.05064</td>\n",
       "      <td>0.200582</td>\n",
       "    </tr>\n",
       "  </tbody>\n",
       "</table>\n",
       "</div>"
      ],
      "text/plain": [
       "                            AU-ROC       ACC    alpha      beta\n",
       "model                                                          \n",
       "Conditional outcome       0.836203  0.745778  0.05064  0.200582\n",
       "Conditional outcome (SL)  0.791430  0.731667  0.05064  0.200582\n",
       "Observational             0.576098  0.567444  0.05064  0.200582\n",
       "Proxy PO Oracle           0.826703  0.757667  0.05064  0.200582\n",
       "Target PO Oracle          0.851351  0.769333  0.05064  0.200582"
      ]
     },
     "execution_count": 4,
     "metadata": {},
     "output_type": "execute_result"
    }
   ],
   "source": [
    "print(resultdf.groupby('model').mean())\n",
    "\n",
    "sns.set(font_scale=1.2)\n",
    "g=sns.barplot(data=resultdf[resultdf['alpha'] == .3], x='model', y='ACC', capsize=.2)\n",
    "plt.xticks(rotation=45)\n",
    "plt.ylabel('AU-ROC')\n",
    "plt.xlabel('')\n",
    "\n",
    "sns.set(font_scale=1.2)\n",
    "g=sns.barplot(data=resdf, x='model', y='ACC', capsize=.2)\n",
    "plt.xticks(rotation=45)\n",
    "plt.ylabel('Accuracy')\n",
    "plt.xlabel('')"
   ]
  },
  {
   "cell_type": "markdown",
   "id": "cd5a4d8c",
   "metadata": {},
   "source": [
    "## Main experiment 1: cross method comparison"
   ]
  },
  {
   "cell_type": "code",
   "execution_count": 17,
   "id": "421b6f6b",
   "metadata": {},
   "outputs": [
    {
     "name": "stdout",
     "output_type": "stream",
     "text": [
      "\\begin{tabular}{lllr}\n",
      "\\toprule\n",
      "    &     &                  &       ACC \\\\\n",
      "alpha & beta & model &           \\\\\n",
      "\\midrule\n",
      "0.0 & 0.0 & Conditional outcome &  0.756200 \\\\\n",
      "    &     & Conditional outcome (SL) &  0.771900 \\\\\n",
      "    &     & Observational &  0.556967 \\\\\n",
      "    &     & Proxy PO Oracle &  0.755400 \\\\\n",
      "    &     & Target PO Oracle &  0.726600 \\\\\n",
      "0.1 & 0.3 & Conditional outcome &  0.630800 \\\\\n",
      "    &     & Conditional outcome (SL) &  0.762400 \\\\\n",
      "    &     & Observational &  0.545800 \\\\\n",
      "    &     & Proxy PO Oracle &  0.658467 \\\\\n",
      "    &     & Target PO Oracle &  0.757900 \\\\\n",
      "0.3 & 0.1 & Conditional outcome &  0.679267 \\\\\n",
      "    &     & Conditional outcome (SL) &  0.730867 \\\\\n",
      "    &     & Observational &  0.585333 \\\\\n",
      "    &     & Proxy PO Oracle &  0.646400 \\\\\n",
      "    &     & Target PO Oracle &  0.729533 \\\\\n",
      "\\bottomrule\n",
      "\\end{tabular}\n",
      "\n",
      "\\begin{tabular}{lllr}\n",
      "\\toprule\n",
      "    &     &                  &       ACC \\\\\n",
      "alpha & beta & model &           \\\\\n",
      "\\midrule\n",
      "0.0 & 0.0 & Conditional outcome &  0.034641 \\\\\n",
      "    &     & Conditional outcome (SL) &  0.005407 \\\\\n",
      "    &     & Observational &  0.060910 \\\\\n",
      "    &     & Proxy PO Oracle &  0.036440 \\\\\n",
      "    &     & Target PO Oracle &  0.075372 \\\\\n",
      "0.1 & 0.3 & Conditional outcome &  0.087893 \\\\\n",
      "    &     & Conditional outcome (SL) &  0.008565 \\\\\n",
      "    &     & Observational &  0.017803 \\\\\n",
      "    &     & Proxy PO Oracle &  0.117487 \\\\\n",
      "    &     & Target PO Oracle &  0.029616 \\\\\n",
      "0.3 & 0.1 & Conditional outcome &  0.089297 \\\\\n",
      "    &     & Conditional outcome (SL) &  0.068210 \\\\\n",
      "    &     & Observational &  0.035278 \\\\\n",
      "    &     & Proxy PO Oracle &  0.124342 \\\\\n",
      "    &     & Target PO Oracle &  0.093779 \\\\\n",
      "\\bottomrule\n",
      "\\end{tabular}\n",
      "\n"
     ]
    },
    {
     "name": "stderr",
     "output_type": "stream",
     "text": [
      "/var/folders/w_/rwxvw5hn1ng2qvm6353gkvqw0000gr/T/ipykernel_38091/3849574071.py:3: FutureWarning: In future versions `DataFrame.to_latex` is expected to utilise the base implementation of `Styler.to_latex` for formatting and rendering. The arguments signature may therefore change. It is recommended instead to use `DataFrame.style.to_latex` which also contains additional functionality.\n",
      "  print(means.to_latex())\n",
      "/var/folders/w_/rwxvw5hn1ng2qvm6353gkvqw0000gr/T/ipykernel_38091/3849574071.py:7: FutureWarning: In future versions `DataFrame.to_latex` is expected to utilise the base implementation of `Styler.to_latex` for formatting and rendering. The arguments signature may therefore change. It is recommended instead to use `DataFrame.style.to_latex` which also contains additional functionality.\n",
      "  print(stds.to_latex())\n"
     ]
    }
   ],
   "source": [
    "resdf = pd.read_csv('results/exp1_grid_results_NR=10_NS=10000_E=40.csv')\n",
    "means = resdf.groupby(['alpha', 'beta', 'model']).mean()['ACC']\n",
    "print(means.to_latex())\n",
    "\n",
    "stds = resdf.groupby(['alpha', 'beta', 'model']).std()['ACC']\n",
    "print(stds.to_latex())\n"
   ]
  },
  {
   "cell_type": "markdown",
   "id": "128f2a44",
   "metadata": {},
   "source": [
    "## Main Experiment: parameter estimation via CCPE"
   ]
  },
  {
   "cell_type": "code",
   "execution_count": null,
   "id": "d806e065",
   "metadata": {},
   "outputs": [],
   "source": [
    "SAMPLE_SIZES = [1000, 2000, 3000, 4000, 5000, 10000, 20000]\n",
    "exp_results, py_results = ccpe_benchmark_exp(SAMPLE_SIZES, N_RUNS=150, K=1, n_epochs=30)\n",
    "result_df = get_ccpe_result_df(do=1, exp_results=exp_results)"
   ]
  },
  {
   "cell_type": "code",
   "execution_count": 42,
   "id": "d0202dc6",
   "metadata": {},
   "outputs": [
    {
     "data": {
      "image/png": "[encoded data removed]",
      "text/plain": [
       "<Figure size 432x288 with 1 Axes>"
      ]
     },
     "metadata": {},
     "output_type": "display_data"
    }
   ],
   "source": [
    "result_df = pd.read_csv('results/R7_K=1_N_RUNS=150_n_epochs=30_d0.csv')\n",
    "result_df = result_df[result_df['aggregate'] == False]\n",
    "g = sns.pointplot(\n",
    "    data=result_df,\n",
    "    x='NS',\n",
    "    y='error',\n",
    "    hue='parameter',\n",
    "    capsize=.4,\n",
    "    legend=True\n",
    ")\n",
    "g.set(xlabel='# of samples', ylabel='Mean absolute error')\n",
    "red_patch = mpatches.Patch(color=sns.color_palette()[0], label=r'$|\\alpha_0 - \\hat{\\alpha}_0|$')\n",
    "black_patch = mpatches.Patch(color=sns.color_palette()[1], label=r'$|\\beta_0 - \\hat{\\beta}_0|$')\n",
    "plt.legend(handles=[red_patch, black_patch])\n",
    "sns.set(font_scale=1.6)\n",
    "plt.savefig('figs/estimation_error.png', dpi=500, bbox_inches='tight')\n"
   ]
  },
  {
   "cell_type": "markdown",
   "id": "e0d1513a",
   "metadata": {},
   "source": [
    "## Experiment: Robustness to parameter estimation Error"
   ]
  },
  {
   "cell_type": "code",
   "execution_count": 5,
   "id": "2de2a7bd",
   "metadata": {
    "scrolled": true
   },
   "outputs": [
    {
     "name": "stdout",
     "output_type": "stream",
     "text": [
      "surroate params {'alpha': 0.0, 'beta': 0}\n"
     ]
    },
    {
     "name": "stderr",
     "output_type": "stream",
     "text": [
      "Target: Y0: 100%|███████████████████████████████████████████████████████████████████████████████| 5/5 [00:03<00:00,  1.39it/s]\n"
     ]
    },
    {
     "name": "stdout",
     "output_type": "stream",
     "text": [
      "surroate params {'alpha': 0.05, 'beta': 0}\n"
     ]
    },
    {
     "name": "stderr",
     "output_type": "stream",
     "text": [
      "Target: Y0: 100%|███████████████████████████████████████████████████████████████████████████████| 5/5 [00:03<00:00,  1.43it/s]\n"
     ]
    },
    {
     "name": "stdout",
     "output_type": "stream",
     "text": [
      "surroate params {'alpha': 0.1, 'beta': 0}\n"
     ]
    },
    {
     "name": "stderr",
     "output_type": "stream",
     "text": [
      "Target: Y0: 100%|███████████████████████████████████████████████████████████████████████████████| 5/5 [00:04<00:00,  1.24it/s]\n"
     ]
    },
    {
     "name": "stdout",
     "output_type": "stream",
     "text": [
      "surroate params {'alpha': 0.15, 'beta': 0}\n"
     ]
    },
    {
     "name": "stderr",
     "output_type": "stream",
     "text": [
      "Target: Y0: 100%|███████████████████████████████████████████████████████████████████████████████| 5/5 [00:05<00:00,  1.07s/it]\n"
     ]
    },
    {
     "name": "stdout",
     "output_type": "stream",
     "text": [
      "surroate params {'alpha': 0.2, 'beta': 0}\n"
     ]
    },
    {
     "name": "stderr",
     "output_type": "stream",
     "text": [
      "Target: Y0: 100%|███████████████████████████████████████████████████████████████████████████████| 5/5 [00:03<00:00,  1.30it/s]\n"
     ]
    },
    {
     "name": "stdout",
     "output_type": "stream",
     "text": [
      "surroate params {'alpha': 0.0, 'beta': 0}\n"
     ]
    },
    {
     "name": "stderr",
     "output_type": "stream",
     "text": [
      "Target: Y0: 100%|███████████████████████████████████████████████████████████████████████████████| 5/5 [00:05<00:00,  1.05s/it]\n"
     ]
    },
    {
     "name": "stdout",
     "output_type": "stream",
     "text": [
      "surroate params {'alpha': 0.05, 'beta': 0}\n"
     ]
    },
    {
     "name": "stderr",
     "output_type": "stream",
     "text": [
      "Target: Y0: 100%|███████████████████████████████████████████████████████████████████████████████| 5/5 [00:04<00:00,  1.24it/s]\n"
     ]
    },
    {
     "name": "stdout",
     "output_type": "stream",
     "text": [
      "surroate params {'alpha': 0.1, 'beta': 0}\n"
     ]
    },
    {
     "name": "stderr",
     "output_type": "stream",
     "text": [
      "Target: Y0: 100%|███████████████████████████████████████████████████████████████████████████████| 5/5 [00:04<00:00,  1.06it/s]\n"
     ]
    },
    {
     "name": "stdout",
     "output_type": "stream",
     "text": [
      "surroate params {'alpha': 0.15, 'beta': 0}\n"
     ]
    },
    {
     "name": "stderr",
     "output_type": "stream",
     "text": [
      "Target: Y0: 100%|███████████████████████████████████████████████████████████████████████████████| 5/5 [00:03<00:00,  1.29it/s]\n"
     ]
    },
    {
     "name": "stdout",
     "output_type": "stream",
     "text": [
      "surroate params {'alpha': 0.2, 'beta': 0}\n"
     ]
    },
    {
     "name": "stderr",
     "output_type": "stream",
     "text": [
      "Target: Y0: 100%|███████████████████████████████████████████████████████████████████████████████| 5/5 [00:03<00:00,  1.35it/s]\n"
     ]
    },
    {
     "name": "stdout",
     "output_type": "stream",
     "text": [
      "surroate params {'alpha': 0.25, 'beta': 0}\n"
     ]
    },
    {
     "name": "stderr",
     "output_type": "stream",
     "text": [
      "Target: Y0: 100%|███████████████████████████████████████████████████████████████████████████████| 5/5 [00:03<00:00,  1.34it/s]\n"
     ]
    },
    {
     "name": "stdout",
     "output_type": "stream",
     "text": [
      "surroate params {'alpha': 0.3, 'beta': 0}\n"
     ]
    },
    {
     "name": "stderr",
     "output_type": "stream",
     "text": [
      "Target: Y0: 100%|███████████████████████████████████████████████████████████████████████████████| 5/5 [00:03<00:00,  1.38it/s]\n"
     ]
    },
    {
     "name": "stdout",
     "output_type": "stream",
     "text": [
      "surroate params {'alpha': 0.35, 'beta': 0}\n"
     ]
    },
    {
     "name": "stderr",
     "output_type": "stream",
     "text": [
      "Target: Y0: 100%|███████████████████████████████████████████████████████████████████████████████| 5/5 [00:03<00:00,  1.40it/s]\n"
     ]
    },
    {
     "name": "stdout",
     "output_type": "stream",
     "text": [
      "surroate params {'alpha': 0.4, 'beta': 0}\n"
     ]
    },
    {
     "name": "stderr",
     "output_type": "stream",
     "text": [
      "Target: Y0: 100%|███████████████████████████████████████████████████████████████████████████████| 5/5 [00:03<00:00,  1.42it/s]\n"
     ]
    },
    {
     "name": "stdout",
     "output_type": "stream",
     "text": [
      "surroate params {'alpha': 0.2, 'beta': 0}\n"
     ]
    },
    {
     "name": "stderr",
     "output_type": "stream",
     "text": [
      "Target: Y0: 100%|███████████████████████████████████████████████████████████████████████████████| 5/5 [00:03<00:00,  1.44it/s]\n"
     ]
    },
    {
     "name": "stdout",
     "output_type": "stream",
     "text": [
      "surroate params {'alpha': 0.25, 'beta': 0}\n"
     ]
    },
    {
     "name": "stderr",
     "output_type": "stream",
     "text": [
      "Target: Y0: 100%|███████████████████████████████████████████████████████████████████████████████| 5/5 [00:03<00:00,  1.27it/s]\n"
     ]
    },
    {
     "name": "stdout",
     "output_type": "stream",
     "text": [
      "surroate params {'alpha': 0.3, 'beta': 0}\n"
     ]
    },
    {
     "name": "stderr",
     "output_type": "stream",
     "text": [
      "Target: Y0: 100%|███████████████████████████████████████████████████████████████████████████████| 5/5 [00:03<00:00,  1.34it/s]\n"
     ]
    },
    {
     "name": "stdout",
     "output_type": "stream",
     "text": [
      "surroate params {'alpha': 0.35, 'beta': 0}\n"
     ]
    },
    {
     "name": "stderr",
     "output_type": "stream",
     "text": [
      "Target: Y0: 100%|███████████████████████████████████████████████████████████████████████████████| 5/5 [00:03<00:00,  1.33it/s]\n"
     ]
    },
    {
     "name": "stdout",
     "output_type": "stream",
     "text": [
      "surroate params {'alpha': 0.4, 'beta': 0}\n"
     ]
    },
    {
     "name": "stderr",
     "output_type": "stream",
     "text": [
      "Target: Y0: 100%|███████████████████████████████████████████████████████████████████████████████| 5/5 [00:03<00:00,  1.35it/s]\n"
     ]
    },
    {
     "name": "stdout",
     "output_type": "stream",
     "text": [
      "surroate params {'alpha': 0.45, 'beta': 0}\n"
     ]
    },
    {
     "name": "stderr",
     "output_type": "stream",
     "text": [
      "Target: Y0: 100%|███████████████████████████████████████████████████████████████████████████████| 5/5 [00:03<00:00,  1.44it/s]\n"
     ]
    },
    {
     "name": "stdout",
     "output_type": "stream",
     "text": [
      "surroate params {'alpha': 0.5, 'beta': 0}\n"
     ]
    },
    {
     "name": "stderr",
     "output_type": "stream",
     "text": [
      "Target: Y0: 100%|███████████████████████████████████████████████████████████████████████████████| 5/5 [00:03<00:00,  1.48it/s]\n"
     ]
    }
   ],
   "source": [
    "params = np.array([0, .2, .4])\n",
    "errors = np.array([-.2, -.15, -.1, -.05, 0, .05, .1, .15, .2])\n",
    "configs = []\n",
    "\n",
    "for param in params: \n",
    "    for error in errors:\n",
    "        estimate = round(param+error, 2)\n",
    "        if estimate>=0 and estimate<=.5:\n",
    "            configs.append({\n",
    "                'param': param,\n",
    "                'estimate': estimate\n",
    "            })\n",
    "\n",
    "exp_results = run_estimation_error_exp(do=0, param_configs=configs, error_param='alpha',\n",
    "                                       NS=5000, N_RUNS=1, n_epochs=5, train_ratio=.7)"
   ]
  },
  {
   "cell_type": "code",
   "execution_count": 12,
   "id": "33a95e3e",
   "metadata": {},
   "outputs": [
    {
     "data": {
      "text/plain": [
       "<AxesSubplot:xlabel='alpha', ylabel='ACC'>"
      ]
     },
     "execution_count": 12,
     "metadata": {},
     "output_type": "execute_result"
    },
    {
     "data": {
      "image/png": "[encoded data removed]",
      "text/plain": [
       "<Figure size 432x288 with 1 Axes>"
      ]
     },
     "metadata": {},
     "output_type": "display_data"
    }
   ],
   "source": [
    "robustness_results = pd.DataFrame(exp_results)\n",
    "robustness_results['error'] = (robustness_results['alpha_hat'] - robustness_results['alpha'].tolist()).round(decimals=2)\n",
    "sns.pointplot(data=robustness_results, x='alpha', y='ACC', hue='error')\n",
    "\n"
   ]
  },
  {
   "cell_type": "code",
   "execution_count": 8,
   "id": "1eb09e2e",
   "metadata": {},
   "outputs": [
    {
     "data": {
      "text/html": [
       "<div>\n",
       "<style scoped>\n",
       "    .dataframe tbody tr th:only-of-type {\n",
       "        vertical-align: middle;\n",
       "    }\n",
       "\n",
       "    .dataframe tbody tr th {\n",
       "        vertical-align: top;\n",
       "    }\n",
       "\n",
       "    .dataframe thead th {\n",
       "        text-align: right;\n",
       "    }\n",
       "</style>\n",
       "<table border=\"1\" class=\"dataframe\">\n",
       "  <thead>\n",
       "    <tr style=\"text-align: right;\">\n",
       "      <th></th>\n",
       "      <th>AU-ROC</th>\n",
       "      <th>ACC</th>\n",
       "      <th>alpha</th>\n",
       "      <th>beta</th>\n",
       "      <th>alpha_hat</th>\n",
       "      <th>beta_hat</th>\n",
       "      <th>error</th>\n",
       "      <th>param</th>\n",
       "    </tr>\n",
       "  </thead>\n",
       "  <tbody>\n",
       "    <tr>\n",
       "      <th>0</th>\n",
       "      <td>0.605695</td>\n",
       "      <td>0.586000</td>\n",
       "      <td>0.0</td>\n",
       "      <td>0</td>\n",
       "      <td>0.00</td>\n",
       "      <td>0</td>\n",
       "      <td>0.00</td>\n",
       "      <td>alpha</td>\n",
       "    </tr>\n",
       "    <tr>\n",
       "      <th>1</th>\n",
       "      <td>0.631946</td>\n",
       "      <td>0.632000</td>\n",
       "      <td>0.0</td>\n",
       "      <td>0</td>\n",
       "      <td>0.05</td>\n",
       "      <td>0</td>\n",
       "      <td>0.05</td>\n",
       "      <td>alpha</td>\n",
       "    </tr>\n",
       "    <tr>\n",
       "      <th>2</th>\n",
       "      <td>0.584003</td>\n",
       "      <td>0.577333</td>\n",
       "      <td>0.0</td>\n",
       "      <td>0</td>\n",
       "      <td>0.10</td>\n",
       "      <td>0</td>\n",
       "      <td>0.10</td>\n",
       "      <td>alpha</td>\n",
       "    </tr>\n",
       "    <tr>\n",
       "      <th>3</th>\n",
       "      <td>0.620377</td>\n",
       "      <td>0.620000</td>\n",
       "      <td>0.0</td>\n",
       "      <td>0</td>\n",
       "      <td>0.15</td>\n",
       "      <td>0</td>\n",
       "      <td>0.15</td>\n",
       "      <td>alpha</td>\n",
       "    </tr>\n",
       "    <tr>\n",
       "      <th>4</th>\n",
       "      <td>0.621954</td>\n",
       "      <td>0.514667</td>\n",
       "      <td>0.0</td>\n",
       "      <td>0</td>\n",
       "      <td>0.20</td>\n",
       "      <td>0</td>\n",
       "      <td>0.20</td>\n",
       "      <td>alpha</td>\n",
       "    </tr>\n",
       "    <tr>\n",
       "      <th>5</th>\n",
       "      <td>0.633439</td>\n",
       "      <td>0.555333</td>\n",
       "      <td>0.2</td>\n",
       "      <td>0</td>\n",
       "      <td>0.00</td>\n",
       "      <td>0</td>\n",
       "      <td>-0.20</td>\n",
       "      <td>alpha</td>\n",
       "    </tr>\n",
       "    <tr>\n",
       "      <th>6</th>\n",
       "      <td>0.614077</td>\n",
       "      <td>0.539333</td>\n",
       "      <td>0.2</td>\n",
       "      <td>0</td>\n",
       "      <td>0.05</td>\n",
       "      <td>0</td>\n",
       "      <td>-0.15</td>\n",
       "      <td>alpha</td>\n",
       "    </tr>\n",
       "    <tr>\n",
       "      <th>7</th>\n",
       "      <td>0.624499</td>\n",
       "      <td>0.581333</td>\n",
       "      <td>0.2</td>\n",
       "      <td>0</td>\n",
       "      <td>0.10</td>\n",
       "      <td>0</td>\n",
       "      <td>-0.10</td>\n",
       "      <td>alpha</td>\n",
       "    </tr>\n",
       "    <tr>\n",
       "      <th>8</th>\n",
       "      <td>0.628612</td>\n",
       "      <td>0.614000</td>\n",
       "      <td>0.2</td>\n",
       "      <td>0</td>\n",
       "      <td>0.15</td>\n",
       "      <td>0</td>\n",
       "      <td>-0.05</td>\n",
       "      <td>alpha</td>\n",
       "    </tr>\n",
       "    <tr>\n",
       "      <th>9</th>\n",
       "      <td>0.629790</td>\n",
       "      <td>0.592667</td>\n",
       "      <td>0.2</td>\n",
       "      <td>0</td>\n",
       "      <td>0.20</td>\n",
       "      <td>0</td>\n",
       "      <td>0.00</td>\n",
       "      <td>alpha</td>\n",
       "    </tr>\n",
       "    <tr>\n",
       "      <th>10</th>\n",
       "      <td>0.603010</td>\n",
       "      <td>0.600667</td>\n",
       "      <td>0.2</td>\n",
       "      <td>0</td>\n",
       "      <td>0.25</td>\n",
       "      <td>0</td>\n",
       "      <td>0.05</td>\n",
       "      <td>alpha</td>\n",
       "    </tr>\n",
       "    <tr>\n",
       "      <th>11</th>\n",
       "      <td>0.627937</td>\n",
       "      <td>0.524667</td>\n",
       "      <td>0.2</td>\n",
       "      <td>0</td>\n",
       "      <td>0.30</td>\n",
       "      <td>0</td>\n",
       "      <td>0.10</td>\n",
       "      <td>alpha</td>\n",
       "    </tr>\n",
       "    <tr>\n",
       "      <th>12</th>\n",
       "      <td>0.620851</td>\n",
       "      <td>0.517333</td>\n",
       "      <td>0.2</td>\n",
       "      <td>0</td>\n",
       "      <td>0.35</td>\n",
       "      <td>0</td>\n",
       "      <td>0.15</td>\n",
       "      <td>alpha</td>\n",
       "    </tr>\n",
       "    <tr>\n",
       "      <th>13</th>\n",
       "      <td>0.634965</td>\n",
       "      <td>0.498667</td>\n",
       "      <td>0.2</td>\n",
       "      <td>0</td>\n",
       "      <td>0.40</td>\n",
       "      <td>0</td>\n",
       "      <td>0.20</td>\n",
       "      <td>alpha</td>\n",
       "    </tr>\n",
       "    <tr>\n",
       "      <th>14</th>\n",
       "      <td>0.500000</td>\n",
       "      <td>0.509333</td>\n",
       "      <td>0.4</td>\n",
       "      <td>0</td>\n",
       "      <td>0.20</td>\n",
       "      <td>0</td>\n",
       "      <td>-0.20</td>\n",
       "      <td>alpha</td>\n",
       "    </tr>\n",
       "    <tr>\n",
       "      <th>15</th>\n",
       "      <td>0.658082</td>\n",
       "      <td>0.484000</td>\n",
       "      <td>0.4</td>\n",
       "      <td>0</td>\n",
       "      <td>0.25</td>\n",
       "      <td>0</td>\n",
       "      <td>-0.15</td>\n",
       "      <td>alpha</td>\n",
       "    </tr>\n",
       "    <tr>\n",
       "      <th>16</th>\n",
       "      <td>0.610806</td>\n",
       "      <td>0.514000</td>\n",
       "      <td>0.4</td>\n",
       "      <td>0</td>\n",
       "      <td>0.30</td>\n",
       "      <td>0</td>\n",
       "      <td>-0.10</td>\n",
       "      <td>alpha</td>\n",
       "    </tr>\n",
       "    <tr>\n",
       "      <th>17</th>\n",
       "      <td>0.592774</td>\n",
       "      <td>0.502000</td>\n",
       "      <td>0.4</td>\n",
       "      <td>0</td>\n",
       "      <td>0.35</td>\n",
       "      <td>0</td>\n",
       "      <td>-0.05</td>\n",
       "      <td>alpha</td>\n",
       "    </tr>\n",
       "    <tr>\n",
       "      <th>18</th>\n",
       "      <td>0.648954</td>\n",
       "      <td>0.493333</td>\n",
       "      <td>0.4</td>\n",
       "      <td>0</td>\n",
       "      <td>0.40</td>\n",
       "      <td>0</td>\n",
       "      <td>0.00</td>\n",
       "      <td>alpha</td>\n",
       "    </tr>\n",
       "    <tr>\n",
       "      <th>19</th>\n",
       "      <td>0.615152</td>\n",
       "      <td>0.574000</td>\n",
       "      <td>0.4</td>\n",
       "      <td>0</td>\n",
       "      <td>0.45</td>\n",
       "      <td>0</td>\n",
       "      <td>0.05</td>\n",
       "      <td>alpha</td>\n",
       "    </tr>\n",
       "    <tr>\n",
       "      <th>20</th>\n",
       "      <td>0.624516</td>\n",
       "      <td>0.502667</td>\n",
       "      <td>0.4</td>\n",
       "      <td>0</td>\n",
       "      <td>0.50</td>\n",
       "      <td>0</td>\n",
       "      <td>0.10</td>\n",
       "      <td>alpha</td>\n",
       "    </tr>\n",
       "  </tbody>\n",
       "</table>\n",
       "</div>"
      ],
      "text/plain": [
       "      AU-ROC       ACC  alpha  beta  alpha_hat  beta_hat  error  param\n",
       "0   0.605695  0.586000    0.0     0       0.00         0   0.00  alpha\n",
       "1   0.631946  0.632000    0.0     0       0.05         0   0.05  alpha\n",
       "2   0.584003  0.577333    0.0     0       0.10         0   0.10  alpha\n",
       "3   0.620377  0.620000    0.0     0       0.15         0   0.15  alpha\n",
       "4   0.621954  0.514667    0.0     0       0.20         0   0.20  alpha\n",
       "5   0.633439  0.555333    0.2     0       0.00         0  -0.20  alpha\n",
       "6   0.614077  0.539333    0.2     0       0.05         0  -0.15  alpha\n",
       "7   0.624499  0.581333    0.2     0       0.10         0  -0.10  alpha\n",
       "8   0.628612  0.614000    0.2     0       0.15         0  -0.05  alpha\n",
       "9   0.629790  0.592667    0.2     0       0.20         0   0.00  alpha\n",
       "10  0.603010  0.600667    0.2     0       0.25         0   0.05  alpha\n",
       "11  0.627937  0.524667    0.2     0       0.30         0   0.10  alpha\n",
       "12  0.620851  0.517333    0.2     0       0.35         0   0.15  alpha\n",
       "13  0.634965  0.498667    0.2     0       0.40         0   0.20  alpha\n",
       "14  0.500000  0.509333    0.4     0       0.20         0  -0.20  alpha\n",
       "15  0.658082  0.484000    0.4     0       0.25         0  -0.15  alpha\n",
       "16  0.610806  0.514000    0.4     0       0.30         0  -0.10  alpha\n",
       "17  0.592774  0.502000    0.4     0       0.35         0  -0.05  alpha\n",
       "18  0.648954  0.493333    0.4     0       0.40         0   0.00  alpha\n",
       "19  0.615152  0.574000    0.4     0       0.45         0   0.05  alpha\n",
       "20  0.624516  0.502667    0.4     0       0.50         0   0.10  alpha"
      ]
     },
     "execution_count": 8,
     "metadata": {},
     "output_type": "execute_result"
    }
   ],
   "source": [
    "robustness_results['param'] = 'alpha'\n",
    "robustness_results"
   ]
  },
  {
   "cell_type": "code",
   "execution_count": 17,
   "id": "4921e2e5",
   "metadata": {},
   "outputs": [
    {
     "data": {
      "text/plain": [
       "<seaborn.axisgrid.FacetGrid at 0x15979da60>"
      ]
     },
     "execution_count": 17,
     "metadata": {},
     "output_type": "execute_result"
    },
    {
     "data": {
      "image/png": "[encoded data removed]",
      "text/plain": [
       "<Figure size 972x432 with 3 Axes>"
      ]
     },
     "metadata": {},
     "output_type": "display_data"
    }
   ],
   "source": [
    "\n",
    "\n",
    "# Draw a pointplot to show pulse as a function of three categorical factors\n",
    "g = sns.catplot(\n",
    "    data=robustness_results, x=\"error\", y=\"ACC\",  col=\"alpha\",\n",
    "    capsize=.2, palette=\"YlGnBu_d\", errorbar=\"se\",\n",
    "    kind=\"point\", height=6, aspect=.75,\n",
    ")\n",
    "g.despine(left=True)\n",
    "\n"
   ]
  },
  {
   "cell_type": "markdown",
   "id": "706d256f",
   "metadata": {},
   "source": [
    "## Debugging baselines"
   ]
  },
  {
   "cell_type": "code",
   "execution_count": null,
   "id": "80dfb3ec",
   "metadata": {},
   "outputs": [],
   "source": [
    "compare\n",
    "alpha:0, beta:0 [looks good]\n",
    "alpha:.1, beta.3 [looks good]\n",
    "alpha:.2, beta:.2\n",
    "alpha:.3, beta.1 [looks good]\n"
   ]
  },
  {
   "cell_type": "code",
   "execution_count": 7,
   "id": "0065d464",
   "metadata": {},
   "outputs": [
    {
     "name": "stdout",
     "output_type": "stream",
     "text": [
      "surroate params {'alpha': None, 'beta': None}\n"
     ]
    },
    {
     "name": "stderr",
     "output_type": "stream",
     "text": [
      "Target: Y0: 100%|█████████████████████████████████████████████████████████████████████████████| 20/20 [00:14<00:00,  1.35it/s]\n"
     ]
    },
    {
     "name": "stdout",
     "output_type": "stream",
     "text": [
      "surroate params {'alpha': 0.10648197887660037, 'beta': 0.30984503179487555}\n"
     ]
    },
    {
     "name": "stderr",
     "output_type": "stream",
     "text": [
      "Target: Y0: 100%|█████████████████████████████████████████████████████████████████████████████| 20/20 [00:14<00:00,  1.37it/s]\n"
     ]
    }
   ],
   "source": [
    "## Main Experiment: troubleshoot baselines\n",
    "    \n",
    "    \n",
    "Y0_PDF = 'piecewise_sinusoid'\n",
    "Y1_PDF = 'low_base_rate_sinusoid'\n",
    "PI_PDF = 'linear'\n",
    "do=0\n",
    "\n",
    "expdf, error_params = generate_syn_data(\n",
    "    NS=10000,\n",
    "    K=1,\n",
    "    y0_pdf=Y0_PDF,\n",
    "    y1_pdf=Y1_PDF,\n",
    "    pi_pdf=PI_PDF,\n",
    "    alpha_min=0.1,\n",
    "    alpha_max=0.11,\n",
    "    beta_min=0.3,\n",
    "    beta_max=0.31,\n",
    "    shuffle=True\n",
    ")\n",
    "\n",
    "baseline1 = {\n",
    "    'model': 'Conditional outcome',\n",
    "    'target': 'Y0'\n",
    "}\n",
    "\n",
    "baseline2 = {\n",
    "    'model': 'Conditional outcome (SL)',\n",
    "    'target': 'Y0'\n",
    "}\n",
    "\n",
    "params1 = {\n",
    "    'alpha': None,\n",
    "    'beta': None\n",
    "}\n",
    "\n",
    "params2 = {\n",
    "    'alpha': error_params[f'alpha_{do}'][0],\n",
    "    'beta': error_params[f'beta_{do}'][0]\n",
    "}\n",
    "\n",
    "co = run_baseline(expdf, baseline1, do, params1, n_epochs=20, train_ratio=.7)\n",
    "cosl = run_baseline(expdf, baseline2, do, params2, n_epochs=20, train_ratio=.7)\n",
    "\n"
   ]
  },
  {
   "cell_type": "code",
   "execution_count": 8,
   "id": "ab293f90",
   "metadata": {},
   "outputs": [
    {
     "name": "stdout",
     "output_type": "stream",
     "text": [
      "aggreement (%): 0.65\n",
      "ACC - S0=0.59, SO+SL=0.77\n",
      "AU-ROC - S0=0.81, SO+SL=0.83\n"
     ]
    }
   ],
   "source": [
    "agreement = [(co['py_hat'] > .5) == (cosl['py_hat'] > .5)][0].mean()\n",
    "print(f'aggreement (%): {agreement.mean():.2f}')\n",
    "print(f\"ACC - S0={co['ACC']:.2f}, SO+SL={cosl['ACC']:.2f}\")\n",
    "print(f\"AU-ROC - S0={co['AU-ROC']:.2f}, SO+SL={cosl['AU-ROC']:.2f}\")"
   ]
  },
  {
   "cell_type": "code",
   "execution_count": 10,
   "id": "70934f0d",
   "metadata": {},
   "outputs": [
    {
     "data": {
      "image/png": "[encoded data removed]",
      "text/plain": [
       "<Figure size 504x360 with 1 Axes>"
      ]
     },
     "metadata": {},
     "output_type": "display_data"
    }
   ],
   "source": [
    "Y0_PDF = 'piecewise_sinusoid'\n",
    "Y1_PDF = 'low_base_rate_sinusoid'\n",
    "PI_PDF = 'linear'\n",
    "do=0\n",
    "\n",
    "expdf, _ = generate_syn_data(\n",
    "    NS=10000,\n",
    "    K=1,\n",
    "    y0_pdf=Y0_PDF,\n",
    "    y1_pdf=Y1_PDF,\n",
    "    pi_pdf=PI_PDF,\n",
    ")\n",
    "debug_info = {\n",
    "    'val_x': cosl['x'].squeeze(),\n",
    "    'val_py': cosl['py_hat'].squeeze()\n",
    "}\n",
    "# debug_info = {\n",
    "#     'val_x': x,\n",
    "#     'val_py': py_hat\n",
    "# }\n",
    "sns.set(font_scale=1.2)\n",
    "viz_ccpe_estimates(expdf, debug_info, error_params[f'alpha_{do}'][0],\n",
    "                   error_params[f'beta_{do}'][0], do, Y0_PDF, Y1_PDF, PI_PDF)"
   ]
  },
  {
   "cell_type": "code",
   "execution_count": 28,
   "id": "ceb6b2fe",
   "metadata": {},
   "outputs": [
    {
     "ename": "TypeError",
     "evalue": "generate_syn_data() got an unexpected keyword argument 'error_min'",
     "output_type": "error",
     "traceback": [
      "\u001b[0;31m---------------------------------------------------------------------------\u001b[0m",
      "\u001b[0;31mTypeError\u001b[0m                                 Traceback (most recent call last)",
      "Input \u001b[0;32mIn [28]\u001b[0m, in \u001b[0;36m<cell line: 1>\u001b[0;34m()\u001b[0m\n\u001b[0;32m----> 1\u001b[0m expdf, error_params \u001b[38;5;241m=\u001b[39m \u001b[43mgenerate_syn_data\u001b[49m\u001b[43m(\u001b[49m\n\u001b[1;32m      2\u001b[0m \u001b[43m    \u001b[49m\u001b[43mNS\u001b[49m\u001b[38;5;241;43m=\u001b[39;49m\u001b[38;5;241;43m10000\u001b[39;49m\u001b[43m,\u001b[49m\n\u001b[1;32m      3\u001b[0m \u001b[43m    \u001b[49m\u001b[43mK\u001b[49m\u001b[38;5;241;43m=\u001b[39;49m\u001b[38;5;241;43m1\u001b[39;49m\u001b[43m,\u001b[49m\n\u001b[1;32m      4\u001b[0m \u001b[43m    \u001b[49m\u001b[43my0_pdf\u001b[49m\u001b[38;5;241;43m=\u001b[39;49m\u001b[43mY0_PDF\u001b[49m\u001b[43m,\u001b[49m\n\u001b[1;32m      5\u001b[0m \u001b[43m    \u001b[49m\u001b[43my1_pdf\u001b[49m\u001b[38;5;241;43m=\u001b[39;49m\u001b[43mY1_PDF\u001b[49m\u001b[43m,\u001b[49m\n\u001b[1;32m      6\u001b[0m \u001b[43m    \u001b[49m\u001b[43mpi_pdf\u001b[49m\u001b[38;5;241;43m=\u001b[39;49m\u001b[43mPI_PDF\u001b[49m\u001b[43m,\u001b[49m\n\u001b[1;32m      7\u001b[0m \u001b[43m    \u001b[49m\u001b[43merror_min\u001b[49m\u001b[38;5;241;43m=\u001b[39;49m\u001b[38;5;241;43m0.2\u001b[39;49m\u001b[43m,\u001b[49m\n\u001b[1;32m      8\u001b[0m \u001b[43m    \u001b[49m\u001b[43merror_max\u001b[49m\u001b[38;5;241;43m=\u001b[39;49m\u001b[38;5;241;43m0.2\u001b[39;49m\u001b[43m,\u001b[49m\u001b[43m \u001b[49m\n\u001b[1;32m      9\u001b[0m \u001b[43m    \u001b[49m\u001b[43mshuffle\u001b[49m\u001b[38;5;241;43m=\u001b[39;49m\u001b[38;5;28;43;01mTrue\u001b[39;49;00m\n\u001b[1;32m     10\u001b[0m \u001b[43m)\u001b[49m\n\u001b[1;32m     12\u001b[0m split_ix \u001b[38;5;241m=\u001b[39m \u001b[38;5;28mint\u001b[39m(expdf\u001b[38;5;241m.\u001b[39mshape[\u001b[38;5;241m0\u001b[39m]\u001b[38;5;241m*\u001b[39m\u001b[38;5;241m.7\u001b[39m)\n\u001b[1;32m     13\u001b[0m train_df, val_df \u001b[38;5;241m=\u001b[39m expdf\u001b[38;5;241m.\u001b[39miloc[:split_ix,:], expdf\u001b[38;5;241m.\u001b[39miloc[split_ix:,:]\n",
      "\u001b[0;31mTypeError\u001b[0m: generate_syn_data() got an unexpected keyword argument 'error_min'"
     ]
    }
   ],
   "source": [
    "expdf, error_params = generate_syn_data(\n",
    "    NS=10000,\n",
    "    K=1,\n",
    "    y0_pdf=Y0_PDF,\n",
    "    y1_pdf=Y1_PDF,\n",
    "    pi_pdf=PI_PDF,\n",
    "    error_min=0.2,\n",
    "    error_max=0.2, \n",
    "    shuffle=True\n",
    ")\n",
    "\n",
    "split_ix = int(expdf.shape[0]*.7)\n",
    "train_df, val_df = expdf.iloc[:split_ix,:], expdf.iloc[split_ix:,:]\n",
    "\n",
    "\n",
    "# Train model\n",
    "train_loader, val_loader = get_loaders(train_df, val_df, do=0, target='Y0', conditional=True)\n",
    "model = MLP()\n",
    "\n",
    "surrogate_params = {\n",
    "    'alpha': 0.2,\n",
    "    'beta': 0.2\n",
    "}\n",
    "\n",
    "# surrogate_params = {\n",
    "#     'alpha': None,\n",
    "#     'beta': None\n",
    "# }\n",
    "\n",
    "losses = train(model, target='Y0', train_loader=train_loader, error_params=surrogate_params, n_epochs=40)\n",
    "\n",
    "# Evaluate on validation data\n",
    "x, y, py_hat = evaluate(model, val_loader)\n",
    "y_hat = np.zeros_like(y)\n",
    "y_hat[py_hat > .5] = 1"
   ]
  },
  {
   "cell_type": "code",
   "execution_count": 9,
   "id": "04420c94",
   "metadata": {
    "scrolled": true
   },
   "outputs": [
    {
     "data": {
      "image/png": "[encoded data removed]",
      "text/plain": [
       "<Figure size 504x360 with 1 Axes>"
      ]
     },
     "metadata": {},
     "output_type": "display_data"
    }
   ],
   "source": [
    "\n"
   ]
  },
  {
   "cell_type": "code",
   "execution_count": 23,
   "id": "9c79810d",
   "metadata": {},
   "outputs": [],
   "source": [
    "def get_loss(y_hat, y, alpha_d=None, beta_d=None):\n",
    "\n",
    "    loss = torch.nn.BCELoss()\n",
    "    if not alpha_d:\n",
    "        return loss(y_hat, y) \n",
    "\n",
    "    pos_loss = loss(y_hat[y==1], y[y==1])\n",
    "    neg_loss = loss(y_hat[y==0], y[y==0])\n",
    "\n",
    "    pos_label_losses = ((1-alpha_d)*pos_loss - beta_d*neg_loss)/(1-beta_d-alpha_d)\n",
    "    neg_label_losses = ((1-beta_d)*neg_loss - alpha_d*pos_loss)/(1-beta_d-alpha_d)\n",
    "\n",
    "    return pos_label_losses + neg_label_losses\n"
   ]
  },
  {
   "cell_type": "code",
   "execution_count": null,
   "id": "28f2d9ec",
   "metadata": {},
   "outputs": [],
   "source": []
  }
 ],
 "metadata": {
  "kernelspec": {
   "display_name": "10701-Project",
   "language": "python",
   "name": "10701-project"
  },
  "language_info": {
   "codemirror_mode": {
    "name": "ipython",
    "version": 3
   },
   "file_extension": ".py",
   "mimetype": "text/x-python",
   "name": "python",
   "nbconvert_exporter": "python",
   "pygments_lexer": "ipython3",
   "version": "3.9.8"
  }
 },
 "nbformat": 4,
 "nbformat_minor": 5
}
