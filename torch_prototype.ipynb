{
 "cells": [
  {
   "cell_type": "code",
   "execution_count": 1,
   "id": "d455a2d7",
   "metadata": {},
   "outputs": [
    {
     "name": "stderr",
     "output_type": "stream",
     "text": [
      "/Users/lguerdan/.virtualenvs/10701-Project/lib/python3.9/site-packages/tqdm/auto.py:22: TqdmWarning: IProgress not found. Please update jupyter and ipywidgets. See https://ipywidgets.readthedocs.io/en/stable/user_install.html\n",
      "  from .autonotebook import tqdm as notebook_tqdm\n"
     ]
    }
   ],
   "source": [
    "import random, warnings\n",
    "import seaborn as sns\n",
    "import numpy as np\n",
    "import pandas as pd\n",
    "import matplotlib.pyplot as plt\n",
    "import torch\n",
    "import torch.optim as optim\n",
    "from torch.autograd import Variable\n",
    "from sklearn.metrics import roc_auc_score\n",
    "\n",
    "from torch import nn\n",
    "\n",
    "from warnings import simplefilter\n",
    "from sklearn.exceptions import ConvergenceWarning\n",
    "simplefilter(\"ignore\", category=ConvergenceWarning)\n",
    "\n",
    "from synexp import *\n",
    "from viz import *\n",
    "from mlp import *\n",
    "\n",
    "y0_pdf = 'sinusoid'\n",
    "y1_pdf = 'low_base_rate_sinusoid'\n",
    "pi_pdf = 'linear'"
   ]
  },
  {
   "cell_type": "code",
   "execution_count": 2,
   "id": "4805f4a3",
   "metadata": {},
   "outputs": [],
   "source": [
    "# Example code invoking experiemnt setup functions\n",
    "expdf, error_params = generate_syn_data(\n",
    "    NS=5000,\n",
    "    y0_pdf=y0_pdf,\n",
    "    y1_pdf=y1_pdf,\n",
    "    pi_pdf='linear',\n",
    "    error_min=0.05,\n",
    "    error_max=0.25\n",
    ")"
   ]
  },
  {
   "cell_type": "code",
   "execution_count": 3,
   "id": "507c0b0b",
   "metadata": {},
   "outputs": [
    {
     "name": "stdout",
     "output_type": "stream",
     "text": [
      "Sanity check AU-ROC 0.8839472238470552\n"
     ]
    }
   ],
   "source": [
    "do=0\n",
    "exp_data = expdf.copy()\n",
    "exp_data = exp_data.sample(frac=1).reset_index(drop=True)\n",
    "split_ix = int(exp_data.shape[0]*.7)\n",
    "train_df, val_df = exp_data.iloc[:split_ix,:], exp_data.iloc[split_ix:,:]\n",
    "train_df = train_df[train_df['D'] == do]\n",
    "\n",
    "clf = MLPClassifier(alpha=0, hidden_layer_sizes=(40, 4))\n",
    "clf.fit(train_df['X'].to_numpy().reshape(-1, 1), train_df['YS_0'])\n",
    "\n",
    "pyhat = clf.predict_proba(val_df['X'].to_numpy().reshape(-1, 1))\n",
    "auroc = roc_auc_score(val_df['YS_0'], pyhat[:, 1])\n",
    "\n",
    "print('Sanity check AU-ROC', auroc)\n"
   ]
  },
  {
   "cell_type": "code",
   "execution_count": 4,
   "id": "fd955318",
   "metadata": {},
   "outputs": [],
   "source": [
    "# def train(model, train_loader, loss_func, n_epochs):\n",
    "    \n",
    "#     opt = optim.Adam(model.parameters(), lr=0.001, betas=(0.9, 0.999))\n",
    "#     epoch_loss = []\n",
    "\n",
    "#     for epoch in tqdm(range(0, n_epochs)):\n",
    "#         current_loss = 0.0\n",
    "#         for i, data in enumerate(trainloader, 0):\n",
    "#             inputs, targets = data\n",
    "#             opt.zero_grad()\n",
    "#             outputs = model(inputs)\n",
    "#             loss = loss_func(outputs, targets)\n",
    "#             loss.backward()\n",
    "#             opt.step()\n",
    "#             current_loss += loss.item()\n",
    "        \n",
    "#         epoch_loss.append(current_loss)\n",
    "#         current_loss = 0.0\n",
    "        \n",
    "        \n",
    "        \n",
    "#     return epoch_loss\n",
    "\n",
    "# def evaluate(model, val_loader):\n",
    "#     labels = []\n",
    "#     preds = []\n",
    "    \n",
    "#     for i, data in enumerate(val_loader, 0):\n",
    "#         inputs, targets = data\n",
    "#         outputs = model(inputs)\n",
    "#         preds.append(outputs)\n",
    "#         labels.append(targets)\n",
    "\n",
    "#     py_hat = torch.cat(preds, dim=0).detach().numpy()\n",
    "#     y = torch.cat(labels, dim=0).detach().numpy()\n",
    "    \n",
    "#     return y, py_hat\n",
    "    "
   ]
  },
  {
   "cell_type": "code",
   "execution_count": null,
   "id": "ab11fb80",
   "metadata": {},
   "outputs": [],
   "source": [
    "exp_data = expdf.copy()\n",
    "exp_data = exp_data.sample(frac=1).reset_index(drop=True)\n",
    "split_ix = int(exp_data.shape[0]*.7)\n",
    "train_df, val_df = exp_data.iloc[:split_ix,:], exp_data.iloc[split_ix:,:]\n",
    "train_df = train_df[train_df['D'] == do]\n"
   ]
  },
  {
   "cell_type": "code",
   "execution_count": null,
   "id": "0c93d7a9",
   "metadata": {},
   "outputs": [],
   "source": [
    "def run_torch_experiment(expdf, do, train_ratio=.7):\n",
    "\n",
    "    expdf = expdf.sample(frac=1).reset_index(drop=True)\n",
    "    split_ix = int(expdf.shape[0]*train_ratio)\n",
    "    train_df, val_df = expdf.iloc[:split_ix,:], expdf.iloc[split_ix:,:]\n",
    "    \n",
    "    get_loaders(train_df, val_df, do, model)\n",
    "\n",
    "    exp_results = {\n",
    "        'model': [],\n",
    "        'AU-ROC': []\n",
    "    }\n",
    "\n",
    "    models = ['Y', 'YD', f'Y_{do}', f'YS_{do}']\n",
    "    \n",
    "    for model in models:\n",
    "        \n",
    "        train_loader, val_loader = get_loaders(train_df, val_df, do, model)\n",
    "        model = MLP()\n",
    "        loss_func = nn.BCELoss()\n",
    "        losses = train(model, train_loader, loss_func, n_epochs=20)\n",
    "        \n",
    "        y, py_hat = evaluate(model, val_loader)\n",
    "        clf.fit(train['X'].to_numpy().reshape(-1, 1), train[target])\n",
    "        pyhat = clf.predict_proba(val_df['X'].to_numpy().reshape(-1, 1))\n",
    "        \n",
    "        target = 'Y' if target == 'YD' else target\n",
    "        auroc = roc_auc_score(val_df[target], pyhat)\n",
    "\n",
    "        exp_results['model'].append(model)\n",
    "        exp_results['AU-ROC'].append(auroc)\n",
    "    \n",
    "    return exp_results\n"
   ]
  },
  {
   "cell_type": "code",
   "execution_count": 7,
   "id": "5ed5f27c",
   "metadata": {},
   "outputs": [],
   "source": [
    "def get_loaders(train_df, val_df, do, target):\n",
    "    \n",
    "    if target == 'YD':\n",
    "        train_df = train_df[train_df['D'] == do]\n",
    "        target = 'Y'\n",
    "    \n",
    "    X_train = torch.Tensor(train_df['X'].to_numpy())[:, None]\n",
    "    Y_train = torch.Tensor(train_df[target].to_numpy())[:, None]\n",
    "    train_data = torch.utils.data.TensorDataset(X_train, Y_train)\n",
    "    train_loader = torch.utils.data.DataLoader(train_data, batch_size=32, shuffle=True, num_workers=1)\n",
    "\n",
    "    X_val = torch.Tensor(val_df['X'].to_numpy())[:, None]\n",
    "    Y_val = torch.Tensor(val_df[target].to_numpy())[:, None]\n",
    "    val_data = torch.utils.data.TensorDataset(X_val, Y_val)\n",
    "    val_loader = torch.utils.data.DataLoader(val_data, batch_size=32, shuffle=False, num_workers=1)\n",
    "\n",
    "    "
   ]
  },
  {
   "cell_type": "code",
   "execution_count": 5,
   "id": "106934d4",
   "metadata": {
    "scrolled": true
   },
   "outputs": [
    {
     "name": "stderr",
     "output_type": "stream",
     "text": [
      "100%|███████████████████████████████████████████| 20/20 [00:13<00:00,  1.52it/s]\n"
     ]
    },
    {
     "name": "stdout",
     "output_type": "stream",
     "text": [
      "0.66647226443769\n"
     ]
    }
   ],
   "source": [
    "X_train = torch.Tensor(train_df['X'].to_numpy())[:, None]\n",
    "Y_train = torch.Tensor(train_df['Y'].to_numpy())[:, None]\n",
    "train_data = torch.utils.data.TensorDataset(X_train, Y_train)\n",
    "train_loader = torch.utils.data.DataLoader(train_data, batch_size=32, shuffle=True, num_workers=1)\n",
    "\n",
    "X_val = torch.Tensor(val_df['X'].to_numpy())[:, None]\n",
    "Y_val = torch.Tensor(val_df['Y'].to_numpy())[:, None]\n",
    "val_data = torch.utils.data.TensorDataset(X_val, Y_val)\n",
    "val_loader = torch.utils.data.DataLoader(val_data, batch_size=32, shuffle=False, num_workers=1)\n",
    "\n",
    "model = MLP()\n",
    "loss_func = nn.BCELoss()\n",
    "losses = train(model, train_loader, loss_func, n_epochs=20)\n",
    "# y, py_hat = evaluate(model, val_loader)\n",
    "\n",
    "y, py_hat = evaluate(model, val_loader)\n",
    "\n",
    "print(roc_auc_score(y, py_hat))\n"
   ]
  },
  {
   "cell_type": "code",
   "execution_count": 49,
   "id": "7414bf11",
   "metadata": {},
   "outputs": [
    {
     "data": {
      "text/plain": [
       "(1500, 1)"
      ]
     },
     "execution_count": 49,
     "metadata": {},
     "output_type": "execute_result"
    }
   ],
   "source": []
  },
  {
   "cell_type": "code",
   "execution_count": 35,
   "id": "4f32368b",
   "metadata": {},
   "outputs": [
    {
     "data": {
      "text/plain": [
       "(1500, 1)"
      ]
     },
     "execution_count": 35,
     "metadata": {},
     "output_type": "execute_result"
    }
   ],
   "source": [
    "y.shape"
   ]
  },
  {
   "cell_type": "code",
   "execution_count": 68,
   "id": "64f31a62",
   "metadata": {},
   "outputs": [
    {
     "data": {
      "text/plain": [
       "0.6697717382530142"
      ]
     },
     "execution_count": 68,
     "metadata": {},
     "output_type": "execute_result"
    }
   ],
   "source": [
    "\n",
    "\n",
    "roc_auc_score(y, py_hat)"
   ]
  },
  {
   "cell_type": "code",
   "execution_count": 80,
   "id": "c6bcc34d",
   "metadata": {},
   "outputs": [
    {
     "data": {
      "image/png": "[encoded data removed]",
      "text/plain": [
       "<Figure size 504x360 with 1 Axes>"
      ]
     },
     "metadata": {
      "needs_background": "light"
     },
     "output_type": "display_data"
    }
   ],
   "source": [
    "do=0\n",
    "debug_info = {\n",
    "    'val_x': x,\n",
    "    'val_py': py_hat\n",
    "}\n",
    "\n",
    "viz_ccpe_estimates(expdf, debug_info, error_params, do, y0_pdf, y1_pdf, pi_pdf)\n",
    "\n",
    "\n",
    "\n",
    "\n"
   ]
  }
 ],
 "metadata": {
  "kernelspec": {
   "display_name": "10701-Project",
   "language": "python",
   "name": "10701-project"
  },
  "language_info": {
   "codemirror_mode": {
    "name": "ipython",
    "version": 3
   },
   "file_extension": ".py",
   "mimetype": "text/x-python",
   "name": "python",
   "nbconvert_exporter": "python",
   "pygments_lexer": "ipython3",
   "version": "3.9.8"
  }
 },
 "nbformat": 4,
 "nbformat_minor": 5
}
