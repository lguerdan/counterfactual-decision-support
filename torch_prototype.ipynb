{
 "cells": [
  {
   "cell_type": "code",
   "execution_count": 1,
   "id": "f8182b48",
   "metadata": {},
   "outputs": [
    {
     "name": "stderr",
     "output_type": "stream",
     "text": [
      "/Users/lguerdan/.virtualenvs/10701-Project/lib/python3.9/site-packages/tqdm/auto.py:22: TqdmWarning: IProgress not found. Please update jupyter and ipywidgets. See https://ipywidgets.readthedocs.io/en/stable/user_install.html\n",
      "  from .autonotebook import tqdm as notebook_tqdm\n"
     ]
    }
   ],
   "source": [
    "import random, warnings\n",
    "import seaborn as sns\n",
    "import numpy as np\n",
    "import pandas as pd\n",
    "import matplotlib.pyplot as plt\n",
    "import torch\n",
    "import torch.optim as optim\n",
    "from torch.autograd import Variable\n",
    "from sklearn.metrics import roc_auc_score\n",
    "\n",
    "from torch import nn\n",
    "\n",
    "from warnings import simplefilter\n",
    "from sklearn.exceptions import ConvergenceWarning\n",
    "simplefilter(\"ignore\", category=ConvergenceWarning)\n",
    "\n",
    "from synexp import *\n",
    "from viz import *\n",
    "# from mlp import *\n",
    "\n",
    "y0_pdf = 'sinusoid'\n",
    "y1_pdf = 'low_base_rate_sinusoid'\n",
    "pi_pdf = 'linear'"
   ]
  },
  {
   "cell_type": "code",
   "execution_count": 2,
   "id": "be110ff8",
   "metadata": {},
   "outputs": [],
   "source": [
    "# Example code invoking experiemnt setup functions\n",
    "expdf, error_params = generate_syn_data(\n",
    "    NS=5000,\n",
    "    y0_pdf=y0_pdf,\n",
    "    y1_pdf=y1_pdf,\n",
    "    pi_pdf='linear',\n",
    "    error_min=0.05,\n",
    "    error_max=0.25\n",
    ")"
   ]
  },
  {
   "cell_type": "markdown",
   "id": "21e33f51",
   "metadata": {},
   "source": [
    "### Sanity check"
   ]
  },
  {
   "cell_type": "code",
   "execution_count": 2,
   "id": "2bf4da74",
   "metadata": {},
   "outputs": [],
   "source": [
    "expdf, error_params = generate_syn_data(\n",
    "    NS=8000,\n",
    "    y0_pdf=y0_pdf,\n",
    "    y1_pdf=y1_pdf,\n",
    "    pi_pdf='linear',\n",
    "    error_min=0.2,\n",
    "    error_max=0.25\n",
    ")"
   ]
  },
  {
   "cell_type": "code",
   "execution_count": 3,
   "id": "686edf60",
   "metadata": {
    "scrolled": true
   },
   "outputs": [
    {
     "name": "stderr",
     "output_type": "stream",
     "text": [
      "100%|███████████████████████████████████████████| 20/20 [00:15<00:00,  1.26it/s]\n",
      "100%|███████████████████████████████████████████| 20/20 [00:14<00:00,  1.40it/s]\n",
      "100%|███████████████████████████████████████████| 20/20 [00:16<00:00,  1.23it/s]\n",
      "100%|███████████████████████████████████████████| 20/20 [00:15<00:00,  1.26it/s]\n"
     ]
    }
   ],
   "source": [
    "results, val_scores = run_torch_experiment(expdf, do=0,\n",
    "                                           error_params=error_params, n_epochs=20, train_ratio=.7)"
   ]
  },
  {
   "cell_type": "code",
   "execution_count": 5,
   "id": "dd8d8c29",
   "metadata": {},
   "outputs": [
    {
     "data": {
      "text/plain": [
       "{'model': ['Y', 'YD', 'Y_0', 'YS_0'],\n",
       " 'AU-ROC': [0.8291978503405898,\n",
       "  0.8669373881832628,\n",
       "  0.8935143514351435,\n",
       "  0.9145497883121645]}"
      ]
     },
     "execution_count": 5,
     "metadata": {},
     "output_type": "execute_result"
    }
   ],
   "source": [
    "results"
   ]
  },
  {
   "cell_type": "code",
   "execution_count": 29,
   "id": "a15a08a5",
   "metadata": {
    "scrolled": true
   },
   "outputs": [
    {
     "name": "stderr",
     "output_type": "stream",
     "text": [
      "100%|███████████████████████████████████████████| 20/20 [00:15<00:00,  1.29it/s]\n",
      "100%|███████████████████████████████████████████| 20/20 [00:14<00:00,  1.42it/s]\n",
      "100%|███████████████████████████████████████████| 20/20 [00:14<00:00,  1.36it/s]\n",
      "100%|███████████████████████████████████████████| 20/20 [00:14<00:00,  1.35it/s]\n",
      "100%|███████████████████████████████████████████| 20/20 [00:15<00:00,  1.28it/s]\n",
      "100%|███████████████████████████████████████████| 20/20 [00:14<00:00,  1.36it/s]\n",
      "100%|███████████████████████████████████████████| 20/20 [00:16<00:00,  1.24it/s]\n",
      "100%|███████████████████████████████████████████| 20/20 [00:16<00:00,  1.24it/s]\n",
      "100%|███████████████████████████████████████████| 20/20 [00:17<00:00,  1.18it/s]\n",
      "100%|███████████████████████████████████████████| 20/20 [00:16<00:00,  1.21it/s]\n",
      "100%|███████████████████████████████████████████| 20/20 [00:15<00:00,  1.32it/s]\n",
      "100%|███████████████████████████████████████████| 20/20 [00:14<00:00,  1.38it/s]\n",
      "100%|███████████████████████████████████████████| 20/20 [00:14<00:00,  1.38it/s]\n",
      "100%|███████████████████████████████████████████| 20/20 [00:13<00:00,  1.50it/s]\n",
      "100%|███████████████████████████████████████████| 20/20 [00:14<00:00,  1.38it/s]\n",
      "100%|███████████████████████████████████████████| 20/20 [00:14<00:00,  1.38it/s]\n",
      "100%|███████████████████████████████████████████| 20/20 [00:14<00:00,  1.38it/s]\n",
      "100%|███████████████████████████████████████████| 20/20 [00:13<00:00,  1.51it/s]\n",
      "100%|███████████████████████████████████████████| 20/20 [00:14<00:00,  1.38it/s]\n",
      "100%|███████████████████████████████████████████| 20/20 [00:14<00:00,  1.39it/s]\n"
     ]
    },
    {
     "data": {
      "text/plain": [
       "<AxesSubplot:xlabel='model', ylabel='AU-ROC'>"
      ]
     },
     "execution_count": 29,
     "metadata": {},
     "output_type": "execute_result"
    },
    {
     "data": {
      "image/png": "[encoded data removed]",
      "text/plain": [
       "<Figure size 432x288 with 1 Axes>"
      ]
     },
     "metadata": {
      "needs_background": "light"
     },
     "output_type": "display_data"
    }
   ],
   "source": [
    "NS = 8000\n",
    "N_RUNS = 5\n",
    "\n",
    "exp_results = {\n",
    "    'model': [],\n",
    "    'AU-ROC': []\n",
    "}\n",
    "\n",
    "for RUN in range(N_RUNS):\n",
    "\n",
    "    expdf, error_params = generate_syn_data(\n",
    "        NS,\n",
    "        y0_pdf='sinusoid',\n",
    "        y1_pdf='low_base_rate_sinusoid',\n",
    "        pi_pdf='linear',\n",
    "        error_min=0.05,\n",
    "        error_max=0.25\n",
    "    )\n",
    "\n",
    "    results, val_scores = run_torch_experiment(expdf, do=0, n_epochs=20)\n",
    "    exp_results['model'].extend(results['model'])\n",
    "    exp_results['AU-ROC'].extend(results['AU-ROC'])\n",
    "    \n",
    "resultdf = pd.DataFrame(exp_results)"
   ]
  },
  {
   "cell_type": "code",
   "execution_count": null,
   "id": "0bd95f75",
   "metadata": {},
   "outputs": [],
   "source": [
    "sns.barplot(data=resultdf, x='model', y='AU-ROC')"
   ]
  },
  {
   "cell_type": "markdown",
   "id": "24f4e763",
   "metadata": {},
   "source": [
    "## Parameter estimation experiment"
   ]
  },
  {
   "cell_type": "code",
   "execution_count": null,
   "id": "3a54a8da",
   "metadata": {},
   "outputs": [],
   "source": [
    "loss_func = nn.BCELoss()\n",
    "\n",
    "preds = torch.Tensor([.2,.3,.4])[:,None]\n",
    "targets = torch.Tensor([0,0,1])[:,None]\n",
    "\n",
    "nn.BCELoss(preds, targets)\n",
    "preds.size()\n",
    "targets.size()"
   ]
  },
  {
   "cell_type": "code",
   "execution_count": 2,
   "id": "a5633b32",
   "metadata": {},
   "outputs": [
    {
     "name": "stderr",
     "output_type": "stream",
     "text": [
      "100%|███████████████████████████████████████████| 20/20 [00:12<00:00,  1.55it/s]\n",
      "100%|███████████████████████████████████████████| 20/20 [00:12<00:00,  1.66it/s]\n",
      "100%|███████████████████████████████████████████| 20/20 [00:11<00:00,  1.76it/s]\n",
      "100%|███████████████████████████████████████████| 20/20 [00:11<00:00,  1.77it/s]\n",
      "100%|███████████████████████████████████████████| 20/20 [00:11<00:00,  1.76it/s]\n",
      "100%|███████████████████████████████████████████| 20/20 [00:11<00:00,  1.78it/s]\n",
      "100%|███████████████████████████████████████████| 20/20 [00:11<00:00,  1.75it/s]\n",
      "100%|███████████████████████████████████████████| 20/20 [00:12<00:00,  1.65it/s]\n",
      "100%|███████████████████████████████████████████| 20/20 [00:12<00:00,  1.64it/s]\n",
      "100%|███████████████████████████████████████████| 20/20 [00:11<00:00,  1.69it/s]\n",
      "100%|███████████████████████████████████████████| 20/20 [00:11<00:00,  1.67it/s]\n",
      "100%|███████████████████████████████████████████| 20/20 [00:13<00:00,  1.47it/s]\n",
      "100%|███████████████████████████████████████████| 20/20 [00:13<00:00,  1.50it/s]\n",
      "100%|███████████████████████████████████████████| 20/20 [00:12<00:00,  1.63it/s]\n",
      "100%|███████████████████████████████████████████| 20/20 [00:12<00:00,  1.59it/s]\n",
      "100%|███████████████████████████████████████████| 20/20 [00:12<00:00,  1.62it/s]\n",
      "100%|███████████████████████████████████████████| 20/20 [00:11<00:00,  1.68it/s]\n",
      "100%|███████████████████████████████████████████| 20/20 [00:11<00:00,  1.72it/s]\n",
      "100%|███████████████████████████████████████████| 20/20 [00:12<00:00,  1.64it/s]\n",
      "100%|███████████████████████████████████████████| 20/20 [00:11<00:00,  1.70it/s]\n",
      "100%|███████████████████████████████████████████| 20/20 [00:12<00:00,  1.57it/s]\n",
      "100%|███████████████████████████████████████████| 20/20 [00:12<00:00,  1.63it/s]\n",
      "100%|███████████████████████████████████████████| 20/20 [00:13<00:00,  1.47it/s]\n",
      "100%|███████████████████████████████████████████| 20/20 [00:11<00:00,  1.69it/s]\n",
      "100%|███████████████████████████████████████████| 20/20 [00:11<00:00,  1.68it/s]\n",
      "100%|███████████████████████████████████████████| 20/20 [00:11<00:00,  1.70it/s]\n",
      "100%|███████████████████████████████████████████| 20/20 [00:11<00:00,  1.67it/s]\n",
      "100%|███████████████████████████████████████████| 20/20 [00:13<00:00,  1.47it/s]\n",
      "100%|███████████████████████████████████████████| 20/20 [00:13<00:00,  1.50it/s]\n",
      "100%|███████████████████████████████████████████| 20/20 [00:12<00:00,  1.66it/s]\n",
      "100%|███████████████████████████████████████████| 20/20 [00:11<00:00,  1.68it/s]\n",
      "100%|███████████████████████████████████████████| 20/20 [00:11<00:00,  1.71it/s]\n",
      "100%|███████████████████████████████████████████| 20/20 [00:12<00:00,  1.59it/s]\n",
      "100%|███████████████████████████████████████████| 20/20 [00:11<00:00,  1.69it/s]\n",
      "100%|███████████████████████████████████████████| 20/20 [00:11<00:00,  1.67it/s]\n",
      "100%|███████████████████████████████████████████| 20/20 [00:12<00:00,  1.64it/s]\n",
      "100%|███████████████████████████████████████████| 20/20 [14:48<00:00, 44.40s/it]\n",
      "100%|███████████████████████████████████████████| 20/20 [27:06<00:00, 81.32s/it]\n",
      "100%|███████████████████████████████████████████| 20/20 [27:06<00:00, 81.32s/it]\n",
      "100%|███████████████████████████████████████████| 20/20 [00:19<00:00,  1.04it/s]\n",
      "100%|███████████████████████████████████████████| 20/20 [00:39<00:00,  1.96s/it]\n",
      "100%|███████████████████████████████████████████| 20/20 [01:23<00:00,  4.20s/it]\n",
      "100%|███████████████████████████████████████████| 20/20 [15:42<00:00, 47.11s/it]\n",
      "100%|███████████████████████████████████████████| 20/20 [00:12<00:00,  1.57it/s]\n",
      "100%|███████████████████████████████████████████| 20/20 [00:15<00:00,  1.27it/s]\n",
      "100%|███████████████████████████████████████████| 20/20 [00:12<00:00,  1.55it/s]\n",
      "100%|███████████████████████████████████████████| 20/20 [00:12<00:00,  1.56it/s]\n",
      "100%|███████████████████████████████████████████| 20/20 [00:12<00:00,  1.57it/s]\n",
      "100%|███████████████████████████████████████████| 20/20 [00:13<00:00,  1.44it/s]\n",
      "100%|███████████████████████████████████████████| 20/20 [00:13<00:00,  1.45it/s]\n",
      "100%|███████████████████████████████████████████| 20/20 [00:12<00:00,  1.60it/s]\n",
      "100%|███████████████████████████████████████████| 20/20 [00:11<00:00,  1.67it/s]\n",
      "100%|███████████████████████████████████████████| 20/20 [00:13<00:00,  1.51it/s]\n",
      "100%|███████████████████████████████████████████| 20/20 [00:12<00:00,  1.64it/s]\n",
      "100%|███████████████████████████████████████████| 20/20 [00:12<00:00,  1.59it/s]\n",
      "100%|███████████████████████████████████████████| 20/20 [00:12<00:00,  1.65it/s]\n",
      "100%|███████████████████████████████████████████| 20/20 [00:13<00:00,  1.51it/s]\n",
      "100%|███████████████████████████████████████████| 20/20 [00:14<00:00,  1.42it/s]\n",
      "100%|███████████████████████████████████████████| 20/20 [00:14<00:00,  1.37it/s]\n",
      "100%|███████████████████████████████████████████| 20/20 [00:13<00:00,  1.51it/s]\n",
      "100%|███████████████████████████████████████████| 20/20 [00:13<00:00,  1.49it/s]\n",
      "100%|███████████████████████████████████████████| 20/20 [00:12<00:00,  1.57it/s]\n",
      "100%|███████████████████████████████████████████| 20/20 [00:14<00:00,  1.42it/s]\n",
      "100%|███████████████████████████████████████████| 20/20 [00:14<00:00,  1.38it/s]\n",
      "100%|███████████████████████████████████████████| 20/20 [00:13<00:00,  1.45it/s]\n",
      "100%|███████████████████████████████████████████| 20/20 [00:12<00:00,  1.58it/s]\n",
      "100%|███████████████████████████████████████████| 20/20 [00:12<00:00,  1.55it/s]\n",
      "100%|███████████████████████████████████████████| 20/20 [00:12<00:00,  1.64it/s]\n",
      "100%|███████████████████████████████████████████| 20/20 [00:12<00:00,  1.54it/s]\n",
      "100%|███████████████████████████████████████████| 20/20 [00:12<00:00,  1.65it/s]\n",
      "100%|███████████████████████████████████████████| 20/20 [00:12<00:00,  1.57it/s]\n",
      "100%|███████████████████████████████████████████| 20/20 [00:12<00:00,  1.62it/s]\n",
      "100%|███████████████████████████████████████████| 20/20 [00:12<00:00,  1.57it/s]\n",
      "100%|███████████████████████████████████████████| 20/20 [00:12<00:00,  1.64it/s]\n",
      "100%|███████████████████████████████████████████| 20/20 [00:12<00:00,  1.56it/s]\n",
      "100%|███████████████████████████████████████████| 20/20 [00:12<00:00,  1.65it/s]\n",
      "100%|███████████████████████████████████████████| 20/20 [00:12<00:00,  1.55it/s]\n",
      "100%|███████████████████████████████████████████| 20/20 [00:12<00:00,  1.61it/s]\n",
      "100%|███████████████████████████████████████████| 20/20 [00:13<00:00,  1.49it/s]\n",
      "100%|███████████████████████████████████████████| 20/20 [00:14<00:00,  1.39it/s]\n",
      "100%|███████████████████████████████████████████| 20/20 [00:15<00:00,  1.26it/s]\n",
      "100%|███████████████████████████████████████████| 20/20 [00:14<00:00,  1.37it/s]\n",
      "100%|███████████████████████████████████████████| 20/20 [00:14<00:00,  1.37it/s]\n",
      "100%|███████████████████████████████████████████| 20/20 [00:12<00:00,  1.54it/s]\n",
      "100%|███████████████████████████████████████████| 20/20 [00:16<00:00,  1.21it/s]\n",
      "100%|███████████████████████████████████████████| 20/20 [00:14<00:00,  1.35it/s]\n",
      "100%|███████████████████████████████████████████| 20/20 [00:15<00:00,  1.33it/s]\n",
      "100%|███████████████████████████████████████████| 20/20 [00:14<00:00,  1.42it/s]\n",
      "100%|███████████████████████████████████████████| 20/20 [00:15<00:00,  1.29it/s]\n",
      "100%|███████████████████████████████████████████| 20/20 [00:13<00:00,  1.49it/s]\n",
      "100%|███████████████████████████████████████████| 20/20 [00:14<00:00,  1.42it/s]\n",
      "100%|███████████████████████████████████████████| 20/20 [00:13<00:00,  1.49it/s]\n",
      "100%|███████████████████████████████████████████| 20/20 [00:14<00:00,  1.40it/s]\n",
      "100%|███████████████████████████████████████████| 20/20 [00:14<00:00,  1.34it/s]\n",
      "100%|███████████████████████████████████████████| 20/20 [00:13<00:00,  1.49it/s]\n",
      "100%|███████████████████████████████████████████| 20/20 [00:13<00:00,  1.46it/s]\n",
      "100%|███████████████████████████████████████████| 20/20 [00:14<00:00,  1.33it/s]\n",
      "100%|███████████████████████████████████████████| 20/20 [00:13<00:00,  1.53it/s]\n",
      "100%|███████████████████████████████████████████| 20/20 [00:13<00:00,  1.48it/s]\n",
      "100%|███████████████████████████████████████████| 20/20 [00:12<00:00,  1.59it/s]\n",
      "100%|███████████████████████████████████████████| 20/20 [00:16<00:00,  1.23it/s]\n",
      "100%|███████████████████████████████████████████| 20/20 [00:14<00:00,  1.40it/s]\n",
      "100%|███████████████████████████████████████████| 20/20 [00:15<00:00,  1.28it/s]\n",
      "100%|███████████████████████████████████████████| 20/20 [00:14<00:00,  1.38it/s]\n",
      "100%|███████████████████████████████████████████| 20/20 [00:15<00:00,  1.32it/s]\n",
      "100%|███████████████████████████████████████████| 20/20 [00:13<00:00,  1.46it/s]\n",
      "100%|███████████████████████████████████████████| 20/20 [00:15<00:00,  1.29it/s]\n",
      "100%|███████████████████████████████████████████| 20/20 [00:14<00:00,  1.41it/s]\n",
      "100%|███████████████████████████████████████████| 20/20 [00:16<00:00,  1.22it/s]\n",
      "100%|███████████████████████████████████████████| 20/20 [00:15<00:00,  1.33it/s]\n",
      "100%|███████████████████████████████████████████| 20/20 [00:16<00:00,  1.21it/s]\n",
      "100%|███████████████████████████████████████████| 20/20 [00:13<00:00,  1.43it/s]\n",
      "100%|███████████████████████████████████████████| 20/20 [00:15<00:00,  1.31it/s]\n",
      "100%|███████████████████████████████████████████| 20/20 [00:14<00:00,  1.41it/s]\n",
      "100%|███████████████████████████████████████████| 20/20 [00:15<00:00,  1.32it/s]\n",
      "100%|███████████████████████████████████████████| 20/20 [00:13<00:00,  1.43it/s]\n",
      "100%|███████████████████████████████████████████| 20/20 [00:15<00:00,  1.29it/s]\n",
      "100%|███████████████████████████████████████████| 20/20 [00:14<00:00,  1.37it/s]\n",
      "100%|███████████████████████████████████████████| 20/20 [00:15<00:00,  1.27it/s]\n",
      "100%|███████████████████████████████████████████| 20/20 [00:13<00:00,  1.45it/s]\n",
      "100%|███████████████████████████████████████████| 20/20 [00:17<00:00,  1.16it/s]\n",
      "100%|███████████████████████████████████████████| 20/20 [00:15<00:00,  1.30it/s]\n",
      "100%|███████████████████████████████████████████| 20/20 [00:17<00:00,  1.13it/s]\n",
      "100%|███████████████████████████████████████████| 20/20 [00:15<00:00,  1.28it/s]\n",
      "100%|███████████████████████████████████████████| 20/20 [00:17<00:00,  1.12it/s]\n",
      "100%|███████████████████████████████████████████| 20/20 [00:15<00:00,  1.27it/s]\n",
      "100%|███████████████████████████████████████████| 20/20 [00:18<00:00,  1.10it/s]\n",
      "100%|███████████████████████████████████████████| 20/20 [00:15<00:00,  1.28it/s]\n",
      "100%|███████████████████████████████████████████| 20/20 [00:19<00:00,  1.04it/s]\n",
      "100%|███████████████████████████████████████████| 20/20 [00:15<00:00,  1.28it/s]\n",
      "100%|███████████████████████████████████████████| 20/20 [00:18<00:00,  1.09it/s]\n",
      "100%|███████████████████████████████████████████| 20/20 [00:15<00:00,  1.29it/s]\n",
      "100%|███████████████████████████████████████████| 20/20 [00:18<00:00,  1.06it/s]\n",
      "100%|███████████████████████████████████████████| 20/20 [00:17<00:00,  1.16it/s]\n",
      "100%|███████████████████████████████████████████| 20/20 [00:18<00:00,  1.06it/s]\n",
      "100%|███████████████████████████████████████████| 20/20 [00:16<00:00,  1.21it/s]\n",
      "100%|███████████████████████████████████████████| 20/20 [00:19<00:00,  1.02it/s]\n",
      "100%|███████████████████████████████████████████| 20/20 [00:15<00:00,  1.27it/s]\n",
      "100%|███████████████████████████████████████████| 20/20 [00:18<00:00,  1.09it/s]\n",
      "100%|███████████████████████████████████████████| 20/20 [00:16<00:00,  1.22it/s]\n"
     ]
    }
   ],
   "source": [
    "N_RUNS = 10\n",
    "\n",
    "results = []\n",
    "SAMPLE_SIZES = [2000, 4000, 6000, 8000, 10000, 20000, 30000]\n",
    "\n",
    "for NS in SAMPLE_SIZES:\n",
    "    for RUN in range(N_RUNS):\n",
    "        expdf, error_params = generate_syn_data(\n",
    "            NS,\n",
    "            y0_pdf=y0_pdf,\n",
    "            y1_pdf=y1_pdf,\n",
    "            pi_pdf=pi_pdf,\n",
    "            error_min=0.05,\n",
    "            error_max=0.25\n",
    "        )\n",
    "        exp_result = run_param_estimation_exp(expdf, error_params, n_epochs=20)    \n",
    "        results.append(exp_result)\n"
   ]
  },
  {
   "cell_type": "code",
   "execution_count": 3,
   "id": "dd7d02d0",
   "metadata": {},
   "outputs": [
    {
     "data": {
      "text/plain": [
       "<AxesSubplot:xlabel='NS'>"
      ]
     },
     "execution_count": 3,
     "metadata": {},
     "output_type": "execute_result"
    },
    {
     "data": {
      "image/png": "[encoded data removed]",
      "text/plain": [
       "<Figure size 432x288 with 1 Axes>"
      ]
     },
     "metadata": {
      "needs_background": "light"
     },
     "output_type": "display_data"
    }
   ],
   "source": [
    "# Plot sanity check -- assert error converges as sample size increases\n",
    "\n",
    "meandf = estimation_df.groupby('NS').mean()\n",
    "meandf[['alpha_0_error', 'beta_0_error']].plot.bar(rot=0)"
   ]
  },
  {
   "cell_type": "code",
   "execution_count": 8,
   "id": "9fe74656",
   "metadata": {},
   "outputs": [
    {
     "data": {
      "text/plain": [
       "<AxesSubplot:xlabel='NS', ylabel='beta_0_error'>"
      ]
     },
     "execution_count": 8,
     "metadata": {},
     "output_type": "execute_result"
    },
    {
     "data": {
      "image/png": "[encoded data removed]",
      "text/plain": [
       "<Figure size 432x288 with 1 Axes>"
      ]
     },
     "metadata": {
      "needs_background": "light"
     },
     "output_type": "display_data"
    }
   ],
   "source": [
    "\n",
    "estimation_df = pd.DataFrame(results)\n",
    "sns.barplot(data=estimation_df, x='NS', y='beta_0_error')"
   ]
  },
  {
   "cell_type": "markdown",
   "id": "07536cce",
   "metadata": {},
   "source": [
    "## Visualize class probability estimates"
   ]
  },
  {
   "cell_type": "code",
   "execution_count": 14,
   "id": "b0606a57",
   "metadata": {},
   "outputs": [
    {
     "ename": "NameError",
     "evalue": "name 'val_scores' is not defined",
     "output_type": "error",
     "traceback": [
      "\u001b[0;31m---------------------------------------------------------------------------\u001b[0m",
      "\u001b[0;31mNameError\u001b[0m                                 Traceback (most recent call last)",
      "Input \u001b[0;32mIn [14]\u001b[0m, in \u001b[0;36m<cell line: 3>\u001b[0;34m()\u001b[0m\n\u001b[1;32m      1\u001b[0m do\u001b[38;5;241m=\u001b[39m\u001b[38;5;241m0\u001b[39m\n\u001b[1;32m      2\u001b[0m debug_info \u001b[38;5;241m=\u001b[39m {\n\u001b[0;32m----> 3\u001b[0m     \u001b[38;5;124m'\u001b[39m\u001b[38;5;124mval_x\u001b[39m\u001b[38;5;124m'\u001b[39m: \u001b[43mval_scores\u001b[49m[\u001b[38;5;124m'\u001b[39m\u001b[38;5;124mY\u001b[39m\u001b[38;5;124m'\u001b[39m][\u001b[38;5;124m'\u001b[39m\u001b[38;5;124mx\u001b[39m\u001b[38;5;124m'\u001b[39m],\n\u001b[1;32m      4\u001b[0m     \u001b[38;5;124m'\u001b[39m\u001b[38;5;124mval_py\u001b[39m\u001b[38;5;124m'\u001b[39m: val_scores[\u001b[38;5;124m'\u001b[39m\u001b[38;5;124mY\u001b[39m\u001b[38;5;124m'\u001b[39m][\u001b[38;5;124m'\u001b[39m\u001b[38;5;124mpy_hat\u001b[39m\u001b[38;5;124m'\u001b[39m]\n\u001b[1;32m      5\u001b[0m }\n\u001b[1;32m      7\u001b[0m viz_ccpe_estimates(expdf, debug_info, error_params, do, y0_pdf, y1_pdf, pi_pdf)\n",
      "\u001b[0;31mNameError\u001b[0m: name 'val_scores' is not defined"
     ]
    }
   ],
   "source": [
    "do=0\n",
    "debug_info = {\n",
    "    'val_x': val_scores['Y']['x'],\n",
    "    'val_py': val_scores['Y']['py_hat']\n",
    "}\n",
    "\n",
    "viz_ccpe_estimates(expdf, debug_info, error_params, do, y0_pdf, y1_pdf, pi_pdf)"
   ]
  },
  {
   "cell_type": "markdown",
   "id": "351fa5c6",
   "metadata": {},
   "source": [
    "### Prototype surrogate loss"
   ]
  },
  {
   "cell_type": "code",
   "execution_count": 13,
   "id": "5a4fa950",
   "metadata": {},
   "outputs": [
    {
     "data": {
      "text/plain": [
       "tensor(1.0194)"
      ]
     },
     "execution_count": 13,
     "metadata": {},
     "output_type": "execute_result"
    }
   ],
   "source": [
    "def get_loss(y_hat, y, alpha_d=None, beta_d=None):\n",
    "\n",
    "    loss_func = torch.nn.BCELoss()\n",
    "    if not alpha_d:\n",
    "        return loss_func(y_hat, y) \n",
    "        \n",
    "    pos_loss = loss_func(y_hat[y==1], y[y==1])\n",
    "    neg_loss = loss_func(y_hat[y==0], y[y==0])\n",
    "\n",
    "    pos_label_losses = ((1-alpha_d)*pos_loss - beta_d*neg_loss)/(1-beta_d-alpha_d)\n",
    "    neg_label_losses = ((1-beta_d)*neg_loss - alpha_d*pos_loss)/(1-beta_d-alpha_d)\n",
    "\n",
    "    return pos_label_losses + neg_label_losses\n",
    "\n",
    "\n",
    "alpha_d = 0.05\n",
    "beta_d = 0.10\n",
    "\n",
    "yhat = torch.rand((5000,1))\n",
    "y = torch.Tensor(expdf['Y_0'].to_numpy())[:,None]\n",
    "\n",
    "\n",
    "get_loss(y_hat, y, alpha_d=None, beta_d=None)\n",
    "\n"
   ]
  },
  {
   "cell_type": "code",
   "execution_count": null,
   "id": "1be6f1aa",
   "metadata": {},
   "outputs": [],
   "source": []
  }
 ],
 "metadata": {
  "kernelspec": {
   "display_name": "10701-Project",
   "language": "python",
   "name": "10701-project"
  },
  "language_info": {
   "codemirror_mode": {
    "name": "ipython",
    "version": 3
   },
   "file_extension": ".py",
   "mimetype": "text/x-python",
   "name": "python",
   "nbconvert_exporter": "python",
   "pygments_lexer": "ipython3",
   "version": "3.9.8"
  }
 },
 "nbformat": 4,
 "nbformat_minor": 5
}
