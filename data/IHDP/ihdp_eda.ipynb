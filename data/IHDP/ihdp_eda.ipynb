{
 "cells": [
  {
   "cell_type": "code",
   "execution_count": 2,
   "id": "0875d708",
   "metadata": {},
   "outputs": [],
   "source": [
    "import numpy as np\n",
    "import pandas as pd"
   ]
  },
  {
   "cell_type": "code",
   "execution_count": 3,
   "id": "3bf08cc5",
   "metadata": {},
   "outputs": [],
   "source": [
    "b = np.load()"
   ]
  },
  {
   "cell_type": "code",
   "execution_count": 4,
   "id": "53093dae",
   "metadata": {},
   "outputs": [
    {
     "data": {
      "text/plain": [
       "<numpy.lib.npyio.NpzFile at 0x10c6848e0>"
      ]
     },
     "execution_count": 4,
     "metadata": {},
     "output_type": "execute_result"
    }
   ],
   "source": [
    "b"
   ]
  },
  {
   "cell_type": "code",
   "execution_count": 4,
   "id": "33dee57c",
   "metadata": {},
   "outputs": [],
   "source": [
    "x: covariates\n",
    "t: treatment\n",
    "yf:  factual outcome\n",
    "ycf: counterfactual outcome\n",
    "\n",
    "# , , , , mu0, mu1 are , , , , and noiseless potential outcomes respectively\n",
    "with np.load('ihdp_npci_1-1000.test.npz') as f:\n",
    "    adict = {key:f[key] for key in f}"
   ]
  },
  {
   "cell_type": "code",
   "execution_count": 7,
   "id": "f87b0d3d",
   "metadata": {},
   "outputs": [
    {
     "data": {
      "text/plain": [
       "(75, 25, 1000)"
      ]
     },
     "execution_count": 7,
     "metadata": {},
     "output_type": "execute_result"
    }
   ],
   "source": [
    "adict['x'].shape"
   ]
  },
  {
   "cell_type": "code",
   "execution_count": 9,
   "id": "01431832",
   "metadata": {},
   "outputs": [
    {
     "data": {
      "text/plain": [
       "array([[ 2.26443623,  5.02563861,  2.17769073, ...,  7.19843371,\n",
       "         7.36095544, 13.80939336],\n",
       "       [ 6.08425491,  7.40471565,  7.14407203, ...,  6.65927212,\n",
       "         7.81313041,  6.68958134],\n",
       "       [ 7.48582951,  2.62691295,  0.96855927, ...,  6.12170103,\n",
       "         5.12878371, 18.7342332 ],\n",
       "       ...,\n",
       "       [ 2.90823459,  4.82268617,  1.25511648, ...,  3.63507603,\n",
       "         6.76075869,  4.27865675],\n",
       "       [ 8.32452036,  4.37596156,  2.69812228, ...,  5.16754828,\n",
       "         4.31196856, 19.59311721],\n",
       "       [ 1.9156439 ,  5.14174032,  8.70817476, ...,  5.46547892,\n",
       "         5.78124238, 19.37313204]])"
      ]
     },
     "execution_count": 9,
     "metadata": {},
     "output_type": "execute_result"
    }
   ],
   "source": [
    "adict['yf']"
   ]
  },
  {
   "cell_type": "code",
   "execution_count": null,
   "id": "55635161",
   "metadata": {},
   "outputs": [],
   "source": []
  }
 ],
 "metadata": {
  "kernelspec": {
   "display_name": "10701-Project",
   "language": "python",
   "name": "10701-project"
  },
  "language_info": {
   "codemirror_mode": {
    "name": "ipython",
    "version": 3
   },
   "file_extension": ".py",
   "mimetype": "text/x-python",
   "name": "python",
   "nbconvert_exporter": "python",
   "pygments_lexer": "ipython3",
   "version": "3.9.8"
  }
 },
 "nbformat": 4,
 "nbformat_minor": 5
}
