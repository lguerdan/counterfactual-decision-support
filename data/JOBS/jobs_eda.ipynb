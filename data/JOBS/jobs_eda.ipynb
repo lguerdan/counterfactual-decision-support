{
 "cells": [
  {
   "cell_type": "code",
   "execution_count": 1,
   "id": "13d08c97",
   "metadata": {},
   "outputs": [],
   "source": [
    "import numpy as np\n",
    "import pandas as pd\n",
    "from numpy.random import permutation\n",
    "\n",
    "with np.load('jobs_DW_bin.new.10.train.npz') as f:\n",
    "    train_data = {key:f[key] for key in f}\n",
    "    \n",
    "with np.load('jobs_DW_bin.new.10.test.npz') as f:\n",
    "    test_data = {key:f[key] for key in f}"
   ]
  },
  {
   "cell_type": "markdown",
   "id": "62505801",
   "metadata": {},
   "source": [
    "Dataset: \n",
    "- x: covariates\n",
    "- t: treatment\n",
    "- yf: factual outcome\n",
    "- e: original randoimzed sample\n",
    "- N = 2490 + 297 + 425 = 3,212"
   ]
  },
  {
   "cell_type": "code",
   "execution_count": 2,
   "id": "371c32b7",
   "metadata": {},
   "outputs": [],
   "source": [
    "# Assert no records were treated in the original sample\n",
    "assert (((train_data['e'][:,0] == 0) & (train_data['t'][:,0] == 1)).sum() == 0)\n",
    "assert (((test_data['e'][:,0] == 0) & (test_data['t'][:,0] == 1)).sum() == 0)\n"
   ]
  },
  {
   "cell_type": "code",
   "execution_count": 5,
   "id": "22218376",
   "metadata": {},
   "outputs": [
    {
     "name": "stdout",
     "output_type": "stream",
     "text": [
      "Average treatment effect: 0.07794\n",
      "N (train/test): 2570/642\n",
      "Treatment rate (train/test): 0.092/0.093\n",
      "Employment rate (train/test): 0.85/0.84\n"
     ]
    }
   ],
   "source": [
    "ATE = train_data['ate'][0]\n",
    "print(f\"Average treatment effect: {ATE[0]:.4}\")\n",
    "print(f\"N (train/test): {train_data['t'][:,0].shape[0]}/{test_data['t'][:,0].shape[0]}\")\n",
    "print(f\"Treatment rate (train/test): {train_data['t'][:,0].mean():.2}/{test_data['t'][:,0].mean():.2}\")\n",
    "print(f\"Employment rate (train/test): {train_data['yf'][:,0].mean():.2}/{test_data['yf'][:,0].mean():.2}\")\n",
    "# print(f'replicated ate: {ate_replicate:.2}')"
   ]
  },
  {
   "cell_type": "markdown",
   "id": "c7ba86d3",
   "metadata": {},
   "source": [
    "## Sanity check\n",
    "- This analysis checks out. 7.8% more peopple who did not receive job training are unemployed at the end of the study "
   ]
  },
  {
   "cell_type": "code",
   "execution_count": 67,
   "id": "e7c21059",
   "metadata": {},
   "outputs": [
    {
     "name": "stdout",
     "output_type": "stream",
     "text": [
      "297 treated, 425 control\n",
      "replicated ate: 0.078\n"
     ]
    }
   ],
   "source": [
    "YS = np.concatenate((train_data['yf'][:,0], test_data['yf'][:,0]), axis=0) # Positve outcome: unemployment (15%)\n",
    "D = np.concatenate((train_data['t'][:,0], test_data['t'][:,0]), axis=0)\n",
    "E = np.concatenate((train_data['e'][:,0], test_data['e'][:,0]), axis=0)\n",
    "\n",
    "print(f'{((E==1) & (D==1)).sum()} treated, {((E==1) & (D==0)).sum()} control')\n",
    "ate_replicate = YS[(E==1) & (D==1)].mean() - YS[(E==1) & (D==0)].mean()\n",
    "print(f'replicated ate: {ate_replicate:.2}')"
   ]
  },
  {
   "cell_type": "code",
   "execution_count": 68,
   "id": "b1605d37",
   "metadata": {},
   "outputs": [
    {
     "data": {
      "text/plain": [
       "0.7744107744107744"
      ]
     },
     "execution_count": 68,
     "metadata": {},
     "output_type": "execute_result"
    }
   ],
   "source": [
    "YS[(E==1) & (D==1)].mean()"
   ]
  },
  {
   "cell_type": "code",
   "execution_count": 70,
   "id": "4723d66b",
   "metadata": {},
   "outputs": [
    {
     "data": {
      "text/plain": [
       "0.8576329331046312"
      ]
     },
     "execution_count": 70,
     "metadata": {},
     "output_type": "execute_result"
    }
   ],
   "source": [
    "YS[(D==0)].mean()"
   ]
  },
  {
   "cell_type": "code",
   "execution_count": 64,
   "id": "985b7640",
   "metadata": {},
   "outputs": [
    {
     "data": {
      "text/plain": [
       "0.6964705882352941"
      ]
     },
     "execution_count": 64,
     "metadata": {},
     "output_type": "execute_result"
    }
   ],
   "source": [
    "YS[(E==1) & (D==0)].mean()"
   ]
  },
  {
   "cell_type": "code",
   "execution_count": 61,
   "id": "27be6398",
   "metadata": {},
   "outputs": [
    {
     "data": {
      "text/plain": [
       "-0.08322215869385674"
      ]
     },
     "execution_count": 61,
     "metadata": {},
     "output_type": "execute_result"
    }
   ],
   "source": [
    "\n",
    "YS[D==1].mean()-YS[D==0].mean()\n",
    "\n",
    "# \n",
    "\n",
    "# -\n"
   ]
  },
  {
   "cell_type": "code",
   "execution_count": 58,
   "id": "641964e1",
   "metadata": {},
   "outputs": [],
   "source": [
    "error_params = {\n",
    "    'alpha_0': .4,\n",
    "    'alpha_1': .2,\n",
    "    'beta_0': .05,\n",
    "    'beta_1': .1\n",
    "}"
   ]
  },
  {
   "cell_type": "code",
   "execution_count": 79,
   "id": "32631922",
   "metadata": {},
   "outputs": [],
   "source": [
    "X, Y = generate_jobs_data(error_params)"
   ]
  },
  {
   "cell_type": "code",
   "execution_count": null,
   "id": "e3b91ef0",
   "metadata": {},
   "outputs": [],
   "source": [
    "train_data[k]\n",
    "\n",
    "dataset_y = {\n",
    "    'YS': YS,\n",
    "    'YS_0': YS_0,\n",
    "    'YS_1': YS_1,\n",
    "    'Y_0': Y_0,\n",
    "    'Y_1': Y_1,\n",
    "    'Y': Y,\n",
    "    'pD': np.ones_like(D) * D.mean(),\n",
    "    'D': D\n",
    "}"
   ]
  },
  {
   "cell_type": "code",
   "execution_count": 30,
   "id": "faa18001",
   "metadata": {},
   "outputs": [
    {
     "name": "stdout",
     "output_type": "stream",
     "text": [
      "ate\n",
      "(1,)\n",
      "e\n",
      "(2570,)\n",
      "I\n",
      "(2570,)\n",
      "yadd\n",
      "(1,)\n",
      "yf\n",
      "(2570,)\n",
      "t\n",
      "(2570,)\n",
      "x\n",
      "(2570, 17)\n",
      "ymul\n",
      "(1,)\n"
     ]
    }
   ],
   "source": [
    "for k, v in train_data.items():\n",
    "    if len(train_data[k].shape) == 2:\n",
    "        train_data[k] = train_data[k][:, 0] \n",
    "        \n",
    "    if len(train_data[k].shape) == 3:\n",
    "        train_data[k] = train_data[k][:,:, 0]\n",
    "        \n",
    "    print(k)\n",
    "    print(train_data[k].shape)\n",
    "        "
   ]
  },
  {
   "cell_type": "code",
   "execution_count": 26,
   "id": "48084838",
   "metadata": {},
   "outputs": [
    {
     "data": {
      "text/plain": [
       "{'ate': array([0.07794019]),\n",
       " 'e': array([0., 0., 0., ..., 1., 1., 1.]),\n",
       " 'I': array([[   2,    0,    0, ...,    0,    1,    1],\n",
       "        [   3,    1,    1, ...,    1,    2,    2],\n",
       "        [   4,    2,    2, ...,    2,    3,    3],\n",
       "        ...,\n",
       "        [3208, 3209, 3208, ..., 3208, 3209, 3208],\n",
       "        [3210, 3210, 3209, ..., 3210, 3210, 3209],\n",
       "        [3211, 3211, 3210, ..., 3211, 3211, 3211]], dtype=int32),\n",
       " 'yadd': array([[0]], dtype=uint8),\n",
       " 'yf': array([[0., 0., 0., ..., 0., 0., 0.],\n",
       "        [0., 0., 0., ..., 0., 0., 0.],\n",
       "        [0., 0., 0., ..., 0., 0., 0.],\n",
       "        ...,\n",
       "        [1., 1., 1., ..., 1., 1., 1.],\n",
       "        [1., 1., 1., ..., 1., 1., 1.],\n",
       "        [1., 1., 1., ..., 1., 1., 1.]]),\n",
       " 't': array([[0., 0., 0., ..., 0., 0., 0.],\n",
       "        [0., 0., 0., ..., 0., 0., 0.],\n",
       "        [0., 0., 0., ..., 0., 0., 0.],\n",
       "        ...,\n",
       "        [0., 0., 0., ..., 0., 0., 0.],\n",
       "        [1., 1., 0., ..., 1., 1., 0.],\n",
       "        [0., 0., 1., ..., 0., 0., 0.]]),\n",
       " 'x': array([[[ 1.07934372,  1.36161469,  1.36161469, ...,  1.36161469,\n",
       "           1.64388566,  1.64388566],\n",
       "         [ 0.10183499,  0.10183499,  0.10183499, ...,  0.10183499,\n",
       "           0.10183499,  0.10183499],\n",
       "         [ 0.        ,  0.        ,  0.        , ...,  0.        ,\n",
       "           1.        ,  1.        ],\n",
       "         ...,\n",
       "         [ 1.        ,  1.        ,  1.        , ...,  1.        ,\n",
       "           1.        ,  1.        ],\n",
       "         [-0.97998113, -0.97998113, -0.97998113, ..., -0.97998113,\n",
       "          -0.97998113, -0.97998113],\n",
       "         [ 0.        ,  0.        ,  0.        , ...,  0.        ,\n",
       "           0.        ,  0.        ]],\n",
       " \n",
       "        [[-0.42610144,  1.64388566,  1.64388566, ...,  1.64388566,\n",
       "           1.07934372,  1.07934372],\n",
       "         [ 0.10183499,  0.10183499,  0.10183499, ...,  0.10183499,\n",
       "           0.10183499,  0.10183499],\n",
       "         [ 1.        ,  1.        ,  1.        , ...,  1.        ,\n",
       "           0.        ,  0.        ],\n",
       "         ...,\n",
       "         [ 1.        ,  1.        ,  1.        , ...,  1.        ,\n",
       "           1.        ,  1.        ],\n",
       "         [-0.97998113, -0.97998113, -0.97998113, ..., -0.97998113,\n",
       "          -0.97998113, -0.97998113],\n",
       "         [ 0.        ,  0.        ,  0.        , ...,  0.        ,\n",
       "           0.        ,  0.        ]],\n",
       " \n",
       "        [[ 2.02024695,  1.07934372,  1.07934372, ...,  1.07934372,\n",
       "          -0.42610144, -0.42610144],\n",
       "         [ 0.10183499,  0.10183499,  0.10183499, ...,  0.10183499,\n",
       "           0.10183499,  0.10183499],\n",
       "         [ 0.        ,  0.        ,  0.        , ...,  0.        ,\n",
       "           1.        ,  1.        ],\n",
       "         ...,\n",
       "         [ 1.        ,  1.        ,  1.        , ...,  1.        ,\n",
       "           1.        ,  1.        ],\n",
       "         [-0.97998113, -0.97998113, -0.97998113, ..., -0.97998113,\n",
       "          -0.97998113, -0.97998113],\n",
       "         [ 0.        ,  0.        ,  0.        , ...,  0.        ,\n",
       "           0.        ,  0.        ]],\n",
       " \n",
       "        ...,\n",
       " \n",
       "        [[-1.36700467, -0.99064338, -1.36700467, ..., -1.36700467,\n",
       "          -0.99064338, -1.36700467],\n",
       "         [-1.2610566 , -1.2610566 , -1.2610566 , ..., -1.2610566 ,\n",
       "          -1.2610566 , -1.2610566 ],\n",
       "         [ 0.        ,  0.        ,  0.        , ...,  0.        ,\n",
       "           0.        ,  0.        ],\n",
       "         ...,\n",
       "         [ 0.        ,  1.        ,  0.        , ...,  0.        ,\n",
       "           1.        ,  0.        ],\n",
       "         [-0.85075695, -0.97998113, -0.85075695, ..., -0.85075695,\n",
       "          -0.97998113, -0.85075695],\n",
       "         [ 0.        ,  1.        ,  0.        , ...,  0.        ,\n",
       "           1.        ,  0.        ]],\n",
       " \n",
       "        [[-1.27291435, -1.27291435, -0.99064338, ..., -1.27291435,\n",
       "          -1.27291435, -0.99064338],\n",
       "         [-1.2610566 , -1.2610566 , -1.2610566 , ..., -1.2610566 ,\n",
       "          -1.2610566 , -1.2610566 ],\n",
       "         [ 0.        ,  0.        ,  0.        , ...,  0.        ,\n",
       "           0.        ,  0.        ],\n",
       "         ...,\n",
       "         [ 0.        ,  0.        ,  1.        , ...,  0.        ,\n",
       "           0.        ,  1.        ],\n",
       "         [-0.883063  , -0.883063  , -0.97998113, ..., -0.883063  ,\n",
       "          -0.883063  , -0.97998113],\n",
       "         [ 0.        ,  0.        ,  1.        , ...,  0.        ,\n",
       "           0.        ,  1.        ]],\n",
       " \n",
       "        [[-0.80246274, -0.80246274, -1.27291435, ..., -0.80246274,\n",
       "          -0.80246274, -0.80246274],\n",
       "         [-2.62394819, -2.62394819, -1.2610566 , ..., -2.62394819,\n",
       "          -2.62394819, -2.62394819],\n",
       "         [ 0.        ,  0.        ,  0.        , ...,  0.        ,\n",
       "           0.        ,  0.        ],\n",
       "         ...,\n",
       "         [ 1.        ,  1.        ,  0.        , ...,  1.        ,\n",
       "           1.        ,  1.        ],\n",
       "         [-0.97998113, -0.97998113, -0.883063  , ..., -0.97998113,\n",
       "          -0.97998113, -0.97998113],\n",
       "         [ 1.        ,  1.        ,  0.        , ...,  1.        ,\n",
       "           1.        ,  1.        ]]]),\n",
       " 'ymul': array([[1]], dtype=uint8)}"
      ]
     },
     "execution_count": 26,
     "metadata": {},
     "output_type": "execute_result"
    }
   ],
   "source": [
    "train_data"
   ]
  },
  {
   "cell_type": "code",
   "execution_count": 8,
   "id": "fc0e2248",
   "metadata": {},
   "outputs": [],
   "source": [
    "\n",
    "\n",
    "\n",
    "\n",
    "train_data['e'] = train_data['e'][:,0]\n"
   ]
  },
  {
   "cell_type": "code",
   "execution_count": 9,
   "id": "34904d87",
   "metadata": {},
   "outputs": [
    {
     "data": {
      "text/plain": [
       "array([0., 0., 0., ..., 1., 1., 1.])"
      ]
     },
     "execution_count": 9,
     "metadata": {},
     "output_type": "execute_result"
    }
   ],
   "source": [
    "train_data['e']"
   ]
  },
  {
   "cell_type": "code",
   "execution_count": 3,
   "id": "a61cb54d",
   "metadata": {},
   "outputs": [
    {
     "data": {
      "text/plain": [
       "(642, 10)"
      ]
     },
     "execution_count": 3,
     "metadata": {},
     "output_type": "execute_result"
    }
   ],
   "source": [
    "test_data['t'].shape"
   ]
  },
  {
   "cell_type": "code",
   "execution_count": 25,
   "id": "46a598b7",
   "metadata": {},
   "outputs": [
    {
     "name": "stdout",
     "output_type": "stream",
     "text": [
      "2970.0\n",
      "29150\n"
     ]
    }
   ],
   "source": [
    "test_data['t'].mean()\n",
    "\n",
    "print(train_data['t'].sum() + test_data['t'].sum())\n",
    "print((train_data['t'] ==0).sum() + (test_data['t']==0).sum())\n"
   ]
  },
  {
   "cell_type": "code",
   "execution_count": 27,
   "id": "780db06f",
   "metadata": {},
   "outputs": [
    {
     "data": {
      "text/plain": [
       "(642, 10)"
      ]
     },
     "execution_count": 27,
     "metadata": {},
     "output_type": "execute_result"
    }
   ],
   "source": [
    "test_data['t'].shape"
   ]
  },
  {
   "cell_type": "code",
   "execution_count": null,
   "id": "3745d96e",
   "metadata": {},
   "outputs": [],
   "source": []
  }
 ],
 "metadata": {
  "kernelspec": {
   "display_name": "10701-Project",
   "language": "python",
   "name": "10701-project"
  },
  "language_info": {
   "codemirror_mode": {
    "name": "ipython",
    "version": 3
   },
   "file_extension": ".py",
   "mimetype": "text/x-python",
   "name": "python",
   "nbconvert_exporter": "python",
   "pygments_lexer": "ipython3",
   "version": "3.9.8"
  }
 },
 "nbformat": 4,
 "nbformat_minor": 5
}
