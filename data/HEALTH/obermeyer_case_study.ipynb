{
 "cells": [
  {
   "cell_type": "code",
   "execution_count": 13,
   "id": "f999a992",
   "metadata": {},
   "outputs": [],
   "source": [
    "import numpy as np\n",
    "import pandas as pd\n",
    "pd.options.display.float_format = \"{:,.2f}\".format\n",
    "from tabulate import tabulate"
   ]
  },
  {
   "cell_type": "code",
   "execution_count": 14,
   "id": "6ada9516",
   "metadata": {},
   "outputs": [],
   "source": [
    "health_df = pd.read_csv('data/data_new.csv')\n",
    "def FNR(a, b):\n",
    "    return ((a == False) & (b == True)).sum() / (b == True).sum()\n",
    "\n",
    "def FPR(a, b):\n",
    "    return ((a == True) & (b == False)).sum() / (b == False).sum()"
   ]
  },
  {
   "cell_type": "code",
   "execution_count": 5,
   "id": "317347c2",
   "metadata": {},
   "outputs": [
    {
     "data": {
      "text/plain": [
       "array([[0.24733246, 0.05398149],\n",
       "       [0.05398149, 0.21621068]])"
      ]
     },
     "execution_count": 5,
     "metadata": {},
     "output_type": "execute_result"
    }
   ],
   "source": [
    "np.cov(cost_screen_in, health_screen_in)"
   ]
  },
  {
   "cell_type": "code",
   "execution_count": 6,
   "id": "72efa289",
   "metadata": {},
   "outputs": [
    {
     "data": {
      "text/plain": [
       "array([[3.23637265e+08, 1.23956691e+04],\n",
       "       [1.23956691e+04, 3.77326037e+00]])"
      ]
     },
     "execution_count": 6,
     "metadata": {},
     "output_type": "execute_result"
    }
   ],
   "source": [
    "np.cov(health_df['cost_t'], health_df['gagne_sum_t'])"
   ]
  },
  {
   "cell_type": "code",
   "execution_count": 12,
   "id": "3596c341",
   "metadata": {},
   "outputs": [
    {
     "data": {
      "text/plain": [
       "452"
      ]
     },
     "execution_count": 12,
     "metadata": {},
     "output_type": "execute_result"
    }
   ],
   "source": [
    "outcome_df['enrolled'].sum()"
   ]
  },
  {
   "cell_type": "code",
   "execution_count": 19,
   "id": "f536d420",
   "metadata": {},
   "outputs": [
    {
     "name": "stdout",
     "output_type": "stream",
     "text": [
      "Treatment corrected 0.7572591587516961\n",
      "Observational 0.4941998890514145\n",
      "Treatment uncorrected 0.5\n",
      "\\begin{tabular}{rlrrr}\n",
      "\\hline\n",
      "    & Population      &   FPR &   FNR &     N \\\\\n",
      "\\hline\n",
      "  0 & Full population &  0.37 &  0.38 & 48784 \\\\\n",
      "  1 & Unenrolled      &  0.37 &  0.39 & 48332 \\\\\n",
      "  2 & Enrolled        &  0.64 &  0.13 &   452 \\\\\n",
      "\\hline\n",
      "\\end{tabular}\n"
     ]
    }
   ],
   "source": [
    "acceptance_cuttoff = .55 # Physician referral cutoff\n",
    "proxy = 'total_cost'\n",
    "\n",
    "\n",
    "cost_screen_in = health_df['cost_t'] > np.quantile(health_df['cost_t'], acceptance_cuttoff)\n",
    "health_screen_in = health_df['gagne_sum_t'] > np.quantile(health_df['gagne_sum_t'], acceptance_cuttoff)\n",
    "cost_avoid_screen_in = health_df['cost_avoidable_t'] > np.quantile(health_df['cost_avoidable_t'], acceptance_cuttoff)\n",
    "\n",
    "outcome_df = pd.concat([cost_screen_in, cost_avoid_screen_in, health_screen_in, health_df['program_enrolled_t']], axis=1)\n",
    "outcome_df.rename(columns={\n",
    "            'cost_t': 'total_cost',\n",
    "             'cost_avoidable_t': 'avoidable_cost',\n",
    "             'gagne_sum_t': 'health',\n",
    "             'program_enrolled_t': 'enrolled'\n",
    "            }, inplace=True)\n",
    "\n",
    "control = outcome_df[outcome_df['enrolled'] == 0]\n",
    "treatment = outcome_df[outcome_df['enrolled'] == 1]\n",
    "obs = outcome_df\n",
    "\n",
    "obs_fpr = FPR(obs[proxy], obs[\"health\"])\n",
    "obs_fnr = FNR(obs[proxy], obs[\"health\"])\n",
    "\n",
    "control_fpr = FPR(control[proxy], control[\"health\"])\n",
    "control_fnr = FNR(control[proxy], control[\"health\"])\n",
    "\n",
    "treatment_fpr = FPR(treatment[proxy], treatment[\"health\"])\n",
    "treatment_fnr = FNR(treatment[proxy], treatment[\"health\"])\n",
    "\n",
    "obs_conditions = health_df['gagne_sum_t'].mean()\n",
    "control_conditions = health_df['gagne_sum_t'][health_df['program_enrolled_t'] == 0].mean()\n",
    "treatment_conditions = health_df['gagne_sum_t'][health_df['program_enrolled_t'] == 1].mean()\n",
    "\n",
    "obs_cost = health_df['cost_t'].mean()\n",
    "control_cost = health_df['cost_t'][health_df['program_enrolled_t'] == 0].mean()\n",
    "treatment_cost = health_df['cost_t'][health_df['program_enrolled_t'] == 1].mean()\n",
    "\n",
    "proxy_metrics = pd.DataFrame({\n",
    "    'Population': ['Full population', 'Unenrolled', 'Enrolled'],\n",
    "    'FPR': [obs_fpr, control_fpr, treatment_fpr],\n",
    "    'FNR': [obs_fnr, control_fnr, treatment_fnr],\n",
    "    'N': [health_df.shape[0],(health_df['program_enrolled_t'] == 0).sum(), (health_df['program_enrolled_t'] == 1).sum()]\n",
    "})\n",
    "\n",
    "obs_alpha, treatment_alpha = obs_fpr, treatment_fpr\n",
    "obs_beta, treatment_beta = obs_fnr, treatment_fnr\n",
    "\n",
    "\n",
    "# Threshold based on treatment-conditional rate\n",
    "t_treatment = (1 - treatment_beta + treatment_alpha)/2\n",
    "\n",
    "# Threshold based on observational rate (ignoring treatment effects and framing as a prediction policy problem)\n",
    "t_obs = (1 - obs_beta + obs_alpha)/2\n",
    "\n",
    "# Threshold based on no correction\n",
    "t_treatment_uncorrected = .5 \n",
    "\n",
    "\n",
    "print('Treatment corrected', t_treatment)\n",
    "print('Observational', t_obs)\n",
    "print('Treatment uncorrected', t_treatment_uncorrected)\n",
    "\n",
    "\n",
    "print(tabulate(proxy_metrics, headers = 'keys', tablefmt = 'latex', floatfmt=\".2f\"))\n"
   ]
  },
  {
   "cell_type": "code",
   "execution_count": 23,
   "id": "5b2c42e5",
   "metadata": {},
   "outputs": [
    {
     "ename": "AttributeError",
     "evalue": "'DataFrame' object has no attribute 'drop_index'",
     "output_type": "error",
     "traceback": [
      "\u001b[0;31m---------------------------------------------------------------------------\u001b[0m",
      "\u001b[0;31mAttributeError\u001b[0m                            Traceback (most recent call last)",
      "\u001b[0;32m/var/folders/w_/rwxvw5hn1ng2qvm6353gkvqw0000gr/T/ipykernel_22431/4008735361.py\u001b[0m in \u001b[0;36m<module>\u001b[0;34m\u001b[0m\n\u001b[0;32m----> 1\u001b[0;31m \u001b[0mproxy_metrics\u001b[0m\u001b[0;34m.\u001b[0m\u001b[0mdrop_index\u001b[0m\u001b[0;34m(\u001b[0m\u001b[0;34m)\u001b[0m\u001b[0;34m\u001b[0m\u001b[0;34m\u001b[0m\u001b[0m\n\u001b[0m",
      "\u001b[0;32m/usr/local/lib/python3.9/site-packages/pandas/core/generic.py\u001b[0m in \u001b[0;36m__getattr__\u001b[0;34m(self, name)\u001b[0m\n\u001b[1;32m   5573\u001b[0m         ):\n\u001b[1;32m   5574\u001b[0m             \u001b[0;32mreturn\u001b[0m \u001b[0mself\u001b[0m\u001b[0;34m[\u001b[0m\u001b[0mname\u001b[0m\u001b[0;34m]\u001b[0m\u001b[0;34m\u001b[0m\u001b[0;34m\u001b[0m\u001b[0m\n\u001b[0;32m-> 5575\u001b[0;31m         \u001b[0;32mreturn\u001b[0m \u001b[0mobject\u001b[0m\u001b[0;34m.\u001b[0m\u001b[0m__getattribute__\u001b[0m\u001b[0;34m(\u001b[0m\u001b[0mself\u001b[0m\u001b[0;34m,\u001b[0m \u001b[0mname\u001b[0m\u001b[0;34m)\u001b[0m\u001b[0;34m\u001b[0m\u001b[0;34m\u001b[0m\u001b[0m\n\u001b[0m\u001b[1;32m   5576\u001b[0m \u001b[0;34m\u001b[0m\u001b[0m\n\u001b[1;32m   5577\u001b[0m     \u001b[0;32mdef\u001b[0m \u001b[0m__setattr__\u001b[0m\u001b[0;34m(\u001b[0m\u001b[0mself\u001b[0m\u001b[0;34m,\u001b[0m \u001b[0mname\u001b[0m\u001b[0;34m:\u001b[0m \u001b[0mstr\u001b[0m\u001b[0;34m,\u001b[0m \u001b[0mvalue\u001b[0m\u001b[0;34m)\u001b[0m \u001b[0;34m->\u001b[0m \u001b[0;32mNone\u001b[0m\u001b[0;34m:\u001b[0m\u001b[0;34m\u001b[0m\u001b[0;34m\u001b[0m\u001b[0m\n",
      "\u001b[0;31mAttributeError\u001b[0m: 'DataFrame' object has no attribute 'drop_index'"
     ]
    }
   ],
   "source": [
    "proxy_metrics.drop_index()"
   ]
  },
  {
   "cell_type": "code",
   "execution_count": null,
   "id": "056c6d84",
   "metadata": {},
   "outputs": [],
   "source": [
    "0.0158\n",
    "\n",
    "torch.isnan(input"
   ]
  },
  {
   "cell_type": "code",
   "execution_count": 8,
   "id": "ec1fd69a",
   "metadata": {},
   "outputs": [
    {
     "name": "stdout",
     "output_type": "stream",
     "text": [
      "    Population         FPR    FNR\n",
      "--  ---------------  -----  -----\n",
      " 0  Full population   0.02   0.72\n",
      " 1  Unenrolled        0.02   0.73\n",
      " 2  Enrolled          0.14   0.62\n"
     ]
    }
   ],
   "source": [
    "\n",
    "\n"
   ]
  },
  {
   "cell_type": "code",
   "execution_count": 152,
   "id": "72029937",
   "metadata": {},
   "outputs": [
    {
     "name": "stdout",
     "output_type": "stream",
     "text": [
      "Observational: FPR 0.19, FNR 0.57\n",
      "Treatment: FPR 0.39, FNR 0.26\n",
      "Control: FPR 0.19, FNR 0.58\n"
     ]
    }
   ],
   "source": [
    "obs_fpr = FPR(obs[\"avoidable_cost\"], obs[\"health\"])\n",
    "obs_fnr = FNR(obs[\"avoidable_cost\"], obs[\"health\"])\n",
    "\n",
    "control_fpr = FPR(control[\"avoidable_cost\"], control[\"health\"])\n",
    "control_fnr = FNR(control[\"avoidable_cost\"], control[\"health\"])\n",
    "\n",
    "treatment_fpr = FPR(treatment[\"avoidable_cost\"], treatment[\"health\"])\n",
    "treatment_fnr = FNR(treatment[\"avoidable_cost\"], treatment[\"health\"])\n",
    "\n",
    "print(f'Observational: FPR {obs_fpr:.2}, FNR {obs_fnr:.2}')\n",
    "print(f'Treatment: FPR {treatment_fpr:.2}, FNR {treatment_fnr:.2}')\n",
    "print(f'Control: FPR {control_fpr:.2}, FNR {control_fnr:.2}')\n",
    "\n",
    "Decide: "
   ]
  },
  {
   "cell_type": "code",
   "execution_count": 191,
   "id": "b65072db",
   "metadata": {},
   "outputs": [
    {
     "data": {
      "text/plain": [
       "4.632743362831858"
      ]
     },
     "execution_count": 191,
     "metadata": {},
     "output_type": "execute_result"
    }
   ],
   "source": [
    "health_df['gagne_sum_t'][health_df['program_enrolled_t'] == 1].mean()"
   ]
  },
  {
   "cell_type": "code",
   "execution_count": 194,
   "id": "1d506245",
   "metadata": {},
   "outputs": [
    {
     "data": {
      "text/plain": [
       "2328.0476702805595"
      ]
     },
     "execution_count": 194,
     "metadata": {},
     "output_type": "execute_result"
    }
   ],
   "source": [
    "health_df['cost_avoidable_t'][health_df['program_enrolled_t'] == 0].mean()"
   ]
  },
  {
   "cell_type": "code",
   "execution_count": 195,
   "id": "65b1311a",
   "metadata": {},
   "outputs": [
    {
     "data": {
      "text/plain": [
       "13841.371681415929"
      ]
     },
     "execution_count": 195,
     "metadata": {},
     "output_type": "execute_result"
    }
   ],
   "source": [
    "health_df['cost_avoidable_t'][health_df['program_enrolled_t'] == 1].mean()"
   ]
  },
  {
   "cell_type": "code",
   "execution_count": 196,
   "id": "382253e7",
   "metadata": {},
   "outputs": [
    {
     "data": {
      "text/plain": [
       "27163.938053097347"
      ]
     },
     "execution_count": 196,
     "metadata": {},
     "output_type": "execute_result"
    }
   ],
   "source": [
    "health_df['cost_t'][health_df['program_enrolled_t'] == 1].mean()"
   ]
  },
  {
   "cell_type": "code",
   "execution_count": 158,
   "id": "a71a0294",
   "metadata": {},
   "outputs": [
    {
     "data": {
      "text/plain": [
       "0.6858407079646017"
      ]
     },
     "execution_count": 158,
     "metadata": {},
     "output_type": "execute_result"
    }
   ],
   "source": [
    "treatment[\"avoidable_cost\"].mean()"
   ]
  },
  {
   "cell_type": "code",
   "execution_count": 159,
   "id": "8ce4df14",
   "metadata": {},
   "outputs": [
    {
     "data": {
      "text/plain": [
       "0.26044856409831996"
      ]
     },
     "execution_count": 159,
     "metadata": {},
     "output_type": "execute_result"
    }
   ],
   "source": [
    "control[\"avoidable_cost\"].mean()"
   ]
  },
  {
   "cell_type": "code",
   "execution_count": 94,
   "id": "d904b287",
   "metadata": {},
   "outputs": [],
   "source": [
    "obs_beta = ((obs['cost_t'] == False) & (obs['gagne_sum_t'] == True) ).sum() / (obs['gagne_sum_t'] == True).sum()\n",
    "\n",
    "obs_alpha = ((obs['cost_t'] == True) & (obs['gagne_sum_t'] == False) ).sum() / (obs['gagne_sum_t'] == False).sum()\n",
    "\n"
   ]
  },
  {
   "cell_type": "code",
   "execution_count": 56,
   "id": "9c63779b",
   "metadata": {},
   "outputs": [
    {
     "data": {
      "text/plain": [
       "0.4125299760191847"
      ]
     },
     "execution_count": 56,
     "metadata": {},
     "output_type": "execute_result"
    }
   ],
   "source": [
    "obs_alpha"
   ]
  },
  {
   "cell_type": "code",
   "execution_count": 45,
   "id": "878e9c79",
   "metadata": {},
   "outputs": [
    {
     "data": {
      "text/plain": [
       "0"
      ]
     },
     "execution_count": 45,
     "metadata": {},
     "output_type": "execute_result"
    }
   ],
   "source": [
    "((cost_screen_in == True) & (health_screen_in == False) ).sum()"
   ]
  },
  {
   "cell_type": "code",
   "execution_count": 39,
   "id": "38660bf7",
   "metadata": {},
   "outputs": [
    {
     "data": {
      "text/plain": [
       "0.4890907927570542"
      ]
     },
     "execution_count": 39,
     "metadata": {},
     "output_type": "execute_result"
    }
   ],
   "source": [
    "obs_beta"
   ]
  },
  {
   "cell_type": "code",
   "execution_count": 44,
   "id": "4d6f2ed9",
   "metadata": {},
   "outputs": [
    {
     "data": {
      "text/plain": [
       "0.0"
      ]
     },
     "execution_count": 44,
     "metadata": {},
     "output_type": "execute_result"
    }
   ],
   "source": [
    "obs_alpha"
   ]
  },
  {
   "cell_type": "code",
   "execution_count": 35,
   "id": "97ee2a4a",
   "metadata": {},
   "outputs": [
    {
     "data": {
      "text/plain": [
       "0.4890907927570542"
      ]
     },
     "execution_count": 35,
     "metadata": {},
     "output_type": "execute_result"
    }
   ],
   "source": [
    "obs_fpr"
   ]
  },
  {
   "cell_type": "code",
   "execution_count": 36,
   "id": "490737bd",
   "metadata": {},
   "outputs": [
    {
     "data": {
      "text/plain": [
       "0.0"
      ]
     },
     "execution_count": 36,
     "metadata": {},
     "output_type": "execute_result"
    }
   ],
   "source": [
    "obs_alpha"
   ]
  },
  {
   "cell_type": "code",
   "execution_count": 23,
   "id": "5f09135e",
   "metadata": {},
   "outputs": [
    {
     "data": {
      "text/plain": [
       "1.0"
      ]
     },
     "execution_count": 23,
     "metadata": {},
     "output_type": "execute_result"
    }
   ],
   "source": [
    "(cost_screen_in & health_screen_in).sum()/cost_screen_in.sum()"
   ]
  },
  {
   "cell_type": "code",
   "execution_count": 9,
   "id": "8ec41ce9",
   "metadata": {},
   "outputs": [
    {
     "data": {
      "text/plain": [
       "2800.0"
      ]
     },
     "execution_count": 9,
     "metadata": {},
     "output_type": "execute_result"
    }
   ],
   "source": [
    "cost_cuttoff"
   ]
  },
  {
   "cell_type": "code",
   "execution_count": 6,
   "id": "61027d0b",
   "metadata": {},
   "outputs": [
    {
     "data": {
      "text/plain": [
       "2800.0"
      ]
     },
     "execution_count": 6,
     "metadata": {},
     "output_type": "execute_result"
    }
   ],
   "source": [
    "screen_in_cost"
   ]
  },
  {
   "cell_type": "code",
   "execution_count": 12,
   "id": "8ccfc201",
   "metadata": {},
   "outputs": [
    {
     "data": {
      "text/html": [
       "<div>\n",
       "<style scoped>\n",
       "    .dataframe tbody tr th:only-of-type {\n",
       "        vertical-align: middle;\n",
       "    }\n",
       "\n",
       "    .dataframe tbody tr th {\n",
       "        vertical-align: top;\n",
       "    }\n",
       "\n",
       "    .dataframe thead th {\n",
       "        text-align: right;\n",
       "    }\n",
       "</style>\n",
       "<table border=\"1\" class=\"dataframe\">\n",
       "  <thead>\n",
       "    <tr style=\"text-align: right;\">\n",
       "      <th></th>\n",
       "      <th></th>\n",
       "      <th>cost_t</th>\n",
       "      <th>gagne_sum_t</th>\n",
       "      <th>cost_avoidable_t</th>\n",
       "    </tr>\n",
       "    <tr>\n",
       "      <th>program_enrolled_t</th>\n",
       "      <th>race</th>\n",
       "      <th></th>\n",
       "      <th></th>\n",
       "      <th></th>\n",
       "    </tr>\n",
       "  </thead>\n",
       "  <tbody>\n",
       "    <tr>\n",
       "      <th rowspan=\"2\" valign=\"top\">0</th>\n",
       "      <th>black</th>\n",
       "      <td>8889.187716</td>\n",
       "      <td>2.003816</td>\n",
       "      <td>3245.829548</td>\n",
       "    </tr>\n",
       "    <tr>\n",
       "      <th>white</th>\n",
       "      <td>7295.904644</td>\n",
       "      <td>1.236452</td>\n",
       "      <td>2210.123981</td>\n",
       "    </tr>\n",
       "    <tr>\n",
       "      <th rowspan=\"2\" valign=\"top\">1</th>\n",
       "      <th>black</th>\n",
       "      <td>33545.569620</td>\n",
       "      <td>5.658228</td>\n",
       "      <td>16426.582278</td>\n",
       "    </tr>\n",
       "    <tr>\n",
       "      <th>white</th>\n",
       "      <td>25812.332440</td>\n",
       "      <td>4.415550</td>\n",
       "      <td>13293.833780</td>\n",
       "    </tr>\n",
       "  </tbody>\n",
       "</table>\n",
       "</div>"
      ],
      "text/plain": [
       "                                cost_t  gagne_sum_t  cost_avoidable_t\n",
       "program_enrolled_t race                                              \n",
       "0                  black   8889.187716     2.003816       3245.829548\n",
       "                   white   7295.904644     1.236452       2210.123981\n",
       "1                  black  33545.569620     5.658228      16426.582278\n",
       "                   white  25812.332440     4.415550      13293.833780"
      ]
     },
     "execution_count": 12,
     "metadata": {},
     "output_type": "execute_result"
    }
   ],
   "source": [
    "\n",
    "sub_feats = health_df[['program_enrolled_t', 'cost_t', 'gagne_sum_t', 'race', 'cost_avoidable_t']]\n",
    "sub_feats.groupby(['program_enrolled_t', 'race']).mean()\n"
   ]
  },
  {
   "cell_type": "code",
   "execution_count": null,
   "id": "d8f961b4",
   "metadata": {},
   "outputs": [],
   "source": []
  }
 ],
 "metadata": {
  "kernelspec": {
   "display_name": "TCOME",
   "language": "python",
   "name": "tcome"
  },
  "language_info": {
   "codemirror_mode": {
    "name": "ipython",
    "version": 3
   },
   "file_extension": ".py",
   "mimetype": "text/x-python",
   "name": "python",
   "nbconvert_exporter": "python",
   "pygments_lexer": "ipython3",
   "version": "3.9.8"
  }
 },
 "nbformat": 4,
 "nbformat_minor": 5
}
