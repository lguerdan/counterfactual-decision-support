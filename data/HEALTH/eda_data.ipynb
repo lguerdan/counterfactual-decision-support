{
 "cells": [
  {
   "cell_type": "code",
   "execution_count": 2,
   "id": "f999a992",
   "metadata": {},
   "outputs": [],
   "source": [
    "import numpy as np\n",
    "import pandas as pd\n",
    "\n",
    "health_df = pd.read_csv('data/data_new.csv')"
   ]
  },
  {
   "cell_type": "code",
   "execution_count": 17,
   "id": "6ada9516",
   "metadata": {},
   "outputs": [
    {
     "data": {
      "text/plain": [
       "0.01415263346470799"
      ]
     },
     "execution_count": 17,
     "metadata": {},
     "output_type": "execute_result"
    }
   ],
   "source": [
    "health_df[health_df['race'] == 'black']['program_enrolled_t'].mean()"
   ]
  },
  {
   "cell_type": "code",
   "execution_count": 18,
   "id": "39eb12fb",
   "metadata": {},
   "outputs": [
    {
     "data": {
      "text/plain": [
       "0.008633859543539651"
      ]
     },
     "execution_count": 18,
     "metadata": {},
     "output_type": "execute_result"
    }
   ],
   "source": [
    "health_df[health_df['race'] == 'white']['program_enrolled_t'].mean()"
   ]
  },
  {
   "cell_type": "code",
   "execution_count": 13,
   "id": "00824a1f",
   "metadata": {},
   "outputs": [
    {
     "data": {
      "text/plain": [
       "race\n",
       "black    0.014153\n",
       "white    0.008634\n",
       "Name: program_enrolled_t, dtype: float64"
      ]
     },
     "execution_count": 13,
     "metadata": {},
     "output_type": "execute_result"
    }
   ],
   "source": [
    "health_df.groupby('race')['program_enrolled_t'].mean()"
   ]
  },
  {
   "cell_type": "code",
   "execution_count": 12,
   "id": "8ccfc201",
   "metadata": {},
   "outputs": [
    {
     "data": {
      "text/html": [
       "<div>\n",
       "<style scoped>\n",
       "    .dataframe tbody tr th:only-of-type {\n",
       "        vertical-align: middle;\n",
       "    }\n",
       "\n",
       "    .dataframe tbody tr th {\n",
       "        vertical-align: top;\n",
       "    }\n",
       "\n",
       "    .dataframe thead th {\n",
       "        text-align: right;\n",
       "    }\n",
       "</style>\n",
       "<table border=\"1\" class=\"dataframe\">\n",
       "  <thead>\n",
       "    <tr style=\"text-align: right;\">\n",
       "      <th></th>\n",
       "      <th></th>\n",
       "      <th>cost_t</th>\n",
       "      <th>gagne_sum_t</th>\n",
       "      <th>cost_avoidable_t</th>\n",
       "    </tr>\n",
       "    <tr>\n",
       "      <th>program_enrolled_t</th>\n",
       "      <th>race</th>\n",
       "      <th></th>\n",
       "      <th></th>\n",
       "      <th></th>\n",
       "    </tr>\n",
       "  </thead>\n",
       "  <tbody>\n",
       "    <tr>\n",
       "      <th rowspan=\"2\" valign=\"top\">0</th>\n",
       "      <th>black</th>\n",
       "      <td>8889.187716</td>\n",
       "      <td>2.003816</td>\n",
       "      <td>3245.829548</td>\n",
       "    </tr>\n",
       "    <tr>\n",
       "      <th>white</th>\n",
       "      <td>7295.904644</td>\n",
       "      <td>1.236452</td>\n",
       "      <td>2210.123981</td>\n",
       "    </tr>\n",
       "    <tr>\n",
       "      <th rowspan=\"2\" valign=\"top\">1</th>\n",
       "      <th>black</th>\n",
       "      <td>33545.569620</td>\n",
       "      <td>5.658228</td>\n",
       "      <td>16426.582278</td>\n",
       "    </tr>\n",
       "    <tr>\n",
       "      <th>white</th>\n",
       "      <td>25812.332440</td>\n",
       "      <td>4.415550</td>\n",
       "      <td>13293.833780</td>\n",
       "    </tr>\n",
       "  </tbody>\n",
       "</table>\n",
       "</div>"
      ],
      "text/plain": [
       "                                cost_t  gagne_sum_t  cost_avoidable_t\n",
       "program_enrolled_t race                                              \n",
       "0                  black   8889.187716     2.003816       3245.829548\n",
       "                   white   7295.904644     1.236452       2210.123981\n",
       "1                  black  33545.569620     5.658228      16426.582278\n",
       "                   white  25812.332440     4.415550      13293.833780"
      ]
     },
     "execution_count": 12,
     "metadata": {},
     "output_type": "execute_result"
    }
   ],
   "source": [
    "\n",
    "sub_feats = health_df[['program_enrolled_t', 'cost_t', 'gagne_sum_t', 'race', 'cost_avoidable_t']]\n",
    "sub_feats.groupby(['program_enrolled_t', 'race']).mean()\n"
   ]
  },
  {
   "cell_type": "code",
   "execution_count": null,
   "id": "d8f961b4",
   "metadata": {},
   "outputs": [],
   "source": []
  }
 ],
 "metadata": {
  "kernelspec": {
   "display_name": "10701-Project",
   "language": "python",
   "name": "10701-project"
  },
  "language_info": {
   "codemirror_mode": {
    "name": "ipython",
    "version": 3
   },
   "file_extension": ".py",
   "mimetype": "text/x-python",
   "name": "python",
   "nbconvert_exporter": "python",
   "pygments_lexer": "ipython3",
   "version": "3.9.8"
  }
 },
 "nbformat": 4,
 "nbformat_minor": 5
}
