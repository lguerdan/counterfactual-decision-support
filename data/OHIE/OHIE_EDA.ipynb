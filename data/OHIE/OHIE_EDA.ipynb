{
 "cells": [
  {
   "cell_type": "code",
   "execution_count": null,
   "id": "dc3ab9ba",
   "metadata": {},
   "outputs": [],
   "source": [
    "import pandas as pd\n",
    "from functools import reduce\n",
    "ohiedf = pd.read_csv('ohie_data.csv')"
   ]
  },
  {
   "cell_type": "markdown",
   "id": "a58cccdd",
   "metadata": {},
   "source": [
    "- Outcome variables: \n",
    "`any_hosp_ed`: Any ED visit resulting in a hospitalization in the study period\n",
    "\n",
    "- oregonhie_survey12m_vars -> health_gen_bin_12m: self reported health. Excelent/good/very good vs. bad/very bad\n",
    "\n",
    "- Selection parameter: \n",
    "- oregonhie_survey12m_vars:`hhinc_cat_12m`"
   ]
  },
  {
   "cell_type": "code",
   "execution_count": null,
   "id": "a3a19345",
   "metadata": {},
   "outputs": [],
   "source": [
    "descriptive_stats = pd.read_stata('oregonhie_descriptive_vars.dta')\n",
    "state_programs = pd.read_stata('oregonhie_stateprograms_vars.dta')\n",
    "ed_visits = pd.read_stata('oregonhie_ed_vars.dta')\n",
    "survey_responses = pd.read_stata('oregonhie_inperson_vars.dta')\n",
    "survey_12m = pd.read_stata('oregonhie_survey12m_vars.dta')\n",
    "\n",
    "\n",
    "descriptive_stats = descriptive_stats[['person_id', 'treatment', 'numhh_list']]\n",
    "\n",
    "# State program enrollments occuring prior to program notification date\n",
    "state_programs = state_programs[['person_id', 'snap_ever_prenotify07', 'snap_tot_hh_prenotify07',\n",
    "                                'tanf_ever_prenotify07', 'tanf_tot_hh_prenotify07']]\n",
    "\n",
    "pre_vars = ['person_id', 'any_hosp_ed'] + [c for c in ed_visits.columns.tolist() if 'pre' in c]\n",
    "ed_visits = ed_visits[pre_vars]\n",
    "\n",
    "pre_survey_vars = ['person_id', 'hhinc_cat_12m'] + [c for c in survey_responses.columns.tolist() if '_pre_' in c]\n",
    "survey_responses = survey_responses[pre_survey_vars]\n",
    "\n",
    "tables = [descriptive_stats, state_programs, ed_visits, survey_responses]\n",
    "\n",
    "# Filter to records from single-individual homes that ontain a depression score\n",
    "ohie_df = reduce(lambda left, right: pd.merge(left, right, on=['person_id'], how='inner'), tables)\n",
    "ohie_df = ohie_df[(ohie_df['numhh_list'] == 'signed self up')]"
   ]
  },
  {
   "cell_type": "code",
   "execution_count": null,
   "id": "caaabfc6",
   "metadata": {},
   "outputs": [],
   "source": [
    "descriptive_stats = pd.read_stata('oregonhie_descriptive_vars.dta')\n",
    "state_programs = pd.read_stata('oregonhie_stateprograms_vars.dta')\n",
    "ed_visits = pd.read_stata('oregonhie_ed_vars.dta')\n",
    "survey_responses = pd.read_stata('oregonhie_inperson_vars.dta')\n",
    "survey_12m = pd.read_stata('oregonhie_survey12m_vars.dta')\n",
    "\n",
    "\n",
    "descriptive_stats = descriptive_stats[['person_id', 'treatment', 'numhh_list']]\n",
    "\n",
    "# State program enrollments occuring prior to program notification date\n",
    "state_programs = state_programs[['person_id', 'snap_ever_prenotify07', 'snap_tot_hh_prenotify07',\n",
    "                                'tanf_ever_prenotify07', 'tanf_tot_hh_prenotify07']]\n",
    "\n",
    "# Emergency department visit history\n",
    "pre_vars = ['person_id'] + [c for c in ed_visits.columns.tolist() if 'pre' in c]\n",
    "ed_visits = ed_visits[pre_vars]\n",
    "\n",
    "# New conditions\n",
    "post_survey_vars =  [c for c in survey_responses.columns.tolist() if 'dx_post' in c]\n",
    "new_conditions = (survey_responses[post_survey_vars] == 'Yes').astype(int)\n",
    "new_condition = (new_conditions.sum(axis=1) > 0).astype(int)\n",
    "\n",
    "#  Health history\n",
    "pre_survey_vars = ['person_id'] + [c for c in survey_responses.columns.tolist() if '_pre_' in c]\n",
    "survey_responses = survey_responses[pre_survey_vars]\n",
    "health_history = survey_responses.copy()\n",
    "health_history.loc[:, 'new_chronic_condition'] = new_condition\n",
    "\n",
    "# Below federal poverty limit as (selection variable)\n",
    "survey_12m['below_federal_pov'] = (survey_12m['hhinc_pctfpl_12m'] < 100).astype(int)\n",
    "survey_12m = survey_12m[['person_id', 'below_federal_pov']]\n",
    "\n",
    "tables = [descriptive_stats, state_programs, ed_visits, health_history, survey_12m]\n",
    "\n",
    "# Filter to records from single-individual homes that ontain a depression score\n",
    "ohie_df = reduce(lambda left, right: pd.merge(left, right, on=['person_id'], how='inner'), tables)\n",
    "ohie_df = ohie_df[(ohie_df['numhh_list'] == 'signed self up') ]\n",
    "\n",
    "ohie_df['Y'] = ohie_df['new_chronic_condition']\n",
    "\n",
    "# Assign treatment variable\n",
    "ohie_df.rename(columns={'treatment': 'D'}, inplace=True)\n",
    "\n",
    "# Drop unneeded variables and convert to categorical\n",
    "ohie_df.drop(columns=['person_id', 'numhh_list', 'new_chronic_condition'], inplace=True)\n",
    "cat_columns = ohie_df.select_dtypes(['category']).columns\n",
    "ohie_df[cat_columns] = ohie_df[cat_columns].apply(lambda x: x.cat.codes)\n",
    "\n",
    "# Remove ~10 rows that contain a missing value\n",
    "ohie_df = ohie_df.dropna()\n"
   ]
  },
  {
   "cell_type": "code",
   "execution_count": null,
   "id": "b9e5db68",
   "metadata": {},
   "outputs": [],
   "source": [
    "print('ATE: ', ohie_df[ohie_df['D'] == 1]['Y'].mean() - ohie_df[ohie_df['D'] == 0]['Y'].mean())\n",
    "print('Baserate: ', ohie_df['Y'].mean())"
   ]
  },
  {
   "cell_type": "markdown",
   "id": "f46bb4dc",
   "metadata": {},
   "source": [
    "## Checking on compliance: how many lottery winners actually end up signing up? "
   ]
  },
  {
   "cell_type": "code",
   "execution_count": null,
   "id": "a40e22cd",
   "metadata": {},
   "outputs": [],
   "source": [
    "medicare_status = survey_12m[['person_id', 'ins_ohp_12m']]\n",
    "fulldf = pd.merge(medicare_status, ohie_df, on='person_id', how='inner')\n",
    "treatment_group = fulldf[fulldf['treatment'] == 'Selected']\n",
    "control_group = fulldf[fulldf['treatment'] == 'Not selected']\n",
    "\n",
    "print('treatment signup rate:', (treatment_group['ins_ohp_12m'] == 'Yes').mean())\n",
    "print('control signup rate:', (control_group['ins_ohp_12m'] == 'Yes').mean())"
   ]
  },
  {
   "cell_type": "markdown",
   "id": "da97456e",
   "metadata": {},
   "source": [
    "### What are the actual treatment effects? "
   ]
  },
  {
   "cell_type": "code",
   "execution_count": null,
   "id": "bd224fc3",
   "metadata": {},
   "outputs": [],
   "source": [
    "#Ground truth treatment effect (in thresholded outcomes cutoff at 15)\n",
    "ohiedf[(ohiedf['D'] == 1)]['Y'].mean()-ohiedf[(ohiedf['D'] == 0)]['Y'].mean()"
   ]
  },
  {
   "cell_type": "code",
   "execution_count": null,
   "id": "41545cca",
   "metadata": {},
   "outputs": [],
   "source": [
    "#Ground truth treatment effect (in raw scores on 20-point continuous assessment)\n",
    "ohiedf[(ohiedf['D'] == 1)]['phqtot_inp'].mean()-ohiedf[(ohiedf['D'] == 0)]['phqtot_inp'].mean()"
   ]
  },
  {
   "cell_type": "code",
   "execution_count": null,
   "id": "b415c221",
   "metadata": {},
   "outputs": [],
   "source": [
    "print('Treated: ', (ohiedf['D'] == 1).sum())\n",
    "print('Control: ', (ohiedf['D'] == 0).sum())"
   ]
  }
 ],
 "metadata": {
  "kernelspec": {
   "display_name": "10701-Project",
   "language": "python",
   "name": "10701-project"
  },
  "language_info": {
   "codemirror_mode": {
    "name": "ipython",
    "version": 3
   },
   "file_extension": ".py",
   "mimetype": "text/x-python",
   "name": "python",
   "nbconvert_exporter": "python",
   "pygments_lexer": "ipython3",
   "version": "3.9.8"
  }
 },
 "nbformat": 4,
 "nbformat_minor": 5
}
