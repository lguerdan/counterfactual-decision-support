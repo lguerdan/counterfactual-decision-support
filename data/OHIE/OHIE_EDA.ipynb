{
 "cells": [
  {
   "cell_type": "code",
   "execution_count": 2,
   "id": "dc3ab9ba",
   "metadata": {},
   "outputs": [],
   "source": [
    "import pandas as pd\n",
    "\n",
    "ohiedf = pd.read_csv('ohie_data.csv')"
   ]
  },
  {
   "cell_type": "markdown",
   "id": "58ef9dec",
   "metadata": {},
   "source": [
    "### What are the actual treatment effects? "
   ]
  },
  {
   "cell_type": "code",
   "execution_count": 9,
   "id": "3a838240",
   "metadata": {},
   "outputs": [
    {
     "data": {
      "text/plain": [
       "-0.003408385422284027"
      ]
     },
     "execution_count": 9,
     "metadata": {},
     "output_type": "execute_result"
    }
   ],
   "source": [
    "#Ground truth treatment effect (in thresholded outcomes cutoff at 15)\n",
    "ohiedf[(ohiedf['D'] == 1)]['Y'].mean()-ohiedf[(ohiedf['D'] == 0)]['Y'].mean()"
   ]
  },
  {
   "cell_type": "code",
   "execution_count": 12,
   "id": "48afb369",
   "metadata": {},
   "outputs": [
    {
     "data": {
      "text/plain": [
       "-0.2743940081743297"
      ]
     },
     "execution_count": 12,
     "metadata": {},
     "output_type": "execute_result"
    }
   ],
   "source": [
    "#Ground truth treatment effect (in raw scores on 20-point continuous assessment)\n",
    "ohiedf[(ohiedf['D'] == 1)]['phqtot_inp'].mean()-ohiedf[(ohiedf['D'] == 0)]['phqtot_inp'].mean()"
   ]
  }
 ],
 "metadata": {
  "kernelspec": {
   "display_name": "10701-Project",
   "language": "python",
   "name": "10701-project"
  },
  "language_info": {
   "codemirror_mode": {
    "name": "ipython",
    "version": 3
   },
   "file_extension": ".py",
   "mimetype": "text/x-python",
   "name": "python",
   "nbconvert_exporter": "python",
   "pygments_lexer": "ipython3",
   "version": "3.9.8"
  }
 },
 "nbformat": 4,
 "nbformat_minor": 5
}
