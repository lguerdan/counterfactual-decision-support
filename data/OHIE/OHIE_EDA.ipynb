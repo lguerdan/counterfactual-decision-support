{
 "cells": [
  {
   "cell_type": "code",
   "execution_count": 3,
   "id": "dc3ab9ba",
   "metadata": {},
   "outputs": [],
   "source": [
    "import pandas as pd\n",
    "from functools import reduce\n",
    "ohiedf = pd.read_csv('ohie_data.csv')"
   ]
  },
  {
   "cell_type": "markdown",
   "id": "a58cccdd",
   "metadata": {},
   "source": [
    "- Outcome variables: \n",
    "`any_hosp_ed`: Any ED visit resulting in a hospitalization in the study period\n",
    "\n",
    "- oregonhie_survey12m_vars -> health_gen_bin_12m: self reported health. Excelent/good/very good vs. bad/very bad\n",
    "\n",
    "- Selection parameter: \n",
    "- oregonhie_survey12m_vars:`hhinc_cat_12m`"
   ]
  },
  {
   "cell_type": "code",
   "execution_count": 4,
   "id": "a3a19345",
   "metadata": {},
   "outputs": [
    {
     "ename": "KeyError",
     "evalue": "\"['hhinc_cat_12m'] not in index\"",
     "output_type": "error",
     "traceback": [
      "\u001b[0;31m---------------------------------------------------------------------------\u001b[0m",
      "\u001b[0;31mKeyError\u001b[0m                                  Traceback (most recent call last)",
      "Input \u001b[0;32mIn [4]\u001b[0m, in \u001b[0;36m<cell line: 18>\u001b[0;34m()\u001b[0m\n\u001b[1;32m     15\u001b[0m ed_visits \u001b[38;5;241m=\u001b[39m ed_visits[pre_vars]\n\u001b[1;32m     17\u001b[0m pre_survey_vars \u001b[38;5;241m=\u001b[39m [\u001b[38;5;124m'\u001b[39m\u001b[38;5;124mperson_id\u001b[39m\u001b[38;5;124m'\u001b[39m, \u001b[38;5;124m'\u001b[39m\u001b[38;5;124mhhinc_cat_12m\u001b[39m\u001b[38;5;124m'\u001b[39m] \u001b[38;5;241m+\u001b[39m [c \u001b[38;5;28;01mfor\u001b[39;00m c \u001b[38;5;129;01min\u001b[39;00m survey_responses\u001b[38;5;241m.\u001b[39mcolumns\u001b[38;5;241m.\u001b[39mtolist() \u001b[38;5;28;01mif\u001b[39;00m \u001b[38;5;124m'\u001b[39m\u001b[38;5;124m_pre_\u001b[39m\u001b[38;5;124m'\u001b[39m \u001b[38;5;129;01min\u001b[39;00m c]\n\u001b[0;32m---> 18\u001b[0m survey_responses \u001b[38;5;241m=\u001b[39m \u001b[43msurvey_responses\u001b[49m\u001b[43m[\u001b[49m\u001b[43mpre_survey_vars\u001b[49m\u001b[43m]\u001b[49m\n\u001b[1;32m     20\u001b[0m tables \u001b[38;5;241m=\u001b[39m [descriptive_stats, state_programs, ed_visits, survey_responses]\n\u001b[1;32m     22\u001b[0m \u001b[38;5;66;03m# Filter to records from single-individual homes that ontain a depression score\u001b[39;00m\n",
      "File \u001b[0;32m~/.virtualenvs/10701-Project/lib/python3.9/site-packages/pandas/core/frame.py:3511\u001b[0m, in \u001b[0;36mDataFrame.__getitem__\u001b[0;34m(self, key)\u001b[0m\n\u001b[1;32m   3509\u001b[0m     \u001b[38;5;28;01mif\u001b[39;00m is_iterator(key):\n\u001b[1;32m   3510\u001b[0m         key \u001b[38;5;241m=\u001b[39m \u001b[38;5;28mlist\u001b[39m(key)\n\u001b[0;32m-> 3511\u001b[0m     indexer \u001b[38;5;241m=\u001b[39m \u001b[38;5;28;43mself\u001b[39;49m\u001b[38;5;241;43m.\u001b[39;49m\u001b[43mcolumns\u001b[49m\u001b[38;5;241;43m.\u001b[39;49m\u001b[43m_get_indexer_strict\u001b[49m\u001b[43m(\u001b[49m\u001b[43mkey\u001b[49m\u001b[43m,\u001b[49m\u001b[43m \u001b[49m\u001b[38;5;124;43m\"\u001b[39;49m\u001b[38;5;124;43mcolumns\u001b[39;49m\u001b[38;5;124;43m\"\u001b[39;49m\u001b[43m)\u001b[49m[\u001b[38;5;241m1\u001b[39m]\n\u001b[1;32m   3513\u001b[0m \u001b[38;5;66;03m# take() does not accept boolean indexers\u001b[39;00m\n\u001b[1;32m   3514\u001b[0m \u001b[38;5;28;01mif\u001b[39;00m \u001b[38;5;28mgetattr\u001b[39m(indexer, \u001b[38;5;124m\"\u001b[39m\u001b[38;5;124mdtype\u001b[39m\u001b[38;5;124m\"\u001b[39m, \u001b[38;5;28;01mNone\u001b[39;00m) \u001b[38;5;241m==\u001b[39m \u001b[38;5;28mbool\u001b[39m:\n",
      "File \u001b[0;32m~/.virtualenvs/10701-Project/lib/python3.9/site-packages/pandas/core/indexes/base.py:5782\u001b[0m, in \u001b[0;36mIndex._get_indexer_strict\u001b[0;34m(self, key, axis_name)\u001b[0m\n\u001b[1;32m   5779\u001b[0m \u001b[38;5;28;01melse\u001b[39;00m:\n\u001b[1;32m   5780\u001b[0m     keyarr, indexer, new_indexer \u001b[38;5;241m=\u001b[39m \u001b[38;5;28mself\u001b[39m\u001b[38;5;241m.\u001b[39m_reindex_non_unique(keyarr)\n\u001b[0;32m-> 5782\u001b[0m \u001b[38;5;28;43mself\u001b[39;49m\u001b[38;5;241;43m.\u001b[39;49m\u001b[43m_raise_if_missing\u001b[49m\u001b[43m(\u001b[49m\u001b[43mkeyarr\u001b[49m\u001b[43m,\u001b[49m\u001b[43m \u001b[49m\u001b[43mindexer\u001b[49m\u001b[43m,\u001b[49m\u001b[43m \u001b[49m\u001b[43maxis_name\u001b[49m\u001b[43m)\u001b[49m\n\u001b[1;32m   5784\u001b[0m keyarr \u001b[38;5;241m=\u001b[39m \u001b[38;5;28mself\u001b[39m\u001b[38;5;241m.\u001b[39mtake(indexer)\n\u001b[1;32m   5785\u001b[0m \u001b[38;5;28;01mif\u001b[39;00m \u001b[38;5;28misinstance\u001b[39m(key, Index):\n\u001b[1;32m   5786\u001b[0m     \u001b[38;5;66;03m# GH 42790 - Preserve name from an Index\u001b[39;00m\n",
      "File \u001b[0;32m~/.virtualenvs/10701-Project/lib/python3.9/site-packages/pandas/core/indexes/base.py:5845\u001b[0m, in \u001b[0;36mIndex._raise_if_missing\u001b[0;34m(self, key, indexer, axis_name)\u001b[0m\n\u001b[1;32m   5842\u001b[0m     \u001b[38;5;28;01mraise\u001b[39;00m \u001b[38;5;167;01mKeyError\u001b[39;00m(\u001b[38;5;124mf\u001b[39m\u001b[38;5;124m\"\u001b[39m\u001b[38;5;124mNone of [\u001b[39m\u001b[38;5;132;01m{\u001b[39;00mkey\u001b[38;5;132;01m}\u001b[39;00m\u001b[38;5;124m] are in the [\u001b[39m\u001b[38;5;132;01m{\u001b[39;00maxis_name\u001b[38;5;132;01m}\u001b[39;00m\u001b[38;5;124m]\u001b[39m\u001b[38;5;124m\"\u001b[39m)\n\u001b[1;32m   5844\u001b[0m not_found \u001b[38;5;241m=\u001b[39m \u001b[38;5;28mlist\u001b[39m(ensure_index(key)[missing_mask\u001b[38;5;241m.\u001b[39mnonzero()[\u001b[38;5;241m0\u001b[39m]]\u001b[38;5;241m.\u001b[39munique())\n\u001b[0;32m-> 5845\u001b[0m \u001b[38;5;28;01mraise\u001b[39;00m \u001b[38;5;167;01mKeyError\u001b[39;00m(\u001b[38;5;124mf\u001b[39m\u001b[38;5;124m\"\u001b[39m\u001b[38;5;132;01m{\u001b[39;00mnot_found\u001b[38;5;132;01m}\u001b[39;00m\u001b[38;5;124m not in index\u001b[39m\u001b[38;5;124m\"\u001b[39m)\n",
      "\u001b[0;31mKeyError\u001b[0m: \"['hhinc_cat_12m'] not in index\""
     ]
    }
   ],
   "source": [
    "descriptive_stats = pd.read_stata('oregonhie_descriptive_vars.dta')\n",
    "state_programs = pd.read_stata('oregonhie_stateprograms_vars.dta')\n",
    "ed_visits = pd.read_stata('oregonhie_ed_vars.dta')\n",
    "survey_responses = pd.read_stata('oregonhie_inperson_vars.dta')\n",
    "survey_12m = pd.read_stata('oregonhie_survey12m_vars.dta')\n",
    "\n",
    "\n",
    "descriptive_stats = descriptive_stats[['person_id', 'treatment', 'numhh_list']]\n",
    "\n",
    "# State program enrollments occuring prior to program notification date\n",
    "state_programs = state_programs[['person_id', 'snap_ever_prenotify07', 'snap_tot_hh_prenotify07',\n",
    "                                'tanf_ever_prenotify07', 'tanf_tot_hh_prenotify07']]\n",
    "\n",
    "pre_vars = ['person_id', 'any_hosp_ed'] + [c for c in ed_visits.columns.tolist() if 'pre' in c]\n",
    "ed_visits = ed_visits[pre_vars]\n",
    "\n",
    "pre_survey_vars = ['person_id', 'hhinc_cat_12m'] + [c for c in survey_responses.columns.tolist() if '_pre_' in c]\n",
    "survey_responses = survey_responses[pre_survey_vars]\n",
    "\n",
    "tables = [descriptive_stats, state_programs, ed_visits, survey_responses]\n",
    "\n",
    "# Filter to records from single-individual homes that ontain a depression score\n",
    "ohie_df = reduce(lambda left, right: pd.merge(left, right, on=['person_id'], how='inner'), tables)\n",
    "ohie_df = ohie_df[(ohie_df['numhh_list'] == 'signed self up')]"
   ]
  },
  {
   "cell_type": "code",
   "execution_count": 5,
   "id": "caaabfc6",
   "metadata": {},
   "outputs": [],
   "source": [
    "descriptive_stats = pd.read_stata('oregonhie_descriptive_vars.dta')\n",
    "state_programs = pd.read_stata('oregonhie_stateprograms_vars.dta')\n",
    "ed_visits = pd.read_stata('oregonhie_ed_vars.dta')\n",
    "survey_responses = pd.read_stata('oregonhie_inperson_vars.dta')\n",
    "survey_12m = pd.read_stata('oregonhie_survey12m_vars.dta')\n",
    "\n",
    "\n",
    "descriptive_stats = descriptive_stats[['person_id', 'treatment', 'numhh_list']]\n",
    "\n",
    "# State program enrollments occuring prior to program notification date\n",
    "state_programs = state_programs[['person_id', 'snap_ever_prenotify07', 'snap_tot_hh_prenotify07',\n",
    "                                'tanf_ever_prenotify07', 'tanf_tot_hh_prenotify07']]\n",
    "\n",
    "# Emergency department visit history\n",
    "pre_vars = ['person_id'] + [c for c in ed_visits.columns.tolist() if 'pre' in c]\n",
    "ed_visits = ed_visits[pre_vars]\n",
    "\n",
    "# New conditions\n",
    "post_survey_vars =  [c for c in survey_responses.columns.tolist() if 'dx_post' in c]\n",
    "new_conditions = (survey_responses[post_survey_vars] == 'Yes').astype(int)\n",
    "new_condition = (new_conditions.sum(axis=1) > 0).astype(int)\n",
    "\n",
    "#  Health history\n",
    "pre_survey_vars = ['person_id'] + [c for c in survey_responses.columns.tolist() if '_pre_' in c]\n",
    "survey_responses = survey_responses[pre_survey_vars]\n",
    "health_history = survey_responses.copy()\n",
    "health_history.loc[:, 'new_chronic_condition'] = new_condition\n",
    "\n",
    "# Below federal poverty limit as (selection variable)\n",
    "survey_12m['below_federal_pov'] = (survey_12m['hhinc_pctfpl_12m'] < 100).astype(int)\n",
    "survey_12m = survey_12m[['person_id', 'below_federal_pov']]\n",
    "\n",
    "tables = [descriptive_stats, state_programs, ed_visits, health_history, survey_12m]\n",
    "\n",
    "# Filter to records from single-individual homes that ontain a depression score\n",
    "ohie_df = reduce(lambda left, right: pd.merge(left, right, on=['person_id'], how='inner'), tables)\n",
    "ohie_df = ohie_df[(ohie_df['numhh_list'] == 'signed self up') ]\n",
    "\n",
    "ohie_df['Y'] = ohie_df['new_chronic_condition']\n",
    "\n",
    "# Assign treatment variable\n",
    "ohie_df.rename(columns={'treatment': 'D'}, inplace=True)\n",
    "\n",
    "# Drop unneeded variables and convert to categorical\n",
    "ohie_df.drop(columns=['person_id', 'numhh_list', 'new_chronic_condition'], inplace=True)\n",
    "cat_columns = ohie_df.select_dtypes(['category']).columns\n",
    "ohie_df[cat_columns] = ohie_df[cat_columns].apply(lambda x: x.cat.codes)\n",
    "\n",
    "# Remove ~10 rows that contain a missing value\n",
    "ohie_df = ohie_df.dropna()\n"
   ]
  },
  {
   "cell_type": "code",
   "execution_count": 6,
   "id": "b9e5db68",
   "metadata": {},
   "outputs": [
    {
     "name": "stdout",
     "output_type": "stream",
     "text": [
      "ATE:  0.015826614710344453\n",
      "Baserate:  0.09512082499615207\n"
     ]
    }
   ],
   "source": [
    "print('ATE: ', ohie_df[ohie_df['D'] == 1]['Y'].mean() - ohie_df[ohie_df['D'] == 0]['Y'].mean())\n",
    "print('Baserate: ', ohie_df['Y'].mean())"
   ]
  },
  {
   "cell_type": "markdown",
   "id": "f46bb4dc",
   "metadata": {},
   "source": [
    "## Checking on compliance: how many lottery winners actually end up signing up? "
   ]
  },
  {
   "cell_type": "code",
   "execution_count": 45,
   "id": "a40e22cd",
   "metadata": {},
   "outputs": [
    {
     "name": "stdout",
     "output_type": "stream",
     "text": [
      "treatment signup rate: 0.1643118785975929\n",
      "control signup rate: 0.05643513789581205\n"
     ]
    }
   ],
   "source": [
    "medicare_status = survey_12m[['person_id', 'ins_ohp_12m']]\n",
    "fulldf = pd.merge(medicare_status, ohie_df, on='person_id', how='inner')\n",
    "treatment_group = fulldf[fulldf['treatment'] == 'Selected']\n",
    "control_group = fulldf[fulldf['treatment'] == 'Not selected']\n",
    "\n",
    "print('treatment signup rate:', (treatment_group['ins_ohp_12m'] == 'Yes').mean())\n",
    "print('control signup rate:', (control_group['ins_ohp_12m'] == 'Yes').mean())"
   ]
  },
  {
   "cell_type": "markdown",
   "id": "da97456e",
   "metadata": {},
   "source": [
    "### What are the actual treatment effects? "
   ]
  },
  {
   "cell_type": "code",
   "execution_count": 196,
   "id": "bd224fc3",
   "metadata": {},
   "outputs": [
    {
     "data": {
      "text/plain": [
       "-0.003408385422284027"
      ]
     },
     "execution_count": 196,
     "metadata": {},
     "output_type": "execute_result"
    }
   ],
   "source": [
    "#Ground truth treatment effect (in thresholded outcomes cutoff at 15)\n",
    "ohiedf[(ohiedf['D'] == 1)]['Y'].mean()-ohiedf[(ohiedf['D'] == 0)]['Y'].mean()"
   ]
  },
  {
   "cell_type": "code",
   "execution_count": 12,
   "id": "41545cca",
   "metadata": {},
   "outputs": [
    {
     "data": {
      "text/plain": [
       "-0.2743940081743297"
      ]
     },
     "execution_count": 12,
     "metadata": {},
     "output_type": "execute_result"
    }
   ],
   "source": [
    "#Ground truth treatment effect (in raw scores on 20-point continuous assessment)\n",
    "ohiedf[(ohiedf['D'] == 1)]['phqtot_inp'].mean()-ohiedf[(ohiedf['D'] == 0)]['phqtot_inp'].mean()"
   ]
  },
  {
   "cell_type": "code",
   "execution_count": 25,
   "id": "b415c221",
   "metadata": {},
   "outputs": [
    {
     "name": "stdout",
     "output_type": "stream",
     "text": [
      "Treated:  3816\n",
      "Control:  3907\n"
     ]
    }
   ],
   "source": [
    "print('Treated: ', (ohiedf['D'] == 1).sum())\n",
    "print('Control: ', (ohiedf['D'] == 0).sum())"
   ]
  }
 ],
 "metadata": {
  "kernelspec": {
   "display_name": "10701-Project",
   "language": "python",
   "name": "10701-project"
  },
  "language_info": {
   "codemirror_mode": {
    "name": "ipython",
    "version": 3
   },
   "file_extension": ".py",
   "mimetype": "text/x-python",
   "name": "python",
   "nbconvert_exporter": "python",
   "pygments_lexer": "ipython3",
   "version": "3.9.8"
  }
 },
 "nbformat": 4,
 "nbformat_minor": 5
}
