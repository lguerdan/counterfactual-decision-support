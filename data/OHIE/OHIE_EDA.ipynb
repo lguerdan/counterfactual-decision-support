{
 "cells": [
  {
   "cell_type": "code",
   "execution_count": 35,
   "id": "dc3ab9ba",
   "metadata": {},
   "outputs": [],
   "source": [
    "import pandas as pd\n",
    "from functools import reduce\n",
    "ohiedf = pd.read_csv('ohie_data.csv')"
   ]
  },
  {
   "cell_type": "code",
   "execution_count": 38,
   "id": "a3a19345",
   "metadata": {},
   "outputs": [],
   "source": [
    "descriptive_stats = pd.read_stata('oregonhie_descriptive_vars.dta')\n",
    "state_programs = pd.read_stata('oregonhie_stateprograms_vars.dta')\n",
    "ed_visits = pd.read_stata('oregonhie_ed_vars.dta')\n",
    "survey_responses = pd.read_stata('oregonhie_inperson_vars.dta')\n",
    "survey_12m = pd.read_stata('oregonhie_survey12m_vars.dta')\n",
    "\n",
    "\n",
    "\n",
    "descriptive_stats = descriptive_stats[['person_id', 'treatment', 'numhh_list']]\n",
    "\n",
    "# State program enrollments occuring prior to program notification date\n",
    "state_programs = state_programs[['person_id', 'snap_ever_prenotify07', 'snap_tot_hh_prenotify07',\n",
    "                                'tanf_ever_prenotify07', 'tanf_tot_hh_prenotify07']]\n",
    "\n",
    "pre_vars = ['person_id'] + [c for c in ed_visits.columns.tolist() if 'pre' in c]\n",
    "ed_visits = ed_visits[pre_vars]\n",
    "\n",
    "pre_survey_vars = ['person_id', 'phqtot_inp'] + [c for c in survey_responses.columns.tolist() if '_pre_' in c]\n",
    "survey_responses = survey_responses[pre_survey_vars]\n",
    "\n",
    "tables = [descriptive_stats, state_programs, ed_visits, survey_responses]\n",
    "\n",
    "# Filter to records from single-individual homes that ontain a depression score\n",
    "ohie_df = reduce(lambda left, right: pd.merge(left, right, on=['person_id'], how='inner'), tables)\n",
    "ohie_df = ohie_df[(ohie_df['numhh_list'] == 'signed self up') & ~ohie_df['phqtot_inp'].isna()]"
   ]
  },
  {
   "cell_type": "markdown",
   "id": "f46bb4dc",
   "metadata": {},
   "source": [
    "## Checking on compliance: how many lottery winners actually end up signing up? "
   ]
  },
  {
   "cell_type": "code",
   "execution_count": 45,
   "id": "a40e22cd",
   "metadata": {},
   "outputs": [
    {
     "name": "stdout",
     "output_type": "stream",
     "text": [
      "treatment signup rate: 0.1643118785975929\n",
      "control signup rate: 0.05643513789581205\n"
     ]
    }
   ],
   "source": [
    "medicare_status = survey_12m[['person_id', 'ins_ohp_12m']]\n",
    "fulldf = pd.merge(medicare_status, ohie_df, on='person_id', how='inner')\n",
    "treatment_group = fulldf[fulldf['treatment'] == 'Selected']\n",
    "control_group = fulldf[fulldf['treatment'] == 'Not selected']\n",
    "\n",
    "print('treatment signup rate:', (treatment_group['ins_ohp_12m'] == 'Yes').mean())\n",
    "print('control signup rate:', (control_group['ins_ohp_12m'] == 'Yes').mean())"
   ]
  },
  {
   "cell_type": "markdown",
   "id": "da97456e",
   "metadata": {},
   "source": [
    "### What are the actual treatment effects? "
   ]
  },
  {
   "cell_type": "code",
   "execution_count": 9,
   "id": "bd224fc3",
   "metadata": {},
   "outputs": [
    {
     "data": {
      "text/plain": [
       "-0.003408385422284027"
      ]
     },
     "execution_count": 9,
     "metadata": {},
     "output_type": "execute_result"
    }
   ],
   "source": [
    "#Ground truth treatment effect (in thresholded outcomes cutoff at 15)\n",
    "ohiedf[(ohiedf['D'] == 1)]['Y'].mean()-ohiedf[(ohiedf['D'] == 0)]['Y'].mean()"
   ]
  },
  {
   "cell_type": "code",
   "execution_count": 12,
   "id": "41545cca",
   "metadata": {},
   "outputs": [
    {
     "data": {
      "text/plain": [
       "-0.2743940081743297"
      ]
     },
     "execution_count": 12,
     "metadata": {},
     "output_type": "execute_result"
    }
   ],
   "source": [
    "#Ground truth treatment effect (in raw scores on 20-point continuous assessment)\n",
    "ohiedf[(ohiedf['D'] == 1)]['phqtot_inp'].mean()-ohiedf[(ohiedf['D'] == 0)]['phqtot_inp'].mean()"
   ]
  },
  {
   "cell_type": "code",
   "execution_count": 25,
   "id": "b415c221",
   "metadata": {},
   "outputs": [
    {
     "name": "stdout",
     "output_type": "stream",
     "text": [
      "Treated:  3816\n",
      "Control:  3907\n"
     ]
    }
   ],
   "source": [
    "print('Treated: ', (ohiedf['D'] == 1).sum())\n",
    "print('Control: ', (ohiedf['D'] == 0).sum())"
   ]
  }
 ],
 "metadata": {
  "kernelspec": {
   "display_name": "10701-Project",
   "language": "python",
   "name": "10701-project"
  },
  "language_info": {
   "codemirror_mode": {
    "name": "ipython",
    "version": 3
   },
   "file_extension": ".py",
   "mimetype": "text/x-python",
   "name": "python",
   "nbconvert_exporter": "python",
   "pygments_lexer": "ipython3",
   "version": "3.9.8"
  }
 },
 "nbformat": 4,
 "nbformat_minor": 5
}
