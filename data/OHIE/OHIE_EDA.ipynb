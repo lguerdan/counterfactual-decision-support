{
 "cells": [
  {
   "cell_type": "code",
   "execution_count": 1,
   "id": "dc3ab9ba",
   "metadata": {},
   "outputs": [],
   "source": [
    "import pandas as pd\n",
    "from functools import reduce\n",
    "ohiedf = pd.read_csv('ohie_data.csv')"
   ]
  },
  {
   "cell_type": "markdown",
   "id": "b801f90c",
   "metadata": {},
   "source": [
    "- Outcome variables: \n",
    "`any_hosp_ed`: Any ED visit resulting in a hospitalization in the study period\n",
    "\n",
    "- oregonhie_survey12m_vars -> health_gen_bin_12m: self reported health. Excelent/good/very good vs. bad/very bad\n",
    "\n",
    "- Selection parameter: \n",
    "- oregonhie_survey12m_vars:`hhinc_cat_12m`"
   ]
  },
  {
   "cell_type": "code",
   "execution_count": 174,
   "id": "6eb49586",
   "metadata": {},
   "outputs": [
    {
     "data": {
      "text/plain": [
       "0.19382824804463308"
      ]
     },
     "execution_count": 174,
     "metadata": {},
     "output_type": "execute_result"
    }
   ],
   "source": [
    "\n",
    "\n",
    "().mean() # removal criteria"
   ]
  },
  {
   "cell_type": "code",
   "execution_count": 170,
   "id": "a3a19345",
   "metadata": {},
   "outputs": [],
   "source": [
    "descriptive_stats = pd.read_stata('oregonhie_descriptive_vars.dta')\n",
    "state_programs = pd.read_stata('oregonhie_stateprograms_vars.dta')\n",
    "ed_visits = pd.read_stata('oregonhie_ed_vars.dta')\n",
    "survey_responses = pd.read_stata('oregonhie_inperson_vars.dta')\n",
    "survey_12m = pd.read_stata('oregonhie_survey12m_vars.dta')\n",
    "\n",
    "\n",
    "\n",
    "descriptive_stats = descriptive_stats[['person_id', 'treatment', 'numhh_list']]\n",
    "\n",
    "# State program enrollments occuring prior to program notification date\n",
    "state_programs = state_programs[['person_id', 'snap_ever_prenotify07', 'snap_tot_hh_prenotify07',\n",
    "                                'tanf_ever_prenotify07', 'tanf_tot_hh_prenotify07']]\n",
    "\n",
    "pre_vars = ['person_id', 'any_hosp_ed'] + [c for c in ed_visits.columns.tolist() if 'pre' in c]\n",
    "ed_visits = ed_visits[pre_vars]\n",
    "\n",
    "pre_survey_vars = ['person_id', 'hhinc_cat_12m'] + [c for c in survey_responses.columns.tolist() if '_pre_' in c]\n",
    "survey_responses = survey_responses[pre_survey_vars]\n",
    "\n",
    "tables = [descriptive_stats, state_programs, ed_visits, survey_responses]\n",
    "\n",
    "# Filter to records from single-individual homes that ontain a depression score\n",
    "ohie_df = reduce(lambda left, right: pd.merge(left, right, on=['person_id'], how='inner'), tables)\n",
    "ohie_df = ohie_df[(ohie_df['numhh_list'] == 'signed self up')]"
   ]
  },
  {
   "cell_type": "code",
   "execution_count": 207,
   "id": "caaabfc6",
   "metadata": {},
   "outputs": [],
   "source": [
    "descriptive_stats = pd.read_stata('oregonhie_descriptive_vars.dta')\n",
    "state_programs = pd.read_stata('oregonhie_stateprograms_vars.dta')\n",
    "ed_visits = pd.read_stata('oregonhie_ed_vars.dta')\n",
    "survey_responses = pd.read_stata('oregonhie_inperson_vars.dta')\n",
    "survey_12m = pd.read_stata('oregonhie_survey12m_vars.dta')\n",
    "\n",
    "pre_survey_vars =  ['person_id'] + [c for c in survey_responses.columns.tolist() if 'dx_pre' in c]\n",
    "survey_responses = survey_responses[pre_survey_vars]\n",
    "\n",
    "descriptive_stats = descriptive_stats[['person_id', 'treatment', 'numhh_list']]\n",
    "\n",
    "# State program enrollments occuring prior to program notification date\n",
    "state_programs = state_programs[['person_id', 'snap_ever_prenotify07', 'snap_tot_hh_prenotify07',\n",
    "                                'tanf_ever_prenotify07', 'tanf_tot_hh_prenotify07']]\n",
    "\n",
    "pre_vars = ['person_id', 'any_hosp_ed'] + [c for c in ed_visits.columns.tolist() if 'pre' in c]\n",
    "ed_visits = ed_visits[pre_vars]\n",
    "\n",
    "pre_survey_vars = ['person_id'] + [c for c in survey_responses.columns.tolist() if '_pre_' in c]\n",
    "survey_responses = survey_responses[pre_survey_vars]\n",
    "\n",
    "# Use whether below federal poverty limit as selection variable\n",
    "survey_12m['below_federal_pov'] = (survey_12m['hhinc_pctfpl_12m'] < 100).astype(int)\n",
    "survey_12m = survey_12m[['person_id', 'below_federal_pov']]\n",
    "\n",
    "tables = [descriptive_stats, state_programs, ed_visits, survey_responses, survey_12m]\n",
    "\n",
    "# Filter to records from single-individual homes that ontain a depression score\n",
    "ohie_df = reduce(lambda left, right: pd.merge(left, right, on=['person_id'], how='inner'), tables)\n",
    "ohie_df = ohie_df[(ohie_df['numhh_list'] == 'signed self up') ]\n",
    "\n",
    "ohie_df['Y'] = ohie_df['any_hosp_ed']\n",
    "\n",
    "# Assign treatment variable\n",
    "ohie_df.rename(columns={'treatment': 'D'}, inplace=True)\n",
    "\n",
    "# Drop unneeded variables and convert to categorical\n",
    "ohie_df.drop(columns=['person_id', 'numhh_list', 'any_hosp_ed'], inplace=True)\n",
    "cat_columns = ohie_df.select_dtypes(['category']).columns\n",
    "ohie_df[cat_columns] = ohie_df[cat_columns].apply(lambda x: x.cat.codes)\n",
    "\n",
    "# Remove ~10 rows that contain a missing value\n",
    "ohie_df = ohie_df.dropna()\n",
    "\n"
   ]
  },
  {
   "cell_type": "code",
   "execution_count": 217,
   "id": "55aa31b1",
   "metadata": {},
   "outputs": [],
   "source": [
    "\n",
    "survey_responses = pd.read_stata('oregonhie_inperson_vars.dta')\n",
    "post_survey_vars =   [c for c in survey_responses.columns.tolist() if 'dx_post' in c]\n",
    "survey_responses = survey_responses[post_survey_vars]\n",
    "\n",
    "survey_responses = (survey_responses == 'Yes').astype(int)\n"
   ]
  },
  {
   "cell_type": "code",
   "execution_count": 221,
   "id": "7f1e034f",
   "metadata": {},
   "outputs": [
    {
     "data": {
      "text/plain": [
       "0        0\n",
       "1        0\n",
       "2        0\n",
       "3        0\n",
       "4        0\n",
       "        ..\n",
       "20740    0\n",
       "20741    1\n",
       "20742    0\n",
       "20743    0\n",
       "20744    0\n",
       "Length: 20745, dtype: int64"
      ]
     },
     "execution_count": 221,
     "metadata": {},
     "output_type": "execute_result"
    }
   ],
   "source": [
    "survey_responses.sum(axis=1)"
   ]
  },
  {
   "cell_type": "code",
   "execution_count": 206,
   "id": "b101d503",
   "metadata": {},
   "outputs": [
    {
     "data": {
      "text/plain": [
       "-0.005205580900151233"
      ]
     },
     "execution_count": 206,
     "metadata": {},
     "output_type": "execute_result"
    }
   ],
   "source": [
    "ohie_df[ohie_df['D'] == 1]['Y'].mean() - ohie_df[ohie_df['D'] == 0]['Y'].mean()\n",
    "\n"
   ]
  },
  {
   "cell_type": "code",
   "execution_count": 201,
   "id": "91f4975d",
   "metadata": {},
   "outputs": [
    {
     "data": {
      "text/plain": [
       "0.7750848279205041"
      ]
     },
     "execution_count": 201,
     "metadata": {},
     "output_type": "execute_result"
    }
   ],
   "source": [
    "((ohie_df['D'] == 1) & (ohie_df['below_federal_pov'] == 0)).mean() / (ohie_df['D'] == 1).mean()\n",
    "\n"
   ]
  },
  {
   "cell_type": "markdown",
   "id": "f46bb4dc",
   "metadata": {},
   "source": [
    "## Checking on compliance: how many lottery winners actually end up signing up? "
   ]
  },
  {
   "cell_type": "code",
   "execution_count": 45,
   "id": "a40e22cd",
   "metadata": {},
   "outputs": [
    {
     "name": "stdout",
     "output_type": "stream",
     "text": [
      "treatment signup rate: 0.1643118785975929\n",
      "control signup rate: 0.05643513789581205\n"
     ]
    }
   ],
   "source": [
    "medicare_status = survey_12m[['person_id', 'ins_ohp_12m']]\n",
    "fulldf = pd.merge(medicare_status, ohie_df, on='person_id', how='inner')\n",
    "treatment_group = fulldf[fulldf['treatment'] == 'Selected']\n",
    "control_group = fulldf[fulldf['treatment'] == 'Not selected']\n",
    "\n",
    "print('treatment signup rate:', (treatment_group['ins_ohp_12m'] == 'Yes').mean())\n",
    "print('control signup rate:', (control_group['ins_ohp_12m'] == 'Yes').mean())"
   ]
  },
  {
   "cell_type": "markdown",
   "id": "da97456e",
   "metadata": {},
   "source": [
    "### What are the actual treatment effects? "
   ]
  },
  {
   "cell_type": "code",
   "execution_count": 196,
   "id": "bd224fc3",
   "metadata": {},
   "outputs": [
    {
     "data": {
      "text/plain": [
       "-0.003408385422284027"
      ]
     },
     "execution_count": 196,
     "metadata": {},
     "output_type": "execute_result"
    }
   ],
   "source": [
    "#Ground truth treatment effect (in thresholded outcomes cutoff at 15)\n",
    "ohiedf[(ohiedf['D'] == 1)]['Y'].mean()-ohiedf[(ohiedf['D'] == 0)]['Y'].mean()"
   ]
  },
  {
   "cell_type": "code",
   "execution_count": 12,
   "id": "41545cca",
   "metadata": {},
   "outputs": [
    {
     "data": {
      "text/plain": [
       "-0.2743940081743297"
      ]
     },
     "execution_count": 12,
     "metadata": {},
     "output_type": "execute_result"
    }
   ],
   "source": [
    "#Ground truth treatment effect (in raw scores on 20-point continuous assessment)\n",
    "ohiedf[(ohiedf['D'] == 1)]['phqtot_inp'].mean()-ohiedf[(ohiedf['D'] == 0)]['phqtot_inp'].mean()"
   ]
  },
  {
   "cell_type": "code",
   "execution_count": 25,
   "id": "b415c221",
   "metadata": {},
   "outputs": [
    {
     "name": "stdout",
     "output_type": "stream",
     "text": [
      "Treated:  3816\n",
      "Control:  3907\n"
     ]
    }
   ],
   "source": [
    "print('Treated: ', (ohiedf['D'] == 1).sum())\n",
    "print('Control: ', (ohiedf['D'] == 0).sum())"
   ]
  }
 ],
 "metadata": {
  "kernelspec": {
   "display_name": "10701-Project",
   "language": "python",
   "name": "10701-project"
  },
  "language_info": {
   "codemirror_mode": {
    "name": "ipython",
    "version": 3
   },
   "file_extension": ".py",
   "mimetype": "text/x-python",
   "name": "python",
   "nbconvert_exporter": "python",
   "pygments_lexer": "ipython3",
   "version": "3.9.8"
  }
 },
 "nbformat": 4,
 "nbformat_minor": 5
}
