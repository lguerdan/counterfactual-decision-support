{
 "cells": [
  {
   "cell_type": "code",
   "execution_count": 1,
   "id": "f8182b48",
   "metadata": {},
   "outputs": [
    {
     "name": "stderr",
     "output_type": "stream",
     "text": [
      "/Users/lguerdan/.virtualenvs/10701-Project/lib/python3.9/site-packages/tqdm/auto.py:22: TqdmWarning: IProgress not found. Please update jupyter and ipywidgets. See https://ipywidgets.readthedocs.io/en/stable/user_install.html\n",
      "  from .autonotebook import tqdm as notebook_tqdm\n"
     ]
    }
   ],
   "source": [
    "import seaborn as sns\n",
    "import pandas as pd\n",
    "import matplotlib.pyplot as plt\n",
    "\n",
    "from synexp import *\n",
    "from viz import *"
   ]
  },
  {
   "cell_type": "markdown",
   "id": "4cb78deb",
   "metadata": {},
   "source": [
    "### Experimental setup:\n",
    "- $X \\in [-1,1]$\n",
    "- $\\eta^*_d(x)$ sinusoidal function\n",
    "- $\\pi(x)$ linear and correlated with $\\eta^*_0(x)$\n"
   ]
  },
  {
   "cell_type": "markdown",
   "id": "bb9893f5",
   "metadata": {},
   "source": [
    "## Experiments\n",
    "\n",
    "#### Primary: model comparision\n",
    "- $\\hat{P}[Y=1|X=x]$ (naive observational)\n",
    "- $\\hat{P}_{\\ell}[Y=1|D=d,X=x]$ (conditional outcome)\n",
    "- $\\hat{P}_{\\tilde{\\ell}}[Y=1|D=d,X=x]$ (**ours:** conditional outcome with surrogate loss)\n",
    "- $\\hat{P}[Y_d=1|X=x]$ (proxy PO oracle)\n",
    "- $\\hat{P}[Y^*_d=1|X=x]$ (target PO oracle)\n",
    "\n",
    "#### Primary: Parameter estimation experiment (test of CCPE approach)\n",
    "- Compare bias in parameter estimates as a function of sample size $Ns = [1k, 2k, ..., 20k]$\n",
    "- Show that non-random decisions (non-uniform $\\pi$) introduces more bias in $\\alpha$ or $\\beta$\n",
    "\n",
    "#### Primary: robustness to parameter estimation error\n",
    "- Evaluate how conditional outcome model performance deteriorates as a function of parameter estimation error\n",
    "- Vary magnitude of error terms\n",
    "\n",
    "#### Appendix: Conditional outcome model performance as a function of measurement error\n",
    "- Vary measurement error parameters and see how optimizing \"naive\" loss performs\n",
    "\n",
    "\n",
    "\n",
    "\n"
   ]
  },
  {
   "cell_type": "code",
   "execution_count": 8,
   "id": "ad0ce658",
   "metadata": {},
   "outputs": [
    {
     "ename": "NameError",
     "evalue": "name 'eta' is not defined",
     "output_type": "error",
     "traceback": [
      "\u001b[0;31m---------------------------------------------------------------------------\u001b[0m",
      "\u001b[0;31mNameError\u001b[0m                                 Traceback (most recent call last)",
      "Input \u001b[0;32mIn [8]\u001b[0m, in \u001b[0;36m<cell line: 1>\u001b[0;34m()\u001b[0m\n\u001b[0;32m----> 1\u001b[0m \u001b[43mgenerate_syn_data_multioutcome\u001b[49m\u001b[43m(\u001b[49m\n\u001b[1;32m      2\u001b[0m \u001b[43m    \u001b[49m\u001b[43mNS\u001b[49m\u001b[38;5;241;43m=\u001b[39;49m\u001b[38;5;241;43m8000\u001b[39;49m\u001b[43m,\u001b[49m\n\u001b[1;32m      3\u001b[0m \u001b[43m    \u001b[49m\u001b[43mK\u001b[49m\u001b[38;5;241;43m=\u001b[39;49m\u001b[38;5;241;43m3\u001b[39;49m\u001b[43m,\u001b[49m\n\u001b[1;32m      4\u001b[0m \u001b[43m    \u001b[49m\u001b[43my0_pdf\u001b[49m\u001b[38;5;241;43m=\u001b[39;49m\u001b[38;5;124;43m'\u001b[39;49m\u001b[38;5;124;43mlow_base_rate_sinusoid\u001b[39;49m\u001b[38;5;124;43m'\u001b[39;49m\u001b[43m,\u001b[49m\n\u001b[1;32m      5\u001b[0m \u001b[43m    \u001b[49m\u001b[43my1_pdf\u001b[49m\u001b[38;5;241;43m=\u001b[39;49m\u001b[38;5;124;43m'\u001b[39;49m\u001b[38;5;124;43msinusoid\u001b[39;49m\u001b[38;5;124;43m'\u001b[39;49m\u001b[43m,\u001b[49m\n\u001b[1;32m      6\u001b[0m \u001b[43m    \u001b[49m\u001b[43mpi_pdf\u001b[49m\u001b[38;5;241;43m=\u001b[39;49m\u001b[38;5;124;43m'\u001b[39;49m\u001b[38;5;124;43mlinear\u001b[39;49m\u001b[38;5;124;43m'\u001b[39;49m\u001b[43m,\u001b[49m\n\u001b[1;32m      7\u001b[0m \u001b[43m    \u001b[49m\u001b[43merror_min\u001b[49m\u001b[38;5;241;43m=\u001b[39;49m\u001b[38;5;241;43m0.05\u001b[39;49m\u001b[43m,\u001b[49m\n\u001b[1;32m      8\u001b[0m \u001b[43m    \u001b[49m\u001b[43merror_max\u001b[49m\u001b[38;5;241;43m=\u001b[39;49m\u001b[38;5;241;43m0.25\u001b[39;49m\u001b[43m)\u001b[49m\n",
      "Input \u001b[0;32mIn [7]\u001b[0m, in \u001b[0;36mgenerate_syn_data_multioutcome\u001b[0;34m(NS, K, y0_pdf, y1_pdf, pi_pdf, error_min, error_max)\u001b[0m\n\u001b[1;32m     16\u001b[0m \u001b[38;5;66;03m# Define class probability functions\u001b[39;00m\n\u001b[1;32m     17\u001b[0m x \u001b[38;5;241m=\u001b[39m np\u001b[38;5;241m.\u001b[39mlinspace(\u001b[38;5;241m-\u001b[39m\u001b[38;5;241m1\u001b[39m, \u001b[38;5;241m1\u001b[39m, num\u001b[38;5;241m=\u001b[39mNS)\n\u001b[0;32m---> 18\u001b[0m eta_star_0 \u001b[38;5;241m=\u001b[39m \u001b[43meta\u001b[49m(x, environment\u001b[38;5;241m=\u001b[39my0_pdf)\n\u001b[1;32m     19\u001b[0m eta_star_1 \u001b[38;5;241m=\u001b[39m eta(x, environment\u001b[38;5;241m=\u001b[39my1_pdf)\n\u001b[1;32m     21\u001b[0m \u001b[38;5;66;03m# Sample from target potential outcome class probability distributions\u001b[39;00m\n",
      "\u001b[0;31mNameError\u001b[0m: name 'eta' is not defined"
     ]
    }
   ],
   "source": [
    "generate_syn_data_multioutcome(\n",
    "    NS=8000,\n",
    "    K=3,\n",
    "    y0_pdf='low_base_rate_sinusoid',\n",
    "    y1_pdf='sinusoid',\n",
    "    pi_pdf='linear',\n",
    "    error_min=0.05,\n",
    "    error_max=0.25)"
   ]
  },
  {
   "cell_type": "code",
   "execution_count": 2,
   "id": "be110ff8",
   "metadata": {},
   "outputs": [],
   "source": [
    "Y0_PDF = 'sinusoid'\n",
    "Y1_PDF = 'low_base_rate_sinusoid'\n",
    "PI_PDF = 'linear'\n",
    "\n",
    "# Example code invoking experiemnt setup functions\n",
    "expdf_Y1, error_params = generate_syn_data(\n",
    "    NS=5000,\n",
    "    y0_pdf=Y0_PDF,\n",
    "    y1_pdf=Y1_PDF,\n",
    "    pi_pdf=PI_PDF,\n",
    "    error_min=0.05,\n",
    "    error_max=0.25\n",
    ")\n",
    "# Sanity check\n",
    "# results, val_scores = run_baseline_comparison_exp(expdf, do=0,\n",
    "#                                            error_params=error_params, n_epochs=20, train_ratio=.7)"
   ]
  },
  {
   "cell_type": "code",
   "execution_count": 1,
   "id": "c5ec8a14",
   "metadata": {},
   "outputs": [],
   "source": [
    "def ccpe(expdf, do, n_epochs):\n",
    "\n",
    "    # Don't need error params for surrogate at this stage\n",
    "    error_params = {\n",
    "        'alpha': None,\n",
    "        'beta': None\n",
    "    }\n",
    "    \n",
    "    expdf = expdf.sample(frac=1).reset_index(drop=True)\n",
    "    expdf = expdf[expdf['D'] == do]\n",
    "    split_ix = int(expdf.shape[0]*.7)\n",
    "    train_df, val_df = expdf.iloc[:split_ix,:], expdf.iloc[split_ix:,:]\n",
    "\n",
    "    train_loader, val_loader = get_loaders(train_df, val_df, do, target='Y')\n",
    "    model = MLP()\n",
    "    losses = train(model, 'Y|D', train_loader, error_params=error_params, n_epochs=n_epochs)\n",
    "    x, y, py_hat = evaluate(model, val_loader)\n",
    "    \n",
    "    # Compute error parameters from predicted probabilities\n",
    "    alpha_hat = py_hat.min()\n",
    "    beta_hat = 1 - py_hat.max()\n",
    "\n",
    "    debug_info = {\n",
    "        'val_x': val_df['X'].to_numpy(),\n",
    "        'val_py': py_hat\n",
    "    }\n",
    "    \n",
    "    return alpha_hat, beta_hat, debug_info"
   ]
  },
  {
   "cell_type": "code",
   "execution_count": null,
   "id": "5866221a",
   "metadata": {},
   "outputs": [],
   "source": []
  },
  {
   "cell_type": "markdown",
   "id": "21e33f51",
   "metadata": {},
   "source": [
    "## Experiment 1: Validating factual surrogate loss correction"
   ]
  },
  {
   "cell_type": "code",
   "execution_count": 3,
   "id": "9b397b87",
   "metadata": {
    "scrolled": true
   },
   "outputs": [
    {
     "name": "stderr",
     "output_type": "stream",
     "text": [
      "Target: Y: 100%|████████████████████████████████| 20/20 [00:14<00:00,  1.42it/s]\n",
      "Target: Y: 100%|████████████████████████████████| 20/20 [00:13<00:00,  1.44it/s]\n",
      "Target: Y: 100%|████████████████████████████████| 20/20 [00:13<00:00,  1.43it/s]\n",
      "Target: Y_0: 100%|██████████████████████████████| 20/20 [00:13<00:00,  1.43it/s]\n",
      "Target: YS_0: 100%|█████████████████████████████| 20/20 [00:13<00:00,  1.43it/s]\n",
      "Target: Y: 100%|████████████████████████████████| 20/20 [00:14<00:00,  1.42it/s]\n",
      "Target: Y: 100%|████████████████████████████████| 20/20 [00:14<00:00,  1.42it/s]\n",
      "Target: Y: 100%|████████████████████████████████| 20/20 [00:14<00:00,  1.42it/s]\n",
      "Target: Y_0: 100%|██████████████████████████████| 20/20 [00:14<00:00,  1.43it/s]\n",
      "Target: YS_0: 100%|█████████████████████████████| 20/20 [00:13<00:00,  1.43it/s]\n",
      "Target: Y: 100%|████████████████████████████████| 20/20 [00:13<00:00,  1.43it/s]\n",
      "Target: Y: 100%|████████████████████████████████| 20/20 [00:13<00:00,  1.43it/s]\n",
      "Target: Y: 100%|████████████████████████████████| 20/20 [00:13<00:00,  1.43it/s]\n",
      "Target: Y_0: 100%|██████████████████████████████| 20/20 [00:13<00:00,  1.44it/s]\n",
      "Target: YS_0: 100%|█████████████████████████████| 20/20 [00:13<00:00,  1.44it/s]\n",
      "Target: Y: 100%|████████████████████████████████| 20/20 [00:14<00:00,  1.42it/s]\n",
      "Target: Y: 100%|████████████████████████████████| 20/20 [00:13<00:00,  1.44it/s]\n",
      "Target: Y: 100%|████████████████████████████████| 20/20 [00:13<00:00,  1.44it/s]\n",
      "Target: Y_0: 100%|██████████████████████████████| 20/20 [00:13<00:00,  1.44it/s]\n",
      "Target: YS_0: 100%|█████████████████████████████| 20/20 [00:13<00:00,  1.44it/s]\n",
      "Target: Y: 100%|████████████████████████████████| 20/20 [00:14<00:00,  1.42it/s]\n",
      "Target: Y: 100%|████████████████████████████████| 20/20 [00:14<00:00,  1.35it/s]\n",
      "Target: Y: 100%|████████████████████████████████| 20/20 [00:14<00:00,  1.34it/s]\n",
      "Target: Y_0: 100%|██████████████████████████████| 20/20 [00:15<00:00,  1.31it/s]\n",
      "Target: YS_0: 100%|█████████████████████████████| 20/20 [00:15<00:00,  1.32it/s]\n"
     ]
    }
   ],
   "source": [
    "do=0\n",
    "baselines = [{\n",
    "    'model': 'Observational',\n",
    "    'target': 'Y'\n",
    "},{\n",
    "    'model': 'Conditional outcome',\n",
    "    'target': 'Y'\n",
    "},{\n",
    "    'model': 'Conditional outcome (SL)',\n",
    "    'target': 'Y'\n",
    "},{\n",
    "    'model': 'Proxy PO Oracle',\n",
    "    'target': f'Y_{do}'\n",
    "},{\n",
    "    'model': 'Target PO Oracle',\n",
    "    'target': f'YS_{do}'\n",
    "}]\n",
    "\n",
    "exp_results = run_baseline_comparison_exp(baselines, do=do,\n",
    "                                          N_RUNS=5, NS=8000, n_epochs=20)\n",
    "resultdf = pd.DataFrame(exp_results)"
   ]
  },
  {
   "cell_type": "code",
   "execution_count": 8,
   "id": "c4028927",
   "metadata": {},
   "outputs": [
    {
     "data": {
      "text/plain": [
       "(array([0, 1, 2, 3, 4]),\n",
       " [Text(0, 0, 'Observational'),\n",
       "  Text(1, 0, 'Conditional outcome'),\n",
       "  Text(2, 0, 'Conditional outcome (SL)'),\n",
       "  Text(3, 0, 'Proxy PO Oracle'),\n",
       "  Text(4, 0, 'Target PO Oracle')])"
      ]
     },
     "execution_count": 8,
     "metadata": {},
     "output_type": "execute_result"
    },
    {
     "data": {
      "image/png": "[encoded data removed]",
      "text/plain": [
       "<Figure size 432x288 with 1 Axes>"
      ]
     },
     "metadata": {
      "needs_background": "light"
     },
     "output_type": "display_data"
    }
   ],
   "source": [
    "sns.barplot(data=resultdf, x='model', y='ACC')\n",
    "plt.xticks(rotation=30)"
   ]
  },
  {
   "cell_type": "code",
   "execution_count": 10,
   "id": "75d8b065",
   "metadata": {},
   "outputs": [
    {
     "data": {
      "text/plain": [
       "(array([0, 1, 2, 3, 4]),\n",
       " [Text(0, 0, 'Observational'),\n",
       "  Text(1, 0, 'Conditional outcome'),\n",
       "  Text(2, 0, 'Conditional outcome (SL)'),\n",
       "  Text(3, 0, 'Proxy PO Oracle'),\n",
       "  Text(4, 0, 'Target PO Oracle')])"
      ]
     },
     "execution_count": 10,
     "metadata": {},
     "output_type": "execute_result"
    },
    {
     "data": {
      "image/png": "[encoded data removed]",
      "text/plain": [
       "<Figure size 432x288 with 1 Axes>"
      ]
     },
     "metadata": {
      "needs_background": "light"
     },
     "output_type": "display_data"
    }
   ],
   "source": [
    "sns.barplot(data=resultdf, x='model', y='AU-ROC')\n",
    "plt.xticks(rotation=30)"
   ]
  },
  {
   "cell_type": "markdown",
   "id": "24f4e763",
   "metadata": {},
   "source": [
    "## Main exp: parameter estimation via CCPE"
   ]
  },
  {
   "cell_type": "code",
   "execution_count": 13,
   "id": "a5633b32",
   "metadata": {
    "scrolled": true
   },
   "outputs": [
    {
     "name": "stderr",
     "output_type": "stream",
     "text": [
      "Target p[Y|D|X]: 100%|██████████████████████████| 20/20 [00:12<00:00,  1.59it/s]\n",
      "Target p[Y|D|X]: 100%|██████████████████████████| 20/20 [00:11<00:00,  1.68it/s]\n",
      "Target p[Y|D|X]: 100%|██████████████████████████| 20/20 [00:11<00:00,  1.74it/s]\n",
      "Target p[Y|D|X]: 100%|██████████████████████████| 20/20 [00:11<00:00,  1.76it/s]\n",
      "Target p[Y|D|X]: 100%|██████████████████████████| 20/20 [00:12<00:00,  1.62it/s]\n",
      "Target p[Y|D|X]: 100%|██████████████████████████| 20/20 [00:12<00:00,  1.64it/s]\n",
      "Target p[Y|D|X]: 100%|██████████████████████████| 20/20 [00:13<00:00,  1.52it/s]\n",
      "Target p[Y|D|X]: 100%|██████████████████████████| 20/20 [00:12<00:00,  1.58it/s]\n",
      "Target p[Y|D|X]: 100%|██████████████████████████| 20/20 [00:13<00:00,  1.52it/s]\n",
      "Target p[Y|D|X]: 100%|██████████████████████████| 20/20 [00:13<00:00,  1.53it/s]\n",
      "Target p[Y|D|X]: 100%|██████████████████████████| 20/20 [00:12<00:00,  1.62it/s]\n",
      "Target p[Y|D|X]: 100%|██████████████████████████| 20/20 [00:11<00:00,  1.70it/s]\n",
      "Target p[Y|D|X]: 100%|██████████████████████████| 20/20 [00:12<00:00,  1.61it/s]\n",
      "Target p[Y|D|X]: 100%|██████████████████████████| 20/20 [00:12<00:00,  1.66it/s]\n",
      "Target p[Y|D|X]: 100%|██████████████████████████| 20/20 [00:12<00:00,  1.60it/s]\n",
      "Target p[Y|D|X]: 100%|██████████████████████████| 20/20 [00:12<00:00,  1.63it/s]\n",
      "Target p[Y|D|X]: 100%|██████████████████████████| 20/20 [00:13<00:00,  1.53it/s]\n",
      "Target p[Y|D|X]: 100%|██████████████████████████| 20/20 [00:12<00:00,  1.57it/s]\n",
      "Target p[Y|D|X]: 100%|██████████████████████████| 20/20 [00:14<00:00,  1.42it/s]\n",
      "Target p[Y|D|X]: 100%|██████████████████████████| 20/20 [00:13<00:00,  1.50it/s]\n",
      "Target p[Y|D|X]: 100%|██████████████████████████| 20/20 [00:13<00:00,  1.43it/s]\n",
      "Target p[Y|D|X]: 100%|██████████████████████████| 20/20 [00:12<00:00,  1.54it/s]\n",
      "Target p[Y|D|X]: 100%|██████████████████████████| 20/20 [00:13<00:00,  1.46it/s]\n",
      "Target p[Y|D|X]: 100%|██████████████████████████| 20/20 [00:13<00:00,  1.48it/s]\n",
      "Target p[Y|D|X]: 100%|██████████████████████████| 20/20 [00:14<00:00,  1.40it/s]\n",
      "Target p[Y|D|X]: 100%|██████████████████████████| 20/20 [00:13<00:00,  1.48it/s]\n",
      "Target p[Y|D|X]: 100%|██████████████████████████| 20/20 [00:14<00:00,  1.40it/s]\n",
      "Target p[Y|D|X]: 100%|██████████████████████████| 20/20 [00:13<00:00,  1.50it/s]\n",
      "Target p[Y|D|X]: 100%|██████████████████████████| 20/20 [00:14<00:00,  1.34it/s]\n",
      "Target p[Y|D|X]: 100%|██████████████████████████| 20/20 [00:13<00:00,  1.48it/s]\n",
      "Target p[Y|D|X]: 100%|██████████████████████████| 20/20 [00:16<00:00,  1.18it/s]\n",
      "Target p[Y|D|X]: 100%|██████████████████████████| 20/20 [00:15<00:00,  1.31it/s]\n",
      "Target p[Y|D|X]: 100%|██████████████████████████| 20/20 [00:16<00:00,  1.18it/s]\n",
      "Target p[Y|D|X]: 100%|██████████████████████████| 20/20 [00:15<00:00,  1.29it/s]\n",
      "Target p[Y|D|X]: 100%|██████████████████████████| 20/20 [00:16<00:00,  1.19it/s]\n",
      "Target p[Y|D|X]: 100%|██████████████████████████| 20/20 [00:15<00:00,  1.29it/s]\n"
     ]
    }
   ],
   "source": [
    "N_RUNS = 3\n",
    "results = []\n",
    "SAMPLE_SIZES = [2000, 4000, 6000, 8000, 10000, 20000]\n",
    "\n",
    "for NS in SAMPLE_SIZES:\n",
    "    for RUN in range(N_RUNS):\n",
    "        expdf, error_params = generate_syn_data(\n",
    "            NS,\n",
    "            y0_pdf=Y0_PDF,\n",
    "            y1_pdf=Y1_PDF,\n",
    "            pi_pdf=PI_PDF,\n",
    "            error_min=0.05,\n",
    "            error_max=0.25\n",
    "        )\n",
    "        exp_result = run_param_estimation_exp(expdf, error_params, n_epochs=20)    \n",
    "        results.append(exp_result)\n"
   ]
  },
  {
   "cell_type": "code",
   "execution_count": 17,
   "id": "9fe74656",
   "metadata": {},
   "outputs": [
    {
     "data": {
      "text/plain": [
       "<AxesSubplot:xlabel='NS', ylabel='beta_0_error'>"
      ]
     },
     "execution_count": 17,
     "metadata": {},
     "output_type": "execute_result"
    },
    {
     "data": {
      "image/png": "[encoded data removed]",
      "text/plain": [
       "<Figure size 432x288 with 1 Axes>"
      ]
     },
     "metadata": {
      "needs_background": "light"
     },
     "output_type": "display_data"
    }
   ],
   "source": [
    "\n",
    "estimation_df = pd.DataFrame(results)\n",
    "sns.barplot(data=estimation_df, x='NS', y='beta_0_error')"
   ]
  },
  {
   "cell_type": "code",
   "execution_count": null,
   "id": "78ef9f0a",
   "metadata": {},
   "outputs": [],
   "source": [
    "def run_estimation_error_exp(expdf, do, error_params, n_epochs=5, train_ratio=.7):\n",
    "\n",
    "    expdf = expdf.sample(frac=1).reset_index(drop=True)\n",
    "    split_ix = int(expdf.shape[0]*train_ratio)\n",
    "    train_df, val_df = expdf.iloc[:split_ix,:], expdf.iloc[split_ix:,:]\n",
    "    \n",
    "    exp_results = {\n",
    "        'noise_rate': [],\n",
    "        'AU-ROC': []\n",
    "    }\n",
    "\n",
    "    param_configs = [{\n",
    "        'alpha': .01,\n",
    "        'beta': .01\n",
    "    },{\n",
    "        'alpha': .05,\n",
    "        'beta': .05\n",
    "    },{\n",
    "        'alpha': .1,\n",
    "        'beta': .1\n",
    "    },{\n",
    "        'alpha': .25,\n",
    "        'beta': .24\n",
    "    }]\n",
    "    \n",
    "    targets = ['YD']\n",
    "    val_scores = {}\n",
    "    \n",
    "    for surrogate_params in param_configs:\n",
    "        \n",
    "        train_loader, val_loader = get_loaders(train_df, val_df, do, target)\n",
    "        model = MLP()\n",
    "        losses = train(model, train_loader, error_params=surrogate_params, n_epochs=n_epochs)\n",
    "        x, y, py_hat = evaluate(model, val_loader)\n",
    "        auroc = roc_auc_score(y, py_hat)\n",
    "\n",
    "        exp_results['noise_rate'].append(surrogate_params['alpha']+surrogate_params['beta'])\n",
    "        exp_results['AU-ROC'].append(auroc)\n",
    "        \n",
    "        val_scores[target] = {}\n",
    "        val_scores[target]['x'] = x\n",
    "        val_scores[target]['y'] = y\n",
    "        val_scores[target]['py_hat'] = py_hat\n",
    "\n",
    "    return exp_results, val_scores\n",
    "\n",
    "run_estimation_error_exp(expdf, do, error_params,\n",
    "                         n_epochs=5, train_ratio=.7)\n",
    "\n",
    "sns.barplot(data=resultdf, x='model', y='AU-ROC')"
   ]
  },
  {
   "cell_type": "markdown",
   "id": "07536cce",
   "metadata": {},
   "source": [
    "## Visualize class probability estimates"
   ]
  },
  {
   "cell_type": "code",
   "execution_count": 19,
   "id": "b0606a57",
   "metadata": {},
   "outputs": [
    {
     "name": "stderr",
     "output_type": "stream",
     "text": [
      "Target: YS_0: 100%|█████████████████████████████| 10/10 [00:06<00:00,  1.55it/s]\n"
     ]
    },
    {
     "data": {
      "image/png": "[encoded data removed]",
      "text/plain": [
       "<Figure size 504x360 with 1 Axes>"
      ]
     },
     "metadata": {
      "needs_background": "light"
     },
     "output_type": "display_data"
    }
   ],
   "source": [
    "params = { 'alpha': None, 'alpha_0': .05, 'beta': None, 'beta_0': .15 }\n",
    "baseline = {\n",
    "    'model': 'Target PO Oracle',\n",
    "    'target': 'YS_0'\n",
    "    \n",
    "}\n",
    "\n",
    "results = run_baseline(expdf, baseline, do, params,\n",
    "             n_epochs=10, train_ratio=.7)\n",
    "\n",
    "do=0\n",
    "debug_info = {\n",
    "    'val_x': results['x'],\n",
    "    'val_py': results['py_hat']\n",
    "}\n",
    "\n",
    "viz_ccpe_estimates(expdf, debug_info, params, do, Y0_PDF, Y1_PDF, PI_PDF)\n"
   ]
  },
  {
   "cell_type": "code",
   "execution_count": null,
   "id": "4c9e81e9",
   "metadata": {},
   "outputs": [],
   "source": []
  }
 ],
 "metadata": {
  "kernelspec": {
   "display_name": "10701-Project",
   "language": "python",
   "name": "10701-project"
  },
  "language_info": {
   "codemirror_mode": {
    "name": "ipython",
    "version": 3
   },
   "file_extension": ".py",
   "mimetype": "text/x-python",
   "name": "python",
   "nbconvert_exporter": "python",
   "pygments_lexer": "ipython3",
   "version": "3.9.8"
  }
 },
 "nbformat": 4,
 "nbformat_minor": 5
}
